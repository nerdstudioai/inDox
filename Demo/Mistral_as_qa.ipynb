{
 "cells": [
  {
   "cell_type": "code",
   "execution_count": 1,
   "id": "initial_id",
   "metadata": {
    "collapsed": true,
    "ExecuteTime": {
     "end_time": "2024-05-23T11:29:31.493612500Z",
     "start_time": "2024-05-23T11:29:31.485302700Z"
    }
   },
   "outputs": [],
   "source": [
    "import os\n",
    "from dotenv import load_dotenv\n",
    "\n",
    "load_dotenv()\n",
    "HF_API_KEY = os.getenv('HF_API_KEY')\n",
    "INDOX_OPENAI_API_KEY = os.getenv(\"INDOX_OPENAI_API_KEY\")"
   ]
  },
  {
   "cell_type": "code",
   "execution_count": 2,
   "outputs": [],
   "source": [
    "from Indox import IndoxRetrievalAugmentation\n",
    "from Indox.QaModels import MistralQA\n",
    "from Indox.Embeddings import HuggingFaceEmbedding\n",
    "from Indox.DataLoaderSplitter import UnstructuredLoadAndSplit\n",
    "from Indox.DataLoaderSplitter import ClusteredSplit"
   ],
   "metadata": {
    "collapsed": false,
    "ExecuteTime": {
     "end_time": "2024-05-23T11:29:42.274003800Z",
     "start_time": "2024-05-23T11:29:31.493612500Z"
    }
   },
   "id": "8b9470496cd9a78d"
  },
  {
   "cell_type": "code",
   "execution_count": 3,
   "outputs": [],
   "source": [
    "from Indox.QaModels import IndoxApiOpenAiQa\n",
    "from Indox.Embeddings import IndoxOpenAIEmbedding"
   ],
   "metadata": {
    "collapsed": false,
    "ExecuteTime": {
     "end_time": "2024-05-23T11:29:42.283846Z",
     "start_time": "2024-05-23T11:29:42.274003800Z"
    }
   },
   "id": "f8a7d2daebcb3e05"
  },
  {
   "cell_type": "code",
   "execution_count": 4,
   "outputs": [],
   "source": [
    "Indox = IndoxRetrievalAugmentation()"
   ],
   "metadata": {
    "collapsed": false,
    "ExecuteTime": {
     "end_time": "2024-05-23T11:29:42.283846Z",
     "start_time": "2024-05-23T11:29:42.275510300Z"
    }
   },
   "id": "c279c0844b08ffc2"
  },
  {
   "cell_type": "code",
   "execution_count": 5,
   "outputs": [
    {
     "name": "stderr",
     "output_type": "stream",
     "text": [
      "2024-05-23 14:59:42,412 - INFO - Load pretrained SentenceTransformer: multi-qa-mpnet-base-cos-v1\n",
      "2024-05-23 14:59:42,942 - INFO - Use pytorch device: cpu\n"
     ]
    }
   ],
   "source": [
    "# Using Mistral from HuggingFace\n",
    "mistral_qa = MistralQA(api_key=HF_API_KEY,model=\"mistralai/Mistral-7B-Instruct-v0.2\")\n",
    "embed_hf = HuggingFaceEmbedding()"
   ],
   "metadata": {
    "collapsed": false,
    "ExecuteTime": {
     "end_time": "2024-05-23T11:29:42.950912300Z",
     "start_time": "2024-05-23T11:29:42.283846Z"
    }
   },
   "id": "b148f974e049da86"
  },
  {
   "cell_type": "code",
   "execution_count": 6,
   "outputs": [],
   "source": [
    "# Using OpenAi for qa and embedding from Indox\n",
    "qa_indox_api_openai = IndoxApiOpenAiQa(api_key=INDOX_OPENAI_API_KEY)\n",
    "embed_indox_api_openai = IndoxOpenAIEmbedding(api_key=INDOX_OPENAI_API_KEY,model=\"text-embedding-ada-002\")"
   ],
   "metadata": {
    "collapsed": false,
    "ExecuteTime": {
     "end_time": "2024-05-23T11:29:42.958560800Z",
     "start_time": "2024-05-23T11:29:42.950402900Z"
    }
   },
   "id": "4673310d4207f8b1"
  },
  {
   "cell_type": "code",
   "execution_count": 7,
   "outputs": [],
   "source": [
    "file_path = \"sample.txt\""
   ],
   "metadata": {
    "collapsed": false,
    "ExecuteTime": {
     "end_time": "2024-05-23T11:29:42.958560800Z",
     "start_time": "2024-05-23T11:29:42.954041100Z"
    }
   },
   "id": "7df145b7b6f380df"
  },
  {
   "cell_type": "markdown",
   "source": [
    "# Load and Split with Unstructured library"
   ],
   "metadata": {
    "collapsed": false
   },
   "id": "f5f0a9edfc21686b"
  },
  {
   "cell_type": "code",
   "execution_count": 28,
   "outputs": [
    {
     "name": "stdout",
     "output_type": "stream",
     "text": [
      "Starting processing...\n",
      "End Chunking process.\n"
     ]
    }
   ],
   "source": [
    "data = UnstructuredLoadAndSplit(file_path=file_path,max_chunk_size=400)"
   ],
   "metadata": {
    "collapsed": false,
    "ExecuteTime": {
     "end_time": "2024-05-23T11:27:20.277782600Z",
     "start_time": "2024-05-23T11:27:19.936742400Z"
    }
   },
   "id": "adb521f8180b01f0"
  },
  {
   "cell_type": "code",
   "execution_count": 29,
   "outputs": [
    {
     "name": "stderr",
     "output_type": "stream",
     "text": [
      "2024-05-23 14:57:21,809 - INFO - Collection sample is not created.\n"
     ]
    },
    {
     "name": "stdout",
     "output_type": "stream",
     "text": [
      "Connection established successfully.\n"
     ]
    }
   ],
   "source": [
    "Indox.connect_to_vectorstore(embeddings=embed_indox_api_openai,collection_name=\"sample\")"
   ],
   "metadata": {
    "collapsed": false,
    "ExecuteTime": {
     "end_time": "2024-05-23T11:27:21.820220200Z",
     "start_time": "2024-05-23T11:27:21.809683700Z"
    }
   },
   "id": "30236e1432254709"
  },
  {
   "cell_type": "code",
   "execution_count": 30,
   "outputs": [
    {
     "name": "stderr",
     "output_type": "stream",
     "text": [
      "2024-05-23 14:58:36,189 - INFO - Document added successfully to the vector store.\n"
     ]
    },
    {
     "data": {
      "text/plain": "<Indox.vectorstore.ChromaVectorStore at 0x15405f10bc0>"
     },
     "execution_count": 30,
     "metadata": {},
     "output_type": "execute_result"
    }
   ],
   "source": [
    "Indox.store_in_vectorstore(data)"
   ],
   "metadata": {
    "collapsed": false,
    "ExecuteTime": {
     "end_time": "2024-05-23T11:28:36.205474600Z",
     "start_time": "2024-05-23T11:27:22.695534900Z"
    }
   },
   "id": "2f76a288442d0957"
  },
  {
   "cell_type": "code",
   "execution_count": 13,
   "outputs": [],
   "source": [
    "query = \"How cinderella reach her happy ending?\""
   ],
   "metadata": {
    "collapsed": false,
    "ExecuteTime": {
     "end_time": "2024-05-23T11:35:16.322074100Z",
     "start_time": "2024-05-23T11:35:16.322074100Z"
    }
   },
   "id": "3cfe4418fe997c5e"
  },
  {
   "cell_type": "code",
   "execution_count": 32,
   "outputs": [],
   "source": [
    "response = Indox.answer_question(query=query,qa_model=qa_indox_api_openai)"
   ],
   "metadata": {
    "collapsed": false,
    "ExecuteTime": {
     "end_time": "2024-05-23T11:28:42.925387600Z",
     "start_time": "2024-05-23T11:28:38.216033400Z"
    }
   },
   "id": "2ca61790103f1eec"
  },
  {
   "cell_type": "code",
   "execution_count": 33,
   "outputs": [
    {
     "data": {
      "text/plain": "\"Cinderella reached her happy ending by remaining kind, patient, and true to herself despite facing mistreatment from her step-family. With the help of her fairy godmother and the magical assistance of birds, she was able to attend the royal festival and capture the heart of the king's son. Despite challenges and obstacles, Cinderella's pure heart and unwavering spirit ultimately led her to her happy ending of marrying the prince and living happily ever after.\""
     },
     "execution_count": 33,
     "metadata": {},
     "output_type": "execute_result"
    }
   ],
   "source": [
    "response[0]"
   ],
   "metadata": {
    "collapsed": false,
    "ExecuteTime": {
     "end_time": "2024-05-23T11:28:43.926480200Z",
     "start_time": "2024-05-23T11:28:43.910856100Z"
    }
   },
   "id": "acea9ac8b16dcd11"
  },
  {
   "cell_type": "code",
   "execution_count": 34,
   "outputs": [
    {
     "data": {
      "text/plain": "['cinderella expressed a wish, the bird threw down to her what she\\n\\nhad wished for.\\n\\nIt happened, however, that the king gave orders for a festival\\n\\nwhich was to last three days, and to which all the beautiful young\\n\\ngirls in the country were invited, in order that his son might choose\\n\\nhimself a bride. When the two step-sisters heard that they too were',\n 'cinderella expressed a wish, the bird threw down to her what she\\n\\nhad wished for.\\n\\nIt happened, however, that the king gave orders for a festival\\n\\nwhich was to last three days, and to which all the beautiful young\\n\\ngirls in the country were invited, in order that his son might choose\\n\\nhimself a bride. When the two step-sisters heard that they too were',\n \"danced with her only, and if any one invited her to dance, he said\\n\\nthis is my partner.\\n\\nWhen evening came, cinderella wished to leave, and the king's\\n\\nson was anxious to go with her, but she escaped from him so quickly\\n\\nthat he could not follow her. The king's son, however, had\\n\\nemployed a ruse, and had caused the whole staircase to be smeared\",\n \"danced with her only, and if any one invited her to dance, he said\\n\\nthis is my partner.\\n\\nWhen evening came, cinderella wished to leave, and the king's\\n\\nson was anxious to go with her, but she escaped from him so quickly\\n\\nthat he could not follow her. The king's son, however, had\\n\\nemployed a ruse, and had caused the whole staircase to be smeared\",\n \"to appear among the number, they were delighted, called cinderella\\n\\nand said, comb our hair for us, brush our shoes and fasten our\\n\\nbuckles, for we are going to the wedding at the king's palace.\\n\\nCinderella obeyed, but wept, because she too would have liked to\\n\\ngo with them to the dance, and begged her step-mother to allow\\n\\nher to do so. You go, cinderella, said she, covered in dust and\"]"
     },
     "execution_count": 34,
     "metadata": {},
     "output_type": "execute_result"
    }
   ],
   "source": [
    "response[1][0]"
   ],
   "metadata": {
    "collapsed": false,
    "ExecuteTime": {
     "end_time": "2024-05-23T11:28:45.638541600Z",
     "start_time": "2024-05-23T11:28:45.630049100Z"
    }
   },
   "id": "edb8bd1ba3f3da74"
  },
  {
   "cell_type": "markdown",
   "source": [
    "# Clustering with Indox OpenAi API Embedding"
   ],
   "metadata": {
    "collapsed": false
   },
   "id": "469104448fd7d276"
  },
  {
   "cell_type": "code",
   "execution_count": 8,
   "outputs": [
    {
     "name": "stdout",
     "output_type": "stream",
     "text": [
      "Starting processing...\n",
      "--Generated 6 clusters--\n"
     ]
    },
    {
     "name": "stderr",
     "output_type": "stream",
     "text": [
      "2024-05-23 15:01:08,339 - INFO - HTTP Request: POST https://api.openai.com/v1/chat/completions \"HTTP/1.1 200 OK\"\n",
      "2024-05-23 15:01:14,482 - INFO - HTTP Request: POST https://api.openai.com/v1/chat/completions \"HTTP/1.1 200 OK\"\n",
      "2024-05-23 15:01:20,520 - INFO - HTTP Request: POST https://api.openai.com/v1/chat/completions \"HTTP/1.1 200 OK\"\n",
      "2024-05-23 15:01:25,332 - INFO - HTTP Request: POST https://api.openai.com/v1/chat/completions \"HTTP/1.1 200 OK\"\n",
      "2024-05-23 15:01:28,762 - INFO - HTTP Request: POST https://api.openai.com/v1/chat/completions \"HTTP/1.1 200 OK\"\n",
      "2024-05-23 15:01:31,761 - INFO - HTTP Request: POST https://api.openai.com/v1/chat/completions \"HTTP/1.1 200 OK\"\n"
     ]
    },
    {
     "name": "stdout",
     "output_type": "stream",
     "text": [
      "--Generated 1 clusters--\n"
     ]
    },
    {
     "name": "stderr",
     "output_type": "stream",
     "text": [
      "2024-05-23 15:01:51,529 - INFO - HTTP Request: POST https://api.openai.com/v1/chat/completions \"HTTP/1.1 200 OK\"\n"
     ]
    },
    {
     "name": "stdout",
     "output_type": "stream",
     "text": [
      "End Chunking & Clustering process.\n"
     ]
    }
   ],
   "source": [
    "data_2 = ClusteredSplit(file_path=file_path,embeddings=embed_indox_api_openai)"
   ],
   "metadata": {
    "collapsed": false,
    "ExecuteTime": {
     "end_time": "2024-05-23T11:31:51.537772200Z",
     "start_time": "2024-05-23T11:29:42.954545700Z"
    }
   },
   "id": "1c69e6ca725d55d2"
  },
  {
   "cell_type": "code",
   "execution_count": 10,
   "outputs": [
    {
     "name": "stderr",
     "output_type": "stream",
     "text": [
      "2024-05-23 15:02:27,308 - INFO - Anonymized telemetry enabled. See                     https://docs.trychroma.com/telemetry for more information.\n"
     ]
    },
    {
     "name": "stdout",
     "output_type": "stream",
     "text": [
      "Connection established successfully.\n"
     ]
    }
   ],
   "source": [
    "Indox.connect_to_vectorstore(embeddings=embed_indox_api_openai,collection_name=\"sample_2\")"
   ],
   "metadata": {
    "collapsed": false,
    "ExecuteTime": {
     "end_time": "2024-05-23T11:32:27.453040Z",
     "start_time": "2024-05-23T11:32:26.632443700Z"
    }
   },
   "id": "2624be122decb343"
  },
  {
   "cell_type": "code",
   "execution_count": 11,
   "outputs": [
    {
     "name": "stderr",
     "output_type": "stream",
     "text": [
      "2024-05-23 15:05:04,654 - INFO - Document added successfully to the vector store.\n"
     ]
    },
    {
     "data": {
      "text/plain": "<Indox.vectorstore.ChromaVectorStore at 0x1ca4a0e5130>"
     },
     "execution_count": 11,
     "metadata": {},
     "output_type": "execute_result"
    }
   ],
   "source": [
    "Indox.store_in_vectorstore(data_2)"
   ],
   "metadata": {
    "collapsed": false,
    "ExecuteTime": {
     "end_time": "2024-05-23T11:35:04.663362900Z",
     "start_time": "2024-05-23T11:32:29.706916200Z"
    }
   },
   "id": "ce2a17b42bbc867c"
  },
  {
   "cell_type": "code",
   "execution_count": 14,
   "outputs": [],
   "source": [
    "response_2 = Indox.answer_question(query=query,qa_model=qa_indox_api_openai)"
   ],
   "metadata": {
    "collapsed": false,
    "ExecuteTime": {
     "end_time": "2024-05-23T11:35:23.904982900Z",
     "start_time": "2024-05-23T11:35:19.404877100Z"
    }
   },
   "id": "198333f9a080978c"
  },
  {
   "cell_type": "code",
   "execution_count": 15,
   "outputs": [
    {
     "data": {
      "text/plain": "\"Cinderella reaches her happy ending in the classic fairy tale by overcoming the mistreatment and cruelty from her step-family with the help of magical elements such as a hazel tree and a bird. These magical entities assist Cinderella in attending a royal festival where she captures the attention of the prince. Despite obstacles and challenges, including her stepmother's attempts to prevent her from attending the festival, Cinderella's kindness, perseverance, and the magical assistance she receives ultimately lead her to her happy ending. The prince recognizes her true worth, and they live happily ever after, symbolizing Cinderella's triumph over adversity and finding her true love and happiness.\""
     },
     "execution_count": 15,
     "metadata": {},
     "output_type": "execute_result"
    }
   ],
   "source": [
    "response_2[0]"
   ],
   "metadata": {
    "collapsed": false,
    "ExecuteTime": {
     "end_time": "2024-05-23T11:35:24.793701300Z",
     "start_time": "2024-05-23T11:35:24.761435600Z"
    }
   },
   "id": "482a9952e0912a84"
  },
  {
   "cell_type": "code",
   "execution_count": null,
   "outputs": [],
   "source": [],
   "metadata": {
    "collapsed": false
   },
   "id": "c2d2b2bcc51293c0"
  }
 ],
 "metadata": {
  "kernelspec": {
   "display_name": "Python 3",
   "language": "python",
   "name": "python3"
  },
  "language_info": {
   "codemirror_mode": {
    "name": "ipython",
    "version": 2
   },
   "file_extension": ".py",
   "mimetype": "text/x-python",
   "name": "python",
   "nbconvert_exporter": "python",
   "pygments_lexer": "ipython2",
   "version": "2.7.6"
  }
 },
 "nbformat": 4,
 "nbformat_minor": 5
}
