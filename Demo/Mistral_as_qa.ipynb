{
 "cells": [
  {
   "cell_type": "code",
   "execution_count": 1,
   "id": "initial_id",
   "metadata": {
    "collapsed": true,
    "ExecuteTime": {
     "end_time": "2024-05-20T11:34:12.673211500Z",
     "start_time": "2024-05-20T11:34:12.620441300Z"
    }
   },
   "outputs": [],
   "source": [
    "import os\n",
    "from dotenv import load_dotenv\n",
    "\n",
    "load_dotenv()\n",
    "HF_API_KEY = os.getenv('HF_API_KEY')"
   ]
  },
  {
   "cell_type": "code",
   "execution_count": 2,
   "outputs": [],
   "source": [
    "from Indox import IndoxRetrievalAugmentation\n",
    "from Indox.QaModels import MistralQA\n",
    "from Indox.Embeddings import HuggingFaceEmbedding\n",
    "from Indox.DataLoaderSplitter import UnstructuredLoadAndSplit\n",
    "#or from Indox.DataLoaderSplitter import ClusteredSplit"
   ],
   "metadata": {
    "collapsed": false,
    "ExecuteTime": {
     "end_time": "2024-05-20T11:34:42.785585500Z",
     "start_time": "2024-05-20T11:34:12.676723200Z"
    }
   },
   "id": "8b9470496cd9a78d"
  },
  {
   "cell_type": "code",
   "execution_count": 3,
   "outputs": [
    {
     "name": "stderr",
     "output_type": "stream",
     "text": [
      "2024-05-20 15:04:43,201 - INFO - Load pretrained SentenceTransformer: multi-qa-mpnet-base-cos-v1\n",
      "2024-05-20 15:04:44,913 - INFO - Use pytorch device: cpu\n"
     ]
    }
   ],
   "source": [
    "Indox = IndoxRetrievalAugmentation()\n",
    "mistral_qa = MistralQA(api_key=HF_API_KEY,model=\"mistralai/Mistral-7B-Instruct-v0.2\")\n",
    "embed = HuggingFaceEmbedding()"
   ],
   "metadata": {
    "collapsed": false,
    "ExecuteTime": {
     "end_time": "2024-05-20T11:34:44.922235Z",
     "start_time": "2024-05-20T11:34:42.789094200Z"
    }
   },
   "id": "c279c0844b08ffc2"
  },
  {
   "cell_type": "code",
   "execution_count": 4,
   "outputs": [],
   "source": [
    "file_path = \"sample.txt\""
   ],
   "metadata": {
    "collapsed": false,
    "ExecuteTime": {
     "end_time": "2024-05-20T11:34:44.930246800Z",
     "start_time": "2024-05-20T11:34:44.919723700Z"
    }
   },
   "id": "7df145b7b6f380df"
  },
  {
   "cell_type": "code",
   "execution_count": 5,
   "outputs": [
    {
     "name": "stdout",
     "output_type": "stream",
     "text": [
      "Starting processing...\n",
      "End Chunking process.\n"
     ]
    }
   ],
   "source": [
    "data = UnstructuredLoadAndSplit(file_path=file_path,max_chunk_size=400)"
   ],
   "metadata": {
    "collapsed": false,
    "ExecuteTime": {
     "end_time": "2024-05-20T11:34:50.387759600Z",
     "start_time": "2024-05-20T11:34:44.922235Z"
    }
   },
   "id": "adb521f8180b01f0"
  },
  {
   "cell_type": "code",
   "execution_count": 6,
   "outputs": [
    {
     "name": "stderr",
     "output_type": "stream",
     "text": [
      "2024-05-20 15:04:52,157 - INFO - Anonymized telemetry enabled. See                     https://docs.trychroma.com/telemetry for more information.\n"
     ]
    },
    {
     "name": "stdout",
     "output_type": "stream",
     "text": [
      "Connection established successfully.\n"
     ]
    }
   ],
   "source": [
    "Indox.connect_to_vectorstore(embeddings=embed,collection_name=\"sample\")"
   ],
   "metadata": {
    "collapsed": false,
    "ExecuteTime": {
     "end_time": "2024-05-20T11:34:52.414986900Z",
     "start_time": "2024-05-20T11:34:50.387759600Z"
    }
   },
   "id": "30236e1432254709"
  },
  {
   "cell_type": "code",
   "execution_count": 7,
   "outputs": [
    {
     "name": "stderr",
     "output_type": "stream",
     "text": [
      "2024-05-20 15:04:58,432 - INFO - Document added successfully to the vector store.\n"
     ]
    },
    {
     "data": {
      "text/plain": "<Indox.vectorstore.ChromaVectorStore at 0x215c6b6e930>"
     },
     "execution_count": 7,
     "metadata": {},
     "output_type": "execute_result"
    }
   ],
   "source": [
    "Indox.store_in_vectorstore(data)"
   ],
   "metadata": {
    "collapsed": false,
    "ExecuteTime": {
     "end_time": "2024-05-20T11:34:58.456719400Z",
     "start_time": "2024-05-20T11:34:52.414986900Z"
    }
   },
   "id": "2f76a288442d0957"
  },
  {
   "cell_type": "code",
   "execution_count": 8,
   "outputs": [],
   "source": [
    "query = \"How cinderella reach her happy ending?\""
   ],
   "metadata": {
    "collapsed": false,
    "ExecuteTime": {
     "end_time": "2024-05-20T11:34:58.456719400Z",
     "start_time": "2024-05-20T11:34:58.450712300Z"
    }
   },
   "id": "3cfe4418fe997c5e"
  },
  {
   "cell_type": "code",
   "execution_count": 9,
   "outputs": [],
   "source": [
    "response = Indox.answer_question(query=query,qa_model=mistral_qa)"
   ],
   "metadata": {
    "collapsed": false,
    "ExecuteTime": {
     "end_time": "2024-05-20T11:35:08.292327700Z",
     "start_time": "2024-05-20T11:35:02.476950100Z"
    }
   },
   "id": "2ca61790103f1eec"
  },
  {
   "cell_type": "code",
   "execution_count": 10,
   "outputs": [
    {
     "data": {
      "text/plain": "\"Cinderella reaches her happy ending by repeatedly asking for and receiving beautiful clothes from a magical bird that visits her near her mother's grave. She goes to the royal festival three times, each time transforming into a beautiful princess by wearing the clothes given to her by the bird. The prince, who is searching for his bride among the guests, falls in love with her and they get married, thus allowing Cinderella to escape her life of servitude and live happily ever after.\""
     },
     "execution_count": 10,
     "metadata": {},
     "output_type": "execute_result"
    }
   ],
   "source": [
    "response[0]"
   ],
   "metadata": {
    "collapsed": false,
    "ExecuteTime": {
     "end_time": "2024-05-20T11:35:10.025781300Z",
     "start_time": "2024-05-20T11:35:10.019681100Z"
    }
   },
   "id": "acea9ac8b16dcd11"
  },
  {
   "cell_type": "code",
   "execution_count": null,
   "outputs": [],
   "source": [],
   "metadata": {
    "collapsed": false
   },
   "id": "edb8bd1ba3f3da74"
  }
 ],
 "metadata": {
  "kernelspec": {
   "display_name": "Python 3",
   "language": "python",
   "name": "python3"
  },
  "language_info": {
   "codemirror_mode": {
    "name": "ipython",
    "version": 2
   },
   "file_extension": ".py",
   "mimetype": "text/x-python",
   "name": "python",
   "nbconvert_exporter": "python",
   "pygments_lexer": "ipython2",
   "version": "2.7.6"
  }
 },
 "nbformat": 4,
 "nbformat_minor": 5
}
