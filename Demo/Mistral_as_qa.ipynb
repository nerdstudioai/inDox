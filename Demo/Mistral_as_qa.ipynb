{
 "cells": [
  {
   "cell_type": "code",
   "id": "initial_id",
   "metadata": {
    "collapsed": true,
    "ExecuteTime": {
     "end_time": "2024-06-03T08:37:45.897529Z",
     "start_time": "2024-06-03T08:37:45.874969Z"
    }
   },
   "source": [
    "import os\n",
    "from dotenv import load_dotenv\n",
    "\n",
    "load_dotenv()\n",
    "HUGGINGFACE_API_KEY = os.getenv('HUGGINGFACE_API_KEY')\n",
    "INDOX_OPENAI_API_KEY = os.getenv(\"INDOX_OPENAI_API_KEY\")"
   ],
   "outputs": [],
   "execution_count": 1
  },
  {
   "cell_type": "code",
   "source": [
    "from indox import IndoxRetrievalAugmentation\n",
    "from indox.qa_models import MistralQA\n",
    "from indox.embeddings import HuggingFaceEmbedding\n",
    "from indox.data_loader_splitter import UnstructuredLoadAndSplit\n",
    "from indox.data_loader_splitter import ClusteredSplit"
   ],
   "metadata": {
    "collapsed": false,
    "ExecuteTime": {
     "end_time": "2024-06-03T08:38:11.247749Z",
     "start_time": "2024-06-03T08:37:47.517854Z"
    }
   },
   "id": "8b9470496cd9a78d",
   "outputs": [],
   "execution_count": 2
  },
  {
   "cell_type": "code",
   "source": [
    "# from indox.qa_models import IndoxApiOpenAiQa\n",
    "# from indox.embeddings import IndoxOpenAIEmbedding"
   ],
   "metadata": {
    "collapsed": false,
    "ExecuteTime": {
     "end_time": "2024-06-01T07:03:05.328260Z",
     "start_time": "2024-06-01T07:03:05.324497Z"
    }
   },
   "id": "f8a7d2daebcb3e05",
   "outputs": [],
   "execution_count": 3
  },
  {
   "cell_type": "code",
   "source": [
    "Indox = IndoxRetrievalAugmentation()"
   ],
   "metadata": {
    "collapsed": false,
    "ExecuteTime": {
     "end_time": "2024-06-03T08:38:12.670560Z",
     "start_time": "2024-06-03T08:38:12.667134Z"
    }
   },
   "id": "c279c0844b08ffc2",
   "outputs": [],
   "execution_count": 3
  },
  {
   "cell_type": "code",
   "source": [
    "# Using Mistral from HuggingFace\n",
    "mistral_qa = MistralQA(api_key=HUGGINGFACE_API_KEY,model=\"mistralai/Mistral-7B-Instruct-v0.2\")\n",
    "embed_hf = HuggingFaceEmbedding(model=\"multi-qa-mpnet-base-cos-v1\")"
   ],
   "metadata": {
    "collapsed": false,
    "ExecuteTime": {
     "end_time": "2024-06-03T08:38:26.472122Z",
     "start_time": "2024-06-03T08:38:19.117704Z"
    }
   },
   "id": "b148f974e049da86",
   "outputs": [],
   "execution_count": 4
  },
  {
   "cell_type": "code",
   "source": [
    "# Using OpenAi for qa and embedding from Indox\n",
    "# qa_indox_api_openai = IndoxApiOpenAiQa(api_key=INDOX_OPENAI_API_KEY)\n",
    "# embed_indox_api_openai = IndoxOpenAIEmbedding(api_key=INDOX_OPENAI_API_KEY,model=\"text-embedding-ada-002\")"
   ],
   "metadata": {
    "collapsed": false,
    "ExecuteTime": {
     "end_time": "2024-06-01T07:03:14.653361Z",
     "start_time": "2024-06-01T07:03:14.648562Z"
    }
   },
   "id": "4673310d4207f8b1",
   "outputs": [],
   "execution_count": 6
  },
  {
   "cell_type": "code",
   "source": [
    "file_path = \"sample.txt\""
   ],
   "metadata": {
    "collapsed": false,
    "ExecuteTime": {
     "end_time": "2024-06-03T08:38:32.927012Z",
     "start_time": "2024-06-03T08:38:32.923258Z"
    }
   },
   "id": "7df145b7b6f380df",
   "outputs": [],
   "execution_count": 5
  },
  {
   "cell_type": "markdown",
   "source": [
    "# Load and Split with Unstructured library"
   ],
   "metadata": {
    "collapsed": false
   },
   "id": "f5f0a9edfc21686b"
  },
  {
   "cell_type": "code",
   "source": "loader_splitter = UnstructuredLoadAndSplit(file_path=file_path,max_chunk_size=400)",
   "metadata": {
    "collapsed": false,
    "ExecuteTime": {
     "end_time": "2024-06-03T08:39:31.632493Z",
     "start_time": "2024-06-03T08:39:31.628716Z"
    }
   },
   "id": "adb521f8180b01f0",
   "outputs": [],
   "execution_count": 18
  },
  {
   "metadata": {
    "ExecuteTime": {
     "end_time": "2024-06-03T08:39:32.419482Z",
     "start_time": "2024-06-03T08:39:32.030662Z"
    }
   },
   "cell_type": "code",
   "source": "docs = loader_splitter.load_and_chunk()",
   "id": "a48af0598642ba38",
   "outputs": [],
   "execution_count": 19
  },
  {
   "metadata": {
    "ExecuteTime": {
     "end_time": "2024-06-03T08:40:56.139972Z",
     "start_time": "2024-06-03T08:40:55.086969Z"
    }
   },
   "cell_type": "code",
   "source": [
    "from indox.vector_stores import ChromaVectorStore\n",
    "db = ChromaVectorStore(embedding=embed_hf,collection_name=\"sample\")"
   ],
   "id": "53bf86ec8509230",
   "outputs": [],
   "execution_count": 21
  },
  {
   "cell_type": "code",
   "source": "Indox.connect_to_vectorstore(db)",
   "metadata": {
    "collapsed": false,
    "ExecuteTime": {
     "end_time": "2024-06-03T08:41:04.053955Z",
     "start_time": "2024-06-03T08:41:04.049890Z"
    }
   },
   "id": "30236e1432254709",
   "outputs": [
    {
     "data": {
      "text/plain": [
       "<indox.vector_stores.Chroma.ChromaVectorStore at 0x20c8e9bc1a0>"
      ]
     },
     "execution_count": 22,
     "metadata": {},
     "output_type": "execute_result"
    }
   ],
   "execution_count": 22
  },
  {
   "cell_type": "code",
   "source": "Indox.store_in_vectorstore(docs)",
   "metadata": {
    "collapsed": false,
    "ExecuteTime": {
     "end_time": "2024-06-03T08:41:13.386355Z",
     "start_time": "2024-06-03T08:41:09.495011Z"
    }
   },
   "id": "2f76a288442d0957",
   "outputs": [
    {
     "data": {
      "text/plain": [
       "<indox.vector_stores.Chroma.ChromaVectorStore at 0x20c8e9bc1a0>"
      ]
     },
     "execution_count": 23,
     "metadata": {},
     "output_type": "execute_result"
    }
   ],
   "execution_count": 23
  },
  {
   "cell_type": "code",
   "source": [
    "query = \"How cinderella reach her happy ending?\""
   ],
   "metadata": {
    "collapsed": false,
    "ExecuteTime": {
     "end_time": "2024-06-03T08:41:14.642923Z",
     "start_time": "2024-06-03T08:41:14.640275Z"
    }
   },
   "id": "3cfe4418fe997c5e",
   "outputs": [],
   "execution_count": 24
  },
  {
   "cell_type": "code",
   "source": "response = Indox.answer_question(query=query,qa_model=mistral_qa,generate_clustered_prompts=False,document_relevancy_filter=False)",
   "metadata": {
    "collapsed": false,
    "ExecuteTime": {
     "end_time": "2024-06-03T08:41:18.689317Z",
     "start_time": "2024-06-03T08:41:15.241023Z"
    }
   },
   "id": "2ca61790103f1eec",
   "outputs": [],
   "execution_count": 25
  },
  {
   "cell_type": "code",
   "source": [
    "response[0]"
   ],
   "metadata": {
    "collapsed": false,
    "ExecuteTime": {
     "end_time": "2024-06-03T08:41:20.033113Z",
     "start_time": "2024-06-03T08:41:20.028835Z"
    }
   },
   "id": "acea9ac8b16dcd11",
   "outputs": [
    {
     "data": {
      "text/plain": [
       "\"Cinderella reaches her happy ending by receiving help from a mysterious bird. The bird grants her magical clothes and allows her to attend a royal ball where she catches the eye of the prince. When the prince realizes he cannot find her after the ball, Cinderella's step-sisters falsely accuse her of running away, causing their father to destroy the pear tree where Cinderella had left her beautiful clothes. However, on the third day of the festival, C\""
      ]
     },
     "execution_count": 26,
     "metadata": {},
     "output_type": "execute_result"
    }
   ],
   "execution_count": 26
  },
  {
   "metadata": {
    "ExecuteTime": {
     "end_time": "2024-06-03T08:41:20.903997Z",
     "start_time": "2024-06-03T08:41:20.899303Z"
    }
   },
   "cell_type": "code",
   "source": "response[1][0]",
   "id": "2eca7d5b3ee4a8d8",
   "outputs": [
    {
     "data": {
      "text/plain": [
       "['by the hearth in the cinders. And as on that account she always\\n\\nlooked dusty and dirty, they called her cinderella.\\n\\nIt happened that the father was once going to the fair, and he\\n\\nasked his two step-daughters what he should bring back for them.\\n\\nBeautiful dresses, said one, pearls and jewels, said the second.\\n\\nAnd you, cinderella, said he, what will you have. Father',\n",
       " 'cinderella expressed a wish, the bird threw down to her what she\\n\\nhad wished for.\\n\\nIt happened, however, that the king gave orders for a festival\\n\\nwhich was to last three days, and to which all the beautiful young\\n\\ngirls in the country were invited, in order that his son might choose\\n\\nhimself a bride. When the two step-sisters heard that they too were',\n",
       " 'know where she was gone. He waited until her father came, and\\n\\nsaid to him, the unknown maiden has escaped from me, and I\\n\\nbelieve she has climbed up the pear-tree. The father thought,\\n\\ncan it be cinderella. And had an axe brought and cut the\\n\\ntree down, but no one was on it. And when they got into the\\n\\nkitchen, cinderella lay there among the ashes, as usual, for she',\n",
       " 'and had run to the little hazel-tree, and there she had taken off\\n\\nher beautiful clothes and laid them on the grave, and the bird had\\n\\ntaken them away again, and then she had seated herself in the\\n\\nkitchen amongst the ashes in her grey gown.\\n\\nNext day when the festival began afresh, and her parents and\\n\\nthe step-sisters had gone once more, cinderella went to the\\n\\nhazel-tree and said -',\n",
       " \"had jumped down on the other side of the tree, had taken the\\n\\nbeautiful dress to the bird on the little hazel-tree, and put on her\\n\\ngrey gown.\\n\\nOn the third day, when the parents and sisters had gone away,\\n\\ncinderella went once more to her mother's grave and said to the\"]"
      ]
     },
     "execution_count": 27,
     "metadata": {},
     "output_type": "execute_result"
    }
   ],
   "execution_count": 27
  },
  {
   "cell_type": "code",
   "source": "len(response[1][0])",
   "metadata": {
    "collapsed": false,
    "ExecuteTime": {
     "end_time": "2024-06-03T08:41:24.493306Z",
     "start_time": "2024-06-03T08:41:24.488654Z"
    }
   },
   "id": "edb8bd1ba3f3da74",
   "outputs": [
    {
     "data": {
      "text/plain": [
       "5"
      ]
     },
     "execution_count": 28,
     "metadata": {},
     "output_type": "execute_result"
    }
   ],
   "execution_count": 28
  }
 ],
 "metadata": {
  "kernelspec": {
   "display_name": "Python 3",
   "language": "python",
   "name": "python3"
  },
  "language_info": {
   "codemirror_mode": {
    "name": "ipython",
    "version": 2
   },
   "file_extension": ".py",
   "mimetype": "text/x-python",
   "name": "python",
   "nbconvert_exporter": "python",
   "pygments_lexer": "ipython2",
   "version": "2.7.6"
  }
 },
 "nbformat": 4,
 "nbformat_minor": 5
}
