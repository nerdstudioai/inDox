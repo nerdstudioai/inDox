{
 "cells": [
  {
   "cell_type": "code",
   "execution_count": 32,
   "id": "initial_id",
   "metadata": {
    "collapsed": true,
    "ExecuteTime": {
     "end_time": "2024-05-22T09:42:28.302978200Z",
     "start_time": "2024-05-22T09:42:28.298757300Z"
    }
   },
   "outputs": [],
   "source": [
    "import os\n",
    "from dotenv import load_dotenv\n",
    "\n",
    "load_dotenv()\n",
    "HF_API_KEY = os.getenv('HF_API_KEY')\n",
    "OPENAI_INDOX_API_KEY = os.getenv(\"OPENAI_INDOX_API_KEY\")"
   ]
  },
  {
   "cell_type": "code",
   "execution_count": 6,
   "outputs": [],
   "source": [
    "from Indox import IndoxRetrievalAugmentation\n",
    "from Indox.QaModels import MistralQA\n",
    "from Indox.Embeddings import HuggingFaceEmbedding\n",
    "from Indox.DataLoaderSplitter import UnstructuredLoadAndSplit\n",
    "#or from Indox.DataLoaderSplitter import ClusteredSplit"
   ],
   "metadata": {
    "collapsed": false,
    "ExecuteTime": {
     "end_time": "2024-05-22T09:40:10.067931800Z",
     "start_time": "2024-05-22T09:40:00.066089800Z"
    }
   },
   "id": "8b9470496cd9a78d"
  },
  {
   "cell_type": "code",
   "execution_count": 7,
   "outputs": [
    {
     "name": "stderr",
     "output_type": "stream",
     "text": [
      "2024-05-22 13:10:20,865 - INFO - Load pretrained SentenceTransformer: multi-qa-mpnet-base-cos-v1\n",
      "2024-05-22 13:10:21,291 - INFO - Use pytorch device: cpu\n"
     ]
    }
   ],
   "source": [
    "Indox = IndoxRetrievalAugmentation()\n",
    "mistral_qa = MistralQA(api_key=HF_API_KEY,model=\"mistralai/Mistral-7B-Instruct-v0.2\")\n",
    "embed = HuggingFaceEmbedding()"
   ],
   "metadata": {
    "collapsed": false,
    "ExecuteTime": {
     "end_time": "2024-05-22T09:40:21.300186200Z",
     "start_time": "2024-05-22T09:40:20.714266100Z"
    }
   },
   "id": "c279c0844b08ffc2"
  },
  {
   "cell_type": "code",
   "execution_count": 19,
   "outputs": [],
   "source": [
    "from Indox.QaModels import OpenAiQaIndoxApi"
   ],
   "metadata": {
    "collapsed": false,
    "ExecuteTime": {
     "end_time": "2024-05-22T09:40:54.504550200Z",
     "start_time": "2024-05-22T09:40:54.502540600Z"
    }
   },
   "id": "46c47b70d34914fa"
  },
  {
   "cell_type": "code",
   "execution_count": 34,
   "outputs": [],
   "source": [
    "openai_indox_api = OpenAiQaIndoxApi(api_key=OPENAI_INDOX_API_KEY)"
   ],
   "metadata": {
    "collapsed": false,
    "ExecuteTime": {
     "end_time": "2024-05-22T09:42:34.034034200Z",
     "start_time": "2024-05-22T09:42:34.022025Z"
    }
   },
   "id": "4673310d4207f8b1"
  },
  {
   "cell_type": "code",
   "execution_count": 21,
   "outputs": [],
   "source": [
    "file_path = \"sample.txt\""
   ],
   "metadata": {
    "collapsed": false,
    "ExecuteTime": {
     "end_time": "2024-05-22T09:41:10.789523400Z",
     "start_time": "2024-05-22T09:41:10.782517600Z"
    }
   },
   "id": "7df145b7b6f380df"
  },
  {
   "cell_type": "code",
   "execution_count": 22,
   "outputs": [
    {
     "name": "stdout",
     "output_type": "stream",
     "text": [
      "Starting processing...\n",
      "End Chunking process.\n"
     ]
    }
   ],
   "source": [
    "data = UnstructuredLoadAndSplit(file_path=file_path,max_chunk_size=400)"
   ],
   "metadata": {
    "collapsed": false,
    "ExecuteTime": {
     "end_time": "2024-05-22T09:41:11.582806800Z",
     "start_time": "2024-05-22T09:41:11.196532400Z"
    }
   },
   "id": "adb521f8180b01f0"
  },
  {
   "cell_type": "code",
   "execution_count": 23,
   "outputs": [
    {
     "name": "stderr",
     "output_type": "stream",
     "text": [
      "2024-05-22 13:11:12,162 - INFO - Collection sample is not created.\n"
     ]
    },
    {
     "name": "stdout",
     "output_type": "stream",
     "text": [
      "Connection established successfully.\n"
     ]
    }
   ],
   "source": [
    "Indox.connect_to_vectorstore(embeddings=embed,collection_name=\"sample\")"
   ],
   "metadata": {
    "collapsed": false,
    "ExecuteTime": {
     "end_time": "2024-05-22T09:41:12.171629800Z",
     "start_time": "2024-05-22T09:41:12.158381100Z"
    }
   },
   "id": "30236e1432254709"
  },
  {
   "cell_type": "code",
   "execution_count": 24,
   "outputs": [
    {
     "name": "stderr",
     "output_type": "stream",
     "text": [
      "2024-05-22 13:11:17,025 - INFO - Document added successfully to the vector store.\n"
     ]
    },
    {
     "data": {
      "text/plain": "<Indox.vectorstore.ChromaVectorStore at 0x28ac3b511f0>"
     },
     "execution_count": 24,
     "metadata": {},
     "output_type": "execute_result"
    }
   ],
   "source": [
    "Indox.store_in_vectorstore(data)"
   ],
   "metadata": {
    "collapsed": false,
    "ExecuteTime": {
     "end_time": "2024-05-22T09:41:17.029299400Z",
     "start_time": "2024-05-22T09:41:12.984806900Z"
    }
   },
   "id": "2f76a288442d0957"
  },
  {
   "cell_type": "code",
   "execution_count": 25,
   "outputs": [],
   "source": [
    "query = \"How cinderella reach her happy ending?\""
   ],
   "metadata": {
    "collapsed": false,
    "ExecuteTime": {
     "end_time": "2024-05-22T09:41:17.035770600Z",
     "start_time": "2024-05-22T09:41:17.031765800Z"
    }
   },
   "id": "3cfe4418fe997c5e"
  },
  {
   "cell_type": "code",
   "execution_count": 26,
   "outputs": [],
   "source": [
    "response = Indox.answer_question(query=query,qa_model=mistral_qa)"
   ],
   "metadata": {
    "collapsed": false,
    "ExecuteTime": {
     "end_time": "2024-05-22T09:41:19.681375Z",
     "start_time": "2024-05-22T09:41:18.403153900Z"
    }
   },
   "id": "2ca61790103f1eec"
  },
  {
   "cell_type": "code",
   "execution_count": 27,
   "outputs": [
    {
     "data": {
      "text/plain": "\"In the story, Cinderella reaches her happy ending when she goes to the royal ball in disguise and catches the prince's eye. Then, after she loses her glass slipper, the prince searches the kingdom for the owner and eventually finds Cinderella when she tries on the slipper and it fits perfectly. The two are reunited, and they marry, allowing Cinderella to leave her life of servitude behind and live happily ever after.\""
     },
     "execution_count": 27,
     "metadata": {},
     "output_type": "execute_result"
    }
   ],
   "source": [
    "response[0]"
   ],
   "metadata": {
    "collapsed": false,
    "ExecuteTime": {
     "end_time": "2024-05-22T09:41:20.305390400Z",
     "start_time": "2024-05-22T09:41:20.299788900Z"
    }
   },
   "id": "acea9ac8b16dcd11"
  },
  {
   "cell_type": "code",
   "execution_count": 28,
   "outputs": [
    {
     "data": {
      "text/plain": "['by the hearth in the cinders. And as on that account she always\\n\\nlooked dusty and dirty, they called her cinderella.\\n\\nIt happened that the father was once going to the fair, and he\\n\\nasked his two step-daughters what he should bring back for them.\\n\\nBeautiful dresses, said one, pearls and jewels, said the second.\\n\\nAnd you, cinderella, said he, what will you have. Father',\n 'by the hearth in the cinders. And as on that account she always\\n\\nlooked dusty and dirty, they called her cinderella.\\n\\nIt happened that the father was once going to the fair, and he\\n\\nasked his two step-daughters what he should bring back for them.\\n\\nBeautiful dresses, said one, pearls and jewels, said the second.\\n\\nAnd you, cinderella, said he, what will you have. Father',\n 'cinderella expressed a wish, the bird threw down to her what she\\n\\nhad wished for.\\n\\nIt happened, however, that the king gave orders for a festival\\n\\nwhich was to last three days, and to which all the beautiful young\\n\\ngirls in the country were invited, in order that his son might choose\\n\\nhimself a bride. When the two step-sisters heard that they too were',\n 'cinderella expressed a wish, the bird threw down to her what she\\n\\nhad wished for.\\n\\nIt happened, however, that the king gave orders for a festival\\n\\nwhich was to last three days, and to which all the beautiful young\\n\\ngirls in the country were invited, in order that his son might choose\\n\\nhimself a bride. When the two step-sisters heard that they too were',\n 'know where she was gone. He waited until her father came, and\\n\\nsaid to him, the unknown maiden has escaped from me, and I\\n\\nbelieve she has climbed up the pear-tree. The father thought,\\n\\ncan it be cinderella. And had an axe brought and cut the\\n\\ntree down, but no one was on it. And when they got into the\\n\\nkitchen, cinderella lay there among the ashes, as usual, for she']"
     },
     "execution_count": 28,
     "metadata": {},
     "output_type": "execute_result"
    }
   ],
   "source": [
    "response[1][0]"
   ],
   "metadata": {
    "collapsed": false,
    "ExecuteTime": {
     "end_time": "2024-05-22T09:41:20.813366600Z",
     "start_time": "2024-05-22T09:41:20.806851900Z"
    }
   },
   "id": "edb8bd1ba3f3da74"
  },
  {
   "cell_type": "code",
   "execution_count": 35,
   "outputs": [],
   "source": [
    "response_indox_api = Indox.answer_question(query=query,qa_model=openai_indox_api)"
   ],
   "metadata": {
    "collapsed": false,
    "ExecuteTime": {
     "end_time": "2024-05-22T09:42:41.536490900Z",
     "start_time": "2024-05-22T09:42:39.141253300Z"
    }
   },
   "id": "1c69e6ca725d55d2"
  },
  {
   "cell_type": "code",
   "execution_count": 36,
   "outputs": [
    {
     "data": {
      "text/plain": "\"Cinderella reached her happy ending by remaining kind, patient, and hopeful despite her difficult circumstances. With the help of her fairy godmother and the magical bird, she was able to attend the royal festival and capture the prince's heart. Ultimately, her true identity was revealed, and she married the prince, living happily ever after.\""
     },
     "execution_count": 36,
     "metadata": {},
     "output_type": "execute_result"
    }
   ],
   "source": [
    "response_indox_api[0]"
   ],
   "metadata": {
    "collapsed": false,
    "ExecuteTime": {
     "end_time": "2024-05-22T09:42:42.307721300Z",
     "start_time": "2024-05-22T09:42:42.302331100Z"
    }
   },
   "id": "4a7942a61e92f920"
  },
  {
   "cell_type": "code",
   "execution_count": null,
   "outputs": [],
   "source": [],
   "metadata": {
    "collapsed": false
   },
   "id": "ce2a17b42bbc867c"
  }
 ],
 "metadata": {
  "kernelspec": {
   "display_name": "Python 3",
   "language": "python",
   "name": "python3"
  },
  "language_info": {
   "codemirror_mode": {
    "name": "ipython",
    "version": 2
   },
   "file_extension": ".py",
   "mimetype": "text/x-python",
   "name": "python",
   "nbconvert_exporter": "python",
   "pygments_lexer": "ipython2",
   "version": "2.7.6"
  }
 },
 "nbformat": 4,
 "nbformat_minor": 5
}
