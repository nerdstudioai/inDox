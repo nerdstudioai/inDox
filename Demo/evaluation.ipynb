{
 "cells": [
  {
   "metadata": {},
   "cell_type": "raw",
   "source": [
    "---\n",
    "title: \"Evaluation\"\n",
    "format: \n",
    "  html:\n",
    "    code-fold: true\n",
    "jupyter: python3\n",
    "---"
   ],
   "id": "6b29e8b818a74334"
  },
  {
   "metadata": {},
   "cell_type": "markdown",
   "source": [
    "# Evaluation Metrics Demo\n",
    "\n",
    "This notebook demonstrates how to use different evaluation metrics for evaluating your generated output. The available metrics are:\n",
    "\n",
    "- BertScore\n",
    "- Toxicity\n",
    "- Similarity\n",
    "- Reliability\n",
    "- Fairness\n",
    "- Readability \n",
    "You can select the metrics you want to use and then provide the context and answer text to evaluate.\n",
    "\n",
    "## Implementation \n",
    "\n",
    "First, we need to import essential libraries to generate answer \n",
    "\n",
    "```python"
   ],
   "id": "6c42d877724c2c94"
  },
  {
   "metadata": {
    "ExecuteTime": {
     "end_time": "2024-05-17T17:21:49.193673Z",
     "start_time": "2024-05-17T17:21:49.166723Z"
    }
   },
   "cell_type": "code",
   "source": [
    "#| label: fig-polar\n",
    "#| fig-cap: \"import evaluatin from Evaluation\"\n",
    "\n",
    "from Indox.Evaluation import Evaluation"
   ],
   "id": "1c30bb1b2fee72dc",
   "outputs": [],
   "execution_count": 2
  },
  {
   "metadata": {
    "ExecuteTime": {
     "end_time": "2024-05-17T17:23:09.200598Z",
     "start_time": "2024-05-17T17:23:09.167014Z"
    }
   },
   "cell_type": "code",
   "source": [
    "#| Define your evaluator with your\n",
    "# @title Default title text\n",
    "\n",
    "evaluator = "
   ],
   "id": "355db2de81f01335",
   "outputs": [
    {
     "ename": "SyntaxError",
     "evalue": "invalid syntax (4134123828.py, line 4)",
     "output_type": "error",
     "traceback": [
      "\u001B[1;36m  Input \u001B[1;32mIn [3]\u001B[1;36m\u001B[0m\n\u001B[1;33m    evaluator =\u001B[0m\n\u001B[1;37m                ^\u001B[0m\n\u001B[1;31mSyntaxError\u001B[0m\u001B[1;31m:\u001B[0m invalid syntax\n"
     ]
    }
   ],
   "execution_count": 3
  },
  {
   "metadata": {},
   "cell_type": "code",
   "outputs": [],
   "execution_count": null,
   "source": "",
   "id": "6323c0e109aa1dbf"
  }
 ],
 "metadata": {
  "kernelspec": {
   "display_name": "Python 3",
   "language": "python",
   "name": "python3"
  },
  "language_info": {
   "codemirror_mode": {
    "name": "ipython",
    "version": 2
   },
   "file_extension": ".py",
   "mimetype": "text/x-python",
   "name": "python",
   "nbconvert_exporter": "python",
   "pygments_lexer": "ipython2",
   "version": "2.7.6"
  }
 },
 "nbformat": 4,
 "nbformat_minor": 5
}
