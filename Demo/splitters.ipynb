{
 "cells": [
  {
   "metadata": {
    "ExecuteTime": {
     "end_time": "2024-08-24T08:53:02.471733Z",
     "start_time": "2024-08-24T08:53:02.461709Z"
    }
   },
   "cell_type": "code",
   "source": "from indox.splitter import RecursiveCharacterTextSplitter, CharacterTextSplitter, MarkdownTextSplitter",
   "id": "c9fe1fb592605ec1",
   "outputs": [],
   "execution_count": 2
  },
  {
   "metadata": {
    "ExecuteTime": {
     "end_time": "2024-08-24T08:53:44.408586Z",
     "start_time": "2024-08-24T08:53:44.394454Z"
    }
   },
   "cell_type": "code",
   "source": [
    "splitter = RecursiveCharacterTextSplitter(chunk_size=100, chunk_overlap=20)\n",
    "text = \"\"\"This is a long piece of text that we want to split into smaller chunks.\n",
    "It contains multiple sentences and paragraphs. We'll use this to test our text splitter.\n",
    "\n",
    "This is a new paragraph. It should be split on the paragraph boundary first.\n",
    "Then, if needed, it will be split into smaller chunks.\"\"\"\n",
    "\n",
    "chunks = splitter.split_text(text)\n",
    "for i, chunk in enumerate(chunks):\n",
    "    print(f\"Chunk {i + 1}:\")\n",
    "    print(chunk)\n",
    "    print(\"-\" * 40)\n"
   ],
   "id": "44ca14446cf2e24e",
   "outputs": [
    {
     "name": "stdout",
     "output_type": "stream",
     "text": [
      "Chunk 1:\n",
      "This is a long piece of text that we want to split into smaller chunks.\n",
      "----------------------------------------\n",
      "Chunk 2:\n",
      "It contains multiple sentences and paragraphs. We'll use this to test our text splitter.\n",
      "----------------------------------------\n",
      "Chunk 3:\n",
      "This is a new paragraph. It should be split on the paragraph boundary first.\n",
      "----------------------------------------\n",
      "Chunk 4:\n",
      "Then, if needed, it will be split into smaller chunks.\n",
      "----------------------------------------\n"
     ]
    }
   ],
   "execution_count": 3
  },
  {
   "metadata": {
    "ExecuteTime": {
     "end_time": "2024-08-24T08:54:07.976071Z",
     "start_time": "2024-08-24T08:54:07.966086Z"
    }
   },
   "cell_type": "code",
   "source": [
    "splitter = CharacterTextSplitter(chunk_size=100, chunk_overlap=20)\n",
    "text = \"\"\"This is a long piece of text that we want to split into smaller chunks.\n",
    "It contains multiple sentences and paragraphs. We'll use this to test our text splitter.\n",
    "\n",
    "This is a new paragraph. It should be split on the paragraph boundary first.\n",
    "Then, if needed, it will be split into smaller chunks.\"\"\"\n",
    "\n",
    "chunks = splitter.split_text(text)\n",
    "for i, chunk in enumerate(chunks):\n",
    "    print(f\"Chunk {i + 1}:\")\n",
    "    print(chunk)\n",
    "    print(\"-\" * 40)"
   ],
   "id": "7f6324dcfc75feca",
   "outputs": [
    {
     "name": "stdout",
     "output_type": "stream",
     "text": [
      "Chunk 1:\n",
      "This is a long piece of text that we want to split into smaller chunks.\n",
      "It contains multiple sentences and paragraphs. We'll use this to test our text splitter.\n",
      "----------------------------------------\n",
      "Chunk 2:\n",
      "This is a new paragraph. It should be split on the paragraph boundary first.\n",
      "Then, if needed, it will be split into smaller chunks.\n",
      "----------------------------------------\n"
     ]
    }
   ],
   "execution_count": 4
  },
  {
   "metadata": {
    "ExecuteTime": {
     "end_time": "2024-08-24T08:54:46.971302Z",
     "start_time": "2024-08-24T08:54:46.956465Z"
    }
   },
   "cell_type": "code",
   "source": [
    "markdown_text = \"\"\"\n",
    "# Main Title\n",
    "\n",
    "## Section 1\n",
    "\n",
    "This is content for section 1.\n",
    "\n",
    "## Section 2\n",
    "\n",
    "This is content for section 2.\n",
    "\n",
    "### Subsection 2.1\n",
    "\n",
    "More detailed content here.\n",
    "\n",
    "## Section 3\n",
    "\n",
    "Final section content.\n",
    "\"\"\"\n",
    "\n",
    "splitter = MarkdownTextSplitter(chunk_size=100, chunk_overlap=20)\n",
    "chunks = splitter.split_text(markdown_text)\n",
    "\n",
    "for i, chunk in enumerate(chunks):\n",
    "    print(f\"Chunk {i + 1}:\")\n",
    "    print(chunk)\n",
    "    print(\"-\" * 40)"
   ],
   "id": "11bf145088ff0823",
   "outputs": [
    {
     "name": "stdout",
     "output_type": "stream",
     "text": [
      "Chunk 1:\n",
      "# Main Title\n",
      "\n",
      "## \n",
      "## Section 1\n",
      "\n",
      "This is content for section 1.\n",
      "\n",
      "##\n",
      "----------------------------------------\n",
      "Chunk 2:\n",
      "Section 2\n",
      "\n",
      "This is content for section 2.\n",
      "\n",
      "### Subsection 2.1\n",
      "\n",
      "More detailed content here.\n",
      "\n",
      "##\n",
      "----------------------------------------\n",
      "Chunk 3:\n",
      "Section 3\n",
      "\n",
      "Final section content.\n",
      "----------------------------------------\n"
     ]
    }
   ],
   "execution_count": 5
  }
 ],
 "metadata": {
  "kernelspec": {
   "display_name": "Python 3",
   "language": "python",
   "name": "python3"
  },
  "language_info": {
   "codemirror_mode": {
    "name": "ipython",
    "version": 2
   },
   "file_extension": ".py",
   "mimetype": "text/x-python",
   "name": "python",
   "nbconvert_exporter": "python",
   "pygments_lexer": "ipython2",
   "version": "2.7.6"
  }
 },
 "nbformat": 4,
 "nbformat_minor": 5
}
