{
 "cells": [
  {
   "cell_type": "code",
   "id": "initial_id",
   "metadata": {
    "collapsed": true,
    "ExecuteTime": {
     "end_time": "2024-06-07T16:28:13.949344Z",
     "start_time": "2024-06-07T16:28:13.936897Z"
    }
   },
   "source": [
    "import os\n",
    "from dotenv import load_dotenv\n",
    "\n",
    "load_dotenv()\n",
    "HUGGINGFACE_API_KEY = os.getenv('HUGGINGFACE_API_KEY')"
   ],
   "outputs": [],
   "execution_count": 1
  },
  {
   "cell_type": "code",
   "source": [
    "from indox import IndoxRetrievalAugmentation\n",
    "from indox.llms import MistralQA\n",
    "from indox.embeddings import HuggingFaceEmbedding\n",
    "from indox.data_loader_splitter import UnstructuredLoadAndSplit"
   ],
   "metadata": {
    "collapsed": false,
    "ExecuteTime": {
     "end_time": "2024-06-07T16:28:15.476451Z",
     "start_time": "2024-06-07T16:28:14.564978Z"
    }
   },
   "id": "8b9470496cd9a78d",
   "outputs": [
    {
     "ename": "ImportError",
     "evalue": "cannot import name 'IndoxApiOpenAiQaAgent' from 'indox.llms.OpenAi.openai_indox_api' (E:\\Codes\\Indox\\inDox\\indox\\llms\\OpenAi\\openai_indox_api.py)",
     "output_type": "error",
     "traceback": [
      "\u001B[1;31m---------------------------------------------------------------------------\u001B[0m",
      "\u001B[1;31mImportError\u001B[0m                               Traceback (most recent call last)",
      "Cell \u001B[1;32mIn[2], line 2\u001B[0m\n\u001B[0;32m      1\u001B[0m \u001B[38;5;28;01mfrom\u001B[39;00m \u001B[38;5;21;01mindox\u001B[39;00m \u001B[38;5;28;01mimport\u001B[39;00m IndoxRetrievalAugmentation\n\u001B[1;32m----> 2\u001B[0m \u001B[38;5;28;01mfrom\u001B[39;00m \u001B[38;5;21;01mindox\u001B[39;00m\u001B[38;5;21;01m.\u001B[39;00m\u001B[38;5;21;01mllms\u001B[39;00m \u001B[38;5;28;01mimport\u001B[39;00m MistralQA\n\u001B[0;32m      3\u001B[0m \u001B[38;5;28;01mfrom\u001B[39;00m \u001B[38;5;21;01mindox\u001B[39;00m\u001B[38;5;21;01m.\u001B[39;00m\u001B[38;5;21;01membeddings\u001B[39;00m \u001B[38;5;28;01mimport\u001B[39;00m HuggingFaceEmbedding\n\u001B[0;32m      4\u001B[0m \u001B[38;5;28;01mfrom\u001B[39;00m \u001B[38;5;21;01mindox\u001B[39;00m\u001B[38;5;21;01m.\u001B[39;00m\u001B[38;5;21;01mdata_loader_splitter\u001B[39;00m \u001B[38;5;28;01mimport\u001B[39;00m UnstructuredLoadAndSplit\n",
      "File \u001B[1;32mE:\\Codes\\Indox\\inDox\\indox\\llms\\__init__.py:2\u001B[0m\n\u001B[0;32m      1\u001B[0m \u001B[38;5;28;01mfrom\u001B[39;00m \u001B[38;5;21;01m.\u001B[39;00m\u001B[38;5;21;01mMistral\u001B[39;00m \u001B[38;5;28;01mimport\u001B[39;00m MistralQA\n\u001B[1;32m----> 2\u001B[0m \u001B[38;5;28;01mfrom\u001B[39;00m \u001B[38;5;21;01m.\u001B[39;00m\u001B[38;5;21;01mOpenAi\u001B[39;00m \u001B[38;5;28;01mimport\u001B[39;00m OpenAiQA\n\u001B[0;32m      3\u001B[0m \u001B[38;5;28;01mfrom\u001B[39;00m \u001B[38;5;21;01m.\u001B[39;00m\u001B[38;5;21;01mDspy_Cot\u001B[39;00m \u001B[38;5;28;01mimport\u001B[39;00m DspyCotQA\n\u001B[0;32m      4\u001B[0m \u001B[38;5;28;01mfrom\u001B[39;00m \u001B[38;5;21;01m.\u001B[39;00m\u001B[38;5;21;01mOpenAi\u001B[39;00m \u001B[38;5;28;01mimport\u001B[39;00m IndoxApiOpenAiQa,IndoxApiOpenAiQaAgent\n",
      "File \u001B[1;32mE:\\Codes\\Indox\\inDox\\indox\\llms\\OpenAi\\__init__.py:2\u001B[0m\n\u001B[0;32m      1\u001B[0m \u001B[38;5;28;01mfrom\u001B[39;00m \u001B[38;5;21;01m.\u001B[39;00m\u001B[38;5;21;01mopenai\u001B[39;00m \u001B[38;5;28;01mimport\u001B[39;00m OpenAiQA\n\u001B[1;32m----> 2\u001B[0m \u001B[38;5;28;01mfrom\u001B[39;00m \u001B[38;5;21;01m.\u001B[39;00m\u001B[38;5;21;01mopenai_indox_api\u001B[39;00m \u001B[38;5;28;01mimport\u001B[39;00m IndoxApiOpenAiQa,IndoxApiOpenAiQaAgent\n",
      "\u001B[1;31mImportError\u001B[0m: cannot import name 'IndoxApiOpenAiQaAgent' from 'indox.llms.OpenAi.openai_indox_api' (E:\\Codes\\Indox\\inDox\\indox\\llms\\OpenAi\\openai_indox_api.py)"
     ]
    }
   ],
   "execution_count": 2
  },
  {
   "cell_type": "code",
   "source": [
    "Indox = IndoxRetrievalAugmentation()"
   ],
   "metadata": {
    "collapsed": false,
    "ExecuteTime": {
     "end_time": "2024-06-07T16:28:20.021595Z",
     "start_time": "2024-06-07T16:28:20.017400Z"
    }
   },
   "id": "c279c0844b08ffc2",
   "outputs": [],
   "execution_count": 3
  },
  {
   "cell_type": "code",
   "source": [
    "# Using Mistral from HuggingFace\n",
    "mistral_qa = MistralQA(api_key=HUGGINGFACE_API_KEY,model=\"mistralai/Mistral-7B-Instruct-v0.2\")\n",
    "embed_hf = HuggingFaceEmbedding(model=\"multi-qa-mpnet-base-cos-v1\")"
   ],
   "metadata": {
    "collapsed": false,
    "ExecuteTime": {
     "end_time": "2024-06-07T16:28:22.530315Z",
     "start_time": "2024-06-07T16:28:22.515750Z"
    }
   },
   "id": "b148f974e049da86",
   "outputs": [
    {
     "ename": "NameError",
     "evalue": "name 'MistralQA' is not defined",
     "output_type": "error",
     "traceback": [
      "\u001B[1;31m---------------------------------------------------------------------------\u001B[0m",
      "\u001B[1;31mNameError\u001B[0m                                 Traceback (most recent call last)",
      "Cell \u001B[1;32mIn[4], line 2\u001B[0m\n\u001B[0;32m      1\u001B[0m \u001B[38;5;66;03m# Using Mistral from HuggingFace\u001B[39;00m\n\u001B[1;32m----> 2\u001B[0m mistral_qa \u001B[38;5;241m=\u001B[39m \u001B[43mMistralQA\u001B[49m(api_key\u001B[38;5;241m=\u001B[39mHUGGINGFACE_API_KEY,model\u001B[38;5;241m=\u001B[39m\u001B[38;5;124m\"\u001B[39m\u001B[38;5;124mmistralai/Mistral-7B-Instruct-v0.2\u001B[39m\u001B[38;5;124m\"\u001B[39m)\n\u001B[0;32m      3\u001B[0m embed_hf \u001B[38;5;241m=\u001B[39m HuggingFaceEmbedding(model\u001B[38;5;241m=\u001B[39m\u001B[38;5;124m\"\u001B[39m\u001B[38;5;124mmulti-qa-mpnet-base-cos-v1\u001B[39m\u001B[38;5;124m\"\u001B[39m)\n",
      "\u001B[1;31mNameError\u001B[0m: name 'MistralQA' is not defined"
     ]
    }
   ],
   "execution_count": 4
  },
  {
   "cell_type": "code",
   "source": [
    "file_path = \"sample.txt\""
   ],
   "metadata": {
    "collapsed": false,
    "ExecuteTime": {
     "end_time": "2024-06-07T16:28:23.600708Z",
     "start_time": "2024-06-07T16:28:23.596543Z"
    }
   },
   "id": "7df145b7b6f380df",
   "outputs": [],
   "execution_count": 5
  },
  {
   "cell_type": "markdown",
   "source": [
    "# Load and Split with Unstructured library"
   ],
   "metadata": {
    "collapsed": false
   },
   "id": "f5f0a9edfc21686b"
  },
  {
   "metadata": {
    "ExecuteTime": {
     "end_time": "2024-06-07T16:28:25.235844Z",
     "start_time": "2024-06-07T16:28:25.213669Z"
    }
   },
   "cell_type": "code",
   "source": "from indox.splitter import semantic_text_splitter",
   "id": "787f6168c07cfb82",
   "outputs": [],
   "execution_count": 6
  },
  {
   "cell_type": "code",
   "source": "loader_splitter = UnstructuredLoadAndSplit(file_path=file_path,max_chunk_size=400)",
   "metadata": {
    "collapsed": false,
    "ExecuteTime": {
     "end_time": "2024-06-07T16:24:27.103494Z",
     "start_time": "2024-06-07T16:24:27.088629Z"
    }
   },
   "id": "adb521f8180b01f0",
   "outputs": [
    {
     "ename": "NameError",
     "evalue": "name 'UnstructuredLoadAndSplit' is not defined",
     "output_type": "error",
     "traceback": [
      "\u001B[1;31m---------------------------------------------------------------------------\u001B[0m",
      "\u001B[1;31mNameError\u001B[0m                                 Traceback (most recent call last)",
      "Cell \u001B[1;32mIn[7], line 1\u001B[0m\n\u001B[1;32m----> 1\u001B[0m loader_splitter \u001B[38;5;241m=\u001B[39m \u001B[43mUnstructuredLoadAndSplit\u001B[49m(file_path\u001B[38;5;241m=\u001B[39mfile_path,max_chunk_size\u001B[38;5;241m=\u001B[39m\u001B[38;5;241m400\u001B[39m,splitter\u001B[38;5;241m=\u001B[39msemantic_text_splitter)\n",
      "\u001B[1;31mNameError\u001B[0m: name 'UnstructuredLoadAndSplit' is not defined"
     ]
    }
   ],
   "execution_count": 7
  },
  {
   "metadata": {
    "ExecuteTime": {
     "end_time": "2024-06-07T16:24:27.596654Z",
     "start_time": "2024-06-07T16:24:27.584125Z"
    }
   },
   "cell_type": "code",
   "source": "docs = loader_splitter.load_and_chunk()",
   "id": "a48af0598642ba38",
   "outputs": [
    {
     "ename": "NameError",
     "evalue": "name 'loader_splitter' is not defined",
     "output_type": "error",
     "traceback": [
      "\u001B[1;31m---------------------------------------------------------------------------\u001B[0m",
      "\u001B[1;31mNameError\u001B[0m                                 Traceback (most recent call last)",
      "Cell \u001B[1;32mIn[8], line 1\u001B[0m\n\u001B[1;32m----> 1\u001B[0m docs \u001B[38;5;241m=\u001B[39m \u001B[43mloader_splitter\u001B[49m\u001B[38;5;241m.\u001B[39mload_and_chunk()\n",
      "\u001B[1;31mNameError\u001B[0m: name 'loader_splitter' is not defined"
     ]
    }
   ],
   "execution_count": 8
  },
  {
   "metadata": {
    "ExecuteTime": {
     "end_time": "2024-06-07T16:24:28.035816Z",
     "start_time": "2024-06-07T16:24:28.023859Z"
    }
   },
   "cell_type": "code",
   "source": "docs",
   "id": "f341b67998a4f526",
   "outputs": [
    {
     "ename": "NameError",
     "evalue": "name 'docs' is not defined",
     "output_type": "error",
     "traceback": [
      "\u001B[1;31m---------------------------------------------------------------------------\u001B[0m",
      "\u001B[1;31mNameError\u001B[0m                                 Traceback (most recent call last)",
      "Cell \u001B[1;32mIn[9], line 1\u001B[0m\n\u001B[1;32m----> 1\u001B[0m \u001B[43mdocs\u001B[49m\n",
      "\u001B[1;31mNameError\u001B[0m: name 'docs' is not defined"
     ]
    }
   ],
   "execution_count": 9
  },
  {
   "metadata": {
    "ExecuteTime": {
     "end_time": "2024-06-07T16:24:29.410443Z",
     "start_time": "2024-06-07T16:24:29.082123Z"
    }
   },
   "cell_type": "code",
   "source": [
    "from indox.vector_stores import ChromaVectorStore\n",
    "db = ChromaVectorStore(embedding=embed_hf,collection_name=\"sample\")"
   ],
   "id": "53bf86ec8509230",
   "outputs": [
    {
     "ename": "NameError",
     "evalue": "name 'embed_hf' is not defined",
     "output_type": "error",
     "traceback": [
      "\u001B[1;31m---------------------------------------------------------------------------\u001B[0m",
      "\u001B[1;31mNameError\u001B[0m                                 Traceback (most recent call last)",
      "Cell \u001B[1;32mIn[10], line 2\u001B[0m\n\u001B[0;32m      1\u001B[0m \u001B[38;5;28;01mfrom\u001B[39;00m \u001B[38;5;21;01mindox\u001B[39;00m\u001B[38;5;21;01m.\u001B[39;00m\u001B[38;5;21;01mvector_stores\u001B[39;00m \u001B[38;5;28;01mimport\u001B[39;00m ChromaVectorStore\n\u001B[1;32m----> 2\u001B[0m db \u001B[38;5;241m=\u001B[39m ChromaVectorStore(embedding\u001B[38;5;241m=\u001B[39m\u001B[43membed_hf\u001B[49m,collection_name\u001B[38;5;241m=\u001B[39m\u001B[38;5;124m\"\u001B[39m\u001B[38;5;124msample\u001B[39m\u001B[38;5;124m\"\u001B[39m)\n",
      "\u001B[1;31mNameError\u001B[0m: name 'embed_hf' is not defined"
     ]
    }
   ],
   "execution_count": 10
  },
  {
   "cell_type": "code",
   "source": "Indox.connect_to_vectorstore(db)",
   "metadata": {
    "collapsed": false,
    "ExecuteTime": {
     "end_time": "2024-06-07T16:24:31.345485Z",
     "start_time": "2024-06-07T16:24:31.333262Z"
    }
   },
   "id": "30236e1432254709",
   "outputs": [
    {
     "ename": "NameError",
     "evalue": "name 'db' is not defined",
     "output_type": "error",
     "traceback": [
      "\u001B[1;31m---------------------------------------------------------------------------\u001B[0m",
      "\u001B[1;31mNameError\u001B[0m                                 Traceback (most recent call last)",
      "Cell \u001B[1;32mIn[11], line 1\u001B[0m\n\u001B[1;32m----> 1\u001B[0m Indox\u001B[38;5;241m.\u001B[39mconnect_to_vectorstore(\u001B[43mdb\u001B[49m)\n",
      "\u001B[1;31mNameError\u001B[0m: name 'db' is not defined"
     ]
    }
   ],
   "execution_count": 11
  },
  {
   "cell_type": "code",
   "source": "Indox.store_in_vectorstore(docs)",
   "metadata": {
    "collapsed": false,
    "ExecuteTime": {
     "end_time": "2024-06-07T16:24:32.445617Z",
     "start_time": "2024-06-07T16:24:32.431766Z"
    }
   },
   "id": "2f76a288442d0957",
   "outputs": [
    {
     "ename": "NameError",
     "evalue": "name 'docs' is not defined",
     "output_type": "error",
     "traceback": [
      "\u001B[1;31m---------------------------------------------------------------------------\u001B[0m",
      "\u001B[1;31mNameError\u001B[0m                                 Traceback (most recent call last)",
      "Cell \u001B[1;32mIn[12], line 1\u001B[0m\n\u001B[1;32m----> 1\u001B[0m Indox\u001B[38;5;241m.\u001B[39mstore_in_vectorstore(\u001B[43mdocs\u001B[49m)\n",
      "\u001B[1;31mNameError\u001B[0m: name 'docs' is not defined"
     ]
    }
   ],
   "execution_count": 12
  },
  {
   "cell_type": "code",
   "source": [
    "query = \"How cinderella reach her happy ending?\""
   ],
   "metadata": {
    "collapsed": false,
    "ExecuteTime": {
     "end_time": "2024-06-07T16:24:34.003843Z",
     "start_time": "2024-06-07T16:24:33.999600Z"
    }
   },
   "id": "3cfe4418fe997c5e",
   "outputs": [],
   "execution_count": 13
  },
  {
   "metadata": {
    "ExecuteTime": {
     "end_time": "2024-06-07T16:25:17.616178Z",
     "start_time": "2024-06-07T16:25:17.600723Z"
    }
   },
   "cell_type": "code",
   "source": "retriever = Indox.QuestionAnswer(vector_database=db,llm=mistral_qa,top_k=5)",
   "id": "adbab524680220b4",
   "outputs": [
    {
     "ename": "NameError",
     "evalue": "name 'db' is not defined",
     "output_type": "error",
     "traceback": [
      "\u001B[1;31m---------------------------------------------------------------------------\u001B[0m",
      "\u001B[1;31mNameError\u001B[0m                                 Traceback (most recent call last)",
      "Cell \u001B[1;32mIn[14], line 1\u001B[0m\n\u001B[1;32m----> 1\u001B[0m retriever \u001B[38;5;241m=\u001B[39m Indox\u001B[38;5;241m.\u001B[39mQuestionAnswer(vector_database\u001B[38;5;241m=\u001B[39m\u001B[43mdb\u001B[49m,llm\u001B[38;5;241m=\u001B[39mmistral_qa,top_k\u001B[38;5;241m=\u001B[39m\u001B[38;5;241m5\u001B[39m)\n",
      "\u001B[1;31mNameError\u001B[0m: name 'db' is not defined"
     ]
    }
   ],
   "execution_count": 14
  },
  {
   "cell_type": "code",
   "source": "res = retriever.invoke(query=query)",
   "metadata": {
    "collapsed": false,
    "ExecuteTime": {
     "end_time": "2024-06-07T16:26:44.634895Z",
     "start_time": "2024-06-07T16:26:44.622213Z"
    }
   },
   "id": "2ca61790103f1eec",
   "outputs": [
    {
     "ename": "NameError",
     "evalue": "name 'retriever' is not defined",
     "output_type": "error",
     "traceback": [
      "\u001B[1;31m---------------------------------------------------------------------------\u001B[0m",
      "\u001B[1;31mNameError\u001B[0m                                 Traceback (most recent call last)",
      "Cell \u001B[1;32mIn[17], line 1\u001B[0m\n\u001B[1;32m----> 1\u001B[0m res \u001B[38;5;241m=\u001B[39m \u001B[43mretriever\u001B[49m\u001B[38;5;241m.\u001B[39minvoke(query\u001B[38;5;241m=\u001B[39mquery)\n",
      "\u001B[1;31mNameError\u001B[0m: name 'retriever' is not defined"
     ]
    }
   ],
   "execution_count": 17
  },
  {
   "cell_type": "code",
   "source": "print(res)",
   "metadata": {
    "collapsed": false,
    "ExecuteTime": {
     "end_time": "2024-06-07T16:26:56.917936Z",
     "start_time": "2024-06-07T16:26:56.905719Z"
    }
   },
   "id": "acea9ac8b16dcd11",
   "outputs": [
    {
     "ename": "NameError",
     "evalue": "name 'res' is not defined",
     "output_type": "error",
     "traceback": [
      "\u001B[1;31m---------------------------------------------------------------------------\u001B[0m",
      "\u001B[1;31mNameError\u001B[0m                                 Traceback (most recent call last)",
      "Cell \u001B[1;32mIn[20], line 1\u001B[0m\n\u001B[1;32m----> 1\u001B[0m \u001B[38;5;28mprint\u001B[39m(\u001B[43mres\u001B[49m)\n",
      "\u001B[1;31mNameError\u001B[0m: name 'res' is not defined"
     ]
    }
   ],
   "execution_count": 20
  },
  {
   "metadata": {
    "ExecuteTime": {
     "end_time": "2024-06-03T08:41:20.903997Z",
     "start_time": "2024-06-03T08:41:20.899303Z"
    }
   },
   "cell_type": "code",
   "source": "response[1][0]",
   "id": "2eca7d5b3ee4a8d8",
   "outputs": [
    {
     "data": {
      "text/plain": [
       "['by the hearth in the cinders. And as on that account she always\\n\\nlooked dusty and dirty, they called her cinderella.\\n\\nIt happened that the father was once going to the fair, and he\\n\\nasked his two step-daughters what he should bring back for them.\\n\\nBeautiful dresses, said one, pearls and jewels, said the second.\\n\\nAnd you, cinderella, said he, what will you have. Father',\n",
       " 'cinderella expressed a wish, the bird threw down to her what she\\n\\nhad wished for.\\n\\nIt happened, however, that the king gave orders for a festival\\n\\nwhich was to last three days, and to which all the beautiful young\\n\\ngirls in the country were invited, in order that his son might choose\\n\\nhimself a bride. When the two step-sisters heard that they too were',\n",
       " 'know where she was gone. He waited until her father came, and\\n\\nsaid to him, the unknown maiden has escaped from me, and I\\n\\nbelieve she has climbed up the pear-tree. The father thought,\\n\\ncan it be cinderella. And had an axe brought and cut the\\n\\ntree down, but no one was on it. And when they got into the\\n\\nkitchen, cinderella lay there among the ashes, as usual, for she',\n",
       " 'and had run to the little hazel-tree, and there she had taken off\\n\\nher beautiful clothes and laid them on the grave, and the bird had\\n\\ntaken them away again, and then she had seated herself in the\\n\\nkitchen amongst the ashes in her grey gown.\\n\\nNext day when the festival began afresh, and her parents and\\n\\nthe step-sisters had gone once more, cinderella went to the\\n\\nhazel-tree and said -',\n",
       " \"had jumped down on the other side of the tree, had taken the\\n\\nbeautiful dress to the bird on the little hazel-tree, and put on her\\n\\ngrey gown.\\n\\nOn the third day, when the parents and sisters had gone away,\\n\\ncinderella went once more to her mother's grave and said to the\"]"
      ]
     },
     "execution_count": 27,
     "metadata": {},
     "output_type": "execute_result"
    }
   ],
   "execution_count": 27
  },
  {
   "cell_type": "code",
   "source": "len(response[1][0])",
   "metadata": {
    "collapsed": false,
    "ExecuteTime": {
     "end_time": "2024-06-03T08:41:24.493306Z",
     "start_time": "2024-06-03T08:41:24.488654Z"
    }
   },
   "id": "edb8bd1ba3f3da74",
   "outputs": [
    {
     "data": {
      "text/plain": [
       "5"
      ]
     },
     "execution_count": 28,
     "metadata": {},
     "output_type": "execute_result"
    }
   ],
   "execution_count": 28
  },
  {
   "metadata": {},
   "cell_type": "code",
   "outputs": [],
   "execution_count": null,
   "source": "",
   "id": "6b06e6bcfca88def"
  }
 ],
 "metadata": {
  "kernelspec": {
   "display_name": "Python 3",
   "language": "python",
   "name": "python3"
  },
  "language_info": {
   "codemirror_mode": {
    "name": "ipython",
    "version": 2
   },
   "file_extension": ".py",
   "mimetype": "text/x-python",
   "name": "python",
   "nbconvert_exporter": "python",
   "pygments_lexer": "ipython2",
   "version": "2.7.6"
  }
 },
 "nbformat": 4,
 "nbformat_minor": 5
}
