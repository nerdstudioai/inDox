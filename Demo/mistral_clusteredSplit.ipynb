{
 "cells": [
  {
   "metadata": {},
   "cell_type": "markdown",
   "source": [
    "## Indox Retrieval Augmentation\n",
    "Here, we will explore how to work with Indox Retrieval Augmentation. We are using Mistral as LLM model and HuggingFace for our embedding, we should set our HUGGINGFACE_API_KEY and MISTRAL_API_KEY as an environment variable.\n",
    "\n",
    "[![Open In Colab](https://colab.research.google.com/assets/colab-badge.svg)](https://colab.research.google.com/github/osllmai/inDox/blob/master/Demo/mistral_clusteredSplit.ipynb)"
   ],
   "id": "b992ee491b528602"
  },
  {
   "cell_type": "code",
   "id": "initial_id",
   "metadata": {
    "collapsed": true,
    "ExecuteTime": {
     "end_time": "2024-06-22T16:30:38.837298Z",
     "start_time": "2024-06-22T16:30:38.821387Z"
    }
   },
   "source": [
    "import os\n",
    "from dotenv import load_dotenv\n",
    "\n",
    "load_dotenv()\n",
    "MISTRAL_API_KEY = os.getenv('MISTRAL_API_KEY')\n",
    "HUGGINGFACE_API_KEY = os.getenv('HUGGINGFACE_API_KEY')"
   ],
   "outputs": [],
   "execution_count": 1
  },
  {
   "metadata": {},
   "cell_type": "markdown",
   "source": [
    "### Creating an instance of IndoxTetrivalAugmentation\n",
    "\n",
    "To effectively utilize the Indox Retrieval Augmentation capabilities, you must first create an instance of the IndoxRetrievalAugmentation class. This instance will allow you to access the methods and properties defined within the class, enabling the augmentation and retrieval functionalities."
   ],
   "id": "c7c1f16d899f2423"
  },
  {
   "metadata": {
    "ExecuteTime": {
     "end_time": "2024-06-22T16:30:40.167881Z",
     "start_time": "2024-06-22T16:30:40.124844Z"
    }
   },
   "cell_type": "code",
   "source": [
    "from indox import IndoxRetrievalAugmentation\n",
    "indox = IndoxRetrievalAugmentation()"
   ],
   "id": "92018a2d0b19b301",
   "outputs": [
    {
     "name": "stderr",
     "output_type": "stream",
     "text": [
      "2024-06-22 20:00:40,165 INFO:IndoxRetrievalAugmentation initialized\n"
     ]
    }
   ],
   "execution_count": 3
  },
  {
   "metadata": {
    "ExecuteTime": {
     "end_time": "2024-06-22T16:30:41.014630Z",
     "start_time": "2024-06-22T16:30:41.010445Z"
    }
   },
   "cell_type": "code",
   "source": "indox.__version__",
   "id": "ff10959e7dbf65be",
   "outputs": [
    {
     "data": {
      "text/plain": [
       "'0.1.10'"
      ]
     },
     "execution_count": 4,
     "metadata": {},
     "output_type": "execute_result"
    }
   ],
   "execution_count": 4
  },
  {
   "metadata": {},
   "cell_type": "markdown",
   "source": [
    "### Generating response using Mistral's language models \n",
    "MistralQA class is used to handle question-answering task using Mistral's language models from HuggingFace. This instance creates HuggingFaceEmbedding class to specifying embedding model.By using UnstructuredLoadAndSplit function we can import various file types and split them into chunks."
   ],
   "id": "f497dae86563ecb3"
  },
  {
   "metadata": {},
   "cell_type": "code",
   "outputs": [],
   "execution_count": null,
   "source": "!wget https://raw.githubusercontent.com/osllmai/inDox/master/Demo/sample.txt",
   "id": "b286a0b70e763347"
  },
  {
   "metadata": {
    "ExecuteTime": {
     "end_time": "2024-06-22T16:30:57.567979Z",
     "start_time": "2024-06-22T16:30:42.432288Z"
    }
   },
   "cell_type": "code",
   "source": [
    "from indox.llms import Mistral\n",
    "from indox.embeddings import HuggingFaceEmbedding\n",
    "from indox.data_loader_splitter import ClusteredSplit\n",
    "from indox.embeddings import MistralEmbedding\n",
    "mistral_qa = Mistral(api_key=MISTRAL_API_KEY)\n",
    "# embed_hf = HuggingFaceEmbedding(model=\"multi-qa-mpnet-base-cos-v1\")\n",
    "embed_mistral = MistralEmbedding(MISTRAL_API_KEY)\n",
    "file_path = \"sample.txt\"\n",
    "\n"
   ],
   "id": "e8255e31a4b3e951",
   "outputs": [
    {
     "name": "stderr",
     "output_type": "stream",
     "text": [
      "2024-06-22 20:00:52,790 INFO:Initializing MistralAI with model: mistral-medium-latest\n",
      "2024-06-22 20:00:53,023 INFO:MistralAI initialized successfully\n",
      "2024-06-22 20:00:57,565 INFO:Initialized Mistral embeddings\n"
     ]
    }
   ],
   "execution_count": 5
  },
  {
   "metadata": {
    "ExecuteTime": {
     "end_time": "2024-06-22T16:31:42.860656Z",
     "start_time": "2024-06-22T16:31:00.297778Z"
    }
   },
   "cell_type": "code",
   "source": [
    "loader_splitter = ClusteredSplit(file_path=file_path,summary_model=mistral_qa,embeddings=embed_mistral)\n",
    "docs = loader_splitter.load_and_chunk()"
   ],
   "id": "a1927daaf1dd2db3",
   "outputs": [
    {
     "name": "stderr",
     "output_type": "stream",
     "text": [
      "2024-06-22 20:01:00,300 INFO:Initializing ClusteredSplit\n",
      "2024-06-22 20:01:00,300 INFO:ClusteredSplit initialized successfully\n",
      "2024-06-22 20:01:00,301 INFO:Getting all documents\n",
      "2024-06-22 20:01:00,301 INFO:Starting processing for documents\n",
      "2024-06-22 20:01:03,102 INFO:HTTP Request: POST https://api.mistral.ai/v1/embeddings \"HTTP/1.1 200 OK\"\n",
      "2024-06-22 20:01:11,445 INFO:Generating summary for documentation\n"
     ]
    },
    {
     "name": "stdout",
     "output_type": "stream",
     "text": [
      "--Generated 5 clusters--\n"
     ]
    },
    {
     "name": "stderr",
     "output_type": "stream",
     "text": [
      "2024-06-22 20:01:18,090 INFO:HTTP Request: POST https://api.mistral.ai/v1/chat/completions \"HTTP/1.1 200 OK\"\n",
      "2024-06-22 20:01:18,092 INFO:Generating summary for documentation\n",
      "2024-06-22 20:01:23,322 INFO:HTTP Request: POST https://api.mistral.ai/v1/chat/completions \"HTTP/1.1 200 OK\"\n",
      "2024-06-22 20:01:23,323 INFO:Generating summary for documentation\n",
      "2024-06-22 20:01:28,001 INFO:HTTP Request: POST https://api.mistral.ai/v1/chat/completions \"HTTP/1.1 200 OK\"\n",
      "2024-06-22 20:01:28,003 INFO:Generating summary for documentation\n",
      "2024-06-22 20:01:32,240 INFO:HTTP Request: POST https://api.mistral.ai/v1/chat/completions \"HTTP/1.1 200 OK\"\n",
      "2024-06-22 20:01:32,241 INFO:Generating summary for documentation\n",
      "2024-06-22 20:01:35,957 INFO:HTTP Request: POST https://api.mistral.ai/v1/chat/completions \"HTTP/1.1 200 OK\"\n",
      "2024-06-22 20:01:37,937 INFO:HTTP Request: POST https://api.mistral.ai/v1/embeddings \"HTTP/1.1 200 OK\"\n",
      "2024-06-22 20:01:39,040 INFO:Generating summary for documentation\n"
     ]
    },
    {
     "name": "stdout",
     "output_type": "stream",
     "text": [
      "--Generated 1 clusters--\n"
     ]
    },
    {
     "name": "stderr",
     "output_type": "stream",
     "text": [
      "2024-06-22 20:01:42,856 INFO:HTTP Request: POST https://api.mistral.ai/v1/chat/completions \"HTTP/1.1 200 OK\"\n",
      "2024-06-22 20:01:42,858 INFO:Completed chunking & clustering process\n",
      "2024-06-22 20:01:42,858 INFO:Successfully obtained all documents\n"
     ]
    }
   ],
   "execution_count": 6
  },
  {
   "metadata": {},
   "cell_type": "markdown",
   "source": " Here ChromaVectorStore handles the storage and retrieval of vector embeddings by specifying a collection name and sets up a vector store where text embeddings can be stored and queried.",
   "id": "8a7b62989d2708c2"
  },
  {
   "metadata": {
    "ExecuteTime": {
     "end_time": "2024-06-22T16:33:56.932466Z",
     "start_time": "2024-06-22T16:33:56.928893Z"
    }
   },
   "cell_type": "code",
   "source": "user_prompt = f\"Give a detailed summary of the documentation provided.\\n\\nDocumentation:\\n docs:{docs}\"",
   "id": "4b951eda2b2f372",
   "outputs": [],
   "execution_count": 9
  },
  {
   "metadata": {
    "ExecuteTime": {
     "end_time": "2024-06-22T16:34:01.874650Z",
     "start_time": "2024-06-22T16:34:01.870370Z"
    }
   },
   "cell_type": "code",
   "source": "user_prompt",
   "id": "6a12042d11f0a5a5",
   "outputs": [
    {
     "data": {
      "text/plain": [
       "'Give a detailed summary of the documentation provided.\\n\\nDocumentation:\\n docs:[\"The wife of a rich man fell sick, and as she felt that her end was drawing near, she called her only daughter to her bedside and said, dear child, be good and pious, and then the good God will always protect you, and I will look down on you from heaven and be near you   Thereupon she closed her eyes and departed   Every day the maiden went out to her mother\\'s grave, and wept, and she remained pious and good   When winter came\", \\'the snow spread a white sheet over the grave, and by the time the spring sun had drawn it off again, the man had taken another wife The woman had brought with her into the house two daughters, who were beautiful and fair of face, but vile and black of heart Now began a bad time for the poor step-child   Is the stupid goose to sit in the parlor with us, they said   He who wants to eat bread must earn it   Out with the kitchen-wench\\', \\'  They took her pretty clothes away from her, put an old grey bedgown on her, and gave her wooden shoes   Just look at the proud princess, how decked out she is, they cried, and laughed, and led her into the kitchen There she had to do hard work from morning till night, get up before daybreak, carry water, light fires, cook and wash   Besides this, the sisters did her every imaginable injury - they mocked her\\', \\'and emptied her peas and lentils into the ashes, so that she was forced to sit and pick them out again   In the evening when she had worked till she was weary she had no bed to go to, but had to sleep by the hearth in the cinders   And as on that account she always looked dusty and dirty, they called her cinderella It happened that the father was once going to the fair, and he\\', \\'asked his two step-daughters what he should bring back for them Beautiful dresses, said one, pearls and jewels, said the second And you, cinderella, said he, what will you have   Father break off for me the first branch which knocks against your hat on your way home   So he bought beautiful dresses, pearls and jewels for his two step-daughters, and on his way home, as he was riding through a green thicket, a hazel twig brushed against him and\\', \"knocked off his hat   Then he broke off the branch and took it with him   When he reached home he gave his step-daughters the things which they had wished for, and to cinderella he gave the branch from the hazel-bush   Cinderella thanked him, went to her mother\\'s grave and planted the branch on it, and wept so much that the tears fell down on it and watered it   And it grew and became a handsome tree\", \\' Thrice a day cinderella went and sat beneath it, and wept and prayed, and a little white bird always came on the tree, and if cinderella expressed a wish, the bird threw down to her what she had wished for It happened, however, that the king gave orders for a festival which was to last three days, and to which all the beautiful young girls in the country were invited, in order that his son might choose himself a bride\\', \"  When the two step-sisters heard that they too were to appear among the number, they were delighted, called cinderella and said, comb our hair for us, brush our shoes and fasten our buckles, for we are going to the wedding at the king\\'s palace Cinderella obeyed, but wept, because she too would have liked to go with them to the dance, and begged her step-mother to allow her to do so\", \\'  You go, cinderella, said she, covered in dust and dirt as you are, and would go to the festival   You have no clothes and shoes, and yet would dance   As, however, cinderella went on asking, the step-mother said at last, I have emptied a dish of lentils into the ashes for you, if you have picked them out again in two hours, you shall go with us   The maiden went through the\\', \\'back-door into the garden, and called, you tame pigeons, you turtle-doves, and all you birds beneath the sky, come and help me to pick      the good into the pot,      the bad into the crop Then two white pigeons came in by the kitchen window, and afterwards the turtle-doves, and at last all the birds beneath the sky, came whirring and crowding in, and alighted amongst the ashes\\', \\'And the pigeons nodded with their heads and began pick, pick, pick, pick, and the rest began also pick, pick, pick, pick, and gathered all the good grains into the dish   Hardly had one hour passed before they had finished, and all flew out again   Then the girl took the dish to her step-mother, and was glad, and believed that now she would be allowed to go with them to the festival\\', \\'But the step-mother said, no, cinderella, you have no clothes and you can not dance   You would only be laughed at   And as cinderella wept at this, the step-mother said, if you can pick two dishes of lentils out of the ashes for me in one hour, you shall go with us   And she thought to herself, that she most certainly cannot do again   When the step-mother had emptied the two\\', \\'dishes of lentils amongst the ashes, the maiden went through the back-door into the garden and cried, you tame pigeons, you turtle-doves, and all you birds beneath the sky, come and help me to pick      the good into the pot,      the bad into the crop Then two white pigeons came in by the kitchen-window, and afterwards the turtle-doves, and at length all the birds beneath the\\', \\'sky, came whirring and crowding in, and alighted amongst the ashes   And the doves nodded with their heads and began pick, pick, pick, pick, and the others began also pick, pick, pick, pick, and gathered all the good seeds into the dishes, and before half an hour was over they had already finished, and all flew out again Then the maiden was delighted, and believed that she might now go with them to the wedding\\', \"  But the step-mother said, all this will not help   You cannot go with us, for you have no clothes and can not dance   We should be ashamed of you   On this she turned her back on cinderella, and hurried away with her two proud daughters As no one was now at home, cinderella went to her mother\\'s grave beneath the hazel-tree, and cried -      shiver and quiver, little tree,      silver and gold throw down over me\", \\'Then the bird threw a gold and silver dress down to her, and slippers embroidered with silk and silver   She put on the dress with all speed, and went to the wedding   Her step-sisters and the step-mother however did not know her, and thought she must be a foreign princess, for she looked so beautiful in the golden dress They never once thought of cinderella, and believed that she was sitting at home in the dirt, picking lentils out of the ashes   The\\', \"prince approached her, took her by the hand and danced with her He would dance with no other maiden, and never let loose of her hand, and if any one else came to invite her, he said, this is my partner She danced till it was evening, and then she wanted to go home But the king\\'s son said, I will go with you and bear you company, for he wished to see to whom the beautiful maiden belonged She escaped from him, however, and sprang into the\", \"pigeon-house   The king\\'s son waited until her father came, and then he told him that the unknown maiden had leapt into the pigeon-house   The old man thought, can it be cinderella   And they had to bring him an axe and a pickaxe that he might hew the pigeon-house to pieces, but no one was inside it   And when they got home cinderella lay in her dirty clothes among the ashes, and\", \\'a dim little oil-lamp was burning on the mantle-piece, for cinderella had jumped quickly down from the back of the pigeon-house and had run to the little hazel-tree, and there she had taken off her beautiful clothes and laid them on the grave, and the bird had taken them away again, and then she had seated herself in the kitchen amongst the ashes in her grey gown Next day when the festival began afresh, and her parents and\\', \"the step-sisters had gone once more, cinderella went to the hazel-tree and said -      shiver and quiver, my little tree,      silver and gold throw down over me Then the bird threw down a much more beautiful dress than on the preceding day  And when cinderella appeared at the wedding in this dress, every one was astonished at her beauty   The king\\'s son had waited until she came, and instantly took her by the hand\", \"and danced with no one but her   When others came and invited her, he said, this is my partner   When evening came she wished to leave, and the king\\'s son followed her and wanted to see into which house she went   But she sprang away from him, and into the garden behind the house   Therein stood a beautiful tall tree on which hung the most magnificent pears   She clambered so nimbly\", \"between the branches like a squirrel that the king\\'s son did not know where she was gone   He waited until her father came, and said to him, the unknown maiden has escaped from me, and I believe she has climbed up the pear-tree   The father thought, can it be cinderella   And had an axe brought and cut the tree down, but no one was on it   And when they got into the\", \"kitchen, cinderella lay there among the ashes, as usual, for she had jumped down on the other side of the tree, had taken the beautiful dress to the bird on the little hazel-tree, and put on her grey gown On the third day, when the parents and sisters had gone away, cinderella went once more to her mother\\'s grave and said to the little tree -      shiver and quiver, my little tree,      silver and gold throw down over me\", \"And now the bird threw down to her a dress which was more splendid and magnificent than any she had yet had, and the slippers were golden   And when she went to the festival in the dress, no one knew how to speak for astonishment   The king\\'s son danced with her only, and if any one invited her to dance, he said this is my partner When evening came, cinderella wished to leave, and the king\\'s\", \"son was anxious to go with her, but she escaped from him so quickly that he could not follow her   The king\\'s son, however, had employed a ruse, and had caused the whole staircase to be smeared with pitch, and there, when she ran down, had the maiden\\'s left slipper remained stuck   The king\\'s son picked it up, and it was small and dainty, and all golden   Next morning, he went with it to\", \\'the father, and said to him, no one shall be my wife but she whose foot this golden slipper fits   Then were the two sisters glad, for they had pretty feet   The eldest went with the shoe into her room and wanted to try it on, and her mother stood by   But she could not get her big toe into it, and the shoe was too small for her   Then her mother gave her a knife and said, cut the toe off,\\', \"when you are queen you will have no more need to go on foot   The maiden cut the toe off, forced the foot into the shoe, swallowed the pain, and went out to the king\\'s son   Then he took her on his his horse as his bride and rode away with her   They were obliged, however, to pass the grave, and there, on the hazel-tree, sat the two pigeons and cried -      turn and peep, turn and peep,\", \"     there\\'s blood within the shoe,      the shoe it is too small for her,      the true bride waits for you Then he looked at her foot and saw how the blood was trickling from it   He turned his horse round and took the false bride home again, and said she was not the true one, and that the other sister was to put the shoe on   Then this one went into her chamber and got her toes safely into the shoe, but her heel was too large\", \"  So her mother gave her a knife and said,  cut a bit off your heel, when you are queen you will have no more need to go on foot   The maiden cut a bit off her heel, forced her foot into the shoe, swallowed the pain, and went out to the king\\'s son   He took her on his horse as his bride, and rode away with her, but when they passed by the hazel-tree, the two pigeons sat on it and cried -\", \"     turn and peep, turn and peep,      there\\'s blood within the shoe,      the shoe it is too small for her,      the true bride waits for you He looked down at her foot and saw how the blood was running out of her shoe, and how it had stained her white stocking quite red   Then he turned his horse and took the false bride home again   This also is not the right one, said he, have you no other daughter\", \"  No, said the man, there is still a little stunted kitchen-wench which my late wife left behind her, but she cannot possibly be the bride   The king\\'s son said he was to send her up to him, but the mother answered, oh, no, she is much too dirty, she cannot show herself   But he absolutely insisted on it, and cinderella had to be called   She first washed her hands and face clean, and then went and bowed down\", \"before the king\\'s son, who gave her the golden shoe   Then she seated herself on a stool, drew her foot out of the heavy wooden shoe, and put it into the slipper, which fitted like a glove   And when she rose up and the king\\'s son looked at her face he recognized the beautiful maiden who had danced with him and cried, that is the true bride   The step-mother and the two sisters were horrified and became pale with rage, he,\", \"however, took cinderella on his horse and rode away with her   As they passed by the hazel-tree, the two white doves cried -      turn and peep, turn and peep,      no blood is in the shoe,      the shoe is not too small for her,      the true bride rides with you, and when they had cried that, the two came flying down and placed themselves on cinderella\\'s shoulders, one on the right,\", \"the other on the left, and remained sitting there When the wedding with the king\\'s son was to be celebrated, the two false sisters came and wanted to get into favor with cinderella and share her good fortune   When the betrothed couple went to church, the elder was at the right side and the younger at the left, and the pigeons pecked out one eye from each of them   Afterwards as they came back the elder was at\", \\'the left, and the younger at the right, and then the pigeons pecked out the other eye from each   And thus, for their wickedness and falsehood, they were punished with blindness all their days\\', \"The documentation is a story about a girl named Cinderella. After her mother\\'s death, her father remarries a woman with two daughters who mistreat Cinderella. They make her do all the housework, wear rags, and sleep in the cinders. One day, the family goes to a festival, and Cinderella is left behind. However, her fairy godmother appears and transforms a pumpkin into a carriage, mice into horses, and gives her a beautiful dress and glass slippers. Cinderella attends the festival, dances with the prince, and leaves before midnight. When the prince finds her missing glass slipper, he searches for the woman it fits, and eventually finds Cinderella. Despite her stepmother\\'s objections, Cinderella tries on the slipper, and it fits perfectly. The prince recognizes her and they get married.\", \"The documentation appears to be a fairy tale about a girl named Cinderella. After Cinderella\\'s father remarries, she is mistreated by her stepmother and stepsisters. One day, the king invites all the beautiful young women in the land to a festival to find a bride for his son. Cinderella\\'s stepsisters are invited, but she is not allowed to go. However, with the help of a magical bird, Cinderella attends the festival in a beautiful dress and captures the prince\\'s heart. On the third and final night of the festival, the prince tries to prevent Cinderella from leaving by having her try on a glass slipper, which fits her perfectly. The prince then recognizes Cinderella and they live happily ever after.\", \"In the provided documentation, a young maiden is tasked with sorting lentils from ashes by her stepmother. She calls on birds, including two white pigeons and turtle-doves, to help her complete the task. The birds quickly pick out all the good grains and seeds, and the maiden believes she will be allowed to attend a festival. Later, at the wedding of a king\\'s son, the maiden\\'s two stepsisters try to gain favor with her. However, the same birds that helped the maiden earlier peck out one eye from each stepsister as they walk to the church and the other eye as they return, punishing them for their wickedness and falsehood.\", \\'The documentation appears to be a retelling of the classic fairy tale \"Cinderella.\" A prince attends a ball and dances only with a mysterious maiden, who eventually escapes him and returns home. The prince follows her but loses her near a pear tree. Suspecting she may be Cinderella, the father chops down the tree, but she is not found. The prince finds a golden slipper left behind by Cinderella and uses it to identify her. When Cinderella tries on the slipper, it fits perfectly, confirming her identity to the prince. The stepmother and stepsisters are shocked and enraged by this revelation.\\', \"In the provided documentation, a king\\'s son is searching for the owner of a golden slipper. Two sisters attempt to fit the shoe by cutting off their toe and heel respectively, but their deceit is revealed by two pigeons who alert the prince to the blood in the shoe. Finally, the true owner of the shoe, Cinderella, is found and the pigeons confirm her identity by singing that the shoe fits her perfectly and there is no blood in it. The prince takes Cinderella as his bride, and the pigeons perch on her shoulders.\", \"The documentation contains four variations of the Cinderella fairy tale. In all versions, Cinderella is mistreated by her stepmother and stepsisters. With the help of magical beings or birds, she attends a festival or ball and captures the heart of a prince. In three versions, a glass or golden slipper is left behind and used to identify Cinderella. The stepsisters\\' deceit is exposed, and Cinderella and the prince live happily ever after. In one version, Cinderella\\'s stepsisters are punished by having their eyes pecked out by birds.\"]'"
      ]
     },
     "execution_count": 10,
     "metadata": {},
     "output_type": "execute_result"
    }
   ],
   "execution_count": 10
  },
  {
   "metadata": {
    "ExecuteTime": {
     "end_time": "2024-06-22T09:16:37.948025Z",
     "start_time": "2024-06-22T09:16:37.442148Z"
    }
   },
   "cell_type": "code",
   "source": [
    "from indox.vector_stores import ChromaVectorStore\n",
    "db = ChromaVectorStore(collection_name=\"sample\",embedding=embed_mistral)\n",
    "indox.connect_to_vectorstore(vectorstore_database=db)"
   ],
   "id": "5a3923803005cbc5",
   "outputs": [
    {
     "name": "stderr",
     "output_type": "stream",
     "text": [
      "2024-06-22 12:46:37,786 INFO:Anonymized telemetry enabled. See                     https://docs.trychroma.com/telemetry for more information.\n",
      "2024-06-22 12:46:37,944 INFO:Attempting to connect to the vector store database\n",
      "2024-06-22 12:46:37,945 INFO:Connection to the vector store database established successfully\n"
     ]
    },
    {
     "data": {
      "text/plain": [
       "<indox.vector_stores.Chroma.ChromaVectorStore at 0x26bf6d147d0>"
      ]
     },
     "execution_count": 6,
     "metadata": {},
     "output_type": "execute_result"
    }
   ],
   "execution_count": 6
  },
  {
   "metadata": {},
   "cell_type": "markdown",
   "source": [
    "### load and preprocess data\n",
    "This part of code demonstrates how to load and preprocess text data from a file, split it into chunks, and store these chunks in the vector store that was set up previously."
   ],
   "id": "55887dfe04c1f8fd"
  },
  {
   "metadata": {
    "ExecuteTime": {
     "end_time": "2024-06-22T09:16:47.625659Z",
     "start_time": "2024-06-22T09:16:39.884894Z"
    }
   },
   "cell_type": "code",
   "source": [
    "from indox.data_loader_splitter import UnstructuredLoadAndSplit\n",
    "loader_splitter = UnstructuredLoadAndSplit(file_path=file_path,max_chunk_size=400)\n",
    "docs = loader_splitter.load_and_chunk()"
   ],
   "id": "554442a48598a32e",
   "outputs": [
    {
     "name": "stderr",
     "output_type": "stream",
     "text": [
      "2024-06-22 12:46:39,885 INFO:Initializing UnstructuredLoadAndSplit\n",
      "2024-06-22 12:46:39,886 INFO:UnstructuredLoadAndSplit initialized successfully\n",
      "2024-06-22 12:46:39,887 INFO:Getting all documents\n",
      "2024-06-22 12:46:39,888 INFO:Starting processing\n",
      "2024-06-22 12:46:47,618 INFO:Created initial document elements\n",
      "2024-06-22 12:46:47,618 INFO:Using title-based chunking\n",
      "2024-06-22 12:46:47,622 INFO:Completed chunking process\n",
      "2024-06-22 12:46:47,622 INFO:Successfully obtained all documents\n"
     ]
    }
   ],
   "execution_count": 7
  },
  {
   "metadata": {
    "ExecuteTime": {
     "end_time": "2024-06-22T09:17:29.780685Z",
     "start_time": "2024-06-22T09:17:29.776253Z"
    }
   },
   "cell_type": "code",
   "source": [
    "\n",
    "len(docs)"
   ],
   "id": "a7f6d80399dd8ffc",
   "outputs": [
    {
     "data": {
      "text/plain": [
       "40"
      ]
     },
     "execution_count": 8,
     "metadata": {},
     "output_type": "execute_result"
    }
   ],
   "execution_count": 8
  },
  {
   "metadata": {
    "ExecuteTime": {
     "end_time": "2024-06-15T16:57:22.156582Z",
     "start_time": "2024-06-15T16:57:10.624117Z"
    }
   },
   "cell_type": "code",
   "source": "indox.store_in_vectorstore(docs=docs)",
   "id": "ea39b02fcf49dca8",
   "outputs": [
    {
     "data": {
      "text/plain": [
       "<indox.vector_stores.Chroma.ChromaVectorStore at 0x1cb01392cf0>"
      ]
     },
     "execution_count": 8,
     "metadata": {},
     "output_type": "execute_result"
    }
   ],
   "execution_count": 8
  },
  {
   "metadata": {},
   "cell_type": "markdown",
   "source": [
    "### Retrieve relevant information and generate an answer\n",
    "The main purpose of these lines is to perform a query on the vector store to retrieve the most relevant information (top_k=5) and generate an answer using the language model."
   ],
   "id": "b8415803dad81e57"
  },
  {
   "metadata": {
    "ExecuteTime": {
     "end_time": "2024-06-15T16:57:22.990146Z",
     "start_time": "2024-06-15T16:57:22.986601Z"
    }
   },
   "cell_type": "code",
   "source": [
    "query = \"How cinderella reach her happy ending?\"\n",
    "retriever = indox.QuestionAnswer(vector_database=db,llm=mistral_qa,top_k=5)"
   ],
   "id": "7ff68754e1bc960",
   "outputs": [],
   "execution_count": 9
  },
  {
   "metadata": {},
   "cell_type": "markdown",
   "source": [
    "invoke(query) method sends the query to the retriever, which searches the vector store for relevant text chunks and uses the language model to generate a response based on the retrieved information.\n",
    "Context property retrieves the context or the detailed information that the retriever used to generate the answer to the query. It provides insight into how the query was answered by showing the relevant text chunks and any additional information used."
   ],
   "id": "b6acc665c7968a42"
  },
  {
   "metadata": {
    "ExecuteTime": {
     "end_time": "2024-06-15T16:57:33.595058Z",
     "start_time": "2024-06-15T16:57:25.121954Z"
    }
   },
   "cell_type": "code",
   "source": "retriever.invoke(query)",
   "id": "ade4b6dc40510ea",
   "outputs": [
    {
     "data": {
      "text/plain": [
       "\"Based on the context provided, Cinderella's happy ending involved the king's son falling in love with her at a festival that lasted three days. Despite her step-sisters' and step-mother's attempts to prevent her from attending, Cinderella was able to go with the help of a bird who granted her wishes. At the festival, the king's son only danced with Cinderella and tried to follow her when she left, but she managed to escape. However, the king's son had smeared the staircase with pitch, and Cinderella's glass slipper got stuck in it. The king's son used the slipper to find Cinderella, and they presumably lived happily ever after.\\n\\nIt's worth noting that the context provided only covers part of the Cinderella story, and some details may vary depending on the version of the tale. However, based on the information given, this is the most likely sequence of events leading to Cinderella's happy ending.\""
      ]
     },
     "execution_count": 10,
     "metadata": {},
     "output_type": "execute_result"
    }
   ],
   "execution_count": 10
  },
  {
   "metadata": {
    "ExecuteTime": {
     "end_time": "2024-06-15T16:57:41.038926Z",
     "start_time": "2024-06-15T16:57:41.033818Z"
    }
   },
   "cell_type": "code",
   "source": "retriever.context",
   "id": "7c0c09a366864a80",
   "outputs": [
    {
     "data": {
      "text/plain": [
       "['by the hearth in the cinders. And as on that account she always\\n\\nlooked dusty and dirty, they called her cinderella.\\n\\nIt happened that the father was once going to the fair, and he\\n\\nasked his two step-daughters what he should bring back for them.\\n\\nBeautiful dresses, said one, pearls and jewels, said the second.\\n\\nAnd you, cinderella, said he, what will you have. Father',\n",
       " \"to appear among the number, they were delighted, called cinderella\\n\\nand said, comb our hair for us, brush our shoes and fasten our\\n\\nbuckles, for we are going to the wedding at the king's palace.\\n\\nCinderella obeyed, but wept, because she too would have liked to\\n\\ngo with them to the dance, and begged her step-mother to allow\\n\\nher to do so. You go, cinderella, said she, covered in dust and\",\n",
       " \"danced with her only, and if any one invited her to dance, he said\\n\\nthis is my partner.\\n\\nWhen evening came, cinderella wished to leave, and the king's\\n\\nson was anxious to go with her, but she escaped from him so quickly\\n\\nthat he could not follow her. The king's son, however, had\\n\\nemployed a ruse, and had caused the whole staircase to be smeared\",\n",
       " 'cinderella expressed a wish, the bird threw down to her what she\\n\\nhad wished for.\\n\\nIt happened, however, that the king gave orders for a festival\\n\\nwhich was to last three days, and to which all the beautiful young\\n\\ngirls in the country were invited, in order that his son might choose\\n\\nhimself a bride. When the two step-sisters heard that they too were',\n",
       " \"Then the maiden was delighted, and believed that she might now go\\n\\nwith them to the wedding. But the step-mother said, all this will\\n\\nnot help. You cannot go with us, for you have no clothes and can\\n\\nnot dance. We should be ashamed of you. On this she turned her\\n\\nback on cinderella, and hurried away with her two proud daughters.\\n\\nAs no one was now at home, cinderella went to her mother's\"]"
      ]
     },
     "execution_count": 11,
     "metadata": {},
     "output_type": "execute_result"
    }
   ],
   "execution_count": 11
  },
  {
   "metadata": {},
   "cell_type": "markdown",
   "source": [
    "### With AgenticRag\n",
    "\n",
    "AgenticRag stands for Agentic Retrieval-Augmented Generation. This concept combines retrieval-based methods and generation-based methods in natural language processing (NLP). The key idea is to enhance the generative capabilities of a language model by incorporating relevant information retrieved from a database or a vector store. \n",
    " AgenticRag is designed to provide more contextually rich and accurate responses by utilizing external knowledge sources. It retrieves relevant pieces of information (chunks) from a vector store based on a query and then uses a language model to generate a comprehensive response that incorporates this retrieved information."
   ],
   "id": "eb878e173a36425a"
  },
  {
   "metadata": {},
   "cell_type": "code",
   "source": [
    "agent = indox.AgenticRag(llm=mistral_qa,vector_database=db,top_k=5)\n",
    "agent.run(query)"
   ],
   "id": "43f1a9b5c6bf58d0",
   "outputs": [],
   "execution_count": null
  }
 ],
 "metadata": {
  "kernelspec": {
   "display_name": "Python 3",
   "language": "python",
   "name": "python3"
  },
  "language_info": {
   "codemirror_mode": {
    "name": "ipython",
    "version": 2
   },
   "file_extension": ".py",
   "mimetype": "text/x-python",
   "name": "python",
   "nbconvert_exporter": "python",
   "pygments_lexer": "ipython2",
   "version": "2.7.6"
  }
 },
 "nbformat": 4,
 "nbformat_minor": 5
}
