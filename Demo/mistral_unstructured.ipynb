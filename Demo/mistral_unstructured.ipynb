{
 "cells": [
  {
   "metadata": {},
   "cell_type": "raw",
   "source": [
    "---\n",
    "title: Mistral As Question Answer Model\n",
    "---"
   ],
   "id": "95a4ad1add8df314"
  },
  {
   "metadata": {},
   "cell_type": "markdown",
   "source": [
    "## Introduction\n",
    "\n",
    "In this notebook, we will demonstrate how to securely handle `inDox` as system for question answering system with open source models which are available on internet like `Mistral`. so firstly you should buil environment variables and API keys in Python using the `dotenv` library. Environment variables are a crucial part of configuring your applications, especially when dealing with sensitive information like API keys.\n",
    "\n",
    "::: {.callout-note}\n",
    "Because we are using **HuggingFace** models you need to define your `HUGGINGFACE_API_KEY` in `.env` file. This allows us to keep our API keys and other sensitive information out of our codebase, enhancing security and maintainability.\n",
    ":::\n",
    "\n",
    "Let's start by importing the required libraries and loading our environment variables.\n"
   ],
   "id": "e8b4dc7534ac5f88"
  },
  {
   "metadata": {
    "ExecuteTime": {
     "end_time": "2024-06-26T08:39:48.882922Z",
     "start_time": "2024-06-26T08:39:48.870314Z"
    }
   },
   "cell_type": "code",
   "source": [
    "import os\n",
    "from dotenv import load_dotenv\n",
    "\n",
    "load_dotenv()\n",
    "MISTRAL_API_KEY = os.getenv('MISTRAL_API_KEY')\n",
    "HUGGINGFACE_API_KEY = os.getenv('HUGGINGFACE_API_KEY')"
   ],
   "id": "1d9b422e9d6063e4",
   "outputs": [],
   "execution_count": 1
  },
  {
   "metadata": {},
   "cell_type": "markdown",
   "source": [
    "### Import Essential Libraries \n",
    "Then, we import essential libraries for our `Indox` question answering system:\n",
    "- `IndoxRetrievalAugmentation`: Enhances the retrieval process for better QA performance.\n",
    "- `Mistral`: A powerful QA model from Indox, built on top of the Hugging Face model.\n",
    "- `HuggingFaceEmbedding`: Utilizes Hugging Face embeddings for improved semantic understanding.\n",
    "- `UnstructuredLoadAndSplit`: A utility for loading and splitting unstructured data."
   ],
   "id": "7688318bb5b4dfa7"
  },
  {
   "metadata": {
    "ExecuteTime": {
     "end_time": "2024-06-26T08:41:48.332053Z",
     "start_time": "2024-06-26T08:41:48.327713Z"
    }
   },
   "cell_type": "code",
   "source": [
    "from indox import IndoxRetrievalAugmentation\n",
    "indox = IndoxRetrievalAugmentation()"
   ],
   "id": "a9f40fc686cd072e",
   "outputs": [
    {
     "name": "stderr",
     "output_type": "stream",
     "text": [
      "2024-06-26 12:11:48,329 INFO:IndoxRetrievalAugmentation initialized\n"
     ]
    }
   ],
   "execution_count": 10
  },
  {
   "metadata": {},
   "cell_type": "markdown",
   "source": [
    "### Building the Indox System and Initializing Models\n",
    "\n",
    "Next, we will build our `inDox` system and initialize the Mistral question answering model along with the embedding model. This setup will allow us to leverage the advanced capabilities of Indox for our question answering tasks.\n"
   ],
   "id": "449eb2a7ca2e5bce"
  },
  {
   "metadata": {
    "ExecuteTime": {
     "end_time": "2024-06-26T08:40:56.456996Z",
     "start_time": "2024-06-26T08:40:51.790145Z"
    }
   },
   "cell_type": "code",
   "source": [
    "from indox.llms import Mistral\n",
    "from indox.embeddings import MistralEmbedding\n",
    "mistral_qa = Mistral(api_key=MISTRAL_API_KEY)\n",
    "embed_mistral = MistralEmbedding(MISTRAL_API_KEY)"
   ],
   "id": "ac5ff6002e2497b3",
   "outputs": [
    {
     "name": "stderr",
     "output_type": "stream",
     "text": [
      "2024-06-26 12:10:51,848 INFO:Initializing MistralAI with model: mistral-medium-latest\n",
      "2024-06-26 12:10:52,059 INFO:MistralAI initialized successfully\n",
      "2024-06-26 12:10:56,454 INFO:Initialized Mistral embeddings\n"
     ]
    }
   ],
   "execution_count": 6
  },
  {
   "metadata": {},
   "cell_type": "markdown",
   "source": [
    "### Setting Up Reference Directory and File Path\n",
    "\n",
    "To demonstrate the capabilities of our Indox question answering system, we will use a sample directory. This directory will contain our reference data, which we will use for testing and evaluation.\n",
    "\n",
    "First, we specify the path to our sample file. In this case, we are using a file named `sample.txt` located in our working directory. This file will serve as our reference data for the subsequent steps.\n",
    "\n",
    "Let's define the file path for our reference data."
   ],
   "id": "fd23f48af26265ca"
  },
  {
   "metadata": {
    "ExecuteTime": {
     "end_time": "2024-06-26T08:40:59.074020Z",
     "start_time": "2024-06-26T08:40:59.071498Z"
    }
   },
   "cell_type": "code",
   "source": "file_path = \"sample.txt\"",
   "id": "b38c913b696a2642",
   "outputs": [],
   "execution_count": 7
  },
  {
   "metadata": {},
   "cell_type": "markdown",
   "source": [
    "### Chunking Reference Data with UnstructuredLoadAndSplit\n",
    "\n",
    "To effectively utilize our reference data, we need to process and chunk it into manageable parts. This ensures that our question answering system can efficiently handle and retrieve relevant information.\n",
    "\n",
    "We use the `UnstructuredLoadAndSplit` utility for this task. This tool allows us to load the unstructured data from our specified file and split it into smaller chunks. This process enhances the performance of our retrieval and QA models by making the data more accessible and easier to process.\n",
    "\n",
    "In this step, we define the file path for our reference data and use `UnstructuredLoadAndSplit` to chunk the data with a maximum chunk size of 400 characters.\n",
    "\n",
    "Let's proceed with chunking our reference data.\n"
   ],
   "id": "e88dd6c433fc600c"
  },
  {
   "metadata": {
    "ExecuteTime": {
     "end_time": "2024-06-26T08:41:58.334662Z",
     "start_time": "2024-06-26T08:41:58.008246Z"
    }
   },
   "cell_type": "code",
   "source": [
    "from indox.data_loader_splitter import UnstructuredLoadAndSplit\n",
    "load_splitter = UnstructuredLoadAndSplit(file_path=file_path,max_chunk_size=400)\n",
    "docs = load_splitter.load_and_chunk()"
   ],
   "id": "4dcc52c1d0416383",
   "outputs": [
    {
     "name": "stderr",
     "output_type": "stream",
     "text": [
      "2024-06-26 12:11:58,010 INFO:Initializing UnstructuredLoadAndSplit\n",
      "2024-06-26 12:11:58,011 INFO:UnstructuredLoadAndSplit initialized successfully\n",
      "2024-06-26 12:11:58,011 INFO:Getting all documents\n",
      "2024-06-26 12:11:58,012 INFO:Starting processing\n",
      "2024-06-26 12:11:58,326 INFO:Created initial document elements\n",
      "2024-06-26 12:11:58,326 INFO:Using title-based chunking\n",
      "2024-06-26 12:11:58,330 INFO:Completed chunking process\n",
      "2024-06-26 12:11:58,332 INFO:Successfully obtained all documents\n"
     ]
    }
   ],
   "execution_count": 11
  },
  {
   "metadata": {},
   "cell_type": "markdown",
   "source": [
    "### Connecting Embedding Model to Indox\n",
    "\n",
    "With our reference data chunked and ready, the next step is to connect our embedding model to the Indox system. This connection enables the system to leverage the embeddings for better semantic understanding and retrieval performance.\n",
    "\n",
    "We use the `connect_to_vectorstore` method to link the `HuggingFaceEmbedding` model with our Indox system. By specifying the embeddings and a collection name, we ensure that our reference data is appropriately indexed and stored, facilitating efficient retrieval during the question-answering process.\n",
    "\n",
    "Let's connect the embedding model to Indox.\n"
   ],
   "id": "72d312cf4791f60f"
  },
  {
   "metadata": {
    "ExecuteTime": {
     "end_time": "2024-06-26T08:42:03.601445Z",
     "start_time": "2024-06-26T08:42:03.594047Z"
    }
   },
   "cell_type": "code",
   "source": [
    "from indox.vector_stores import ChromaVectorStore\n",
    "db = ChromaVectorStore(collection_name=\"sample\",embedding=embed_mistral)"
   ],
   "id": "ebc33cc4fb58a305",
   "outputs": [],
   "execution_count": 12
  },
  {
   "metadata": {
    "ExecuteTime": {
     "end_time": "2024-06-26T08:42:05.061630Z",
     "start_time": "2024-06-26T08:42:05.055595Z"
    }
   },
   "cell_type": "code",
   "source": "indox.connect_to_vectorstore(vectorstore_database=db)",
   "id": "943f965096e65197",
   "outputs": [
    {
     "name": "stderr",
     "output_type": "stream",
     "text": [
      "2024-06-26 12:12:05,057 INFO:Attempting to connect to the vector store database\n",
      "2024-06-26 12:12:05,058 INFO:Connection to the vector store database established successfully\n"
     ]
    },
    {
     "data": {
      "text/plain": [
       "<indox.vector_stores.Chroma.ChromaVectorStore at 0x1632bb24140>"
      ]
     },
     "execution_count": 13,
     "metadata": {},
     "output_type": "execute_result"
    }
   ],
   "execution_count": 13
  },
  {
   "metadata": {},
   "cell_type": "markdown",
   "source": [
    "### Storing Data in the Vector Store\n",
    "\n",
    "After connecting our embedding model to the Indox system, the next step is to store our chunked reference data in the vector store. This process ensures that our data is indexed and readily available for retrieval during the question-answering process.\n",
    "\n",
    "We use the `store_in_vectorstore` method to store the processed data in the vector store. By doing this, we enhance the system's ability to quickly access and retrieve relevant information based on the embeddings generated earlier.\n",
    "\n",
    "Let's proceed with storing the data in the vector store.\n"
   ],
   "id": "250da1a633bef038"
  },
  {
   "metadata": {
    "ExecuteTime": {
     "end_time": "2024-06-26T08:42:15.228086Z",
     "start_time": "2024-06-26T08:42:07.249961Z"
    }
   },
   "cell_type": "code",
   "source": "indox.store_in_vectorstore(docs)",
   "id": "83b2f51f1a359477",
   "outputs": [
    {
     "name": "stderr",
     "output_type": "stream",
     "text": [
      "2024-06-26 12:12:07,250 INFO:Storing documents in the vector store\n"
     ]
    },
    {
     "name": "stdout",
     "output_type": "stream",
     "text": [
      "[Document(page_content=The wife of a rich man fell sick, and as she felt that her end\n",
      "\n",
      "was drawing near, she called her only daughter to her bedside and\n",
      "\n",
      "said, dear child, be good and pious, and then the\n",
      "\n",
      "good God will always protect you, and I will look down on you\n",
      "\n",
      "from heaven and be near you. Thereupon she closed her eyes and\n",
      "\n",
      "departed. Every day the maiden went out to her mother's grave,, metadata={'filename': 'sample.txt', 'filetype': 'text/plain', 'last_modified': '2024-05-30T13:53:09'}), Document(page_content=and wept, and she remained pious and good. When winter came\n",
      "\n",
      "the snow spread a white sheet over the grave, and by the time the\n",
      "\n",
      "spring sun had drawn it off again, the man had taken another wife.\n",
      "\n",
      "The woman had brought with her into the house two daughters,\n",
      "\n",
      "who were beautiful and fair of face, but vile and black of heart.\n",
      "\n",
      "Now began a bad time for the poor step-child. Is the stupid goose, metadata={'filename': 'sample.txt', 'filetype': 'text/plain', 'last_modified': '2024-05-30T13:53:09'}), Document(page_content=to sit in the parlor with us, they said. He who wants to eat bread\n",
      "\n",
      "must earn it. Out with the kitchen-wench. They took her pretty\n",
      "\n",
      "clothes away from her, put an old grey bedgown on her, and gave\n",
      "\n",
      "her wooden shoes. Just look at the proud princess, how decked\n",
      "\n",
      "out she is, they cried, and laughed, and led her into the kitchen.\n",
      "\n",
      "There she had to do hard work from morning till night, get up, metadata={'filename': 'sample.txt', 'filetype': 'text/plain', 'last_modified': '2024-05-30T13:53:09'}), Document(page_content=before daybreak, carry water, light fires, cook and wash. Besides\n",
      "\n",
      "this, the sisters did her every imaginable injury - they mocked her\n",
      "\n",
      "and emptied her peas and lentils into the ashes, so that she was\n",
      "\n",
      "forced to sit and pick them out again. In the evening when she had\n",
      "\n",
      "worked till she was weary she had no bed to go to, but had to sleep, metadata={'filename': 'sample.txt', 'filetype': 'text/plain', 'last_modified': '2024-05-30T13:53:09'}), Document(page_content=by the hearth in the cinders. And as on that account she always\n",
      "\n",
      "looked dusty and dirty, they called her cinderella.\n",
      "\n",
      "It happened that the father was once going to the fair, and he\n",
      "\n",
      "asked his two step-daughters what he should bring back for them.\n",
      "\n",
      "Beautiful dresses, said one, pearls and jewels, said the second.\n",
      "\n",
      "And you, cinderella, said he, what will you have. Father, metadata={'filename': 'sample.txt', 'filetype': 'text/plain', 'last_modified': '2024-05-30T13:53:09'}), Document(page_content=break off for me the first branch which knocks against your hat on\n",
      "\n",
      "your way home. So he bought beautiful dresses, pearls and jewels\n",
      "\n",
      "for his two step-daughters, and on his way home, as he was riding\n",
      "\n",
      "through a green thicket, a hazel twig brushed against him and\n",
      "\n",
      "knocked off his hat. Then he broke off the branch and took it with\n",
      "\n",
      "him. When he reached home he gave his step-daughters the things, metadata={'filename': 'sample.txt', 'filetype': 'text/plain', 'last_modified': '2024-05-30T13:53:09'}), Document(page_content=which they had wished for, and to cinderella he gave the branch\n",
      "\n",
      "from the hazel-bush. Cinderella thanked him, went to her mother's\n",
      "\n",
      "grave and planted the branch on it, and wept so much that the tears\n",
      "\n",
      "fell down on it and watered it. And it grew and became a handsome\n",
      "\n",
      "tree. Thrice a day cinderella went and sat beneath it, and wept and\n",
      "\n",
      "prayed, and a little white bird always came on the tree, and if, metadata={'filename': 'sample.txt', 'filetype': 'text/plain', 'last_modified': '2024-05-30T13:53:09'}), Document(page_content=cinderella expressed a wish, the bird threw down to her what she\n",
      "\n",
      "had wished for.\n",
      "\n",
      "It happened, however, that the king gave orders for a festival\n",
      "\n",
      "which was to last three days, and to which all the beautiful young\n",
      "\n",
      "girls in the country were invited, in order that his son might choose\n",
      "\n",
      "himself a bride. When the two step-sisters heard that they too were, metadata={'filename': 'sample.txt', 'filetype': 'text/plain', 'last_modified': '2024-05-30T13:53:09'}), Document(page_content=to appear among the number, they were delighted, called cinderella\n",
      "\n",
      "and said, comb our hair for us, brush our shoes and fasten our\n",
      "\n",
      "buckles, for we are going to the wedding at the king's palace.\n",
      "\n",
      "Cinderella obeyed, but wept, because she too would have liked to\n",
      "\n",
      "go with them to the dance, and begged her step-mother to allow\n",
      "\n",
      "her to do so. You go, cinderella, said she, covered in dust and, metadata={'filename': 'sample.txt', 'filetype': 'text/plain', 'last_modified': '2024-05-30T13:53:09'}), Document(page_content=dirt as you are, and would go to the festival. You have no clothes\n",
      "\n",
      "and shoes, and yet would dance. As, however, cinderella went on\n",
      "\n",
      "asking, the step-mother said at last, I have emptied a dish of\n",
      "\n",
      "lentils into the ashes for you, if you have picked them out again in\n",
      "\n",
      "two hours, you shall go with us. The maiden went through the\n",
      "\n",
      "back-door into the garden, and called, you tame pigeons, you, metadata={'filename': 'sample.txt', 'filetype': 'text/plain', 'last_modified': '2024-05-30T13:53:09'}), Document(page_content=turtle-doves, and all you birds beneath the sky, come and help me\n",
      "\n",
      "to pick\n",
      "\n",
      "the good into the pot,\n",
      "\n",
      "the bad into the crop.\n",
      "\n",
      "Then two white pigeons came in by the kitchen window, and, metadata={'filename': 'sample.txt', 'filetype': 'text/plain', 'last_modified': '2024-05-30T13:53:09'}), Document(page_content=afterwards the turtle-doves, and at last all the birds beneath the\n",
      "\n",
      "sky, came whirring and crowding in, and alighted amongst the ashes.\n",
      "\n",
      "And the pigeons nodded with their heads and began pick, pick,\n",
      "\n",
      "pick, pick, and the rest began also pick, pick, pick, pick, and\n",
      "\n",
      "gathered all the good grains into the dish. Hardly had one hour\n",
      "\n",
      "passed before they had finished, and all flew out again. Then the, metadata={'filename': 'sample.txt', 'filetype': 'text/plain', 'last_modified': '2024-05-30T13:53:09'}), Document(page_content=girl took the dish to her step-mother, and was glad, and believed\n",
      "\n",
      "that now she would be allowed to go with them to the festival.\n",
      "\n",
      "But the step-mother said, no, cinderella, you have no clothes and\n",
      "\n",
      "you can not dance. You would only be laughed at. And as\n",
      "\n",
      "cinderella wept at this, the step-mother said, if you can pick two\n",
      "\n",
      "dishes of lentils out of the ashes for me in one hour, you shall go, metadata={'filename': 'sample.txt', 'filetype': 'text/plain', 'last_modified': '2024-05-30T13:53:09'}), Document(page_content=with us. And she thought to herself, that she most certainly\n",
      "\n",
      "cannot do again. When the step-mother had emptied the two\n",
      "\n",
      "dishes of lentils amongst the ashes, the maiden went through the\n",
      "\n",
      "back-door into the garden and cried, you tame pigeons, you\n",
      "\n",
      "turtle-doves, and all you birds beneath the sky, come and help me\n",
      "\n",
      "to pick\n",
      "\n",
      "the good into the pot,, metadata={'filename': 'sample.txt', 'filetype': 'text/plain', 'last_modified': '2024-05-30T13:53:09'}), Document(page_content=the bad into the crop.\n",
      "\n",
      "Then two white pigeons came in by the kitchen-window, and, metadata={'filename': 'sample.txt', 'filetype': 'text/plain', 'last_modified': '2024-05-30T13:53:09'}), Document(page_content=afterwards the turtle-doves, and at length all the birds beneath the\n",
      "\n",
      "sky, came whirring and crowding in, and alighted amongst the\n",
      "\n",
      "ashes. And the doves nodded with their heads and began pick,\n",
      "\n",
      "pick, pick, pick, and the others began also pick, pick, pick, pick,\n",
      "\n",
      "and gathered all the good seeds into the dishes, and before half an\n",
      "\n",
      "hour was over they had already finished, and all flew out again., metadata={'filename': 'sample.txt', 'filetype': 'text/plain', 'last_modified': '2024-05-30T13:53:09'}), Document(page_content=Then the maiden was delighted, and believed that she might now go\n",
      "\n",
      "with them to the wedding. But the step-mother said, all this will\n",
      "\n",
      "not help. You cannot go with us, for you have no clothes and can\n",
      "\n",
      "not dance. We should be ashamed of you. On this she turned her\n",
      "\n",
      "back on cinderella, and hurried away with her two proud daughters.\n",
      "\n",
      "As no one was now at home, cinderella went to her mother's, metadata={'filename': 'sample.txt', 'filetype': 'text/plain', 'last_modified': '2024-05-30T13:53:09'}), Document(page_content=grave beneath the hazel-tree, and cried -\n",
      "\n",
      "shiver and quiver, little tree,\n",
      "\n",
      "silver and gold throw down over me.\n",
      "\n",
      "Then the bird threw a gold and silver dress down to her, and\n",
      "\n",
      "slippers embroidered with silk and silver. She put on the dress\n",
      "\n",
      "with all speed, and went to the wedding. Her step-sisters and the\n",
      "\n",
      "step-mother however did not know her, and thought she must be a, metadata={'filename': 'sample.txt', 'filetype': 'text/plain', 'last_modified': '2024-05-30T13:53:09'}), Document(page_content=foreign princess, for she looked so beautiful in the golden dress.\n",
      "\n",
      "They never once thought of cinderella, and believed that she was\n",
      "\n",
      "sitting at home in the dirt, picking lentils out of the ashes. The\n",
      "\n",
      "prince approached her, took her by the hand and danced with her.\n",
      "\n",
      "He would dance with no other maiden, and never let loose of her\n",
      "\n",
      "hand, and if any one else came to invite her, he said, this is my, metadata={'filename': 'sample.txt', 'filetype': 'text/plain', 'last_modified': '2024-05-30T13:53:09'}), Document(page_content=partner.\n",
      "\n",
      "She danced till it was evening, and then she wanted to go home.\n",
      "\n",
      "But the king's son said, I will go with you and bear you company,\n",
      "\n",
      "for he wished to see to whom the beautiful maiden belonged.\n",
      "\n",
      "She escaped from him, however, and sprang into the\n",
      "\n",
      "pigeon-house. The king's son waited until her father came, and\n",
      "\n",
      "then he told him that the unknown maiden had leapt into the, metadata={'filename': 'sample.txt', 'filetype': 'text/plain', 'last_modified': '2024-05-30T13:53:09'}), Document(page_content=pigeon-house. The old man thought, can it be cinderella. And\n",
      "\n",
      "they had to bring him an axe and a pickaxe that he might hew\n",
      "\n",
      "the pigeon-house to pieces, but no one was inside it. And when they\n",
      "\n",
      "got home cinderella lay in her dirty clothes among the ashes, and\n",
      "\n",
      "a dim little oil-lamp was burning on the mantle-piece, for\n",
      "\n",
      "cinderella had jumped quickly down from the back of the pigeon-house, metadata={'filename': 'sample.txt', 'filetype': 'text/plain', 'last_modified': '2024-05-30T13:53:09'}), Document(page_content=and had run to the little hazel-tree, and there she had taken off\n",
      "\n",
      "her beautiful clothes and laid them on the grave, and the bird had\n",
      "\n",
      "taken them away again, and then she had seated herself in the\n",
      "\n",
      "kitchen amongst the ashes in her grey gown.\n",
      "\n",
      "Next day when the festival began afresh, and her parents and\n",
      "\n",
      "the step-sisters had gone once more, cinderella went to the\n",
      "\n",
      "hazel-tree and said -, metadata={'filename': 'sample.txt', 'filetype': 'text/plain', 'last_modified': '2024-05-30T13:53:09'}), Document(page_content=shiver and quiver, my little tree,\n",
      "\n",
      "silver and gold throw down over me.\n",
      "\n",
      "Then the bird threw down a much more beautiful dress than on\n",
      "\n",
      "the preceding day. And when cinderella appeared at the wedding\n",
      "\n",
      "in this dress, every one was astonished at her beauty. The king's\n",
      "\n",
      "son had waited until she came, and instantly took her by the hand\n",
      "\n",
      "and danced with no one but her. When others came and invited, metadata={'filename': 'sample.txt', 'filetype': 'text/plain', 'last_modified': '2024-05-30T13:53:09'}), Document(page_content=her, he said, this is my partner. When evening came she wished\n",
      "\n",
      "to leave, and the king's son followed her and wanted to see into\n",
      "\n",
      "which house she went. But she sprang away from him, and into\n",
      "\n",
      "the garden behind the house. Therein stood a beautiful tall tree on\n",
      "\n",
      "which hung the most magnificent pears. She clambered so nimbly\n",
      "\n",
      "between the branches like a squirrel that the king's son did not, metadata={'filename': 'sample.txt', 'filetype': 'text/plain', 'last_modified': '2024-05-30T13:53:09'}), Document(page_content=know where she was gone. He waited until her father came, and\n",
      "\n",
      "said to him, the unknown maiden has escaped from me, and I\n",
      "\n",
      "believe she has climbed up the pear-tree. The father thought,\n",
      "\n",
      "can it be cinderella. And had an axe brought and cut the\n",
      "\n",
      "tree down, but no one was on it. And when they got into the\n",
      "\n",
      "kitchen, cinderella lay there among the ashes, as usual, for she, metadata={'filename': 'sample.txt', 'filetype': 'text/plain', 'last_modified': '2024-05-30T13:53:09'}), Document(page_content=had jumped down on the other side of the tree, had taken the\n",
      "\n",
      "beautiful dress to the bird on the little hazel-tree, and put on her\n",
      "\n",
      "grey gown.\n",
      "\n",
      "On the third day, when the parents and sisters had gone away,\n",
      "\n",
      "cinderella went once more to her mother's grave and said to the, metadata={'filename': 'sample.txt', 'filetype': 'text/plain', 'last_modified': '2024-05-30T13:53:09'}), Document(page_content=little tree -\n",
      "\n",
      "shiver and quiver, my little tree,\n",
      "\n",
      "silver and gold throw down over me.\n",
      "\n",
      "And now the bird threw down to her a dress which was more\n",
      "\n",
      "splendid and magnificent than any she had yet had, and the\n",
      "\n",
      "slippers were golden. And when she went to the festival in the\n",
      "\n",
      "dress, no one knew how to speak for astonishment. The king's son, metadata={'filename': 'sample.txt', 'filetype': 'text/plain', 'last_modified': '2024-05-30T13:53:09'}), Document(page_content=danced with her only, and if any one invited her to dance, he said\n",
      "\n",
      "this is my partner.\n",
      "\n",
      "When evening came, cinderella wished to leave, and the king's\n",
      "\n",
      "son was anxious to go with her, but she escaped from him so quickly\n",
      "\n",
      "that he could not follow her. The king's son, however, had\n",
      "\n",
      "employed a ruse, and had caused the whole staircase to be smeared, metadata={'filename': 'sample.txt', 'filetype': 'text/plain', 'last_modified': '2024-05-30T13:53:09'}), Document(page_content=with pitch, and there, when she ran down, had the maiden's left\n",
      "\n",
      "slipper remained stuck. The king's son picked it up, and it was\n",
      "\n",
      "small and dainty, and all golden. Next morning, he went with it to\n",
      "\n",
      "the father, and said to him, no one shall be my wife but she whose\n",
      "\n",
      "foot this golden slipper fits. Then were the two sisters glad,\n",
      "\n",
      "for they had pretty feet. The eldest went with the shoe into her, metadata={'filename': 'sample.txt', 'filetype': 'text/plain', 'last_modified': '2024-05-30T13:53:09'}), Document(page_content=room and wanted to try it on, and her mother stood by. But she\n",
      "\n",
      "could not get her big toe into it, and the shoe was too small for\n",
      "\n",
      "her. Then her mother gave her a knife and said, cut the toe off,\n",
      "\n",
      "when you are queen you will have no more need to go on foot. The\n",
      "\n",
      "maiden cut the toe off, forced the foot into the shoe, swallowed\n",
      "\n",
      "the pain, and went out to the king's son. Then he took her on his, metadata={'filename': 'sample.txt', 'filetype': 'text/plain', 'last_modified': '2024-05-30T13:53:09'}), Document(page_content=his horse as his bride and rode away with her. They were\n",
      "\n",
      "obliged, however, to pass the grave, and there, on the hazel-tree,\n",
      "\n",
      "sat the two pigeons and cried -\n",
      "\n",
      "turn and peep, turn and peep,\n",
      "\n",
      "there's blood within the shoe,\n",
      "\n",
      "the shoe it is too small for her,, metadata={'filename': 'sample.txt', 'filetype': 'text/plain', 'last_modified': '2024-05-30T13:53:09'}), Document(page_content=the true bride waits for you.\n",
      "\n",
      "Then he looked at her foot and saw how the blood was trickling\n",
      "\n",
      "from it. He turned his horse round and took the false bride\n",
      "\n",
      "home again, and said she was not the true one, and that the\n",
      "\n",
      "other sister was to put the shoe on. Then this one went into her\n",
      "\n",
      "chamber and got her toes safely into the shoe, but her heel was, metadata={'filename': 'sample.txt', 'filetype': 'text/plain', 'last_modified': '2024-05-30T13:53:09'}), Document(page_content=too large. So her mother gave her a knife and said,  cut a bit\n",
      "\n",
      "off your heel, when you are queen you will have no more need\n",
      "\n",
      "to go on foot. The maiden cut a bit off her heel, forced\n",
      "\n",
      "her foot into the shoe, swallowed the pain, and went out to the\n",
      "\n",
      "king's son. He took her on his horse as his bride, and rode away\n",
      "\n",
      "with her, but when they passed by the hazel-tree, the two pigeons, metadata={'filename': 'sample.txt', 'filetype': 'text/plain', 'last_modified': '2024-05-30T13:53:09'}), Document(page_content=sat on it and cried -\n",
      "\n",
      "turn and peep, turn and peep,\n",
      "\n",
      "there's blood within the shoe,\n",
      "\n",
      "the shoe it is too small for her,, metadata={'filename': 'sample.txt', 'filetype': 'text/plain', 'last_modified': '2024-05-30T13:53:09'}), Document(page_content=the true bride waits for you.\n",
      "\n",
      "He looked down at her foot and saw how the blood was running\n",
      "\n",
      "out of her shoe, and how it had stained her white stocking quite\n",
      "\n",
      "red. Then he turned his horse and took the false bride home\n",
      "\n",
      "again. This also is not the right one, said he, have you no\n",
      "\n",
      "other daughter. No, said the man, there is still a little, metadata={'filename': 'sample.txt', 'filetype': 'text/plain', 'last_modified': '2024-05-30T13:53:09'}), Document(page_content=stunted kitchen-wench which my late wife left behind her, but\n",
      "\n",
      "she cannot possibly be the bride. The king's son said he was\n",
      "\n",
      "to send her up to him, but the mother answered, oh, no, she is\n",
      "\n",
      "much too dirty, she cannot show herself. But he absolutely\n",
      "\n",
      "insisted on it, and cinderella had to be called. She first\n",
      "\n",
      "washed her hands and face clean, and then went and bowed down, metadata={'filename': 'sample.txt', 'filetype': 'text/plain', 'last_modified': '2024-05-30T13:53:09'}), Document(page_content=before the king's son, who gave her the golden shoe. Then she\n",
      "\n",
      "seated herself on a stool, drew her foot out of the heavy\n",
      "\n",
      "wooden shoe, and put it into the slipper, which fitted like a\n",
      "\n",
      "glove. And when she rose up and the king's son looked at her\n",
      "\n",
      "face he recognized the beautiful maiden who had danced with\n",
      "\n",
      "him and cried, that is the true bride. The step-mother and, metadata={'filename': 'sample.txt', 'filetype': 'text/plain', 'last_modified': '2024-05-30T13:53:09'}), Document(page_content=the two sisters were horrified and became pale with rage, he,\n",
      "\n",
      "however, took cinderella on his horse and rode away with her. As\n",
      "\n",
      "they passed by the hazel-tree, the two white doves cried -\n",
      "\n",
      "turn and peep, turn and peep,\n",
      "\n",
      "no blood is in the shoe,\n",
      "\n",
      "the shoe is not too small for her,\n",
      "\n",
      "the true bride rides with you,\n",
      "\n",
      "and when they had cried that, the two came flying down and, metadata={'filename': 'sample.txt', 'filetype': 'text/plain', 'last_modified': '2024-05-30T13:53:09'}), Document(page_content=placed themselves on cinderella's shoulders, one on the right,\n",
      "\n",
      "the other on the left, and remained sitting there.\n",
      "\n",
      "When the wedding with the king's son was to be celebrated, the\n",
      "\n",
      "two false sisters came and wanted to get into favor with\n",
      "\n",
      "cinderella and share her good fortune. When the betrothed\n",
      "\n",
      "couple went to church, the elder was at the right side and the, metadata={'filename': 'sample.txt', 'filetype': 'text/plain', 'last_modified': '2024-05-30T13:53:09'}), Document(page_content=younger at the left, and the pigeons pecked out one eye from\n",
      "\n",
      "each of them. Afterwards as they came back the elder was at\n",
      "\n",
      "the left, and the younger at the right, and then the pigeons\n",
      "\n",
      "pecked out the other eye from each. And thus, for their\n",
      "\n",
      "wickedness and falsehood, they were punished with blindness\n",
      "\n",
      "all their days., metadata={'filename': 'sample.txt', 'filetype': 'text/plain', 'last_modified': '2024-05-30T13:53:09'})]\n"
     ]
    },
    {
     "name": "stderr",
     "output_type": "stream",
     "text": [
      "2024-06-26 12:12:10,335 INFO:HTTP Request: POST https://api.mistral.ai/v1/embeddings \"HTTP/1.1 200 OK\"\n",
      "2024-06-26 12:12:15,224 INFO:Document added successfully to the vector store.\n",
      "2024-06-26 12:12:15,225 INFO:Documents stored successfully\n"
     ]
    },
    {
     "data": {
      "text/plain": [
       "<indox.vector_stores.Chroma.ChromaVectorStore at 0x1632bb24140>"
      ]
     },
     "execution_count": 14,
     "metadata": {},
     "output_type": "execute_result"
    }
   ],
   "execution_count": 14
  },
  {
   "metadata": {},
   "cell_type": "markdown",
   "source": [
    "## Query from RAG System with Indox\n",
    "With our Retrieval-Augmented Generation (RAG) system built using Indox, we are now ready to test it with a sample question. This test will demonstrate how effectively our system can retrieve and generate accurate answers based on the reference data stored in the vector store.\n",
    "\n",
    "We'll use a sample query to test our system:\n",
    "- **Query**: \"How did Cinderella reach her happy ending?\"\n",
    "\n",
    "This question will be processed by our Indox system to retrieve relevant information and generate an appropriate response.\n",
    "\n",
    "Let's test our RAG system with the sample question"
   ],
   "id": "7766ed35249fef6e"
  },
  {
   "metadata": {
    "ExecuteTime": {
     "end_time": "2024-06-26T08:42:17.310350Z",
     "start_time": "2024-06-26T08:42:17.306685Z"
    }
   },
   "cell_type": "code",
   "source": "query = \"How cinderella reach her happy ending?\"",
   "id": "c30a41f4d7293b39",
   "outputs": [],
   "execution_count": 15
  },
  {
   "metadata": {},
   "cell_type": "markdown",
   "source": [
    "Now that our Retrieval-Augmented Generation (RAG) system with Indox is fully set up, we can test it with a sample question. We'll use the `invoke` submethod to get a response from the system.\n",
    "\n",
    "\n",
    "The `invoke` method processes the query using the connected QA model and retrieves relevant information from the vector store. It returns a list where:\n",
    "- The first index contains the answer.\n",
    "- The second index contains the contexts and their respective scores.\n",
    "\n",
    "\n",
    "We'll pass this query to the `invoke` method and print the response.\n"
   ],
   "id": "58639a3d46eb327f"
  },
  {
   "metadata": {
    "ExecuteTime": {
     "end_time": "2024-06-26T08:42:18.376680Z",
     "start_time": "2024-06-26T08:42:18.373295Z"
    }
   },
   "cell_type": "code",
   "source": "retriever = indox.QuestionAnswer(vector_database=db,llm=mistral_qa,top_k=5)",
   "id": "66ecb3768f04d326",
   "outputs": [],
   "execution_count": 16
  },
  {
   "metadata": {
    "ExecuteTime": {
     "end_time": "2024-06-26T08:42:27.798069Z",
     "start_time": "2024-06-26T08:42:19.041579Z"
    }
   },
   "cell_type": "code",
   "source": "answer = retriever.invoke(query=query)",
   "id": "9adbffdb7d5427bd",
   "outputs": [
    {
     "name": "stderr",
     "output_type": "stream",
     "text": [
      "2024-06-26 12:12:19,042 INFO:Retrieving context and scores from the vector database\n",
      "2024-06-26 12:12:19,908 INFO:HTTP Request: POST https://api.mistral.ai/v1/embeddings \"HTTP/1.1 200 OK\"\n",
      "2024-06-26 12:12:19,911 INFO:Generating answer without document relevancy filter\n",
      "2024-06-26 12:12:19,912 INFO:Answering question: How cinderella reach her happy ending?\n",
      "2024-06-26 12:12:19,912 INFO:Attempting to generate an answer for the question: How cinderella reach her happy ending?\n"
     ]
    },
    {
     "name": "stdout",
     "output_type": "stream",
     "text": [
      "5\n"
     ]
    },
    {
     "name": "stderr",
     "output_type": "stream",
     "text": [
      "2024-06-26 12:12:27,793 INFO:HTTP Request: POST https://api.mistral.ai/v1/chat/completions \"HTTP/1.1 200 OK\"\n",
      "2024-06-26 12:12:27,795 INFO:Query answered successfully\n"
     ]
    }
   ],
   "execution_count": 17
  },
  {
   "metadata": {
    "ExecuteTime": {
     "end_time": "2024-06-26T08:42:32.700407Z",
     "start_time": "2024-06-26T08:42:32.696411Z"
    }
   },
   "cell_type": "code",
   "source": "answer",
   "id": "f905f84906433aab",
   "outputs": [
    {
     "data": {
      "text/plain": [
       "\"Based on the context provided, Cinderella's happy ending is not explicitly stated. However, it can be inferred that she might reach her happy ending through the help of a magical bird and the invitation to a three-day festival given by the king. Cinderella expressed a wish to the bird, and it threw down to her what she had wished for. The king also gave orders for a festival which was to last three days, and to which all the beautiful young girls in the country were invited, in order that his son might choose himself a bride. Cinderella wished to attend the festival, but her stepmother did not allow her to go. It is possible that Cinderella will use the help of the magical bird to attend the festival and meet the king's son, leading to her happy ending. However, this is only speculation based on the given context, and the actual ending is not explicitly stated.\""
      ]
     },
     "execution_count": 18,
     "metadata": {},
     "output_type": "execute_result"
    }
   ],
   "execution_count": 18
  },
  {
   "metadata": {
    "ExecuteTime": {
     "end_time": "2024-06-09T10:23:16.751306Z",
     "start_time": "2024-06-09T10:23:16.746109Z"
    }
   },
   "cell_type": "code",
   "source": [
    "context = retriever.context\n",
    "context"
   ],
   "id": "db289e0dae276aee",
   "outputs": [
    {
     "data": {
      "text/plain": [
       "['by the hearth in the cinders. And as on that account she always\\n\\nlooked dusty and dirty, they called her cinderella.\\n\\nIt happened that the father was once going to the fair, and he\\n\\nasked his two step-daughters what he should bring back for them.\\n\\nBeautiful dresses, said one, pearls and jewels, said the second.\\n\\nAnd you, cinderella, said he, what will you have. Father',\n",
       " 'cinderella expressed a wish, the bird threw down to her what she\\n\\nhad wished for.\\n\\nIt happened, however, that the king gave orders for a festival\\n\\nwhich was to last three days, and to which all the beautiful young\\n\\ngirls in the country were invited, in order that his son might choose\\n\\nhimself a bride. When the two step-sisters heard that they too were',\n",
       " 'know where she was gone. He waited until her father came, and\\n\\nsaid to him, the unknown maiden has escaped from me, and I\\n\\nbelieve she has climbed up the pear-tree. The father thought,\\n\\ncan it be cinderella. And had an axe brought and cut the\\n\\ntree down, but no one was on it. And when they got into the\\n\\nkitchen, cinderella lay there among the ashes, as usual, for she',\n",
       " 'and had run to the little hazel-tree, and there she had taken off\\n\\nher beautiful clothes and laid them on the grave, and the bird had\\n\\ntaken them away again, and then she had seated herself in the\\n\\nkitchen amongst the ashes in her grey gown.\\n\\nNext day when the festival began afresh, and her parents and\\n\\nthe step-sisters had gone once more, cinderella went to the\\n\\nhazel-tree and said -',\n",
       " \"had jumped down on the other side of the tree, had taken the\\n\\nbeautiful dress to the bird on the little hazel-tree, and put on her\\n\\ngrey gown.\\n\\nOn the third day, when the parents and sisters had gone away,\\n\\ncinderella went once more to her mother's grave and said to the\"]"
      ]
     },
     "execution_count": 12,
     "metadata": {},
     "output_type": "execute_result"
    }
   ],
   "execution_count": 12
  },
  {
   "metadata": {},
   "cell_type": "markdown",
   "source": [
    "## Evaluation\n",
    "Evaluating the performance of your question-answering system is crucial to ensure the quality and reliability of the responses. In this section, we will use the `Evaluation` module from Indox to assess our system's outputs.\n"
   ],
   "id": "ea002e2ab9469d7b"
  },
  {
   "metadata": {
    "ExecuteTime": {
     "end_time": "2024-06-09T10:23:21.759373Z",
     "start_time": "2024-06-09T10:23:16.751306Z"
    }
   },
   "cell_type": "code",
   "source": [
    "from indox.evaluation import Evaluation\n",
    "evaluator = Evaluation([\"BertScore\", \"Toxicity\"])"
   ],
   "id": "48d4718f798523c8",
   "outputs": [],
   "execution_count": 13
  },
  {
   "metadata": {},
   "cell_type": "markdown",
   "source": [
    "### Preparing Inputs for Evaluation\n",
    "Next, we need to format the inputs according to the Indox evaluator's requirements. This involves creating a dictionary that includes the question, the generated answer, and the context from which the answer was derived."
   ],
   "id": "dca587b000e0f3d5"
  },
  {
   "metadata": {
    "ExecuteTime": {
     "end_time": "2024-06-09T10:23:22.516004Z",
     "start_time": "2024-06-09T10:23:21.759373Z"
    }
   },
   "cell_type": "code",
   "source": [
    "inputs = {\n",
    "    \"question\" : query,\n",
    "    \"answer\" : answer,\n",
    "    \"context\" : context\n",
    "}\n",
    "result = evaluator(inputs)"
   ],
   "id": "26d130c534ed349f",
   "outputs": [],
   "execution_count": 14
  },
  {
   "metadata": {
    "ExecuteTime": {
     "end_time": "2024-06-09T10:23:22.534495Z",
     "start_time": "2024-06-09T10:23:22.516004Z"
    }
   },
   "cell_type": "code",
   "source": "result",
   "id": "da14c97311ae1028",
   "outputs": [
    {
     "data": {
      "text/plain": [
       "                  0\n",
       "Precision  0.524382\n",
       "Recall     0.537209\n",
       "F1-score   0.530718\n",
       "Toxicity   0.074495"
      ],
      "text/html": [
       "<div>\n",
       "<style scoped>\n",
       "    .dataframe tbody tr th:only-of-type {\n",
       "        vertical-align: middle;\n",
       "    }\n",
       "\n",
       "    .dataframe tbody tr th {\n",
       "        vertical-align: top;\n",
       "    }\n",
       "\n",
       "    .dataframe thead th {\n",
       "        text-align: right;\n",
       "    }\n",
       "</style>\n",
       "<table border=\"1\" class=\"dataframe\">\n",
       "  <thead>\n",
       "    <tr style=\"text-align: right;\">\n",
       "      <th></th>\n",
       "      <th>0</th>\n",
       "    </tr>\n",
       "  </thead>\n",
       "  <tbody>\n",
       "    <tr>\n",
       "      <th>Precision</th>\n",
       "      <td>0.524382</td>\n",
       "    </tr>\n",
       "    <tr>\n",
       "      <th>Recall</th>\n",
       "      <td>0.537209</td>\n",
       "    </tr>\n",
       "    <tr>\n",
       "      <th>F1-score</th>\n",
       "      <td>0.530718</td>\n",
       "    </tr>\n",
       "    <tr>\n",
       "      <th>Toxicity</th>\n",
       "      <td>0.074495</td>\n",
       "    </tr>\n",
       "  </tbody>\n",
       "</table>\n",
       "</div>"
      ]
     },
     "execution_count": 15,
     "metadata": {},
     "output_type": "execute_result"
    }
   ],
   "execution_count": 15
  },
  {
   "metadata": {},
   "cell_type": "code",
   "outputs": [],
   "execution_count": null,
   "source": "",
   "id": "1c0e58d968847693"
  }
 ],
 "metadata": {
  "kernelspec": {
   "display_name": "Python 3",
   "language": "python",
   "name": "python3"
  },
  "language_info": {
   "codemirror_mode": {
    "name": "ipython",
    "version": 2
   },
   "file_extension": ".py",
   "mimetype": "text/x-python",
   "name": "python",
   "nbconvert_exporter": "python",
   "pygments_lexer": "ipython2",
   "version": "2.7.6"
  }
 },
 "nbformat": 4,
 "nbformat_minor": 5
}
