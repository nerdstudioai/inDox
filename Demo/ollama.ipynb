{
 "cells": [
  {
   "metadata": {},
   "cell_type": "code",
   "outputs": [],
   "execution_count": null,
   "source": [
    "!pip install ollama\n",
    "!pip install mistralai\n",
    "!pip install ollama\n",
    "!pip install chromadb"
   ],
   "id": "b37ae34d97113c37"
  },
  {
   "metadata": {},
   "cell_type": "markdown",
   "source": "[![Open In Colab](https://colab.research.google.com/assets/colab-badge.svg)](https://colab.research.google.com/github/osllmai/inDox/blob/master/Demo/ollama.ipynb)",
   "id": "81ca133b82c5396a"
  },
  {
   "cell_type": "code",
   "id": "initial_id",
   "metadata": {
    "collapsed": true,
    "ExecuteTime": {
     "end_time": "2024-07-10T18:17:34.365253Z",
     "start_time": "2024-07-10T18:17:34.355252Z"
    }
   },
   "source": [
    "import os\n",
    "from dotenv import load_dotenv\n",
    "\n",
    "load_dotenv()\n",
    "MISTRAL_API_KEY = os.getenv('MISTRAL_API_KEY')"
   ],
   "outputs": [],
   "execution_count": 1
  },
  {
   "metadata": {
    "ExecuteTime": {
     "end_time": "2024-07-10T18:17:46.782342Z",
     "start_time": "2024-07-10T18:17:37.093763Z"
    }
   },
   "cell_type": "code",
   "source": [
    "from indox import IndoxRetrievalAugmentation\n",
    "from indox.data_loader_splitter import SimpleLoadAndSplit\n",
    "from indox.llms import Ollama\n",
    "from indox.vector_stores import ChromaVectorStore\n",
    "from indox.embeddings import MistralEmbedding"
   ],
   "id": "d27fed528e7a718f",
   "outputs": [],
   "execution_count": 2
  },
  {
   "metadata": {
    "ExecuteTime": {
     "end_time": "2024-07-10T18:17:46.788015Z",
     "start_time": "2024-07-10T18:17:46.783392Z"
    }
   },
   "cell_type": "code",
   "source": "indox = IndoxRetrievalAugmentation()",
   "id": "d5882489fb5469db",
   "outputs": [
    {
     "name": "stdout",
     "output_type": "stream",
     "text": [
      "\u001B[32mINFO\u001B[0m: \u001B[1mIndoxRetrievalAugmentation initialized\u001B[0m\n",
      "\n",
      "            ██  ███    ██  ██████   ██████  ██       ██\n",
      "            ██  ████   ██  ██   ██ ██    ██   ██  ██\n",
      "            ██  ██ ██  ██  ██   ██ ██    ██     ██\n",
      "            ██  ██  ██ ██  ██   ██ ██    ██   ██   ██\n",
      "            ██  ██  █████  ██████   ██████  ██       ██\n",
      "            \n"
     ]
    }
   ],
   "execution_count": 3
  },
  {
   "metadata": {
    "ExecuteTime": {
     "end_time": "2024-07-10T18:17:56.050765Z",
     "start_time": "2024-07-10T18:17:54.864608Z"
    }
   },
   "cell_type": "code",
   "source": [
    "file_path = \"Demo/sample.txt\"\n",
    "loader_splitter = SimpleLoadAndSplit(file_path=file_path)\n",
    "docs = loader_splitter.load_and_chunk()"
   ],
   "id": "2bb98959fb81e1b5",
   "outputs": [
    {
     "name": "stdout",
     "output_type": "stream",
     "text": [
      "\u001B[32mINFO\u001B[0m: \u001B[1mUnstructuredLoadAndSplit initialized successfully\u001B[0m\n",
      "\u001B[32mINFO\u001B[0m: \u001B[1mStarting processing\u001B[0m\n",
      "\u001B[32mINFO\u001B[0m: \u001B[1mCreated initial document elements\u001B[0m\n",
      "\u001B[32mINFO\u001B[0m: \u001B[1mCompleted chunking process\u001B[0m\n",
      "\u001B[32mINFO\u001B[0m: \u001B[1mSuccessfully obtained all documents\u001B[0m\n"
     ]
    }
   ],
   "execution_count": 4
  },
  {
   "metadata": {
    "ExecuteTime": {
     "end_time": "2024-07-10T18:18:08.095992Z",
     "start_time": "2024-07-10T18:18:08.091370Z"
    }
   },
   "cell_type": "code",
   "source": "llm_model = Ollama(model=\"llama3\")",
   "id": "34ba3b12a6b4bcbc",
   "outputs": [
    {
     "name": "stdout",
     "output_type": "stream",
     "text": [
      "\u001B[32mINFO\u001B[0m: \u001B[1mInitializing Ollama with model: llama3\u001B[0m\n",
      "\u001B[32mINFO\u001B[0m: \u001B[1mOllama initialized successfully\u001B[0m\n"
     ]
    }
   ],
   "execution_count": 5
  },
  {
   "metadata": {
    "ExecuteTime": {
     "end_time": "2024-07-10T18:18:18.912304Z",
     "start_time": "2024-07-10T18:18:16.726513Z"
    }
   },
   "cell_type": "code",
   "source": [
    "embed_mistral = MistralEmbedding(MISTRAL_API_KEY)\n",
    "db = ChromaVectorStore(collection_name=\"sample\", embedding=embed_mistral)"
   ],
   "id": "7ed207f88927896b",
   "outputs": [
    {
     "name": "stdout",
     "output_type": "stream",
     "text": [
      "\u001B[32mINFO\u001B[0m: \u001B[1mInitialized Mistral embeddings\u001B[0m\n"
     ]
    }
   ],
   "execution_count": 6
  },
  {
   "metadata": {
    "ExecuteTime": {
     "end_time": "2024-07-10T18:18:22.667383Z",
     "start_time": "2024-07-10T18:18:22.659873Z"
    }
   },
   "cell_type": "code",
   "source": "indox.connect_to_vectorstore(db)",
   "id": "e945c2bc3d348a57",
   "outputs": [
    {
     "name": "stdout",
     "output_type": "stream",
     "text": [
      "\u001B[32mINFO\u001B[0m: \u001B[1mConnection to the vector store database established successfully\u001B[0m\n"
     ]
    },
    {
     "data": {
      "text/plain": [
       "<indox.vector_stores.Chroma.ChromaVectorStore at 0x2528c616300>"
      ]
     },
     "execution_count": 7,
     "metadata": {},
     "output_type": "execute_result"
    }
   ],
   "execution_count": 7
  },
  {
   "metadata": {
    "ExecuteTime": {
     "end_time": "2024-07-10T18:18:31.969746Z",
     "start_time": "2024-07-10T18:18:30.912533Z"
    }
   },
   "cell_type": "code",
   "source": "indox.store_in_vectorstore(docs)",
   "id": "510b72dc11924a78",
   "outputs": [
    {
     "name": "stdout",
     "output_type": "stream",
     "text": [
      "\u001B[32mINFO\u001B[0m: \u001B[1mStoring documents in the vector store\u001B[0m\n",
      "\u001B[32mINFO\u001B[0m: \u001B[1mDocument added successfully to the vector store.\u001B[0m\n",
      "\u001B[32mINFO\u001B[0m: \u001B[1mDocuments stored successfully\u001B[0m\n"
     ]
    },
    {
     "data": {
      "text/plain": [
       "<indox.vector_stores.Chroma.ChromaVectorStore at 0x2528c616300>"
      ]
     },
     "execution_count": 8,
     "metadata": {},
     "output_type": "execute_result"
    }
   ],
   "execution_count": 8
  },
  {
   "metadata": {
    "ExecuteTime": {
     "end_time": "2024-07-10T18:18:41.853099Z",
     "start_time": "2024-07-10T18:18:41.849083Z"
    }
   },
   "cell_type": "code",
   "source": "retriever = indox.QuestionAnswer(vector_database=db, llm=llm_model)",
   "id": "c9b067ed6bcd1f86",
   "outputs": [],
   "execution_count": 9
  },
  {
   "metadata": {
    "ExecuteTime": {
     "end_time": "2024-07-10T18:18:49.559773Z",
     "start_time": "2024-07-10T18:18:49.556257Z"
    }
   },
   "cell_type": "code",
   "source": "query = \"How cinderella reach her happy ending?\"",
   "id": "2a2484cfb4314bbd",
   "outputs": [],
   "execution_count": 10
  },
  {
   "metadata": {
    "ExecuteTime": {
     "end_time": "2024-07-10T18:21:41.286921Z",
     "start_time": "2024-07-10T18:19:00.123359Z"
    }
   },
   "cell_type": "code",
   "source": "answer = retriever.invoke(query)",
   "id": "8f2efd8d91526c72",
   "outputs": [
    {
     "name": "stdout",
     "output_type": "stream",
     "text": [
      "\u001B[32mINFO\u001B[0m: \u001B[1mRetrieving context and scores from the vector database\u001B[0m\n",
      "\u001B[32mINFO\u001B[0m: \u001B[1mGenerating answer without document relevancy filter\u001B[0m\n",
      "\u001B[32mINFO\u001B[0m: \u001B[1mAnswering question\u001B[0m\n",
      "\u001B[32mINFO\u001B[0m: \u001B[1mGenerating response\u001B[0m\n",
      "\u001B[32mINFO\u001B[0m: \u001B[1mResponse generated successfully\u001B[0m\n",
      "\u001B[32mINFO\u001B[0m: \u001B[1mQuery answered successfully\u001B[0m\n"
     ]
    }
   ],
   "execution_count": 11
  },
  {
   "metadata": {
    "ExecuteTime": {
     "end_time": "2024-07-10T18:22:03.681929Z",
     "start_time": "2024-07-10T18:22:03.677384Z"
    }
   },
   "cell_type": "code",
   "source": "answer",
   "id": "66f2002910cb744b",
   "outputs": [
    {
     "data": {
      "text/plain": [
       "\"Based on the given context, here are the options:A) Cinderella's fairy godmother helped her get ready for the ball.B) Cinderella's kindness and hard work earned her a magical dress from the bird on the hazel-tree.C) Cinderella's step-sisters and mother helped her get ready for the wedding.D) Cinderella used her magic to transform herself into a beautiful princess.And the best full answer is:B) Cinderella's kindness and hard work earned her a magical dress from the bird on the hazel-tree.This option stands out as the most correct because it highlights Cinderella's humble nature and her good deeds, which ultimately led to her receiving a magical dress that transformed her into a beautiful princess.\""
      ]
     },
     "execution_count": 12,
     "metadata": {},
     "output_type": "execute_result"
    }
   ],
   "execution_count": 12
  },
  {
   "metadata": {
    "ExecuteTime": {
     "end_time": "2024-07-10T18:25:42.283720Z",
     "start_time": "2024-07-10T18:22:08.523093Z"
    }
   },
   "cell_type": "code",
   "source": [
    "agent = indox.AgenticRag(vector_database=db,llm=llm_model)\n",
    "agent.run(\"where does messi plays right now?\")"
   ],
   "id": "cea0bad80fd439c3",
   "outputs": [
    {
     "name": "stdout",
     "output_type": "stream",
     "text": [
      "\u001B[32mINFO\u001B[0m: \u001B[1mGenerating response\u001B[0m\n",
      "\u001B[32mINFO\u001B[0m: \u001B[1mResponse generated successfully\u001B[0m\n",
      "\u001B[32mINFO\u001B[0m: \u001B[1mNot relevant doc\u001B[0m\n",
      "\u001B[32mINFO\u001B[0m: \u001B[1mGenerating response\u001B[0m\n",
      "\u001B[32mINFO\u001B[0m: \u001B[1mResponse generated successfully\u001B[0m\n",
      "\u001B[32mINFO\u001B[0m: \u001B[1mNot relevant doc\u001B[0m\n",
      "\u001B[32mINFO\u001B[0m: \u001B[1mGenerating response\u001B[0m\n",
      "\u001B[32mINFO\u001B[0m: \u001B[1mResponse generated successfully\u001B[0m\n",
      "\u001B[32mINFO\u001B[0m: \u001B[1mNot relevant doc\u001B[0m\n",
      "\u001B[32mINFO\u001B[0m: \u001B[1mGenerating response\u001B[0m\n",
      "\u001B[32mINFO\u001B[0m: \u001B[1mResponse generated successfully\u001B[0m\n",
      "\u001B[32mINFO\u001B[0m: \u001B[1mNot relevant doc\u001B[0m\n",
      "\u001B[32mINFO\u001B[0m: \u001B[1mGenerating response\u001B[0m\n",
      "\u001B[32mINFO\u001B[0m: \u001B[1mResponse generated successfully\u001B[0m\n",
      "\u001B[32mINFO\u001B[0m: \u001B[1mNot relevant doc\u001B[0m\n",
      "\u001B[32mINFO\u001B[0m: \u001B[1mNo Relevant document found, Start web search\u001B[0m\n",
      "\u001B[32mINFO\u001B[0m: \u001B[1mNo Relevant Context Found, Start Searching On Web...\u001B[0m\n",
      "\u001B[32mINFO\u001B[0m: \u001B[1mAnswer Base On Web Search\u001B[0m\n",
      "\u001B[32mINFO\u001B[0m: \u001B[1mAnswering question\u001B[0m\n",
      "\u001B[32mINFO\u001B[0m: \u001B[1mGenerating response\u001B[0m\n",
      "\u001B[32mINFO\u001B[0m: \u001B[1mResponse generated successfully\u001B[0m\n",
      "\u001B[32mINFO\u001B[0m: \u001B[1mCheck For Hallucination In Generated Answer Base On Web Search\u001B[0m\n",
      "\u001B[32mINFO\u001B[0m: \u001B[1mChecking hallucination for answer\u001B[0m\n",
      "\u001B[32mINFO\u001B[0m: \u001B[1mGenerating response\u001B[0m\n",
      "\u001B[32mINFO\u001B[0m: \u001B[1mResponse generated successfully\u001B[0m\n",
      "\u001B[32mINFO\u001B[0m: \u001B[1mHallucination detected, Regenerate the answer...\u001B[0m\n",
      "\u001B[32mINFO\u001B[0m: \u001B[1mAnswering question\u001B[0m\n",
      "\u001B[32mINFO\u001B[0m: \u001B[1mGenerating response\u001B[0m\n",
      "\u001B[32mINFO\u001B[0m: \u001B[1mResponse generated successfully\u001B[0m\n"
     ]
    },
    {
     "data": {
      "text/plain": [
       "'Based on the given context, it appears that Lionel Messi is currently playing for Inter Miami, as he has announced his decision to join the Major League Soccer (MLS) team.'"
      ]
     },
     "execution_count": 13,
     "metadata": {},
     "output_type": "execute_result"
    }
   ],
   "execution_count": 13
  },
  {
   "metadata": {},
   "cell_type": "code",
   "outputs": [],
   "execution_count": null,
   "source": "",
   "id": "63ab9c9dd6a539bd"
  },
  {
   "metadata": {},
   "cell_type": "code",
   "outputs": [],
   "execution_count": null,
   "source": "",
   "id": "5320b74d616988c2"
  },
  {
   "metadata": {},
   "cell_type": "code",
   "outputs": [],
   "execution_count": null,
   "source": "",
   "id": "213844005a828d1"
  }
 ],
 "metadata": {
  "kernelspec": {
   "display_name": "Python 3",
   "language": "python",
   "name": "python3"
  },
  "language_info": {
   "codemirror_mode": {
    "name": "ipython",
    "version": 2
   },
   "file_extension": ".py",
   "mimetype": "text/x-python",
   "name": "python",
   "nbconvert_exporter": "python",
   "pygments_lexer": "ipython2",
   "version": "2.7.6"
  }
 },
 "nbformat": 4,
 "nbformat_minor": 5
}
