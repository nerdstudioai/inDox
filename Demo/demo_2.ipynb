{
 "cells": [
  {
   "cell_type": "code",
   "id": "initial_id",
   "metadata": {
    "collapsed": true,
    "ExecuteTime": {
     "end_time": "2024-06-07T17:10:05.613129Z",
     "start_time": "2024-06-07T17:10:05.601654Z"
    }
   },
   "source": [
    "import os\n",
    "from dotenv import load_dotenv\n",
    "\n",
    "load_dotenv()\n",
    "HUGGINGFACE_API_KEY = os.getenv('HUGGINGFACE_API_KEY')"
   ],
   "outputs": [],
   "execution_count": 1
  },
  {
   "metadata": {
    "ExecuteTime": {
     "end_time": "2024-06-07T17:10:14.809427Z",
     "start_time": "2024-06-07T17:10:05.614142Z"
    }
   },
   "cell_type": "code",
   "source": [
    "from indox import IndoxRetrievalAugmentation\n",
    "from indox.llms import MistralQA\n",
    "from indox.embeddings import HuggingFaceEmbedding\n",
    "from indox.data_loader_splitter import UnstructuredLoadAndSplit"
   ],
   "id": "914aa911886b0034",
   "outputs": [],
   "execution_count": 2
  },
  {
   "metadata": {
    "ExecuteTime": {
     "end_time": "2024-06-07T17:10:14.813605Z",
     "start_time": "2024-06-07T17:10:14.809736Z"
    }
   },
   "cell_type": "code",
   "source": "Indox = IndoxRetrievalAugmentation()",
   "id": "b557d8b5e54dd70e",
   "outputs": [],
   "execution_count": 3
  },
  {
   "metadata": {
    "ExecuteTime": {
     "end_time": "2024-06-07T17:10:18.279915Z",
     "start_time": "2024-06-07T17:10:14.814614Z"
    }
   },
   "cell_type": "code",
   "source": [
    "# Using Mistral from HuggingFace\n",
    "mistral_qa = MistralQA(api_key=HUGGINGFACE_API_KEY,model=\"mistralai/Mistral-7B-Instruct-v0.2\")\n",
    "embed_hf = HuggingFaceEmbedding(model=\"multi-qa-mpnet-base-cos-v1\")"
   ],
   "id": "a9b1f4773b82495e",
   "outputs": [],
   "execution_count": 4
  },
  {
   "metadata": {
    "ExecuteTime": {
     "end_time": "2024-06-07T17:10:18.284178Z",
     "start_time": "2024-06-07T17:10:18.280921Z"
    }
   },
   "cell_type": "code",
   "source": "file_path = \"sample.txt\"",
   "id": "324f1c61cdf275f",
   "outputs": [],
   "execution_count": 5
  },
  {
   "metadata": {
    "ExecuteTime": {
     "end_time": "2024-06-07T17:10:18.288743Z",
     "start_time": "2024-06-07T17:10:18.285186Z"
    }
   },
   "cell_type": "code",
   "source": "loader_splitter = UnstructuredLoadAndSplit(file_path=file_path,max_chunk_size=400)",
   "id": "734f40f5ffb675f",
   "outputs": [],
   "execution_count": 6
  },
  {
   "metadata": {
    "ExecuteTime": {
     "end_time": "2024-06-07T17:10:22.560656Z",
     "start_time": "2024-06-07T17:10:18.289749Z"
    }
   },
   "cell_type": "code",
   "source": "docs = loader_splitter.load_and_chunk()",
   "id": "d9d34af0d2803193",
   "outputs": [],
   "execution_count": 7
  },
  {
   "metadata": {
    "ExecuteTime": {
     "end_time": "2024-06-07T17:10:22.568428Z",
     "start_time": "2024-06-07T17:10:22.561054Z"
    }
   },
   "cell_type": "code",
   "source": "docs",
   "id": "8acc9f0306aaf8ed",
   "outputs": [
    {
     "data": {
      "text/plain": [
       "[Document(page_content=\"The wife of a rich man fell sick, and as she felt that her end\\n\\nwas drawing near, she called her only daughter to her bedside and\\n\\nsaid, dear child, be good and pious, and then the\\n\\ngood God will always protect you, and I will look down on you\\n\\nfrom heaven and be near you. Thereupon she closed her eyes and\\n\\ndeparted. Every day the maiden went out to her mother's grave,\", metadata={'filename': 'sample.txt', 'filetype': 'text/plain', 'last_modified': '2024-05-30T13:53:09'}),\n",
       " Document(page_content='and wept, and she remained pious and good. When winter came\\n\\nthe snow spread a white sheet over the grave, and by the time the\\n\\nspring sun had drawn it off again, the man had taken another wife.\\n\\nThe woman had brought with her into the house two daughters,\\n\\nwho were beautiful and fair of face, but vile and black of heart.\\n\\nNow began a bad time for the poor step-child. Is the stupid goose', metadata={'filename': 'sample.txt', 'filetype': 'text/plain', 'last_modified': '2024-05-30T13:53:09'}),\n",
       " Document(page_content='to sit in the parlor with us, they said. He who wants to eat bread\\n\\nmust earn it. Out with the kitchen-wench. They took her pretty\\n\\nclothes away from her, put an old grey bedgown on her, and gave\\n\\nher wooden shoes. Just look at the proud princess, how decked\\n\\nout she is, they cried, and laughed, and led her into the kitchen.\\n\\nThere she had to do hard work from morning till night, get up', metadata={'filename': 'sample.txt', 'filetype': 'text/plain', 'last_modified': '2024-05-30T13:53:09'}),\n",
       " Document(page_content='before daybreak, carry water, light fires, cook and wash. Besides\\n\\nthis, the sisters did her every imaginable injury - they mocked her\\n\\nand emptied her peas and lentils into the ashes, so that she was\\n\\nforced to sit and pick them out again. In the evening when she had\\n\\nworked till she was weary she had no bed to go to, but had to sleep', metadata={'filename': 'sample.txt', 'filetype': 'text/plain', 'last_modified': '2024-05-30T13:53:09'}),\n",
       " Document(page_content='by the hearth in the cinders. And as on that account she always\\n\\nlooked dusty and dirty, they called her cinderella.\\n\\nIt happened that the father was once going to the fair, and he\\n\\nasked his two step-daughters what he should bring back for them.\\n\\nBeautiful dresses, said one, pearls and jewels, said the second.\\n\\nAnd you, cinderella, said he, what will you have. Father', metadata={'filename': 'sample.txt', 'filetype': 'text/plain', 'last_modified': '2024-05-30T13:53:09'}),\n",
       " Document(page_content='break off for me the first branch which knocks against your hat on\\n\\nyour way home. So he bought beautiful dresses, pearls and jewels\\n\\nfor his two step-daughters, and on his way home, as he was riding\\n\\nthrough a green thicket, a hazel twig brushed against him and\\n\\nknocked off his hat. Then he broke off the branch and took it with\\n\\nhim. When he reached home he gave his step-daughters the things', metadata={'filename': 'sample.txt', 'filetype': 'text/plain', 'last_modified': '2024-05-30T13:53:09'}),\n",
       " Document(page_content=\"which they had wished for, and to cinderella he gave the branch\\n\\nfrom the hazel-bush. Cinderella thanked him, went to her mother's\\n\\ngrave and planted the branch on it, and wept so much that the tears\\n\\nfell down on it and watered it. And it grew and became a handsome\\n\\ntree. Thrice a day cinderella went and sat beneath it, and wept and\\n\\nprayed, and a little white bird always came on the tree, and if\", metadata={'filename': 'sample.txt', 'filetype': 'text/plain', 'last_modified': '2024-05-30T13:53:09'}),\n",
       " Document(page_content='cinderella expressed a wish, the bird threw down to her what she\\n\\nhad wished for.\\n\\nIt happened, however, that the king gave orders for a festival\\n\\nwhich was to last three days, and to which all the beautiful young\\n\\ngirls in the country were invited, in order that his son might choose\\n\\nhimself a bride. When the two step-sisters heard that they too were', metadata={'filename': 'sample.txt', 'filetype': 'text/plain', 'last_modified': '2024-05-30T13:53:09'}),\n",
       " Document(page_content=\"to appear among the number, they were delighted, called cinderella\\n\\nand said, comb our hair for us, brush our shoes and fasten our\\n\\nbuckles, for we are going to the wedding at the king's palace.\\n\\nCinderella obeyed, but wept, because she too would have liked to\\n\\ngo with them to the dance, and begged her step-mother to allow\\n\\nher to do so. You go, cinderella, said she, covered in dust and\", metadata={'filename': 'sample.txt', 'filetype': 'text/plain', 'last_modified': '2024-05-30T13:53:09'}),\n",
       " Document(page_content='dirt as you are, and would go to the festival. You have no clothes\\n\\nand shoes, and yet would dance. As, however, cinderella went on\\n\\nasking, the step-mother said at last, I have emptied a dish of\\n\\nlentils into the ashes for you, if you have picked them out again in\\n\\ntwo hours, you shall go with us. The maiden went through the\\n\\nback-door into the garden, and called, you tame pigeons, you', metadata={'filename': 'sample.txt', 'filetype': 'text/plain', 'last_modified': '2024-05-30T13:53:09'}),\n",
       " Document(page_content='turtle-doves, and all you birds beneath the sky, come and help me\\n\\nto pick\\n\\nthe good into the pot,\\n\\nthe bad into the crop.\\n\\nThen two white pigeons came in by the kitchen window, and', metadata={'filename': 'sample.txt', 'filetype': 'text/plain', 'last_modified': '2024-05-30T13:53:09'}),\n",
       " Document(page_content='afterwards the turtle-doves, and at last all the birds beneath the\\n\\nsky, came whirring and crowding in, and alighted amongst the ashes.\\n\\nAnd the pigeons nodded with their heads and began pick, pick,\\n\\npick, pick, and the rest began also pick, pick, pick, pick, and\\n\\ngathered all the good grains into the dish. Hardly had one hour\\n\\npassed before they had finished, and all flew out again. Then the', metadata={'filename': 'sample.txt', 'filetype': 'text/plain', 'last_modified': '2024-05-30T13:53:09'}),\n",
       " Document(page_content='girl took the dish to her step-mother, and was glad, and believed\\n\\nthat now she would be allowed to go with them to the festival.\\n\\nBut the step-mother said, no, cinderella, you have no clothes and\\n\\nyou can not dance. You would only be laughed at. And as\\n\\ncinderella wept at this, the step-mother said, if you can pick two\\n\\ndishes of lentils out of the ashes for me in one hour, you shall go', metadata={'filename': 'sample.txt', 'filetype': 'text/plain', 'last_modified': '2024-05-30T13:53:09'}),\n",
       " Document(page_content='with us. And she thought to herself, that she most certainly\\n\\ncannot do again. When the step-mother had emptied the two\\n\\ndishes of lentils amongst the ashes, the maiden went through the\\n\\nback-door into the garden and cried, you tame pigeons, you\\n\\nturtle-doves, and all you birds beneath the sky, come and help me\\n\\nto pick\\n\\nthe good into the pot,', metadata={'filename': 'sample.txt', 'filetype': 'text/plain', 'last_modified': '2024-05-30T13:53:09'}),\n",
       " Document(page_content='the bad into the crop.\\n\\nThen two white pigeons came in by the kitchen-window, and', metadata={'filename': 'sample.txt', 'filetype': 'text/plain', 'last_modified': '2024-05-30T13:53:09'}),\n",
       " Document(page_content='afterwards the turtle-doves, and at length all the birds beneath the\\n\\nsky, came whirring and crowding in, and alighted amongst the\\n\\nashes. And the doves nodded with their heads and began pick,\\n\\npick, pick, pick, and the others began also pick, pick, pick, pick,\\n\\nand gathered all the good seeds into the dishes, and before half an\\n\\nhour was over they had already finished, and all flew out again.', metadata={'filename': 'sample.txt', 'filetype': 'text/plain', 'last_modified': '2024-05-30T13:53:09'}),\n",
       " Document(page_content=\"Then the maiden was delighted, and believed that she might now go\\n\\nwith them to the wedding. But the step-mother said, all this will\\n\\nnot help. You cannot go with us, for you have no clothes and can\\n\\nnot dance. We should be ashamed of you. On this she turned her\\n\\nback on cinderella, and hurried away with her two proud daughters.\\n\\nAs no one was now at home, cinderella went to her mother's\", metadata={'filename': 'sample.txt', 'filetype': 'text/plain', 'last_modified': '2024-05-30T13:53:09'}),\n",
       " Document(page_content='grave beneath the hazel-tree, and cried -\\n\\nshiver and quiver, little tree,\\n\\nsilver and gold throw down over me.\\n\\nThen the bird threw a gold and silver dress down to her, and\\n\\nslippers embroidered with silk and silver. She put on the dress\\n\\nwith all speed, and went to the wedding. Her step-sisters and the\\n\\nstep-mother however did not know her, and thought she must be a', metadata={'filename': 'sample.txt', 'filetype': 'text/plain', 'last_modified': '2024-05-30T13:53:09'}),\n",
       " Document(page_content='foreign princess, for she looked so beautiful in the golden dress.\\n\\nThey never once thought of cinderella, and believed that she was\\n\\nsitting at home in the dirt, picking lentils out of the ashes. The\\n\\nprince approached her, took her by the hand and danced with her.\\n\\nHe would dance with no other maiden, and never let loose of her\\n\\nhand, and if any one else came to invite her, he said, this is my', metadata={'filename': 'sample.txt', 'filetype': 'text/plain', 'last_modified': '2024-05-30T13:53:09'}),\n",
       " Document(page_content=\"partner.\\n\\nShe danced till it was evening, and then she wanted to go home.\\n\\nBut the king's son said, I will go with you and bear you company,\\n\\nfor he wished to see to whom the beautiful maiden belonged.\\n\\nShe escaped from him, however, and sprang into the\\n\\npigeon-house. The king's son waited until her father came, and\\n\\nthen he told him that the unknown maiden had leapt into the\", metadata={'filename': 'sample.txt', 'filetype': 'text/plain', 'last_modified': '2024-05-30T13:53:09'}),\n",
       " Document(page_content='pigeon-house. The old man thought, can it be cinderella. And\\n\\nthey had to bring him an axe and a pickaxe that he might hew\\n\\nthe pigeon-house to pieces, but no one was inside it. And when they\\n\\ngot home cinderella lay in her dirty clothes among the ashes, and\\n\\na dim little oil-lamp was burning on the mantle-piece, for\\n\\ncinderella had jumped quickly down from the back of the pigeon-house', metadata={'filename': 'sample.txt', 'filetype': 'text/plain', 'last_modified': '2024-05-30T13:53:09'}),\n",
       " Document(page_content='and had run to the little hazel-tree, and there she had taken off\\n\\nher beautiful clothes and laid them on the grave, and the bird had\\n\\ntaken them away again, and then she had seated herself in the\\n\\nkitchen amongst the ashes in her grey gown.\\n\\nNext day when the festival began afresh, and her parents and\\n\\nthe step-sisters had gone once more, cinderella went to the\\n\\nhazel-tree and said -', metadata={'filename': 'sample.txt', 'filetype': 'text/plain', 'last_modified': '2024-05-30T13:53:09'}),\n",
       " Document(page_content=\"shiver and quiver, my little tree,\\n\\nsilver and gold throw down over me.\\n\\nThen the bird threw down a much more beautiful dress than on\\n\\nthe preceding day. And when cinderella appeared at the wedding\\n\\nin this dress, every one was astonished at her beauty. The king's\\n\\nson had waited until she came, and instantly took her by the hand\\n\\nand danced with no one but her. When others came and invited\", metadata={'filename': 'sample.txt', 'filetype': 'text/plain', 'last_modified': '2024-05-30T13:53:09'}),\n",
       " Document(page_content=\"her, he said, this is my partner. When evening came she wished\\n\\nto leave, and the king's son followed her and wanted to see into\\n\\nwhich house she went. But she sprang away from him, and into\\n\\nthe garden behind the house. Therein stood a beautiful tall tree on\\n\\nwhich hung the most magnificent pears. She clambered so nimbly\\n\\nbetween the branches like a squirrel that the king's son did not\", metadata={'filename': 'sample.txt', 'filetype': 'text/plain', 'last_modified': '2024-05-30T13:53:09'}),\n",
       " Document(page_content='know where she was gone. He waited until her father came, and\\n\\nsaid to him, the unknown maiden has escaped from me, and I\\n\\nbelieve she has climbed up the pear-tree. The father thought,\\n\\ncan it be cinderella. And had an axe brought and cut the\\n\\ntree down, but no one was on it. And when they got into the\\n\\nkitchen, cinderella lay there among the ashes, as usual, for she', metadata={'filename': 'sample.txt', 'filetype': 'text/plain', 'last_modified': '2024-05-30T13:53:09'}),\n",
       " Document(page_content=\"had jumped down on the other side of the tree, had taken the\\n\\nbeautiful dress to the bird on the little hazel-tree, and put on her\\n\\ngrey gown.\\n\\nOn the third day, when the parents and sisters had gone away,\\n\\ncinderella went once more to her mother's grave and said to the\", metadata={'filename': 'sample.txt', 'filetype': 'text/plain', 'last_modified': '2024-05-30T13:53:09'}),\n",
       " Document(page_content=\"little tree -\\n\\nshiver and quiver, my little tree,\\n\\nsilver and gold throw down over me.\\n\\nAnd now the bird threw down to her a dress which was more\\n\\nsplendid and magnificent than any she had yet had, and the\\n\\nslippers were golden. And when she went to the festival in the\\n\\ndress, no one knew how to speak for astonishment. The king's son\", metadata={'filename': 'sample.txt', 'filetype': 'text/plain', 'last_modified': '2024-05-30T13:53:09'}),\n",
       " Document(page_content=\"danced with her only, and if any one invited her to dance, he said\\n\\nthis is my partner.\\n\\nWhen evening came, cinderella wished to leave, and the king's\\n\\nson was anxious to go with her, but she escaped from him so quickly\\n\\nthat he could not follow her. The king's son, however, had\\n\\nemployed a ruse, and had caused the whole staircase to be smeared\", metadata={'filename': 'sample.txt', 'filetype': 'text/plain', 'last_modified': '2024-05-30T13:53:09'}),\n",
       " Document(page_content=\"with pitch, and there, when she ran down, had the maiden's left\\n\\nslipper remained stuck. The king's son picked it up, and it was\\n\\nsmall and dainty, and all golden. Next morning, he went with it to\\n\\nthe father, and said to him, no one shall be my wife but she whose\\n\\nfoot this golden slipper fits. Then were the two sisters glad,\\n\\nfor they had pretty feet. The eldest went with the shoe into her\", metadata={'filename': 'sample.txt', 'filetype': 'text/plain', 'last_modified': '2024-05-30T13:53:09'}),\n",
       " Document(page_content=\"room and wanted to try it on, and her mother stood by. But she\\n\\ncould not get her big toe into it, and the shoe was too small for\\n\\nher. Then her mother gave her a knife and said, cut the toe off,\\n\\nwhen you are queen you will have no more need to go on foot. The\\n\\nmaiden cut the toe off, forced the foot into the shoe, swallowed\\n\\nthe pain, and went out to the king's son. Then he took her on his\", metadata={'filename': 'sample.txt', 'filetype': 'text/plain', 'last_modified': '2024-05-30T13:53:09'}),\n",
       " Document(page_content=\"his horse as his bride and rode away with her. They were\\n\\nobliged, however, to pass the grave, and there, on the hazel-tree,\\n\\nsat the two pigeons and cried -\\n\\nturn and peep, turn and peep,\\n\\nthere's blood within the shoe,\\n\\nthe shoe it is too small for her,\", metadata={'filename': 'sample.txt', 'filetype': 'text/plain', 'last_modified': '2024-05-30T13:53:09'}),\n",
       " Document(page_content='the true bride waits for you.\\n\\nThen he looked at her foot and saw how the blood was trickling\\n\\nfrom it. He turned his horse round and took the false bride\\n\\nhome again, and said she was not the true one, and that the\\n\\nother sister was to put the shoe on. Then this one went into her\\n\\nchamber and got her toes safely into the shoe, but her heel was', metadata={'filename': 'sample.txt', 'filetype': 'text/plain', 'last_modified': '2024-05-30T13:53:09'}),\n",
       " Document(page_content=\"too large. So her mother gave her a knife and said,  cut a bit\\n\\noff your heel, when you are queen you will have no more need\\n\\nto go on foot. The maiden cut a bit off her heel, forced\\n\\nher foot into the shoe, swallowed the pain, and went out to the\\n\\nking's son. He took her on his horse as his bride, and rode away\\n\\nwith her, but when they passed by the hazel-tree, the two pigeons\", metadata={'filename': 'sample.txt', 'filetype': 'text/plain', 'last_modified': '2024-05-30T13:53:09'}),\n",
       " Document(page_content=\"sat on it and cried -\\n\\nturn and peep, turn and peep,\\n\\nthere's blood within the shoe,\\n\\nthe shoe it is too small for her,\", metadata={'filename': 'sample.txt', 'filetype': 'text/plain', 'last_modified': '2024-05-30T13:53:09'}),\n",
       " Document(page_content='the true bride waits for you.\\n\\nHe looked down at her foot and saw how the blood was running\\n\\nout of her shoe, and how it had stained her white stocking quite\\n\\nred. Then he turned his horse and took the false bride home\\n\\nagain. This also is not the right one, said he, have you no\\n\\nother daughter. No, said the man, there is still a little', metadata={'filename': 'sample.txt', 'filetype': 'text/plain', 'last_modified': '2024-05-30T13:53:09'}),\n",
       " Document(page_content=\"stunted kitchen-wench which my late wife left behind her, but\\n\\nshe cannot possibly be the bride. The king's son said he was\\n\\nto send her up to him, but the mother answered, oh, no, she is\\n\\nmuch too dirty, she cannot show herself. But he absolutely\\n\\ninsisted on it, and cinderella had to be called. She first\\n\\nwashed her hands and face clean, and then went and bowed down\", metadata={'filename': 'sample.txt', 'filetype': 'text/plain', 'last_modified': '2024-05-30T13:53:09'}),\n",
       " Document(page_content=\"before the king's son, who gave her the golden shoe. Then she\\n\\nseated herself on a stool, drew her foot out of the heavy\\n\\nwooden shoe, and put it into the slipper, which fitted like a\\n\\nglove. And when she rose up and the king's son looked at her\\n\\nface he recognized the beautiful maiden who had danced with\\n\\nhim and cried, that is the true bride. The step-mother and\", metadata={'filename': 'sample.txt', 'filetype': 'text/plain', 'last_modified': '2024-05-30T13:53:09'}),\n",
       " Document(page_content='the two sisters were horrified and became pale with rage, he,\\n\\nhowever, took cinderella on his horse and rode away with her. As\\n\\nthey passed by the hazel-tree, the two white doves cried -\\n\\nturn and peep, turn and peep,\\n\\nno blood is in the shoe,\\n\\nthe shoe is not too small for her,\\n\\nthe true bride rides with you,\\n\\nand when they had cried that, the two came flying down and', metadata={'filename': 'sample.txt', 'filetype': 'text/plain', 'last_modified': '2024-05-30T13:53:09'}),\n",
       " Document(page_content=\"placed themselves on cinderella's shoulders, one on the right,\\n\\nthe other on the left, and remained sitting there.\\n\\nWhen the wedding with the king's son was to be celebrated, the\\n\\ntwo false sisters came and wanted to get into favor with\\n\\ncinderella and share her good fortune. When the betrothed\\n\\ncouple went to church, the elder was at the right side and the\", metadata={'filename': 'sample.txt', 'filetype': 'text/plain', 'last_modified': '2024-05-30T13:53:09'}),\n",
       " Document(page_content='younger at the left, and the pigeons pecked out one eye from\\n\\neach of them. Afterwards as they came back the elder was at\\n\\nthe left, and the younger at the right, and then the pigeons\\n\\npecked out the other eye from each. And thus, for their\\n\\nwickedness and falsehood, they were punished with blindness\\n\\nall their days.', metadata={'filename': 'sample.txt', 'filetype': 'text/plain', 'last_modified': '2024-05-30T13:53:09'})]"
      ]
     },
     "execution_count": 8,
     "metadata": {},
     "output_type": "execute_result"
    }
   ],
   "execution_count": 8
  },
  {
   "metadata": {
    "ExecuteTime": {
     "end_time": "2024-06-07T17:10:22.885142Z",
     "start_time": "2024-06-07T17:10:22.569436Z"
    }
   },
   "cell_type": "code",
   "source": [
    "from indox.vector_stores import ChromaVectorStore\n",
    "db = ChromaVectorStore(embedding=embed_hf,collection_name=\"sample\")"
   ],
   "id": "44008bbcee5ea3c4",
   "outputs": [],
   "execution_count": 9
  },
  {
   "metadata": {
    "ExecuteTime": {
     "end_time": "2024-06-07T17:10:22.890321Z",
     "start_time": "2024-06-07T17:10:22.885142Z"
    }
   },
   "cell_type": "code",
   "source": "Indox.connect_to_vectorstore(db)",
   "id": "ee4bf71a51f38753",
   "outputs": [
    {
     "data": {
      "text/plain": [
       "<indox.vector_stores.Chroma.ChromaVectorStore at 0x24579897710>"
      ]
     },
     "execution_count": 10,
     "metadata": {},
     "output_type": "execute_result"
    }
   ],
   "execution_count": 10
  },
  {
   "metadata": {
    "ExecuteTime": {
     "end_time": "2024-06-07T17:10:26.550018Z",
     "start_time": "2024-06-07T17:10:22.891327Z"
    }
   },
   "cell_type": "code",
   "source": "Indox.store_in_vectorstore(docs)",
   "id": "e6dd9f2715240848",
   "outputs": [
    {
     "data": {
      "text/plain": [
       "<indox.vector_stores.Chroma.ChromaVectorStore at 0x24579897710>"
      ]
     },
     "execution_count": 11,
     "metadata": {},
     "output_type": "execute_result"
    }
   ],
   "execution_count": 11
  },
  {
   "metadata": {
    "ExecuteTime": {
     "end_time": "2024-06-07T17:10:26.554061Z",
     "start_time": "2024-06-07T17:10:26.551023Z"
    }
   },
   "cell_type": "code",
   "source": "query = \"How cinderella reach her happy ending?\"",
   "id": "e62b523d8d6f79ba",
   "outputs": [],
   "execution_count": 12
  },
  {
   "metadata": {
    "ExecuteTime": {
     "end_time": "2024-06-07T17:10:26.557986Z",
     "start_time": "2024-06-07T17:10:26.555066Z"
    }
   },
   "cell_type": "code",
   "source": "retriever = Indox.QuestionAnswer(vector_database=db,llm=mistral_qa,top_k=5)",
   "id": "843a4e2fbd95d9a3",
   "outputs": [],
   "execution_count": 13
  },
  {
   "metadata": {
    "ExecuteTime": {
     "end_time": "2024-06-07T17:10:27.887271Z",
     "start_time": "2024-06-07T17:10:26.559991Z"
    }
   },
   "cell_type": "code",
   "source": "retriever.invoke(query=query)",
   "id": "f8a0b742b3b529ac",
   "outputs": [
    {
     "data": {
      "text/plain": [
       "\"Cinderella reached her happy ending by continuing to attend the royal festival each day and using the help of her magical bird friend to transform into her beautiful dress. She eventually caught the prince's attention, they fell in love, and he discovered her true identity. The royal wedding followed, and Cinderella lived happily ever after with her prince.\""
      ]
     },
     "execution_count": 14,
     "metadata": {},
     "output_type": "execute_result"
    }
   ],
   "execution_count": 14
  },
  {
   "metadata": {
    "ExecuteTime": {
     "end_time": "2024-06-07T17:10:27.892825Z",
     "start_time": "2024-06-07T17:10:27.888288Z"
    }
   },
   "cell_type": "code",
   "source": "retriever.context",
   "id": "531c9228bb99d760",
   "outputs": [
    {
     "data": {
      "text/plain": [
       "['by the hearth in the cinders. And as on that account she always\\n\\nlooked dusty and dirty, they called her cinderella.\\n\\nIt happened that the father was once going to the fair, and he\\n\\nasked his two step-daughters what he should bring back for them.\\n\\nBeautiful dresses, said one, pearls and jewels, said the second.\\n\\nAnd you, cinderella, said he, what will you have. Father',\n",
       " 'cinderella expressed a wish, the bird threw down to her what she\\n\\nhad wished for.\\n\\nIt happened, however, that the king gave orders for a festival\\n\\nwhich was to last three days, and to which all the beautiful young\\n\\ngirls in the country were invited, in order that his son might choose\\n\\nhimself a bride. When the two step-sisters heard that they too were',\n",
       " 'know where she was gone. He waited until her father came, and\\n\\nsaid to him, the unknown maiden has escaped from me, and I\\n\\nbelieve she has climbed up the pear-tree. The father thought,\\n\\ncan it be cinderella. And had an axe brought and cut the\\n\\ntree down, but no one was on it. And when they got into the\\n\\nkitchen, cinderella lay there among the ashes, as usual, for she',\n",
       " 'and had run to the little hazel-tree, and there she had taken off\\n\\nher beautiful clothes and laid them on the grave, and the bird had\\n\\ntaken them away again, and then she had seated herself in the\\n\\nkitchen amongst the ashes in her grey gown.\\n\\nNext day when the festival began afresh, and her parents and\\n\\nthe step-sisters had gone once more, cinderella went to the\\n\\nhazel-tree and said -',\n",
       " \"had jumped down on the other side of the tree, had taken the\\n\\nbeautiful dress to the bird on the little hazel-tree, and put on her\\n\\ngrey gown.\\n\\nOn the third day, when the parents and sisters had gone away,\\n\\ncinderella went once more to her mother's grave and said to the\"]"
      ]
     },
     "execution_count": 15,
     "metadata": {},
     "output_type": "execute_result"
    }
   ],
   "execution_count": 15
  },
  {
   "metadata": {},
   "cell_type": "markdown",
   "source": "## AgenticRag",
   "id": "de5612c9d2e1aa11"
  },
  {
   "metadata": {
    "ExecuteTime": {
     "end_time": "2024-06-07T17:10:27.897031Z",
     "start_time": "2024-06-07T17:10:27.893833Z"
    }
   },
   "cell_type": "code",
   "source": "agent = Indox.AgenticRag(llm=mistral_qa,vector_database=db,top_k=5)",
   "id": "2f0c0f2e26d3dfab",
   "outputs": [],
   "execution_count": 16
  },
  {
   "metadata": {
    "ExecuteTime": {
     "end_time": "2024-06-07T17:10:39.579500Z",
     "start_time": "2024-06-07T17:10:27.898049Z"
    }
   },
   "cell_type": "code",
   "source": "agent.run(query)",
   "id": "986f2da25a69d7a7",
   "outputs": [
    {
     "name": "stdout",
     "output_type": "stream",
     "text": [
      "0\n",
      "                yes\n",
      "1\n",
      "                Although the document mentions Cinderella, it is not describing or discussing how she reached her happy ending. Instead it is discussing the events leading up to the point where she attains her goal.\n",
      "2\n",
      "                Score: yes\n",
      "3\n",
      "               Yes.\n",
      "4\n",
      "                no.\n"
     ]
    },
    {
     "data": {
      "text/plain": [
       "\"The classic version of Cinderella's story concludes with her receiving a glass slipper that fits her perfectly, allowing her to identify herself to the prince and live happily ever after in the palace as his wife. This version often includes elements such as Fairy Godmother, a pumpkin carriage, and magic transformations, but the main idea is that Cinderella's kind and beautiful nature eventually leads to her finding true love and a wealthy, happy life.\""
      ]
     },
     "execution_count": 17,
     "metadata": {},
     "output_type": "execute_result"
    }
   ],
   "execution_count": 17
  },
  {
   "metadata": {},
   "cell_type": "code",
   "outputs": [],
   "execution_count": null,
   "source": "",
   "id": "4612bd9e22df17a6"
  }
 ],
 "metadata": {
  "kernelspec": {
   "display_name": "Python 3",
   "language": "python",
   "name": "python3"
  },
  "language_info": {
   "codemirror_mode": {
    "name": "ipython",
    "version": 2
   },
   "file_extension": ".py",
   "mimetype": "text/x-python",
   "name": "python",
   "nbconvert_exporter": "python",
   "pygments_lexer": "ipython2",
   "version": "2.7.6"
  }
 },
 "nbformat": 4,
 "nbformat_minor": 5
}
