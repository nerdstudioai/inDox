{
 "cells": [
  {
   "cell_type": "code",
   "id": "initial_id",
   "metadata": {
    "collapsed": true,
    "ExecuteTime": {
     "end_time": "2024-06-03T08:37:45.897529Z",
     "start_time": "2024-06-03T08:37:45.874969Z"
    }
   },
   "source": [
    "import os\n",
    "from dotenv import load_dotenv\n",
    "\n",
    "load_dotenv()\n",
    "HUGGINGFACE_API_KEY = os.getenv('HUGGINGFACE_API_KEY')\n",
    "INDOX_OPENAI_API_KEY = os.getenv(\"INDOX_OPENAI_API_KEY\")"
   ],
   "outputs": [],
   "execution_count": 1
  },
  {
   "cell_type": "code",
   "source": [
    "from indox import IndoxRetrievalAugmentation\n",
    "from indox.qa_models import MistralQA\n",
    "from indox.embeddings import HuggingFaceEmbedding\n",
    "from indox.data_loader_splitter import UnstructuredLoadAndSplit\n",
    "from indox.data_loader_splitter import ClusteredSplit"
   ],
   "metadata": {
    "collapsed": false,
    "ExecuteTime": {
     "end_time": "2024-06-03T08:38:11.247749Z",
     "start_time": "2024-06-03T08:37:47.517854Z"
    }
   },
   "id": "8b9470496cd9a78d",
   "outputs": [],
   "execution_count": 2
  },
  {
   "cell_type": "code",
   "source": [
    "# from indox.qa_models import IndoxApiOpenAiQa\n",
    "# from indox.embeddings import IndoxOpenAIEmbedding"
   ],
   "metadata": {
    "collapsed": false,
    "ExecuteTime": {
     "end_time": "2024-06-01T07:03:05.328260Z",
     "start_time": "2024-06-01T07:03:05.324497Z"
    }
   },
   "id": "f8a7d2daebcb3e05",
   "outputs": [],
   "execution_count": 3
  },
  {
   "cell_type": "code",
   "source": [
    "Indox = IndoxRetrievalAugmentation()"
   ],
   "metadata": {
    "collapsed": false,
    "ExecuteTime": {
     "end_time": "2024-06-03T08:38:12.670560Z",
     "start_time": "2024-06-03T08:38:12.667134Z"
    }
   },
   "id": "c279c0844b08ffc2",
   "outputs": [],
   "execution_count": 3
  },
  {
   "cell_type": "code",
   "source": [
    "# Using Mistral from HuggingFace\n",
    "mistral_qa = MistralQA(api_key=HUGGINGFACE_API_KEY,model=\"mistralai/Mistral-7B-Instruct-v0.2\")\n",
    "embed_hf = HuggingFaceEmbedding(model=\"multi-qa-mpnet-base-cos-v1\")"
   ],
   "metadata": {
    "collapsed": false,
    "ExecuteTime": {
     "end_time": "2024-06-03T08:38:26.472122Z",
     "start_time": "2024-06-03T08:38:19.117704Z"
    }
   },
   "id": "b148f974e049da86",
   "outputs": [],
   "execution_count": 4
  },
  {
   "cell_type": "code",
   "source": [
    "# Using OpenAi for qa and embedding from Indox\n",
    "# qa_indox_api_openai = IndoxApiOpenAiQa(api_key=INDOX_OPENAI_API_KEY)\n",
    "# embed_indox_api_openai = IndoxOpenAIEmbedding(api_key=INDOX_OPENAI_API_KEY,model=\"text-embedding-ada-002\")"
   ],
   "metadata": {
    "collapsed": false,
    "ExecuteTime": {
     "end_time": "2024-06-01T07:03:14.653361Z",
     "start_time": "2024-06-01T07:03:14.648562Z"
    }
   },
   "id": "4673310d4207f8b1",
   "outputs": [],
   "execution_count": 6
  },
  {
   "cell_type": "code",
   "source": [
    "file_path = \"sample.txt\""
   ],
   "metadata": {
    "collapsed": false,
    "ExecuteTime": {
     "end_time": "2024-06-03T08:38:32.927012Z",
     "start_time": "2024-06-03T08:38:32.923258Z"
    }
   },
   "id": "7df145b7b6f380df",
   "outputs": [],
   "execution_count": 5
  },
  {
   "cell_type": "markdown",
   "source": [
    "# Load and Split with Unstructured library"
   ],
   "metadata": {
    "collapsed": false
   },
   "id": "f5f0a9edfc21686b"
  },
  {
   "metadata": {
    "ExecuteTime": {
     "end_time": "2024-06-03T09:04:06.536465Z",
     "start_time": "2024-06-03T09:04:06.495813Z"
    }
   },
   "cell_type": "code",
   "source": "from indox.splitter import semantic_text_splitter",
   "id": "787f6168c07cfb82",
   "outputs": [],
   "execution_count": 34
  },
  {
   "cell_type": "code",
   "source": "loader_splitter = UnstructuredLoadAndSplit(file_path=file_path,max_chunk_size=400,splitter=semantic_text_splitter)",
   "metadata": {
    "collapsed": false,
    "ExecuteTime": {
     "end_time": "2024-06-03T09:04:22.476863Z",
     "start_time": "2024-06-03T09:04:22.472984Z"
    }
   },
   "id": "adb521f8180b01f0",
   "outputs": [],
   "execution_count": 35
  },
  {
   "metadata": {
    "ExecuteTime": {
     "end_time": "2024-06-03T09:04:26.015934Z",
     "start_time": "2024-06-03T09:04:24.097515Z"
    }
   },
   "cell_type": "code",
   "source": "docs = loader_splitter.load_and_chunk()",
   "id": "a48af0598642ba38",
   "outputs": [],
   "execution_count": 36
  },
  {
   "metadata": {
    "ExecuteTime": {
     "end_time": "2024-06-03T09:04:32.593316Z",
     "start_time": "2024-06-03T09:04:32.588809Z"
    }
   },
   "cell_type": "code",
   "source": "docs",
   "id": "f341b67998a4f526",
   "outputs": [
    {
     "data": {
      "text/plain": [
       "[\"The wife of a rich man fell sick, and as she felt that her endwas drawing near, she called her only daughter to her bedside andsaid, dear child, be good and pious, and then thegood God will always protect you, and I will look down on youfrom heaven and be near you. Thereupon she closed her eyes anddeparted. Every day the maiden went out to her mother's grave,and wept, and she remained pious and good. When winter camethe snow spread a white sheet over the grave, and by the time thespring sun had drawn it off again, the man had taken another wife.The woman had brought with her into the house two daughters,who were beautiful and fair of face, but vile and black of heart.Now began a bad time for the poor step-child. Is the stupid gooseto sit in the parlor with us, they said. He who wants to eat breadmust earn it. Out with the kitchen-wench. They took her prettyclothes away from her, put an old grey bedgown on her, and gaveher wooden shoes. Just look at the proud princess, how deckedout she is, they cried, and laughed, and led her into the kitchen.There she had to do hard work from morning till night, get upbefore daybreak, carry water, light fires, cook and wash. Besidesthis, the sisters did her every imaginable injury - they mocked herand emptied her peas and lentils into the ashes, so that she wasforced to sit and pick them out again. In the evening when she hadworked till she was weary she had no bed to go to, but had to sleepby the hearth in the cinders.\",\n",
       " \"And as on that account she alwayslooked dusty and dirty, they called her cinderella.It happened that the father was once going to the fair, and heasked his two step-daughters what he should bring back for them.Beautiful dresses, said one, pearls and jewels, said the second.And you, cinderella, said he, what will you have. Fatherbreak off for me the first branch which knocks against your hat onyour way home. So he bought beautiful dresses, pearls and jewelsfor his two step-daughters, and on his way home, as he was ridingthrough a green thicket, a hazel twig brushed against him andknocked off his hat. Then he broke off the branch and took it withhim. When he reached home he gave his step-daughters the thingswhich they had wished for, and to cinderella he gave the branchfrom the hazel-bush. Cinderella thanked him, went to her mother'sgrave and planted the branch on it, and wept so much that the tearsfell down on it and watered it. And it grew and became a handsometree. Thrice a day cinderella went and sat beneath it, and wept andprayed, and a little white bird always came on the tree, and ifcinderella expressed a wish, the bird threw down to her what shehad wished for.It happened, however, that the king gave orders for a festivalwhich was to last three days, and to which all the beautiful younggirls in the country were invited, in order that his son might choosehimself a bride.\",\n",
       " \"When the two step-sisters heard that they too wereto appear among the number, they were delighted, called cinderellaand said, comb our hair for us, brush our shoes and fasten ourbuckles, for we are going to the wedding at the king's palace.Cinderella obeyed, but wept, because she too would have liked togo with them to the dance, and begged her step-mother to allowher to do so. You go, cinderella, said she, covered in dust anddirt as you are, and would go to the festival. You have no clothesand shoes, and yet would dance. As, however, cinderella went onasking, the step-mother said at last, I have emptied a dish oflentils into the ashes for you, if you have picked them out again intwo hours, you shall go with us. The maiden went through theback-door into the garden, and called, you tame pigeons, youturtle-doves, and all you birds beneath the sky, come and help meto pickthe good into the pot,the bad into the crop.Then two white pigeons came in by the kitchen window, andafterwards the turtle-doves, and at last all the birds beneath thesky, came whirring and crowding in, and alighted amongst the ashes.And the pigeons nodded with their heads and began pick, pick,pick, pick, and the rest began also pick, pick, pick, pick, andgathered all the good grains into the dish. Hardly had one hourpassed before they had finished, and all flew out again. Then thegirl took the dish to her step-mother, and was glad, and believedthat now she would be allowed to go with them to the festival.But the step-mother said, no, cinderella, you have no clothes andyou can not dance. You would only be laughed at.\",\n",
       " \"And ascinderella wept at this, the step-mother said, if you can pick twodishes of lentils out of the ashes for me in one hour, you shall gowith us. And she thought to herself, that she most certainlycannot do again. When the step-mother had emptied the twodishes of lentils amongst the ashes, the maiden went through theback-door into the garden and cried, you tame pigeons, youturtle-doves, and all you birds beneath the sky, come and help meto pickthe good into the pot,the bad into the crop.Then two white pigeons came in by the kitchen-window, andafterwards the turtle-doves, and at length all the birds beneath thesky, came whirring and crowding in, and alighted amongst theashes. And the doves nodded with their heads and began pick,pick, pick, pick, and the others began also pick, pick, pick, pick,and gathered all the good seeds into the dishes, and before half anhour was over they had already finished, and all flew out again.Then the maiden was delighted, and believed that she might now gowith them to the wedding. But the step-mother said, all this willnot help. You cannot go with us, for you have no clothes and cannot dance. We should be ashamed of you. On this she turned herback on cinderella, and hurried away with her two proud daughters.As no one was now at home, cinderella went to her mother'sgrave beneath the hazel-tree, and cried -shiver and quiver, little tree,silver and gold throw down over me.Then the bird threw a gold and silver dress down to her, andslippers embroidered with silk and silver. She put on the dresswith all speed, and went to the wedding.\",\n",
       " \"Her step-sisters and thestep-mother however did not know her, and thought she must be aforeign princess, for she looked so beautiful in the golden dress.They never once thought of cinderella, and believed that she wassitting at home in the dirt, picking lentils out of the ashes. Theprince approached her, took her by the hand and danced with her.He would dance with no other maiden, and never let loose of herhand, and if any one else came to invite her, he said, this is mypartner.She danced till it was evening, and then she wanted to go home.But the king's son said, I will go with you and bear you company,for he wished to see to whom the beautiful maiden belonged.She escaped from him, however, and sprang into thepigeon-house. The king's son waited until her father came, andthen he told him that the unknown maiden had leapt into thepigeon-house. The old man thought, can it be cinderella. Andthey had to bring him an axe and a pickaxe that he might hewthe pigeon-house to pieces, but no one was inside it.\",\n",
       " \"And when theygot home cinderella lay in her dirty clothes among the ashes, anda dim little oil-lamp was burning on the mantle-piece, forcinderella had jumped quickly down from the back of the pigeon-houseand had run to the little hazel-tree, and there she had taken offher beautiful clothes and laid them on the grave, and the bird hadtaken them away again, and then she had seated herself in thekitchen amongst the ashes in her grey gown.Next day when the festival began afresh, and her parents andthe step-sisters had gone once more, cinderella went to thehazel-tree and said -shiver and quiver, my little tree,silver and gold throw down over me.Then the bird threw down a much more beautiful dress than onthe preceding day. And when cinderella appeared at the weddingin this dress, every one was astonished at her beauty. The king'sson had waited until she came, and instantly took her by the handand danced with no one but her. When others came and invitedher, he said, this is my partner. When evening came she wishedto leave, and the king's son followed her and wanted to see intowhich house she went. But she sprang away from him, and intothe garden behind the house. Therein stood a beautiful tall tree onwhich hung the most magnificent pears. She clambered so nimblybetween the branches like a squirrel that the king's son did notknow where she was gone. He waited until her father came, andsaid to him, the unknown maiden has escaped from me, and Ibelieve she has climbed up the pear-tree. The father thought,can it be cinderella. And had an axe brought and cut thetree down, but no one was on it.\",\n",
       " \"And when they got into thekitchen, cinderella lay there among the ashes, as usual, for shehad jumped down on the other side of the tree, had taken thebeautiful dress to the bird on the little hazel-tree, and put on hergrey gown.On the third day, when the parents and sisters had gone away,cinderella went once more to her mother's grave and said to thelittle tree -shiver and quiver, my little tree,silver and gold throw down over me.And now the bird threw down to her a dress which was moresplendid and magnificent than any she had yet had, and theslippers were golden. And when she went to the festival in thedress, no one knew how to speak for astonishment. The king's sondanced with her only, and if any one invited her to dance, he saidthis is my partner.When evening came, cinderella wished to leave, and the king'sson was anxious to go with her, but she escaped from him so quicklythat he could not follow her. The king's son, however, hademployed a ruse, and had caused the whole staircase to be smearedwith pitch, and there, when she ran down, had the maiden's leftslipper remained stuck. The king's son picked it up, and it wassmall and dainty, and all golden. Next morning, he went with it tothe father, and said to him, no one shall be my wife but she whosefoot this golden slipper fits. Then were the two sisters glad,for they had pretty feet. The eldest went with the shoe into herroom and wanted to try it on, and her mother stood by. But shecould not get her big toe into it, and the shoe was too small forher.\",\n",
       " \"Then her mother gave her a knife and said, cut the toe off,when you are queen you will have no more need to go on foot. Themaiden cut the toe off, forced the foot into the shoe, swallowedthe pain, and went out to the king's son. Then he took her on hishis horse as his bride and rode away with her. They wereobliged, however, to pass the grave, and there, on the hazel-tree,sat the two pigeons and cried -turn and peep, turn and peep,there's blood within the shoe,the shoe it is too small for her,the true bride waits for you.Then he looked at her foot and saw how the blood was tricklingfrom it. He turned his horse round and took the false bridehome again, and said she was not the true one, and that theother sister was to put the shoe on. Then this one went into herchamber and got her toes safely into the shoe, but her heel wastoo large. So her mother gave her a knife and said,  cut a bitoff your heel, when you are queen you will have no more needto go on foot. The maiden cut a bit off her heel, forcedher foot into the shoe, swallowed the pain, and went out to theking's son. He took her on his horse as his bride, and rode awaywith her, but when they passed by the hazel-tree, the two pigeonssat on it and cried -turn and peep, turn and peep,there's blood within the shoe,the shoe it is too small for her,the true bride waits for you.He looked down at her foot and saw how the blood was runningout of her shoe, and how it had stained her white stocking quitered. Then he turned his horse and took the false bride homeagain.\",\n",
       " \"This also is not the right one, said he, have you noother daughter. No, said the man, there is still a littlestunted kitchen-wench which my late wife left behind her, butshe cannot possibly be the bride. The king's son said he wasto send her up to him, but the mother answered, oh, no, she ismuch too dirty, she cannot show herself. But he absolutelyinsisted on it, and cinderella had to be called. She firstwashed her hands and face clean, and then went and bowed downbefore the king's son, who gave her the golden shoe. Then sheseated herself on a stool, drew her foot out of the heavywooden shoe, and put it into the slipper, which fitted like aglove. And when she rose up and the king's son looked at herface he recognized the beautiful maiden who had danced withhim and cried, that is the true bride. The step-mother andthe two sisters were horrified and became pale with rage, he,however, took cinderella on his horse and rode away with her. Asthey passed by the hazel-tree, the two white doves cried -turn and peep, turn and peep,no blood is in the shoe,the shoe is not too small for her,the true bride rides with you,and when they had cried that, the two came flying down andplaced themselves on cinderella's shoulders, one on the right,the other on the left, and remained sitting there.When the wedding with the king's son was to be celebrated, thetwo false sisters came and wanted to get into favor withcinderella and share her good fortune. When the betrothedcouple went to church, the elder was at the right side and theyounger at the left, and the pigeons pecked out one eye fromeach of them.\",\n",
       " 'Afterwards as they came back the elder was atthe left, and the younger at the right, and then the pigeonspecked out the other eye from each. And thus, for theirwickedness and falsehood, they were punished with blindnessall their days.']"
      ]
     },
     "execution_count": 38,
     "metadata": {},
     "output_type": "execute_result"
    }
   ],
   "execution_count": 38
  },
  {
   "metadata": {
    "ExecuteTime": {
     "end_time": "2024-06-03T08:40:56.139972Z",
     "start_time": "2024-06-03T08:40:55.086969Z"
    }
   },
   "cell_type": "code",
   "source": [
    "from indox.vector_stores import ChromaVectorStore\n",
    "db = ChromaVectorStore(embedding=embed_hf,collection_name=\"sample\")"
   ],
   "id": "53bf86ec8509230",
   "outputs": [],
   "execution_count": 21
  },
  {
   "cell_type": "code",
   "source": "Indox.connect_to_vectorstore(db)",
   "metadata": {
    "collapsed": false,
    "ExecuteTime": {
     "end_time": "2024-06-03T08:41:04.053955Z",
     "start_time": "2024-06-03T08:41:04.049890Z"
    }
   },
   "id": "30236e1432254709",
   "outputs": [
    {
     "data": {
      "text/plain": [
       "<indox.vector_stores.Chroma.ChromaVectorStore at 0x20c8e9bc1a0>"
      ]
     },
     "execution_count": 22,
     "metadata": {},
     "output_type": "execute_result"
    }
   ],
   "execution_count": 22
  },
  {
   "cell_type": "code",
   "source": "Indox.store_in_vectorstore(docs)",
   "metadata": {
    "collapsed": false,
    "ExecuteTime": {
     "end_time": "2024-06-03T08:41:13.386355Z",
     "start_time": "2024-06-03T08:41:09.495011Z"
    }
   },
   "id": "2f76a288442d0957",
   "outputs": [
    {
     "data": {
      "text/plain": [
       "<indox.vector_stores.Chroma.ChromaVectorStore at 0x20c8e9bc1a0>"
      ]
     },
     "execution_count": 23,
     "metadata": {},
     "output_type": "execute_result"
    }
   ],
   "execution_count": 23
  },
  {
   "cell_type": "code",
   "source": [
    "query = \"How cinderella reach her happy ending?\""
   ],
   "metadata": {
    "collapsed": false,
    "ExecuteTime": {
     "end_time": "2024-06-03T08:41:14.642923Z",
     "start_time": "2024-06-03T08:41:14.640275Z"
    }
   },
   "id": "3cfe4418fe997c5e",
   "outputs": [],
   "execution_count": 24
  },
  {
   "cell_type": "code",
   "source": "response = Indox.answer_question(query=query,qa_model=mistral_qa,generate_clustered_prompts=False,document_relevancy_filter=False)",
   "metadata": {
    "collapsed": false,
    "ExecuteTime": {
     "end_time": "2024-06-03T08:41:18.689317Z",
     "start_time": "2024-06-03T08:41:15.241023Z"
    }
   },
   "id": "2ca61790103f1eec",
   "outputs": [],
   "execution_count": 25
  },
  {
   "cell_type": "code",
   "source": [
    "response[0]"
   ],
   "metadata": {
    "collapsed": false,
    "ExecuteTime": {
     "end_time": "2024-06-03T08:41:20.033113Z",
     "start_time": "2024-06-03T08:41:20.028835Z"
    }
   },
   "id": "acea9ac8b16dcd11",
   "outputs": [
    {
     "data": {
      "text/plain": [
       "\"Cinderella reaches her happy ending by receiving help from a mysterious bird. The bird grants her magical clothes and allows her to attend a royal ball where she catches the eye of the prince. When the prince realizes he cannot find her after the ball, Cinderella's step-sisters falsely accuse her of running away, causing their father to destroy the pear tree where Cinderella had left her beautiful clothes. However, on the third day of the festival, C\""
      ]
     },
     "execution_count": 26,
     "metadata": {},
     "output_type": "execute_result"
    }
   ],
   "execution_count": 26
  },
  {
   "metadata": {
    "ExecuteTime": {
     "end_time": "2024-06-03T08:41:20.903997Z",
     "start_time": "2024-06-03T08:41:20.899303Z"
    }
   },
   "cell_type": "code",
   "source": "response[1][0]",
   "id": "2eca7d5b3ee4a8d8",
   "outputs": [
    {
     "data": {
      "text/plain": [
       "['by the hearth in the cinders. And as on that account she always\\n\\nlooked dusty and dirty, they called her cinderella.\\n\\nIt happened that the father was once going to the fair, and he\\n\\nasked his two step-daughters what he should bring back for them.\\n\\nBeautiful dresses, said one, pearls and jewels, said the second.\\n\\nAnd you, cinderella, said he, what will you have. Father',\n",
       " 'cinderella expressed a wish, the bird threw down to her what she\\n\\nhad wished for.\\n\\nIt happened, however, that the king gave orders for a festival\\n\\nwhich was to last three days, and to which all the beautiful young\\n\\ngirls in the country were invited, in order that his son might choose\\n\\nhimself a bride. When the two step-sisters heard that they too were',\n",
       " 'know where she was gone. He waited until her father came, and\\n\\nsaid to him, the unknown maiden has escaped from me, and I\\n\\nbelieve she has climbed up the pear-tree. The father thought,\\n\\ncan it be cinderella. And had an axe brought and cut the\\n\\ntree down, but no one was on it. And when they got into the\\n\\nkitchen, cinderella lay there among the ashes, as usual, for she',\n",
       " 'and had run to the little hazel-tree, and there she had taken off\\n\\nher beautiful clothes and laid them on the grave, and the bird had\\n\\ntaken them away again, and then she had seated herself in the\\n\\nkitchen amongst the ashes in her grey gown.\\n\\nNext day when the festival began afresh, and her parents and\\n\\nthe step-sisters had gone once more, cinderella went to the\\n\\nhazel-tree and said -',\n",
       " \"had jumped down on the other side of the tree, had taken the\\n\\nbeautiful dress to the bird on the little hazel-tree, and put on her\\n\\ngrey gown.\\n\\nOn the third day, when the parents and sisters had gone away,\\n\\ncinderella went once more to her mother's grave and said to the\"]"
      ]
     },
     "execution_count": 27,
     "metadata": {},
     "output_type": "execute_result"
    }
   ],
   "execution_count": 27
  },
  {
   "cell_type": "code",
   "source": "len(response[1][0])",
   "metadata": {
    "collapsed": false,
    "ExecuteTime": {
     "end_time": "2024-06-03T08:41:24.493306Z",
     "start_time": "2024-06-03T08:41:24.488654Z"
    }
   },
   "id": "edb8bd1ba3f3da74",
   "outputs": [
    {
     "data": {
      "text/plain": [
       "5"
      ]
     },
     "execution_count": 28,
     "metadata": {},
     "output_type": "execute_result"
    }
   ],
   "execution_count": 28
  },
  {
   "metadata": {},
   "cell_type": "code",
   "outputs": [],
   "execution_count": null,
   "source": "",
   "id": "6b06e6bcfca88def"
  }
 ],
 "metadata": {
  "kernelspec": {
   "display_name": "Python 3",
   "language": "python",
   "name": "python3"
  },
  "language_info": {
   "codemirror_mode": {
    "name": "ipython",
    "version": 2
   },
   "file_extension": ".py",
   "mimetype": "text/x-python",
   "name": "python",
   "nbconvert_exporter": "python",
   "pygments_lexer": "ipython2",
   "version": "2.7.6"
  }
 },
 "nbformat": 4,
 "nbformat_minor": 5
}
