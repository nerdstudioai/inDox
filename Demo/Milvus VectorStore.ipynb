{
 "cells": [
  {
   "metadata": {},
   "cell_type": "raw",
   "source": [
    "---\n",
    "Title: Milvus\n",
    "---"
   ],
   "id": "3678fb5276f420e"
  },
  {
   "metadata": {},
   "cell_type": "markdown",
   "source": "[![Open In Colab](https://colab.research.google.com/assets/colab-badge.svg)](https://colab.research.google.com/github/osllmai/inDox/blob/feature/milvus/Demo/Milvus.ipynb)",
   "id": "e1c6f14d66028af0"
  },
  {
   "metadata": {
    "ExecuteTime": {
     "end_time": "2024-08-19T07:04:26.656781Z",
     "start_time": "2024-08-19T07:04:15.915668Z"
    }
   },
   "cell_type": "code",
   "source": [
    "!pip install indox\n",
    "!pip install openai\n",
    "!pip install pymilvus"
   ],
   "id": "c01cb3001355800c",
   "outputs": [
    {
     "name": "stdout",
     "output_type": "stream",
     "text": [
      "Requirement already satisfied: indox in c:\\users\\rayansabz\\downloads\\indoxjudge-feature-visualization_2\\venv\\lib\\site-packages (0.1.19)\n",
      "Requirement already satisfied: latex2markdown in c:\\users\\rayansabz\\downloads\\indoxjudge-feature-visualization_2\\venv\\lib\\site-packages (from indox) (0.2.1)\n",
      "Requirement already satisfied: loguru in c:\\users\\rayansabz\\downloads\\indoxjudge-feature-visualization_2\\venv\\lib\\site-packages (from indox) (0.7.2)\n",
      "Requirement already satisfied: nltk in c:\\users\\rayansabz\\downloads\\indoxjudge-feature-visualization_2\\venv\\lib\\site-packages (from indox) (3.8.1)\n",
      "Requirement already satisfied: numpy in c:\\users\\rayansabz\\downloads\\indoxjudge-feature-visualization_2\\venv\\lib\\site-packages (from indox) (1.26.4)\n",
      "Requirement already satisfied: pandas in c:\\users\\rayansabz\\downloads\\indoxjudge-feature-visualization_2\\venv\\lib\\site-packages (from indox) (2.0.3)\n",
      "Requirement already satisfied: protobuf in c:\\users\\rayansabz\\downloads\\indoxjudge-feature-visualization_2\\venv\\lib\\site-packages (from indox) (5.27.2)\n",
      "Requirement already satisfied: pydantic in c:\\users\\rayansabz\\downloads\\indoxjudge-feature-visualization_2\\venv\\lib\\site-packages (from indox) (2.8.2)\n",
      "Requirement already satisfied: PyPDF2 in c:\\users\\rayansabz\\downloads\\indoxjudge-feature-visualization_2\\venv\\lib\\site-packages (from indox) (3.0.1)\n",
      "Requirement already satisfied: python-dotenv in c:\\users\\rayansabz\\downloads\\indoxjudge-feature-visualization_2\\venv\\lib\\site-packages (from indox) (1.0.1)\n",
      "Requirement already satisfied: Requests in c:\\users\\rayansabz\\downloads\\indoxjudge-feature-visualization_2\\venv\\lib\\site-packages (from indox) (2.32.3)\n",
      "Requirement already satisfied: setuptools in c:\\users\\rayansabz\\downloads\\indoxjudge-feature-visualization_2\\venv\\lib\\site-packages (from indox) (69.1.1)\n",
      "Requirement already satisfied: tenacity in c:\\users\\rayansabz\\downloads\\indoxjudge-feature-visualization_2\\venv\\lib\\site-packages (from indox) (8.2.3)\n",
      "Requirement already satisfied: tiktoken in c:\\users\\rayansabz\\downloads\\indoxjudge-feature-visualization_2\\venv\\lib\\site-packages (from indox) (0.6.0)\n",
      "Requirement already satisfied: tokenizers in c:\\users\\rayansabz\\downloads\\indoxjudge-feature-visualization_2\\venv\\lib\\site-packages (from indox) (0.15.2)\n",
      "Requirement already satisfied: umap-learn in c:\\users\\rayansabz\\downloads\\indoxjudge-feature-visualization_2\\venv\\lib\\site-packages (from indox) (0.5.6)\n",
      "Requirement already satisfied: unstructured in c:\\users\\rayansabz\\downloads\\indoxjudge-feature-visualization_2\\venv\\lib\\site-packages (from indox) (0.11.8)\n",
      "Requirement already satisfied: colorama>=0.3.4 in c:\\users\\rayansabz\\downloads\\indoxjudge-feature-visualization_2\\venv\\lib\\site-packages (from loguru->indox) (0.4.6)\n",
      "Requirement already satisfied: win32-setctime>=1.0.0 in c:\\users\\rayansabz\\downloads\\indoxjudge-feature-visualization_2\\venv\\lib\\site-packages (from loguru->indox) (1.1.0)\n",
      "Requirement already satisfied: click in c:\\users\\rayansabz\\downloads\\indoxjudge-feature-visualization_2\\venv\\lib\\site-packages (from nltk->indox) (8.1.7)\n",
      "Requirement already satisfied: joblib in c:\\users\\rayansabz\\downloads\\indoxjudge-feature-visualization_2\\venv\\lib\\site-packages (from nltk->indox) (1.4.2)\n",
      "Requirement already satisfied: regex>=2021.8.3 in c:\\users\\rayansabz\\downloads\\indoxjudge-feature-visualization_2\\venv\\lib\\site-packages (from nltk->indox) (2024.7.24)\n",
      "Requirement already satisfied: tqdm in c:\\users\\rayansabz\\downloads\\indoxjudge-feature-visualization_2\\venv\\lib\\site-packages (from nltk->indox) (4.66.4)\n",
      "Requirement already satisfied: python-dateutil>=2.8.2 in c:\\users\\rayansabz\\downloads\\indoxjudge-feature-visualization_2\\venv\\lib\\site-packages (from pandas->indox) (2.9.0.post0)\n",
      "Requirement already satisfied: pytz>=2020.1 in c:\\users\\rayansabz\\downloads\\indoxjudge-feature-visualization_2\\venv\\lib\\site-packages (from pandas->indox) (2024.1)\n",
      "Requirement already satisfied: tzdata>=2022.1 in c:\\users\\rayansabz\\downloads\\indoxjudge-feature-visualization_2\\venv\\lib\\site-packages (from pandas->indox) (2024.1)\n",
      "Requirement already satisfied: annotated-types>=0.4.0 in c:\\users\\rayansabz\\downloads\\indoxjudge-feature-visualization_2\\venv\\lib\\site-packages (from pydantic->indox) (0.7.0)\n",
      "Requirement already satisfied: pydantic-core==2.20.1 in c:\\users\\rayansabz\\downloads\\indoxjudge-feature-visualization_2\\venv\\lib\\site-packages (from pydantic->indox) (2.20.1)\n",
      "Requirement already satisfied: typing-extensions>=4.6.1 in c:\\users\\rayansabz\\downloads\\indoxjudge-feature-visualization_2\\venv\\lib\\site-packages (from pydantic->indox) (4.12.2)\n",
      "Requirement already satisfied: charset-normalizer<4,>=2 in c:\\users\\rayansabz\\downloads\\indoxjudge-feature-visualization_2\\venv\\lib\\site-packages (from Requests->indox) (3.3.2)\n",
      "Requirement already satisfied: idna<4,>=2.5 in c:\\users\\rayansabz\\downloads\\indoxjudge-feature-visualization_2\\venv\\lib\\site-packages (from Requests->indox) (3.7)\n",
      "Requirement already satisfied: urllib3<3,>=1.21.1 in c:\\users\\rayansabz\\downloads\\indoxjudge-feature-visualization_2\\venv\\lib\\site-packages (from Requests->indox) (2.2.2)\n",
      "Requirement already satisfied: certifi>=2017.4.17 in c:\\users\\rayansabz\\downloads\\indoxjudge-feature-visualization_2\\venv\\lib\\site-packages (from Requests->indox) (2024.7.4)\n",
      "Requirement already satisfied: huggingface_hub<1.0,>=0.16.4 in c:\\users\\rayansabz\\downloads\\indoxjudge-feature-visualization_2\\venv\\lib\\site-packages (from tokenizers->indox) (0.24.5)\n",
      "Requirement already satisfied: scipy>=1.3.1 in c:\\users\\rayansabz\\downloads\\indoxjudge-feature-visualization_2\\venv\\lib\\site-packages (from umap-learn->indox) (1.14.0)\n",
      "Requirement already satisfied: scikit-learn>=0.22 in c:\\users\\rayansabz\\downloads\\indoxjudge-feature-visualization_2\\venv\\lib\\site-packages (from umap-learn->indox) (1.5.1)\n",
      "Requirement already satisfied: numba>=0.51.2 in c:\\users\\rayansabz\\downloads\\indoxjudge-feature-visualization_2\\venv\\lib\\site-packages (from umap-learn->indox) (0.60.0)\n",
      "Requirement already satisfied: pynndescent>=0.5 in c:\\users\\rayansabz\\downloads\\indoxjudge-feature-visualization_2\\venv\\lib\\site-packages (from umap-learn->indox) (0.5.13)\n",
      "Requirement already satisfied: chardet in c:\\users\\rayansabz\\downloads\\indoxjudge-feature-visualization_2\\venv\\lib\\site-packages (from unstructured->indox) (5.2.0)\n",
      "Requirement already satisfied: filetype in c:\\users\\rayansabz\\downloads\\indoxjudge-feature-visualization_2\\venv\\lib\\site-packages (from unstructured->indox) (1.2.0)\n",
      "Requirement already satisfied: python-magic in c:\\users\\rayansabz\\downloads\\indoxjudge-feature-visualization_2\\venv\\lib\\site-packages (from unstructured->indox) (0.4.27)\n",
      "Requirement already satisfied: lxml in c:\\users\\rayansabz\\downloads\\indoxjudge-feature-visualization_2\\venv\\lib\\site-packages (from unstructured->indox) (5.3.0)\n",
      "Requirement already satisfied: tabulate in c:\\users\\rayansabz\\downloads\\indoxjudge-feature-visualization_2\\venv\\lib\\site-packages (from unstructured->indox) (0.9.0)\n",
      "Requirement already satisfied: beautifulsoup4 in c:\\users\\rayansabz\\downloads\\indoxjudge-feature-visualization_2\\venv\\lib\\site-packages (from unstructured->indox) (4.12.3)\n",
      "Requirement already satisfied: emoji in c:\\users\\rayansabz\\downloads\\indoxjudge-feature-visualization_2\\venv\\lib\\site-packages (from unstructured->indox) (2.12.1)\n",
      "Requirement already satisfied: dataclasses-json in c:\\users\\rayansabz\\downloads\\indoxjudge-feature-visualization_2\\venv\\lib\\site-packages (from unstructured->indox) (0.6.7)\n",
      "Requirement already satisfied: python-iso639 in c:\\users\\rayansabz\\downloads\\indoxjudge-feature-visualization_2\\venv\\lib\\site-packages (from unstructured->indox) (2024.4.27)\n",
      "Requirement already satisfied: langdetect in c:\\users\\rayansabz\\downloads\\indoxjudge-feature-visualization_2\\venv\\lib\\site-packages (from unstructured->indox) (1.0.9)\n",
      "Requirement already satisfied: rapidfuzz in c:\\users\\rayansabz\\downloads\\indoxjudge-feature-visualization_2\\venv\\lib\\site-packages (from unstructured->indox) (3.9.6)\n",
      "Requirement already satisfied: backoff in c:\\users\\rayansabz\\downloads\\indoxjudge-feature-visualization_2\\venv\\lib\\site-packages (from unstructured->indox) (2.2.1)\n",
      "Requirement already satisfied: unstructured-client in c:\\users\\rayansabz\\downloads\\indoxjudge-feature-visualization_2\\venv\\lib\\site-packages (from unstructured->indox) (0.25.5)\n",
      "Requirement already satisfied: wrapt in c:\\users\\rayansabz\\downloads\\indoxjudge-feature-visualization_2\\venv\\lib\\site-packages (from unstructured->indox) (1.16.0)\n",
      "Requirement already satisfied: filelock in c:\\users\\rayansabz\\downloads\\indoxjudge-feature-visualization_2\\venv\\lib\\site-packages (from huggingface_hub<1.0,>=0.16.4->tokenizers->indox) (3.15.4)\n",
      "Requirement already satisfied: fsspec>=2023.5.0 in c:\\users\\rayansabz\\downloads\\indoxjudge-feature-visualization_2\\venv\\lib\\site-packages (from huggingface_hub<1.0,>=0.16.4->tokenizers->indox) (2024.6.1)\n",
      "Requirement already satisfied: packaging>=20.9 in c:\\users\\rayansabz\\downloads\\indoxjudge-feature-visualization_2\\venv\\lib\\site-packages (from huggingface_hub<1.0,>=0.16.4->tokenizers->indox) (24.1)\n",
      "Requirement already satisfied: pyyaml>=5.1 in c:\\users\\rayansabz\\downloads\\indoxjudge-feature-visualization_2\\venv\\lib\\site-packages (from huggingface_hub<1.0,>=0.16.4->tokenizers->indox) (6.0.1)\n",
      "Requirement already satisfied: llvmlite<0.44,>=0.43.0dev0 in c:\\users\\rayansabz\\downloads\\indoxjudge-feature-visualization_2\\venv\\lib\\site-packages (from numba>=0.51.2->umap-learn->indox) (0.43.0)\n",
      "Requirement already satisfied: six>=1.5 in c:\\users\\rayansabz\\downloads\\indoxjudge-feature-visualization_2\\venv\\lib\\site-packages (from python-dateutil>=2.8.2->pandas->indox) (1.16.0)\n",
      "Requirement already satisfied: threadpoolctl>=3.1.0 in c:\\users\\rayansabz\\downloads\\indoxjudge-feature-visualization_2\\venv\\lib\\site-packages (from scikit-learn>=0.22->umap-learn->indox) (3.5.0)\n",
      "Requirement already satisfied: soupsieve>1.2 in c:\\users\\rayansabz\\downloads\\indoxjudge-feature-visualization_2\\venv\\lib\\site-packages (from beautifulsoup4->unstructured->indox) (2.5)\n",
      "Requirement already satisfied: marshmallow<4.0.0,>=3.18.0 in c:\\users\\rayansabz\\downloads\\indoxjudge-feature-visualization_2\\venv\\lib\\site-packages (from dataclasses-json->unstructured->indox) (3.21.3)\n",
      "Requirement already satisfied: typing-inspect<1,>=0.4.0 in c:\\users\\rayansabz\\downloads\\indoxjudge-feature-visualization_2\\venv\\lib\\site-packages (from dataclasses-json->unstructured->indox) (0.9.0)\n",
      "Requirement already satisfied: deepdiff>=6.0 in c:\\users\\rayansabz\\downloads\\indoxjudge-feature-visualization_2\\venv\\lib\\site-packages (from unstructured-client->unstructured->indox) (7.0.1)\n",
      "Requirement already satisfied: httpx>=0.27.0 in c:\\users\\rayansabz\\downloads\\indoxjudge-feature-visualization_2\\venv\\lib\\site-packages (from unstructured-client->unstructured->indox) (0.27.0)\n",
      "Requirement already satisfied: jsonpath-python>=1.0.6 in c:\\users\\rayansabz\\downloads\\indoxjudge-feature-visualization_2\\venv\\lib\\site-packages (from unstructured-client->unstructured->indox) (1.0.6)\n",
      "Requirement already satisfied: mypy-extensions>=1.0.0 in c:\\users\\rayansabz\\downloads\\indoxjudge-feature-visualization_2\\venv\\lib\\site-packages (from unstructured-client->unstructured->indox) (1.0.0)\n",
      "Requirement already satisfied: nest-asyncio>=1.6.0 in c:\\users\\rayansabz\\downloads\\indoxjudge-feature-visualization_2\\venv\\lib\\site-packages (from unstructured-client->unstructured->indox) (1.6.0)\n",
      "Requirement already satisfied: pypdf>=4.0 in c:\\users\\rayansabz\\downloads\\indoxjudge-feature-visualization_2\\venv\\lib\\site-packages (from unstructured-client->unstructured->indox) (4.3.1)\n",
      "Requirement already satisfied: requests-toolbelt>=1.0.0 in c:\\users\\rayansabz\\downloads\\indoxjudge-feature-visualization_2\\venv\\lib\\site-packages (from unstructured-client->unstructured->indox) (1.0.0)\n",
      "Requirement already satisfied: ordered-set<4.2.0,>=4.1.0 in c:\\users\\rayansabz\\downloads\\indoxjudge-feature-visualization_2\\venv\\lib\\site-packages (from deepdiff>=6.0->unstructured-client->unstructured->indox) (4.1.0)\n",
      "Requirement already satisfied: anyio in c:\\users\\rayansabz\\downloads\\indoxjudge-feature-visualization_2\\venv\\lib\\site-packages (from httpx>=0.27.0->unstructured-client->unstructured->indox) (4.4.0)\n",
      "Requirement already satisfied: httpcore==1.* in c:\\users\\rayansabz\\downloads\\indoxjudge-feature-visualization_2\\venv\\lib\\site-packages (from httpx>=0.27.0->unstructured-client->unstructured->indox) (1.0.5)\n",
      "Requirement already satisfied: sniffio in c:\\users\\rayansabz\\downloads\\indoxjudge-feature-visualization_2\\venv\\lib\\site-packages (from httpx>=0.27.0->unstructured-client->unstructured->indox) (1.3.1)\n",
      "Requirement already satisfied: h11<0.15,>=0.13 in c:\\users\\rayansabz\\downloads\\indoxjudge-feature-visualization_2\\venv\\lib\\site-packages (from httpcore==1.*->httpx>=0.27.0->unstructured-client->unstructured->indox) (0.14.0)\n",
      "Requirement already satisfied: exceptiongroup>=1.0.2 in c:\\users\\rayansabz\\downloads\\indoxjudge-feature-visualization_2\\venv\\lib\\site-packages (from anyio->httpx>=0.27.0->unstructured-client->unstructured->indox) (1.2.2)\n",
      "Requirement already satisfied: openai in c:\\users\\rayansabz\\downloads\\indoxjudge-feature-visualization_2\\venv\\lib\\site-packages (0.28.0)\n",
      "Requirement already satisfied: requests>=2.20 in c:\\users\\rayansabz\\downloads\\indoxjudge-feature-visualization_2\\venv\\lib\\site-packages (from openai) (2.32.3)\n",
      "Requirement already satisfied: tqdm in c:\\users\\rayansabz\\downloads\\indoxjudge-feature-visualization_2\\venv\\lib\\site-packages (from openai) (4.66.4)\n",
      "Requirement already satisfied: aiohttp in c:\\users\\rayansabz\\downloads\\indoxjudge-feature-visualization_2\\venv\\lib\\site-packages (from openai) (3.10.1)\n",
      "Requirement already satisfied: charset-normalizer<4,>=2 in c:\\users\\rayansabz\\downloads\\indoxjudge-feature-visualization_2\\venv\\lib\\site-packages (from requests>=2.20->openai) (3.3.2)\n",
      "Requirement already satisfied: idna<4,>=2.5 in c:\\users\\rayansabz\\downloads\\indoxjudge-feature-visualization_2\\venv\\lib\\site-packages (from requests>=2.20->openai) (3.7)\n",
      "Requirement already satisfied: urllib3<3,>=1.21.1 in c:\\users\\rayansabz\\downloads\\indoxjudge-feature-visualization_2\\venv\\lib\\site-packages (from requests>=2.20->openai) (2.2.2)\n",
      "Requirement already satisfied: certifi>=2017.4.17 in c:\\users\\rayansabz\\downloads\\indoxjudge-feature-visualization_2\\venv\\lib\\site-packages (from requests>=2.20->openai) (2024.7.4)\n",
      "Requirement already satisfied: aiohappyeyeballs>=2.3.0 in c:\\users\\rayansabz\\downloads\\indoxjudge-feature-visualization_2\\venv\\lib\\site-packages (from aiohttp->openai) (2.3.4)\n",
      "Requirement already satisfied: aiosignal>=1.1.2 in c:\\users\\rayansabz\\downloads\\indoxjudge-feature-visualization_2\\venv\\lib\\site-packages (from aiohttp->openai) (1.3.1)\n",
      "Requirement already satisfied: attrs>=17.3.0 in c:\\users\\rayansabz\\downloads\\indoxjudge-feature-visualization_2\\venv\\lib\\site-packages (from aiohttp->openai) (24.1.0)\n",
      "Requirement already satisfied: frozenlist>=1.1.1 in c:\\users\\rayansabz\\downloads\\indoxjudge-feature-visualization_2\\venv\\lib\\site-packages (from aiohttp->openai) (1.4.1)\n",
      "Requirement already satisfied: multidict<7.0,>=4.5 in c:\\users\\rayansabz\\downloads\\indoxjudge-feature-visualization_2\\venv\\lib\\site-packages (from aiohttp->openai) (6.0.5)\n",
      "Requirement already satisfied: yarl<2.0,>=1.0 in c:\\users\\rayansabz\\downloads\\indoxjudge-feature-visualization_2\\venv\\lib\\site-packages (from aiohttp->openai) (1.9.4)\n",
      "Requirement already satisfied: async-timeout<5.0,>=4.0 in c:\\users\\rayansabz\\downloads\\indoxjudge-feature-visualization_2\\venv\\lib\\site-packages (from aiohttp->openai) (4.0.3)\n",
      "Requirement already satisfied: colorama in c:\\users\\rayansabz\\downloads\\indoxjudge-feature-visualization_2\\venv\\lib\\site-packages (from tqdm->openai) (0.4.6)\n",
      "Requirement already satisfied: pymilvus in c:\\users\\rayansabz\\downloads\\indoxjudge-feature-visualization_2\\venv\\lib\\site-packages (2.4.4)\n",
      "Requirement already satisfied: setuptools>=67 in c:\\users\\rayansabz\\downloads\\indoxjudge-feature-visualization_2\\venv\\lib\\site-packages (from pymilvus) (69.1.1)\n",
      "Requirement already satisfied: grpcio<=1.63.0,>=1.49.1 in c:\\users\\rayansabz\\downloads\\indoxjudge-feature-visualization_2\\venv\\lib\\site-packages (from pymilvus) (1.63.0)\n",
      "Requirement already satisfied: protobuf>=3.20.0 in c:\\users\\rayansabz\\downloads\\indoxjudge-feature-visualization_2\\venv\\lib\\site-packages (from pymilvus) (5.27.2)\n",
      "Requirement already satisfied: environs<=9.5.0 in c:\\users\\rayansabz\\downloads\\indoxjudge-feature-visualization_2\\venv\\lib\\site-packages (from pymilvus) (9.5.0)\n",
      "Requirement already satisfied: ujson>=2.0.0 in c:\\users\\rayansabz\\downloads\\indoxjudge-feature-visualization_2\\venv\\lib\\site-packages (from pymilvus) (5.10.0)\n",
      "Requirement already satisfied: pandas>=1.2.4 in c:\\users\\rayansabz\\downloads\\indoxjudge-feature-visualization_2\\venv\\lib\\site-packages (from pymilvus) (2.0.3)\n",
      "Requirement already satisfied: marshmallow>=3.0.0 in c:\\users\\rayansabz\\downloads\\indoxjudge-feature-visualization_2\\venv\\lib\\site-packages (from environs<=9.5.0->pymilvus) (3.21.3)\n",
      "Requirement already satisfied: python-dotenv in c:\\users\\rayansabz\\downloads\\indoxjudge-feature-visualization_2\\venv\\lib\\site-packages (from environs<=9.5.0->pymilvus) (1.0.1)\n",
      "Requirement already satisfied: python-dateutil>=2.8.2 in c:\\users\\rayansabz\\downloads\\indoxjudge-feature-visualization_2\\venv\\lib\\site-packages (from pandas>=1.2.4->pymilvus) (2.9.0.post0)\n",
      "Requirement already satisfied: pytz>=2020.1 in c:\\users\\rayansabz\\downloads\\indoxjudge-feature-visualization_2\\venv\\lib\\site-packages (from pandas>=1.2.4->pymilvus) (2024.1)\n",
      "Requirement already satisfied: tzdata>=2022.1 in c:\\users\\rayansabz\\downloads\\indoxjudge-feature-visualization_2\\venv\\lib\\site-packages (from pandas>=1.2.4->pymilvus) (2024.1)\n",
      "Requirement already satisfied: numpy>=1.21.0 in c:\\users\\rayansabz\\downloads\\indoxjudge-feature-visualization_2\\venv\\lib\\site-packages (from pandas>=1.2.4->pymilvus) (1.26.4)\n",
      "Requirement already satisfied: packaging>=17.0 in c:\\users\\rayansabz\\downloads\\indoxjudge-feature-visualization_2\\venv\\lib\\site-packages (from marshmallow>=3.0.0->environs<=9.5.0->pymilvus) (24.1)\n",
      "Requirement already satisfied: six>=1.5 in c:\\users\\rayansabz\\downloads\\indoxjudge-feature-visualization_2\\venv\\lib\\site-packages (from python-dateutil>=2.8.2->pandas>=1.2.4->pymilvus) (1.16.0)\n"
     ]
    }
   ],
   "execution_count": 11
  },
  {
   "metadata": {},
   "cell_type": "markdown",
   "source": [
    "## Setting Up the Python Environment\n",
    "\n",
    "If you are running this project in your local IDE, please create a Python environment to ensure all dependencies are correctly managed. You can follow the steps below to set up a virtual environment named `indox`:\n",
    "\n",
    "### Windows\n",
    "\n",
    "1. **Create the virtual environment:**\n",
    "```bash\n",
    "python -m venv indox\n",
    "```\n",
    "2. **Activate the virtual environment:**\n",
    "```bash\n",
    "indox_judge\\Scripts\\activate\n",
    "```\n",
    "\n",
    "### macOS/Linux\n",
    "\n",
    "1. **Create the virtual environment:**\n",
    "   ```bash\n",
    "   python3 -m venv indox\n",
    "```\n",
    "\n",
    "2. **Activate the virtual environment:**\n",
    "    ```bash\n",
    "   source indox/bin/activate\n",
    "```\n",
    "### Install Dependencies\n",
    "\n",
    "Once the virtual environment is activated, install the required dependencies by running:\n",
    "\n",
    "```bash\n",
    "pip install -r requirements.txt\n",
    "```\n"
   ],
   "id": "6a04bcbe90c4a64a"
  },
  {
   "metadata": {
    "ExecuteTime": {
     "end_time": "2024-08-19T07:04:26.672252Z",
     "start_time": "2024-08-19T07:04:26.656781Z"
    }
   },
   "cell_type": "code",
   "source": [
    "import os\n",
    "from dotenv import load_dotenv\n",
    "\n",
    "load_dotenv()\n",
    "INDOX_API_KEY = os.getenv(\"INDOX_API_KEY\")"
   ],
   "id": "89b429c2eb7158d4",
   "outputs": [],
   "execution_count": 12
  },
  {
   "metadata": {},
   "cell_type": "markdown",
   "source": [
    "## Initial Setup\n",
    "\n",
    "The following imports are essential for setting up the Indox application. These imports include the main Indox retrieval augmentation module, question-answering models, embeddings, and data loader splitter.\n"
   ],
   "id": "1d2cd8177d6b2a04"
  },
  {
   "metadata": {
    "ExecuteTime": {
     "end_time": "2024-08-19T07:04:26.687877Z",
     "start_time": "2024-08-19T07:04:26.672252Z"
    }
   },
   "cell_type": "code",
   "source": [
    "from indox import IndoxRetrievalAugmentation\n",
    "from indox.llms import IndoxApi\n",
    "from indox.embeddings import IndoxApiEmbedding\n",
    "from indox.data_loader_splitter import ClusteredSplit\n",
    "from pymilvus import MilvusClient\n",
    "import json\n"
   ],
   "id": "4913f040c7a7cc47",
   "outputs": [],
   "execution_count": 13
  },
  {
   "metadata": {
    "ExecuteTime": {
     "end_time": "2024-08-19T07:04:26.719126Z",
     "start_time": "2024-08-19T07:04:26.687877Z"
    }
   },
   "cell_type": "code",
   "source": [
    "indox = IndoxRetrievalAugmentation()\n",
    "openai_qa_indox = IndoxApi(api_key=INDOX_API_KEY)\n",
    "embed_openai_indox = IndoxApiEmbedding(api_key=INDOX_API_KEY, model=\"text-embedding-3-small\")\n"
   ],
   "id": "ed7debc4ad3e265c",
   "outputs": [
    {
     "name": "stdout",
     "output_type": "stream",
     "text": [
      "\u001B[32mINFO\u001B[0m: \u001B[1mIndoxRetrievalAugmentation initialized\u001B[0m\n",
      "\n",
      "            ██  ███    ██  ██████   ██████  ██       ██\n",
      "            ██  ████   ██  ██   ██ ██    ██   ██  ██\n",
      "            ██  ██ ██  ██  ██   ██ ██    ██     ██\n",
      "            ██  ██  ██ ██  ██   ██ ██    ██   ██   ██\n",
      "            ██  ██  █████  ██████   ██████  ██       ██\n",
      "            \n",
      "\u001B[32mINFO\u001B[0m: \u001B[1mInitialized IndoxOpenAIEmbedding with model: text-embedding-3-small\u001B[0m\n"
     ]
    }
   ],
   "execution_count": 14
  },
  {
   "metadata": {
    "ExecuteTime": {
     "end_time": "2024-08-19T07:04:26.734751Z",
     "start_time": "2024-08-19T07:04:26.719126Z"
    }
   },
   "cell_type": "code",
   "source": "#!wget https://raw.githubusercontent.com/osllmai/inDox/master/Demo/sample.txt",
   "id": "92a897777c05b994",
   "outputs": [],
   "execution_count": 15
  },
  {
   "metadata": {
    "ExecuteTime": {
     "end_time": "2024-08-19T07:04:26.766Z",
     "start_time": "2024-08-19T07:04:26.734751Z"
    }
   },
   "cell_type": "code",
   "source": [
    "file_path = \"sample.txt\"\n",
    "loader_splitter = ClusteredSplit(file_path=file_path, embeddings=embed_openai_indox, summary_model=openai_qa_indox)\n"
   ],
   "id": "db28a0b7613baa53",
   "outputs": [
    {
     "name": "stdout",
     "output_type": "stream",
     "text": [
      "\u001B[32mINFO\u001B[0m: \u001B[1mClusteredSplit initialized successfully\u001B[0m\n"
     ]
    }
   ],
   "execution_count": 16
  },
  {
   "metadata": {
    "ExecuteTime": {
     "end_time": "2024-08-19T07:04:32.840034Z",
     "start_time": "2024-08-19T07:04:26.766Z"
    }
   },
   "cell_type": "code",
   "source": [
    "from indox.vector_stores.milvus import Document, Milvus\n",
    "raw_docs = loader_splitter.load_and_chunk()\n",
    "docs = [Document(page_content=doc) for doc in raw_docs]\n"
   ],
   "id": "10b0426bd5e54bcb",
   "outputs": [
    {
     "name": "stdout",
     "output_type": "stream",
     "text": [
      "\u001B[32mINFO\u001B[0m: \u001B[1mStarting processing for documents\u001B[0m\n",
      "\u001B[32mINFO\u001B[0m: \u001B[1mEmbedding documents\u001B[0m\n",
      "\u001B[32mINFO\u001B[0m: \u001B[1mStarting to fetch embeddings texts using engine: text-embedding-3-small\u001B[0m\n",
      "\u001B[32mINFO\u001B[0m: \u001B[1m--Generated 1 clusters--\u001B[0m\n",
      "\u001B[32mINFO\u001B[0m: \u001B[1mCompleted chunking & clustering process\u001B[0m\n",
      "\u001B[32mINFO\u001B[0m: \u001B[1mSuccessfully obtained all documents\u001B[0m\n"
     ]
    }
   ],
   "execution_count": 17
  },
  {
   "metadata": {},
   "cell_type": "markdown",
   "source": [
    "## Vector Store Connection and Document Storage\n",
    "\n",
    "In this step, we connect the Indox application to the vector store and store the processed documents.\n"
   ],
   "id": "130106198e16a841"
  },
  {
   "metadata": {
    "ExecuteTime": {
     "end_time": "2024-08-19T07:04:32.886875Z",
     "start_time": "2024-08-19T07:04:32.840034Z"
    }
   },
   "cell_type": "code",
   "source": "db = Milvus(collection_name=\"sample\", embedding_model=embed_openai_indox, qa_model=openai_qa_indox)",
   "id": "6bd9ba0b18142297",
   "outputs": [
    {
     "name": "stderr",
     "output_type": "stream",
     "text": [
      "DEBUG:pymilvus.milvus_client.milvus_client:Created new connection using: 920b74cd66fa487ca50486f4da7d1106\n"
     ]
    },
    {
     "name": "stdout",
     "output_type": "stream",
     "text": [
      "\u001B[32mINFO\u001B[0m: \u001B[1mIndoxRetrievalAugmentation initialized\u001B[0m\n",
      "\n",
      "            ██  ███    ██  ██████   ██████  ██       ██\n",
      "            ██  ████   ██  ██   ██ ██    ██   ██  ██\n",
      "            ██  ██ ██  ██  ██   ██ ██    ██     ██\n",
      "            ██  ██  ██ ██  ██   ██ ██    ██   ██   ██\n",
      "            ██  ██  █████  ██████   ██████  ██       ██\n",
      "            \n",
      "\u001B[32mINFO\u001B[0m: \u001B[1mConnection to the vector store database established successfully\u001B[0m\n"
     ]
    }
   ],
   "execution_count": 18
  },
  {
   "metadata": {
    "ExecuteTime": {
     "end_time": "2024-08-19T07:04:32.902500Z",
     "start_time": "2024-08-19T07:04:32.886875Z"
    }
   },
   "cell_type": "code",
   "source": [
    "Indox = IndoxRetrievalAugmentation()\n",
    "\n",
    "Indox.connect_to_vectorstore(db)"
   ],
   "id": "3de36295bcbf8038",
   "outputs": [
    {
     "name": "stdout",
     "output_type": "stream",
     "text": [
      "\u001B[32mINFO\u001B[0m: \u001B[1mIndoxRetrievalAugmentation initialized\u001B[0m\n",
      "\n",
      "            ██  ███    ██  ██████   ██████  ██       ██\n",
      "            ██  ████   ██  ██   ██ ██    ██   ██  ██\n",
      "            ██  ██ ██  ██  ██   ██ ██    ██     ██\n",
      "            ██  ██  ██ ██  ██   ██ ██    ██   ██   ██\n",
      "            ██  ██  █████  ██████   ██████  ██       ██\n",
      "            \n",
      "\u001B[32mINFO\u001B[0m: \u001B[1mConnection to the vector store database established successfully\u001B[0m\n"
     ]
    },
    {
     "data": {
      "text/plain": [
       "<indox.vector_stores.milvus.Milvus at 0x225cca1e0b0>"
      ]
     },
     "execution_count": 19,
     "metadata": {},
     "output_type": "execute_result"
    }
   ],
   "execution_count": 19
  },
  {
   "metadata": {
    "ExecuteTime": {
     "end_time": "2024-08-19T07:06:27.519174Z",
     "start_time": "2024-08-19T07:06:22.746938Z"
    }
   },
   "cell_type": "code",
   "source": "db.store_in_vectorstore(docs)",
   "id": "8898bdeecefde4cc",
   "outputs": [
    {
     "name": "stderr",
     "output_type": "stream",
     "text": [
      "\n",
      "\n",
      "Creating embeddings:   0%|          | 0/2 [00:00<?, ?it/s]\u001B[A\u001B[A"
     ]
    },
    {
     "name": "stdout",
     "output_type": "stream",
     "text": [
      "\u001B[32mINFO\u001B[0m: \u001B[1mEmbedding documents\u001B[0m\n",
      "\u001B[32mINFO\u001B[0m: \u001B[1mStarting to fetch embeddings texts using engine: text-embedding-3-small\u001B[0m\n"
     ]
    },
    {
     "name": "stderr",
     "output_type": "stream",
     "text": [
      "\n",
      "\n",
      "Creating embeddings:  50%|█████     | 1/2 [00:02<00:02,  2.29s/it]\u001B[A\u001B[A"
     ]
    },
    {
     "name": "stdout",
     "output_type": "stream",
     "text": [
      "\u001B[32mINFO\u001B[0m: \u001B[1mEmbedding documents\u001B[0m\n",
      "\u001B[32mINFO\u001B[0m: \u001B[1mStarting to fetch embeddings texts using engine: text-embedding-3-small\u001B[0m\n"
     ]
    },
    {
     "name": "stderr",
     "output_type": "stream",
     "text": [
      "\n",
      "\n",
      "Creating embeddings: 100%|██████████| 2/2 [00:04<00:00,  2.34s/it]\u001B[A\u001B[A\n"
     ]
    }
   ],
   "execution_count": 21
  },
  {
   "metadata": {},
   "cell_type": "markdown",
   "source": [
    "## Querying and Interpreting the Response\n",
    "\n",
    "In this step, we query the Indox application with a specific question and use the QA model to get the response. \n",
    "\n"
   ],
   "id": "6cb84f6e28269605"
  },
  {
   "metadata": {
    "ExecuteTime": {
     "end_time": "2024-08-19T07:07:05.003453Z",
     "start_time": "2024-08-19T07:06:59.131162Z"
    }
   },
   "cell_type": "code",
   "source": [
    "query = \"How cinderella reach her happy ending?\"\n",
    "retriever = indox.QuestionAnswer(vector_database=db, llm=openai_qa_indox, top_k=5)\n",
    "retriever.invoke(query)"
   ],
   "id": "3c817157f628bc59",
   "outputs": [
    {
     "name": "stdout",
     "output_type": "stream",
     "text": [
      "\u001B[32mINFO\u001B[0m: \u001B[1mRetrieving context and scores from the vector database\u001B[0m\n",
      "\u001B[32mINFO\u001B[0m: \u001B[1mEmbedding documents\u001B[0m\n",
      "\u001B[32mINFO\u001B[0m: \u001B[1mStarting to fetch embeddings texts using engine: text-embedding-3-small\u001B[0m\n",
      "\u001B[32mINFO\u001B[0m: \u001B[1mGenerating answer without document relevancy filter\u001B[0m\n",
      "\u001B[32mINFO\u001B[0m: \u001B[1mQuery answered successfully\u001B[0m\n"
     ]
    },
    {
     "data": {
      "text/plain": [
       "\"In the story of Cinderella, she reaches her happy ending through her kindness, resilience, and unwavering belief in herself. Despite facing adversity and mistreatment from her stepfamily, Cinderella remains good-hearted and hopeful. With the help of her fairy godmother, she attends the royal ball and captures the heart of the prince. Ultimately, Cinderella's pure heart and inner strength lead her to her happy ending, where she finds love, acceptance, and a new life full of joy and prosperity.\""
      ]
     },
     "execution_count": 23,
     "metadata": {},
     "output_type": "execute_result"
    }
   ],
   "execution_count": 23
  },
  {
   "metadata": {},
   "cell_type": "code",
   "source": "",
   "id": "2a9068885addfe2a",
   "outputs": [],
   "execution_count": null
  }
 ],
 "metadata": {
  "kernelspec": {
   "display_name": "Python 3",
   "language": "python",
   "name": "python3"
  },
  "language_info": {
   "codemirror_mode": {
    "name": "ipython",
    "version": 2
   },
   "file_extension": ".py",
   "mimetype": "text/x-python",
   "name": "python",
   "nbconvert_exporter": "python",
   "pygments_lexer": "ipython2",
   "version": "2.7.6"
  }
 },
 "nbformat": 4,
 "nbformat_minor": 5
}
