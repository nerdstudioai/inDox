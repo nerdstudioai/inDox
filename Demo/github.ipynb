{
 "cells": [
  {
   "metadata": {
    "ExecuteTime": {
     "end_time": "2024-08-20T13:59:22.546019Z",
     "start_time": "2024-08-20T13:59:22.532107Z"
    }
   },
   "cell_type": "code",
   "source": [
    "import os\n",
    "from dotenv import load_dotenv\n",
    "\n",
    "load_dotenv('api.env')\n",
    "\n",
    "HUGGINGFACE_API_KEY = os.environ['HUGGINGFACE_API_KEY']\n",
    "github_token = os.environ['github_token']"
   ],
   "id": "dfc9daa14417b6e9",
   "outputs": [],
   "execution_count": 1
  },
  {
   "cell_type": "code",
   "id": "initial_id",
   "metadata": {
    "collapsed": true,
    "ExecuteTime": {
     "end_time": "2024-08-20T13:59:24.590967Z",
     "start_time": "2024-08-20T13:59:24.435374Z"
    }
   },
   "source": [
    "from indox import IndoxRetrievalAugmentation\n",
    "indox = IndoxRetrievalAugmentation()"
   ],
   "outputs": [
    {
     "name": "stdout",
     "output_type": "stream",
     "text": [
      "\u001B[32mINFO\u001B[0m: \u001B[1mIndoxRetrievalAugmentation initialized\u001B[0m\n",
      "\n",
      "            ██  ███    ██  ██████   ██████  ██       ██\n",
      "            ██  ████   ██  ██   ██ ██    ██   ██  ██\n",
      "            ██  ██ ██  ██  ██   ██ ██    ██     ██\n",
      "            ██  ██  ██ ██  ██   ██ ██    ██   ██   ██\n",
      "            ██  ██  █████  ██████   ██████  ██       ██\n",
      "            \n"
     ]
    }
   ],
   "execution_count": 2
  },
  {
   "metadata": {
    "ExecuteTime": {
     "end_time": "2024-08-20T13:59:45.124683Z",
     "start_time": "2024-08-20T13:59:37.258756Z"
    }
   },
   "cell_type": "code",
   "source": [
    "from indox.llms import HuggingFaceModel\n",
    "from indox.embeddings import HuggingFaceEmbedding\n",
    "mistral_qa = HuggingFaceModel(api_key=HUGGINGFACE_API_KEY,model=\"mistralai/Mistral-7B-Instruct-v0.2\")\n",
    "embed = HuggingFaceEmbedding(api_key=HUGGINGFACE_API_KEY,model=\"multi-qa-mpnet-base-cos-v1\")"
   ],
   "id": "aad9a7a29fc81465",
   "outputs": [
    {
     "name": "stdout",
     "output_type": "stream",
     "text": [
      "\u001B[32mINFO\u001B[0m: \u001B[1mInitializing HuggingFaceModel with model: mistralai/Mistral-7B-Instruct-v0.2\u001B[0m\n",
      "\u001B[32mINFO\u001B[0m: \u001B[1mHuggingFaceModel initialized successfully\u001B[0m\n",
      "\u001B[32mINFO\u001B[0m: \u001B[1mInitialized HuggingFaceEmbedding with model: multi-qa-mpnet-base-cos-v1\u001B[0m\n"
     ]
    }
   ],
   "execution_count": 3
  },
  {
   "metadata": {
    "ExecuteTime": {
     "end_time": "2024-08-20T14:03:51.041462Z",
     "start_time": "2024-08-20T14:03:32.325093Z"
    }
   },
   "cell_type": "code",
   "source": [
    "from indox.data_connector import GithubClient, GithubRepositoryReader\n",
    "\n",
    "github_client = GithubClient(github_token=github_token)\n",
    "\n",
    "repo_reader = GithubRepositoryReader(\n",
    "    github_client=github_client,\n",
    "    owner=\"osllmai\",\n",
    "    repo=\"indoxjudge\",\n",
    "    filter_directories=([\"docs\"], GithubRepositoryReader.FilterType.INCLUDE),\n",
    "    filter_file_extensions=([\".md\"], GithubRepositoryReader.FilterType.INCLUDE)\n",
    ")\n",
    "\n",
    "documents = repo_reader.load_data(branch=\"main\")\n",
    "doc = documents[0]\n"
   ],
   "id": "ff2ba25cec5cb1a",
   "outputs": [
    {
     "name": "stdout",
     "output_type": "stream",
     "text": [
      "Processing file: Branch_and_PR_Guidelines.md\n",
      "Processing file: README.md\n",
      "Processing file: docs/metrics/AnswerRelevancy.md\n",
      "Processing file: docs/metrics/BLEU.md\n",
      "Processing file: docs/metrics/Bertscore.md\n",
      "Processing file: docs/metrics/Bias.md\n",
      "Processing file: docs/metrics/ContextualRelevancy.md\n",
      "Processing file: docs/metrics/Fairness.md\n",
      "Processing file: docs/metrics/Faithfulness.md\n",
      "Processing file: docs/metrics/GEval.md\n",
      "Processing file: docs/metrics/Gruen.md\n",
      "Processing file: docs/metrics/Hallucination.md\n",
      "Processing file: docs/metrics/Harmfulness.md\n",
      "Processing file: docs/metrics/KnowledgeRetention.md\n",
      "Processing file: docs/metrics/METEOR.md\n",
      "Processing file: docs/metrics/MachineEthics.md\n",
      "Processing file: docs/metrics/Misinformation.md\n",
      "Processing file: docs/metrics/Privacy.md\n",
      "Processing file: docs/metrics/ROUGE.md\n",
      "Processing file: docs/metrics/Stereotype and Bias.md\n",
      "Processing file: docs/metrics/Toxicity.md\n",
      "Processing file: docs/piplines/CustomEvaluator.md\n",
      "Processing file: docs/piplines/LLMComparison.md\n",
      "Processing file: docs/piplines/LLMEvaluator.md\n",
      "Processing file: docs/piplines/RagEvaluator.md\n",
      "Processing file: docs/piplines/SafetyEvaluator.md\n"
     ]
    }
   ],
   "execution_count": 13
  },
  {
   "metadata": {
    "ExecuteTime": {
     "end_time": "2024-08-20T14:06:18.138090Z",
     "start_time": "2024-08-20T14:06:18.128919Z"
    }
   },
   "cell_type": "code",
   "source": "content = doc.content\n",
   "id": "e1f7b24835386cdb",
   "outputs": [],
   "execution_count": 16
  },
  {
   "metadata": {
    "ExecuteTime": {
     "end_time": "2024-08-20T14:07:06.287890Z",
     "start_time": "2024-08-20T14:07:05.603260Z"
    }
   },
   "cell_type": "code",
   "source": [
    "from indox.splitter import semantic_text_splitter\n",
    "content_chunks = semantic_text_splitter(content,500)"
   ],
   "id": "835fe1c42c4e31df",
   "outputs": [],
   "execution_count": 18
  },
  {
   "metadata": {
    "ExecuteTime": {
     "end_time": "2024-08-20T14:07:08.573016Z",
     "start_time": "2024-08-20T14:07:08.546179Z"
    }
   },
   "cell_type": "code",
   "source": [
    "from indox.vector_stores import Chroma\n",
    "db = Chroma(collection_name=\"sample\",embedding_function=embed)\n",
    "indox.connect_to_vectorstore(vectorstore_database=db)"
   ],
   "id": "4636c3ad55b48d94",
   "outputs": [
    {
     "name": "stdout",
     "output_type": "stream",
     "text": [
      "\u001B[32mINFO\u001B[0m: \u001B[1mConnection to the vector store database established successfully\u001B[0m\n"
     ]
    },
    {
     "data": {
      "text/plain": [
       "<indox.vector_stores.chroma.Chroma at 0x29184b57d60>"
      ]
     },
     "execution_count": 19,
     "metadata": {},
     "output_type": "execute_result"
    }
   ],
   "execution_count": 19
  },
  {
   "metadata": {
    "ExecuteTime": {
     "end_time": "2024-08-20T14:07:12.228440Z",
     "start_time": "2024-08-20T14:07:11.964778Z"
    }
   },
   "cell_type": "code",
   "source": "indox.store_in_vectorstore(docs= content_chunks)",
   "id": "116efaf8e453f0f8",
   "outputs": [
    {
     "name": "stdout",
     "output_type": "stream",
     "text": [
      "\u001B[32mINFO\u001B[0m: \u001B[1mStoring documents in the vector store\u001B[0m\n",
      "\u001B[32mINFO\u001B[0m: \u001B[1mEmbedding documents\u001B[0m\n",
      "\u001B[32mINFO\u001B[0m: \u001B[1mStarting to fetch embeddings for texts using model: SentenceTransformer(\n",
      "  (0): Transformer({'max_seq_length': 512, 'do_lower_case': False}) with Transformer model: MPNetModel \n",
      "  (1): Pooling({'word_embedding_dimension': 768, 'pooling_mode_cls_token': False, 'pooling_mode_mean_tokens': True, 'pooling_mode_max_tokens': False, 'pooling_mode_mean_sqrt_len_tokens': False, 'pooling_mode_weightedmean_tokens': False, 'pooling_mode_lasttoken': False, 'include_prompt': True})\n",
      "  (2): Normalize()\n",
      ")\u001B[0m\n",
      "\u001B[32mINFO\u001B[0m: \u001B[1mDocument added successfully to the vector store.\u001B[0m\n",
      "\u001B[32mINFO\u001B[0m: \u001B[1mDocuments stored successfully\u001B[0m\n"
     ]
    },
    {
     "data": {
      "text/plain": [
       "<indox.vector_stores.chroma.Chroma at 0x29184b57d60>"
      ]
     },
     "execution_count": 20,
     "metadata": {},
     "output_type": "execute_result"
    }
   ],
   "execution_count": 20
  },
  {
   "metadata": {
    "ExecuteTime": {
     "end_time": "2024-08-20T14:07:51.033624Z",
     "start_time": "2024-08-20T14:07:51.022079Z"
    }
   },
   "cell_type": "code",
   "source": [
    "query = \"What are the guidelines for creating a pull request?\"\n",
    "retriever = indox.QuestionAnswer(vector_database=db, llm=mistral_qa, top_k=2)"
   ],
   "id": "1aac96d2e2ce09f1",
   "outputs": [],
   "execution_count": 23
  },
  {
   "metadata": {
    "ExecuteTime": {
     "end_time": "2024-08-20T14:07:53.873440Z",
     "start_time": "2024-08-20T14:07:52.634820Z"
    }
   },
   "cell_type": "code",
   "source": [
    "answer = retriever.invoke(query)\n",
    "context = retriever.context"
   ],
   "id": "5014b25220fc3dbe",
   "outputs": [
    {
     "name": "stdout",
     "output_type": "stream",
     "text": [
      "\u001B[32mINFO\u001B[0m: \u001B[1mRetrieving context and scores from the vector database\u001B[0m\n",
      "\u001B[32mINFO\u001B[0m: \u001B[1mEmbedding documents\u001B[0m\n",
      "\u001B[32mINFO\u001B[0m: \u001B[1mStarting to fetch embeddings for texts using model: SentenceTransformer(\n",
      "  (0): Transformer({'max_seq_length': 512, 'do_lower_case': False}) with Transformer model: MPNetModel \n",
      "  (1): Pooling({'word_embedding_dimension': 768, 'pooling_mode_cls_token': False, 'pooling_mode_mean_tokens': True, 'pooling_mode_max_tokens': False, 'pooling_mode_mean_sqrt_len_tokens': False, 'pooling_mode_weightedmean_tokens': False, 'pooling_mode_lasttoken': False, 'include_prompt': True})\n",
      "  (2): Normalize()\n",
      ")\u001B[0m\n",
      "\u001B[32mINFO\u001B[0m: \u001B[1mGenerating answer without document relevancy filter\u001B[0m\n",
      "\u001B[32mINFO\u001B[0m: \u001B[1mAnswering question\u001B[0m\n",
      "\u001B[32mINFO\u001B[0m: \u001B[1mSending request to Hugging Face API\u001B[0m\n",
      "\u001B[32mINFO\u001B[0m: \u001B[1mReceived successful response from Hugging Face API\u001B[0m\n",
      "\u001B[32mINFO\u001B[0m: \u001B[1mQuery answered successfully\u001B[0m\n"
     ]
    }
   ],
   "execution_count": 24
  },
  {
   "metadata": {
    "ExecuteTime": {
     "end_time": "2024-08-20T14:08:01.858991Z",
     "start_time": "2024-08-20T14:08:01.849134Z"
    }
   },
   "cell_type": "code",
   "source": "answer",
   "id": "2ca2a9e3a80d8857",
   "outputs": [
    {
     "data": {
      "text/plain": [
       "\"The guidelines for creating a pull request include ensuring the code adheres to technical guidelines and passing all necessary tests before creating the pull request. Write detailed descriptions for the pull request, including an explanation of the issue solved and what was done. Limit changes to no more than 10 files, and if there are more, split them into multiple branches and pull requests. At least one review and approval are required before merging, and it's best if the whole team reviews the code.\""
      ]
     },
     "execution_count": 25,
     "metadata": {},
     "output_type": "execute_result"
    }
   ],
   "execution_count": 25
  }
 ],
 "metadata": {
  "kernelspec": {
   "display_name": "Python 3",
   "language": "python",
   "name": "python3"
  },
  "language_info": {
   "codemirror_mode": {
    "name": "ipython",
    "version": 2
   },
   "file_extension": ".py",
   "mimetype": "text/x-python",
   "name": "python",
   "nbconvert_exporter": "python",
   "pygments_lexer": "ipython2",
   "version": "2.7.6"
  }
 },
 "nbformat": 4,
 "nbformat_minor": 5
}
