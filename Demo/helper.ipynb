{
 "cells": [
  {
   "cell_type": "markdown",
   "metadata": {},
   "source": [
    "06/13/2024  06:33 PM            13,969 clusterSplit.ipynb\n",
    "06/21/2024  08:48 PM            45,923 demo_1.ipynb\n",
    "06/21/2024  08:48 PM            33,349 demo_2.ipynb\n",
    "06/13/2024  06:33 PM            39,252 demo_3.ipynb\n",
    "06/21/2024  08:53 PM             1,652 helper.ipynb\n",
    "06/13/2024  06:33 PM            18,261 mistral.ipynb\n",
    "06/13/2024  06:33 PM            19,342 mistralQA.ipynb\n",
    "06/13/2024  06:33 PM            11,081 unstructuredSplit.ipynb\n",
    "\n",
    "\n",
    "\n"
   ]
  }
 ],
 "metadata": {
  "kernelspec": {
   "display_name": "tensorflow",
   "language": "python",
   "name": "python3"
  },
  "language_info": {
   "codemirror_mode": {
    "name": "ipython",
    "version": 3
   },
   "file_extension": ".py",
   "mimetype": "text/x-python",
   "name": "python",
   "nbconvert_exporter": "python",
   "pygments_lexer": "ipython3",
   "version": "3.8.13"
  }
 },
 "nbformat": 4,
 "nbformat_minor": 2
}
