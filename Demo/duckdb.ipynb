{
 "cells": [
  {
   "metadata": {},
   "cell_type": "markdown",
   "source": [
    "# DuckDB \n",
    "In this notebook, we will demonstrate how to use DuckDB, for accessing and querying data efficiently. DuckDB is designed to work seamlessly with modern analytical workloads, making it a powerful tool for data analysis, research, and question-answering systems.\n",
    "\n",
    "To begin, ensure you have DuckDB installed in your Python environment. You can easily install it using `pip install duckdb`. DuckDB does not require a server, so you can start querying data directly in your local environment without any additional setup.\n",
    "\n",
    "[![Open In Colab](https://colab.research.google.com/assets/colab-badge.svg)](https://colab.research.google.com/github/osllmai/inDox/blob/master/Demo/duckdb.ipynb)"
   ],
   "id": "deafd62eace5fad4"
  },
  {
   "metadata": {},
   "cell_type": "code",
   "outputs": [],
   "execution_count": null,
   "source": [
    "!pip install indox\n",
    "!pip install chromadb\n",
    "!pip install semantic_text_splitter\n",
    "!pip install sentence-transformers"
   ],
   "id": "4354cdb0ba4254b0"
  },
  {
   "metadata": {},
   "cell_type": "markdown",
   "source": [
    "## Setting Up the Python Environment\n",
    "\n",
    "If you are running this project in your local IDE, please create a Python environment to ensure all dependencies are correctly managed. You can follow the steps below to set up a virtual environment named `indox`:\n",
    "\n",
    "### Windows\n",
    "\n",
    "1. **Create the virtual environment:**\n",
    "```bash\n",
    "python -m venv indox\n",
    "```\n",
    "2. **Activate the virtual environment:**\n",
    "```bash\n",
    "indox_judge\\Scripts\\activate\n",
    "```\n",
    "\n",
    "### macOS/Linux\n",
    "\n",
    "1. **Create the virtual environment:**\n",
    "   ```bash\n",
    "   python3 -m venv indox\n",
    "```\n",
    "\n",
    "2. **Activate the virtual environment:**\n",
    "    ```bash\n",
    "   source indox/bin/activate\n",
    "```\n",
    "### Install Dependencies\n",
    "\n",
    "Once the virtual environment is activated, install the required dependencies by running:\n",
    "\n",
    "```bash\n",
    "pip install -r requirements.txt\n",
    "```\n"
   ],
   "id": "43747bd79eb98e9a"
  },
  {
   "metadata": {},
   "cell_type": "markdown",
   "source": "### Load Hugging face API key ",
   "id": "ca675f19f961a233"
  },
  {
   "metadata": {
    "ExecuteTime": {
     "end_time": "2024-09-02T08:15:29.045401Z",
     "start_time": "2024-09-02T08:15:29.022214Z"
    }
   },
   "cell_type": "code",
   "source": [
    "import os\n",
    "from dotenv import load_dotenv\n",
    "\n",
    "load_dotenv('api.env')\n",
    "\n",
    "HUGGINGFACE_API_KEY = os.environ['HUGGINGFACE_API_KEY']"
   ],
   "id": "27a24e485afc020d",
   "outputs": [],
   "execution_count": 1
  },
  {
   "metadata": {
    "ExecuteTime": {
     "end_time": "2024-09-02T08:15:30.765599Z",
     "start_time": "2024-09-02T08:15:30.725924Z"
    }
   },
   "cell_type": "code",
   "source": [
    "from indox import IndoxRetrievalAugmentation\n",
    "indox = IndoxRetrievalAugmentation()"
   ],
   "id": "571f7da532fea628",
   "outputs": [
    {
     "name": "stdout",
     "output_type": "stream",
     "text": [
      "\u001B[32mINFO\u001B[0m: \u001B[1mIndoxRetrievalAugmentation initialized\u001B[0m\n",
      "\n",
      "            ██  ███    ██  ██████   ██████  ██       ██\n",
      "            ██  ████   ██  ██   ██ ██    ██   ██  ██\n",
      "            ██  ██ ██  ██  ██   ██ ██    ██     ██\n",
      "            ██  ██  ██ ██  ██   ██ ██    ██   ██   ██\n",
      "            ██  ██  █████  ██████   ██████  ██       ██\n",
      "            \n"
     ]
    }
   ],
   "execution_count": 2
  },
  {
   "metadata": {},
   "cell_type": "markdown",
   "source": "Initialize a language model and an embedding model using the indox library with Hugging Face and Azure services. The HuggingFaceModel class is used to create an instance of the Mistral-7B-Instruct model for tasks like question answering, while the AzureEmbedding would handle embedding tasks.",
   "id": "76889f4768e83877"
  },
  {
   "metadata": {
    "ExecuteTime": {
     "end_time": "2024-09-02T08:15:40.205410Z",
     "start_time": "2024-09-02T08:15:33.466557Z"
    }
   },
   "cell_type": "code",
   "source": [
    "from indox.llms import HuggingFaceModel\n",
    "from indox.embeddings import HuggingFaceEmbedding\n",
    "mistral_qa = HuggingFaceModel(api_key=HUGGINGFACE_API_KEY,model=\"mistralai/Mistral-7B-Instruct-v0.2\")\n",
    "embed = HuggingFaceEmbedding(api_key=HUGGINGFACE_API_KEY,model=\"multi-qa-mpnet-base-cos-v1\")"
   ],
   "id": "104548072f255cbe",
   "outputs": [
    {
     "name": "stdout",
     "output_type": "stream",
     "text": [
      "\u001B[32mINFO\u001B[0m: \u001B[1mInitializing HuggingFaceModel with model: mistralai/Mistral-7B-Instruct-v0.2\u001B[0m\n",
      "\u001B[32mINFO\u001B[0m: \u001B[1mHuggingFaceModel initialized successfully\u001B[0m\n",
      "\u001B[32mINFO\u001B[0m: \u001B[1mInitialized HuggingFaceEmbedding with model: multi-qa-mpnet-base-cos-v1\u001B[0m\n"
     ]
    }
   ],
   "execution_count": 3
  },
  {
   "metadata": {},
   "cell_type": "markdown",
   "source": "### Load Sample text ",
   "id": "931615abf33be582"
  },
  {
   "metadata": {
    "ExecuteTime": {
     "end_time": "2024-09-02T08:15:42.031570Z",
     "start_time": "2024-09-02T08:15:42.014365Z"
    }
   },
   "cell_type": "code",
   "source": [
    "file_path = \"sample.txt\"\n",
    "with open(file_path, \"r\") as file:\n",
    "    text = file.read()"
   ],
   "id": "af177c8fb50f6859",
   "outputs": [],
   "execution_count": 4
  },
  {
   "metadata": {},
   "cell_type": "markdown",
   "source": "use the `RecursiveCharacterTextSplitter` class from the indox library to divide a large text into smaller, manageable chunks",
   "id": "c98ee6b3a502fe7"
  },
  {
   "metadata": {
    "ExecuteTime": {
     "end_time": "2024-09-02T08:15:44.211376Z",
     "start_time": "2024-09-02T08:15:44.197864Z"
    }
   },
   "cell_type": "code",
   "source": [
    "from indox.splitter import RecursiveCharacterTextSplitter\n",
    "splitter = RecursiveCharacterTextSplitter(400,20)\n",
    "content_chunks = splitter.split_text(text)"
   ],
   "id": "1e969fe0ee474430",
   "outputs": [],
   "execution_count": 5
  },
  {
   "metadata": {
    "ExecuteTime": {
     "end_time": "2024-09-02T08:15:46.069817Z",
     "start_time": "2024-09-02T08:15:46.046797Z"
    }
   },
   "cell_type": "code",
   "source": "content_chunks",
   "id": "6ba3c5890bcca9e8",
   "outputs": [
    {
     "data": {
      "text/plain": [
       "[\"The wife of a rich man fell sick, and as she felt that her end\\n\\nwas drawing near, she called her only daughter to her bedside and\\n\\nsaid, dear child, be good and pious, and then the\\n\\ngood God will always protect you, and I will look down on you\\n\\nfrom heaven and be near you.  Thereupon she closed her eyes and\\n\\ndeparted.  Every day the maiden went out to her mother's grave,\",\n",
       " 'and wept, and she remained pious and good.  When winter came\\n\\nthe snow spread a white sheet over the grave, and by the time the\\n\\nspring sun had drawn it off again, the man had taken another wife.\\n\\nThe woman had brought with her into the house two daughters,\\n\\nwho were beautiful and fair of face, but vile and black of heart.\\n\\nNow began a bad time for the poor step-child.  Is the stupid goose',\n",
       " 'to sit in the parlor with us, they said.  He who wants to eat bread\\n\\nmust earn it.  Out with the kitchen-wench.  They took her pretty\\n\\nclothes away from her, put an old grey bedgown on her, and gave\\n\\nher wooden shoes.  Just look at the proud princess, how decked\\n\\nout she is, they cried, and laughed, and led her into the kitchen.\\n\\nThere she had to do hard work from morning till night, get up',\n",
       " 'before daybreak, carry water, light fires, cook and wash.  Besides\\n\\nthis, the sisters did her every imaginable injury - they mocked her\\n\\nand emptied her peas and lentils into the ashes, so that she was\\n\\nforced to sit and pick them out again.  In the evening when she had\\n\\nworked till she was weary she had no bed to go to, but had to sleep',\n",
       " 'by the hearth in the cinders.  And as on that account she always\\n\\nlooked dusty and dirty, they called her cinderella.\\n\\nIt happened that the father was once going to the fair, and he\\n\\nasked his two step-daughters what he should bring back for them.\\n\\nBeautiful dresses, said one, pearls and jewels, said the second.\\n\\nAnd you, cinderella, said he, what will you have.  Father',\n",
       " 'break off for me the first branch which knocks against your hat on\\n\\nyour way home.  So he bought beautiful dresses, pearls and jewels\\n\\nfor his two step-daughters, and on his way home, as he was riding\\n\\nthrough a green thicket, a hazel twig brushed against him and\\n\\nknocked off his hat.  Then he broke off the branch and took it with\\n\\nhim.  When he reached home he gave his step-daughters the things',\n",
       " \"which they had wished for, and to cinderella he gave the branch\\n\\nfrom the hazel-bush.  Cinderella thanked him, went to her mother's\\n\\ngrave and planted the branch on it, and wept so much that the tears\\n\\nfell down on it and watered it.  And it grew and became a handsome\\n\\ntree. Thrice a day cinderella went and sat beneath it, and wept and\\n\\nprayed, and a little white bird always came on the tree, and if\",\n",
       " 'cinderella expressed a wish, the bird threw down to her what she\\n\\nhad wished for.\\n\\nIt happened, however, that the king gave orders for a festival\\n\\nwhich was to last three days, and to which all the beautiful young\\n\\ngirls in the country were invited, in order that his son might choose\\n\\nhimself a bride.  When the two step-sisters heard that they too were',\n",
       " \"to appear among the number, they were delighted, called cinderella\\n\\nand said, comb our hair for us, brush our shoes and fasten our\\n\\nbuckles, for we are going to the wedding at the king's palace.\\n\\nCinderella obeyed, but wept, because she too would have liked to\\n\\ngo with them to the dance, and begged her step-mother to allow\\n\\nher to do so.  You go, cinderella, said she, covered in dust and\",\n",
       " 'dirt as you are, and would go to the festival.  You have no clothes\\n\\nand shoes, and yet would dance.  As, however, cinderella went on\\n\\nasking, the step-mother said at last, I have emptied a dish of\\n\\nlentils into the ashes for you, if you have picked them out again in\\n\\ntwo hours, you shall go with us.  The maiden went through the\\n\\nback-door into the garden, and called, you tame pigeons, you',\n",
       " 'turtle-doves, and all you birds beneath the sky, come and help me\\n\\nto pick\\n\\n     the good into the pot,\\n\\n     the bad into the crop.\\n\\nThen two white pigeons came in by the kitchen window, and\\n\\nafterwards the turtle-doves, and at last all the birds beneath the\\n\\nsky, came whirring and crowding in, and alighted amongst the ashes.\\n\\nAnd the pigeons nodded with their heads and began pick, pick,',\n",
       " 'pick, pick, and the rest began also pick, pick, pick, pick, and\\n\\ngathered all the good grains into the dish.  Hardly had one hour\\n\\npassed before they had finished, and all flew out again.  Then the\\n\\ngirl took the dish to her step-mother, and was glad, and believed\\n\\nthat now she would be allowed to go with them to the festival.\\n\\nBut the step-mother said, no, cinderella, you have no clothes and',\n",
       " 'you can not dance.  You would only be laughed at.  And as\\n\\ncinderella wept at this, the step-mother said, if you can pick two\\n\\ndishes of lentils out of the ashes for me in one hour, you shall go\\n\\nwith us.  And she thought to herself, that she most certainly\\n\\ncannot do again.  When the step-mother had emptied the two\\n\\ndishes of lentils amongst the ashes, the maiden went through the',\n",
       " 'back-door into the garden and cried, you tame pigeons, you\\n\\nturtle-doves, and all you birds beneath the sky, come and help me\\n\\nto pick\\n\\n     the good into the pot,\\n\\n     the bad into the crop.\\n\\nThen two white pigeons came in by the kitchen-window, and\\n\\nafterwards the turtle-doves, and at length all the birds beneath the\\n\\nsky, came whirring and crowding in, and alighted amongst the',\n",
       " 'ashes.  And the doves nodded with their heads and began pick,\\n\\npick, pick, pick, and the others began also pick, pick, pick, pick,\\n\\nand gathered all the good seeds into the dishes, and before half an\\n\\nhour was over they had already finished, and all flew out again.\\n\\nThen the maiden was delighted, and believed that she might now go\\n\\nwith them to the wedding.  But the step-mother said, all this will',\n",
       " \"not help.  You cannot go with us, for you have no clothes and can\\n\\nnot dance.  We should be ashamed of you.  On this she turned her\\n\\nback on cinderella, and hurried away with her two proud daughters.\\n\\nAs no one was now at home, cinderella went to her mother's\\n\\ngrave beneath the hazel-tree, and cried -\\n\\n     shiver and quiver, little tree,\\n\\n     silver and gold throw down over me.\",\n",
       " 'Then the bird threw a gold and silver dress down to her, and\\n\\nslippers embroidered with silk and silver.  She put on the dress\\n\\nwith all speed, and went to the wedding.  Her step-sisters and the\\n\\nstep-mother however did not know her, and thought she must be a\\n\\nforeign princess, for she looked so beautiful in the golden dress.\\n\\nThey never once thought of cinderella, and believed that she was',\n",
       " 'sitting at home in the dirt, picking lentils out of the ashes.  The\\n\\nprince approached her, took her by the hand and danced with her.\\n\\nHe would dance with no other maiden, and never let loose of her\\n\\nhand, and if any one else came to invite her, he said, this is my\\n\\npartner.\\n\\nShe danced till it was evening, and then she wanted to go home.',\n",
       " \"But the king's son said, I will go with you and bear you company,\\n\\nfor he wished to see to whom the beautiful maiden belonged.\\n\\nShe escaped from him, however, and sprang into the\\n\\npigeon-house.  The king's son waited until her father came, and\\n\\nthen he told him that the unknown maiden had leapt into the\\n\\npigeon-house.  The old man thought, can it be cinderella.  And\",\n",
       " 'they had to bring him an axe and a pickaxe that he might hew\\n\\nthe pigeon-house to pieces, but no one was inside it.  And when they\\n\\ngot home cinderella lay in her dirty clothes among the ashes, and\\n\\na dim little oil-lamp was burning on the mantle-piece, for\\n\\ncinderella had jumped quickly down from the back of the pigeon-house\\n\\nand had run to the little hazel-tree, and there she had taken off',\n",
       " 'her beautiful clothes and laid them on the grave, and the bird had\\n\\ntaken them away again, and then she had seated herself in the\\n\\nkitchen amongst the ashes in her grey gown.\\n\\nNext day when the festival began afresh, and her parents and\\n\\nthe step-sisters had gone once more, cinderella went to the\\n\\nhazel-tree and said -\\n\\n     shiver and quiver, my little tree,\\n\\n     silver and gold throw down over me.',\n",
       " \"Then the bird threw down a much more beautiful dress than on\\n\\nthe preceding day. And when cinderella appeared at the wedding\\n\\nin this dress, every one was astonished at her beauty.  The king's\\n\\nson had waited until she came, and instantly took her by the hand\\n\\nand danced with no one but her.  When others came and invited\\n\\nher, he said, this is my partner.  When evening came she wished\",\n",
       " \"to leave, and the king's son followed her and wanted to see into\\n\\nwhich house she went.  But she sprang away from him, and into\\n\\nthe garden behind the house.  Therein stood a beautiful tall tree on\\n\\nwhich hung the most magnificent pears.  She clambered so nimbly\\n\\nbetween the branches like a squirrel that the king's son did not\\n\\nknow where she was gone.  He waited until her father came, and\",\n",
       " 'said to him, the unknown maiden has escaped from me, and I\\n\\nbelieve she has climbed up the pear-tree.  The father thought,\\n\\ncan it be cinderella.  And had an axe brought and cut the\\n\\ntree down, but no one was on it.  And when they got into the\\n\\nkitchen, cinderella lay there among the ashes, as usual, for she\\n\\nhad jumped down on the other side of the tree, had taken the',\n",
       " \"beautiful dress to the bird on the little hazel-tree, and put on her\\n\\ngrey gown.\\n\\nOn the third day, when the parents and sisters had gone away,\\n\\ncinderella went once more to her mother's grave and said to the\\n\\nlittle tree -\\n\\n     shiver and quiver, my little tree,\\n\\n     silver and gold throw down over me.\\n\\nAnd now the bird threw down to her a dress which was more\",\n",
       " \"splendid and magnificent than any she had yet had, and the\\n\\nslippers were golden.  And when she went to the festival in the\\n\\ndress, no one knew how to speak for astonishment.  The king's son\\n\\ndanced with her only, and if any one invited her to dance, he said\\n\\nthis is my partner.\\n\\nWhen evening came, cinderella wished to leave, and the king's\",\n",
       " \"son was anxious to go with her, but she escaped from him so quickly\\n\\nthat he could not follow her.  The king's son, however, had\\n\\nemployed a ruse, and had caused the whole staircase to be smeared\\n\\nwith pitch, and there, when she ran down, had the maiden's left\\n\\nslipper remained stuck.  The king's son picked it up, and it was\\n\\nsmall and dainty, and all golden.  Next morning, he went with it to\",\n",
       " 'the father, and said to him, no one shall be my wife but she whose\\n\\nfoot this golden slipper fits.  Then were the two sisters glad,\\n\\nfor they had pretty feet.  The eldest went with the shoe into her\\n\\nroom and wanted to try it on, and her mother stood by.  But she\\n\\ncould not get her big toe into it, and the shoe was too small for\\n\\nher.  Then her mother gave her a knife and said, cut the toe off,',\n",
       " \"when you are queen you will have no more need to go on foot.  The\\n\\nmaiden cut the toe off, forced the foot into the shoe, swallowed\\n\\nthe pain, and went out to the king's son.  Then he took her on his\\n\\nhis horse as his bride and rode away with her.  They were\\n\\nobliged, however, to pass the grave, and there, on the hazel-tree,\\n\\nsat the two pigeons and cried -\\n\\n     turn and peep, turn and peep,\",\n",
       " \"there's blood within the shoe,\\n\\n     the shoe it is too small for her,\\n\\n     the true bride waits for you.\\n\\nThen he looked at her foot and saw how the blood was trickling\\n\\nfrom it.  He turned his horse round and took the false bride\\n\\nhome again, and said she was not the true one, and that the\\n\\nother sister was to put the shoe on.  Then this one went into her\",\n",
       " \"chamber and got her toes safely into the shoe, but her heel was\\n\\ntoo large.  So her mother gave her a knife and said,  cut a bit\\n\\noff your heel, when you are queen you will have no more need\\n\\nto go on foot.  The maiden cut a bit off her heel, forced\\n\\nher foot into the shoe, swallowed the pain, and went out to the\\n\\nking's son.  He took her on his horse as his bride, and rode away\",\n",
       " \"with her, but when they passed by the hazel-tree, the two pigeons\\n\\nsat on it and cried -\\n\\n     turn and peep, turn and peep,\\n\\n     there's blood within the shoe,\\n\\n     the shoe it is too small for her,\\n\\n     the true bride waits for you.\\n\\nHe looked down at her foot and saw how the blood was running\\n\\nout of her shoe, and how it had stained her white stocking quite\",\n",
       " \"red.  Then he turned his horse and took the false bride home\\n\\nagain.  This also is not the right one, said he, have you no\\n\\nother daughter.  No, said the man, there is still a little\\n\\nstunted kitchen-wench which my late wife left behind her, but\\n\\nshe cannot possibly be the bride.  The king's son said he was\\n\\nto send her up to him, but the mother answered, oh, no, she is\",\n",
       " \"much too dirty, she cannot show herself.  But he absolutely\\n\\ninsisted on it, and cinderella had to be called.  She first\\n\\nwashed her hands and face clean, and then went and bowed down\\n\\nbefore the king's son, who gave her the golden shoe.  Then she\\n\\nseated herself on a stool, drew her foot out of the heavy\\n\\nwooden shoe, and put it into the slipper, which fitted like a\",\n",
       " \"glove.  And when she rose up and the king's son looked at her\\n\\nface he recognized the beautiful maiden who had danced with\\n\\nhim and cried, that is the true bride.  The step-mother and\\n\\nthe two sisters were horrified and became pale with rage, he,\\n\\nhowever, took cinderella on his horse and rode away with her.  As\\n\\nthey passed by the hazel-tree, the two white doves cried -\",\n",
       " \"turn and peep, turn and peep,\\n\\n     no blood is in the shoe,\\n\\n     the shoe is not too small for her,\\n\\n     the true bride rides with you,\\n\\nand when they had cried that, the two came flying down and\\n\\nplaced themselves on cinderella's shoulders, one on the right,\\n\\nthe other on the left, and remained sitting there.\\n\\nWhen the wedding with the king's son was to be celebrated, the\",\n",
       " 'two false sisters came and wanted to get into favor with\\n\\ncinderella and share her good fortune.  When the betrothed\\n\\ncouple went to church, the elder was at the right side and the\\n\\nyounger at the left, and the pigeons pecked out one eye from\\n\\neach of them.  Afterwards as they came back the elder was at\\n\\nthe left, and the younger at the right, and then the pigeons',\n",
       " 'pecked out the other eye from each.  And thus, for their\\n\\nwickedness and falsehood, they were punished with blindness\\n\\nall their days.']"
      ]
     },
     "execution_count": 6,
     "metadata": {},
     "output_type": "execute_result"
    }
   ],
   "execution_count": 6
  },
  {
   "metadata": {},
   "cell_type": "markdown",
   "source": [
    "### Set up vector store\n",
    "Set up a vector store using the `DuckDB` class from the indox library."
   ],
   "id": "8c15bab1d6f0612e"
  },
  {
   "metadata": {
    "ExecuteTime": {
     "end_time": "2024-09-02T08:15:49.109976Z",
     "start_time": "2024-09-02T08:15:49.062668Z"
    }
   },
   "cell_type": "code",
   "source": [
    "from indox.vector_stores import DuckDB\n",
    "vector_store = DuckDB(\n",
    "    embedding_function=embed,\n",
    "    vector_key=\"embedding\",   \n",
    "    id_key=\"id\",              \n",
    "    text_key=\"text\",          \n",
    "    table_name=\"embeddings\"\n",
    ")"
   ],
   "id": "dec9b87ac6b212d7",
   "outputs": [],
   "execution_count": 7
  },
  {
   "metadata": {},
   "cell_type": "markdown",
   "source": "### Storing Data in the Vector Store",
   "id": "730369204b63e1d4"
  },
  {
   "metadata": {
    "ExecuteTime": {
     "end_time": "2024-09-02T08:15:53.276361Z",
     "start_time": "2024-09-02T08:15:51.821704Z"
    }
   },
   "cell_type": "code",
   "source": "vector_store.add(texts=content_chunks)",
   "id": "1ceeda7b6051d972",
   "outputs": [
    {
     "name": "stdout",
     "output_type": "stream",
     "text": [
      "\u001B[32mINFO\u001B[0m: \u001B[1mEmbedding documents\u001B[0m\n",
      "\u001B[32mINFO\u001B[0m: \u001B[1mStarting to fetch embeddings for texts using model: SentenceTransformer(\n",
      "  (0): Transformer({'max_seq_length': 512, 'do_lower_case': False}) with Transformer model: MPNetModel \n",
      "  (1): Pooling({'word_embedding_dimension': 768, 'pooling_mode_cls_token': False, 'pooling_mode_mean_tokens': True, 'pooling_mode_max_tokens': False, 'pooling_mode_mean_sqrt_len_tokens': False, 'pooling_mode_weightedmean_tokens': False, 'pooling_mode_lasttoken': False, 'include_prompt': True})\n",
      "  (2): Normalize()\n",
      ")\u001B[0m\n"
     ]
    },
    {
     "data": {
      "text/plain": [
       "Batches:   0%|          | 0/2 [00:00<?, ?it/s]"
      ],
      "application/vnd.jupyter.widget-view+json": {
       "version_major": 2,
       "version_minor": 0,
       "model_id": "09687dd17c674613bfb1065cafc58ecf"
      }
     },
     "metadata": {},
     "output_type": "display_data"
    },
    {
     "data": {
      "text/plain": [
       "['899c965b-d352-4df5-902f-7b3778354a00',\n",
       " 'ceb6e2f6-5d79-4105-933b-96cfe81b3bc1',\n",
       " '02a34963-ee70-4895-8dea-e846c022233d',\n",
       " 'b3228b7f-fdcb-4b31-8377-3295b4f23246',\n",
       " '1978ca17-8f99-4ffe-8ed3-bb26eea44117',\n",
       " '8d79f2ef-90d1-465d-ad74-19f6648fe589',\n",
       " '9969dd11-7d27-4a1c-a63f-a5b09a9e347f',\n",
       " '49d10bc5-b0ca-4182-b652-524dfd207dae',\n",
       " 'f298f90a-0d9e-428d-bc0a-4cd7a1ea83af',\n",
       " '5e39cd79-cfbf-4489-835c-c35c503f04e6',\n",
       " 'fdb61563-be85-4c99-a4d7-d982f5a86dba',\n",
       " '632dd926-4052-4932-a189-10eb3dd6891d',\n",
       " '6f1e76a3-4f01-430e-ac51-a34184af2bfd',\n",
       " '4da1d23c-dd2f-4303-acfd-778b9ef906e6',\n",
       " '93e80298-47c5-4869-a2b2-1e6184162f52',\n",
       " 'bb3c4763-2127-4399-994c-b319a8bcda59',\n",
       " '5b5bc067-c743-4e7c-b9ed-fd6bde84b9c3',\n",
       " '4a244958-7c75-4930-a1f4-ccadaa72a25f',\n",
       " '639674c4-c18a-4ed0-b1e9-6992daf1e2a3',\n",
       " '1ccbd68c-23bd-4196-b021-44a06b9db4f6',\n",
       " '4273aa39-ce16-4b4b-8789-fa45e9639c41',\n",
       " '0c81ee55-70ce-4a8e-825b-256129eead66',\n",
       " '41a14c4d-c6db-4fa1-ad6e-229426be6fac',\n",
       " '2e1a9a3a-5cfe-49f1-85c2-b46c2d27b38b',\n",
       " 'eb64854f-88ba-442d-910c-b0df8f4e71c4',\n",
       " '4de45218-e935-439e-8b0e-6631284e79cb',\n",
       " '3c70c3fe-2ed6-4308-bdc6-d94797941ca1',\n",
       " 'd3810955-2d4d-428a-b61b-3da61af90775',\n",
       " '727da4e0-77f9-45e3-bd54-d3d1d1f92324',\n",
       " 'ef0a1b85-25d9-4276-8ef4-96b1bbb7457f',\n",
       " 'fd8c0475-3ea7-4a2f-b07c-669d31512c55',\n",
       " '8b1ef4fe-3a05-4ce3-ba70-394eae38ae87',\n",
       " 'a28a35a2-f0a7-47d0-86b1-38f00353a836',\n",
       " '5252a35a-3b86-4959-b499-bd12daffa9bc',\n",
       " '7a098f6e-d2fc-4e32-a5dc-d097bf20599d',\n",
       " '114d17ce-4a26-494d-92eb-520af21abf6d',\n",
       " '211bb6fd-b627-4498-9dba-f5ab4f25e3e0',\n",
       " '5138bd22-e5f2-4ad4-98fc-00d4e004ba63']"
      ]
     },
     "execution_count": 8,
     "metadata": {},
     "output_type": "execute_result"
    }
   ],
   "execution_count": 8
  },
  {
   "metadata": {
    "ExecuteTime": {
     "end_time": "2024-09-02T08:15:55.366239Z",
     "start_time": "2024-09-02T08:15:55.354240Z"
    }
   },
   "cell_type": "code",
   "source": "query = \"How cinderella reach her happy ending?\"\n",
   "id": "3701596d112cd595",
   "outputs": [],
   "execution_count": 9
  },
  {
   "metadata": {
    "ExecuteTime": {
     "end_time": "2024-09-02T08:15:58.111812Z",
     "start_time": "2024-09-02T08:15:58.105808Z"
    }
   },
   "cell_type": "code",
   "source": "retriever = indox.QuestionAnswer(vector_database=vector_store,llm=mistral_qa,top_k=5)\n",
   "id": "a29244c675346733",
   "outputs": [],
   "execution_count": 10
  },
  {
   "metadata": {
    "ExecuteTime": {
     "end_time": "2024-09-02T08:16:02.318444Z",
     "start_time": "2024-09-02T08:16:00.072285Z"
    }
   },
   "cell_type": "code",
   "source": "answer = retriever.invoke(query=query)\n",
   "id": "bf21be5bc8d4c2c2",
   "outputs": [
    {
     "name": "stdout",
     "output_type": "stream",
     "text": [
      "\u001B[32mINFO\u001B[0m: \u001B[1mRetrieving context and scores from the vector database\u001B[0m\n",
      "\u001B[32mINFO\u001B[0m: \u001B[1mEmbedding documents\u001B[0m\n",
      "\u001B[32mINFO\u001B[0m: \u001B[1mStarting to fetch embeddings for texts using model: SentenceTransformer(\n",
      "  (0): Transformer({'max_seq_length': 512, 'do_lower_case': False}) with Transformer model: MPNetModel \n",
      "  (1): Pooling({'word_embedding_dimension': 768, 'pooling_mode_cls_token': False, 'pooling_mode_mean_tokens': True, 'pooling_mode_max_tokens': False, 'pooling_mode_mean_sqrt_len_tokens': False, 'pooling_mode_weightedmean_tokens': False, 'pooling_mode_lasttoken': False, 'include_prompt': True})\n",
      "  (2): Normalize()\n",
      ")\u001B[0m\n"
     ]
    },
    {
     "data": {
      "text/plain": [
       "Batches:   0%|          | 0/1 [00:00<?, ?it/s]"
      ],
      "application/vnd.jupyter.widget-view+json": {
       "version_major": 2,
       "version_minor": 0,
       "model_id": "607e0cc240a143b086348f98dbfafa53"
      }
     },
     "metadata": {},
     "output_type": "display_data"
    },
    {
     "name": "stdout",
     "output_type": "stream",
     "text": [
      "\u001B[32mINFO\u001B[0m: \u001B[1mGenerating answer without document relevancy filter\u001B[0m\n",
      "\u001B[32mINFO\u001B[0m: \u001B[1mAnswering question\u001B[0m\n",
      "\u001B[32mINFO\u001B[0m: \u001B[1mSending request to Hugging Face API\u001B[0m\n",
      "\u001B[32mINFO\u001B[0m: \u001B[1mReceived successful response from Hugging Face API\u001B[0m\n",
      "\u001B[32mINFO\u001B[0m: \u001B[1mQuery answered successfully\u001B[0m\n"
     ]
    }
   ],
   "execution_count": 11
  },
  {
   "metadata": {
    "ExecuteTime": {
     "end_time": "2024-09-02T08:16:08.820441Z",
     "start_time": "2024-09-02T08:16:08.810299Z"
    }
   },
   "cell_type": "code",
   "source": "answer",
   "id": "28b584d4be0c1800",
   "outputs": [
    {
     "data": {
      "text/plain": [
       "\"Cinderella reached her happy ending when the prince recognized her as the beautiful maiden he had met at the ball, after she had wished for the items the bird dropped for her from the tree. Despite her step-mother and step-sisters' attempts to prevent her from attending the royal festival, Cinderella went to the hazel-tree and repeated the magic words, causing silver and gold to be showered upon her. The prince was once again drawn to her, and they\""
      ]
     },
     "execution_count": 12,
     "metadata": {},
     "output_type": "execute_result"
    }
   ],
   "execution_count": 12
  },
  {
   "metadata": {
    "ExecuteTime": {
     "end_time": "2024-09-02T08:16:31.609222Z",
     "start_time": "2024-09-02T08:16:31.604218Z"
    }
   },
   "cell_type": "code",
   "source": [
    "context = retriever.context\n",
    "context"
   ],
   "id": "156df55872f1cafe",
   "outputs": [
    {
     "data": {
      "text/plain": [
       "['by the hearth in the cinders.  And as on that account she always\\n\\nlooked dusty and dirty, they called her cinderella.\\n\\nIt happened that the father was once going to the fair, and he\\n\\nasked his two step-daughters what he should bring back for them.\\n\\nBeautiful dresses, said one, pearls and jewels, said the second.\\n\\nAnd you, cinderella, said he, what will you have.  Father',\n",
       " 'cinderella expressed a wish, the bird threw down to her what she\\n\\nhad wished for.\\n\\nIt happened, however, that the king gave orders for a festival\\n\\nwhich was to last three days, and to which all the beautiful young\\n\\ngirls in the country were invited, in order that his son might choose\\n\\nhimself a bride.  When the two step-sisters heard that they too were',\n",
       " \"glove.  And when she rose up and the king's son looked at her\\n\\nface he recognized the beautiful maiden who had danced with\\n\\nhim and cried, that is the true bride.  The step-mother and\\n\\nthe two sisters were horrified and became pale with rage, he,\\n\\nhowever, took cinderella on his horse and rode away with her.  As\\n\\nthey passed by the hazel-tree, the two white doves cried -\",\n",
       " 'her beautiful clothes and laid them on the grave, and the bird had\\n\\ntaken them away again, and then she had seated herself in the\\n\\nkitchen amongst the ashes in her grey gown.\\n\\nNext day when the festival began afresh, and her parents and\\n\\nthe step-sisters had gone once more, cinderella went to the\\n\\nhazel-tree and said -\\n\\n     shiver and quiver, my little tree,\\n\\n     silver and gold throw down over me.',\n",
       " 'said to him, the unknown maiden has escaped from me, and I\\n\\nbelieve she has climbed up the pear-tree.  The father thought,\\n\\ncan it be cinderella.  And had an axe brought and cut the\\n\\ntree down, but no one was on it.  And when they got into the\\n\\nkitchen, cinderella lay there among the ashes, as usual, for she\\n\\nhad jumped down on the other side of the tree, had taken the']"
      ]
     },
     "execution_count": 13,
     "metadata": {},
     "output_type": "execute_result"
    }
   ],
   "execution_count": 13
  }
 ],
 "metadata": {
  "kernelspec": {
   "display_name": "Python 3",
   "language": "python",
   "name": "python3"
  },
  "language_info": {
   "codemirror_mode": {
    "name": "ipython",
    "version": 2
   },
   "file_extension": ".py",
   "mimetype": "text/x-python",
   "name": "python",
   "nbconvert_exporter": "python",
   "pygments_lexer": "ipython2",
   "version": "2.7.6"
  }
 },
 "nbformat": 4,
 "nbformat_minor": 5
}
