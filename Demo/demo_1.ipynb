{
 "cells": [
  {
   "metadata": {},
   "cell_type": "markdown",
   "source": "## Indox Retrieval Augmentation\n",
   "id": "f454fd6293a873f7"
  },
  {
   "metadata": {},
   "cell_type": "markdown",
   "source": "Here, we will explore how to work with Indox Retrieval Augmentation. First, if you are using OpenAI, you should set your OpenAI key as an environment variable.",
   "id": "c67508fa389e569f"
  },
  {
   "metadata": {
    "ExecuteTime": {
     "end_time": "2024-06-10T17:20:07.820126Z",
     "start_time": "2024-06-10T17:20:07.807257Z"
    }
   },
   "cell_type": "code",
   "source": [
    "import os\n",
    "from dotenv import load_dotenv\n",
    "\n",
    "load_dotenv()\n",
    "OPENAI_API_KEY = os.getenv(\"OPENAI_API_KEY\")"
   ],
   "id": "88e8c38ba3b8886d",
   "outputs": [],
   "execution_count": 1
  },
  {
   "metadata": {},
   "cell_type": "markdown",
   "source": [
    "### Creating an instance of IndoxRetrivalAugmentation\n",
    "\n",
    "To effectively utilize the Indox Retrieval Augmentation capabilities, you must first create an instance of the IndoxRetrievalAugmentation class. This instance will allow you to access the methods and properties defined within the class, enabling the augmentation and retrieval functionalities."
   ],
   "id": "ac995737f9b2fe6e"
  },
  {
   "metadata": {
    "ExecuteTime": {
     "end_time": "2024-06-10T17:20:07.878680Z",
     "start_time": "2024-06-10T17:20:07.821134Z"
    }
   },
   "cell_type": "code",
   "source": [
    "from indox import IndoxRetrievalAugmentation\n",
    "indox = IndoxRetrievalAugmentation()"
   ],
   "id": "131692307c9154db",
   "outputs": [],
   "execution_count": 2
  },
  {
   "metadata": {},
   "cell_type": "markdown",
   "source": [
    "### Generating response using OpenAI's language models \n",
    "OpenAIQA class is used to handle question-answering task using OpenAI's language models. This instance creates OpenAiEmbedding class to specifying embedding model. Here ChromaVectorStore handles the storage and retrieval of vector embeddings by specifying a collection name and sets up a vector store where text embeddings can be stored and queried."
   ],
   "id": "759db8f502cbd91f"
  },
  {
   "metadata": {
    "ExecuteTime": {
     "end_time": "2024-06-10T17:20:15.247603Z",
     "start_time": "2024-06-10T17:20:07.879685Z"
    }
   },
   "cell_type": "code",
   "source": [
    "from indox.llms import OpenAi\n",
    "from indox.embeddings import OpenAiEmbedding\n",
    "openai_qa = OpenAi(api_key=OPENAI_API_KEY, model=\"gpt-3.5-turbo-0125\")\n",
    "embed_openai = OpenAiEmbedding(api_key=OPENAI_API_KEY,model=\"text-embedding-3-small\")\n",
    "\n",
    "from indox.vector_stores import ChromaVectorStore\n",
    "db = ChromaVectorStore(collection_name=\"sample\",embedding=embed_openai)\n",
    "indox.connect_to_vectorstore(vectorstore_database=db)"
   ],
   "id": "f32d98545c6d3c3c",
   "outputs": [
    {
     "data": {
      "text/plain": [
       "<indox.vector_stores.Chroma.ChromaVectorStore at 0x1f29c1bc6b0>"
      ]
     },
     "execution_count": 3,
     "metadata": {},
     "output_type": "execute_result"
    }
   ],
   "execution_count": 3
  },
  {
   "metadata": {},
   "cell_type": "markdown",
   "source": [
    "### load and preprocess data\n",
    "This part of code demonstrates how to load and preprocess text data from a file, split it into chunks, and store these chunks in the vector store that was set up previously."
   ],
   "id": "1e3408e8f8a8ad17"
  },
  {
   "metadata": {
    "ExecuteTime": {
     "end_time": "2024-06-10T17:20:15.253017Z",
     "start_time": "2024-06-10T17:20:15.248608Z"
    }
   },
   "cell_type": "code",
   "source": "file_path = \"sample.txt\"",
   "id": "1d8e56a9f88e03cf",
   "outputs": [],
   "execution_count": 4
  },
  {
   "metadata": {
    "ExecuteTime": {
     "end_time": "2024-06-10T17:20:30.978284Z",
     "start_time": "2024-06-10T17:20:15.254025Z"
    }
   },
   "cell_type": "code",
   "source": [
    "from indox.data_loader_splitter import UnstructuredLoadAndSplit\n",
    "loader_splitter = UnstructuredLoadAndSplit(file_path=file_path,max_chunk_size=400,remove_sword=False)\n",
    "docs = loader_splitter.load_and_chunk()"
   ],
   "id": "827c44ce67f972c7",
   "outputs": [],
   "execution_count": 5
  },
  {
   "metadata": {
    "ExecuteTime": {
     "end_time": "2024-06-10T17:20:30.984424Z",
     "start_time": "2024-06-10T17:20:30.979293Z"
    }
   },
   "cell_type": "code",
   "source": "docs",
   "id": "82af3fb1c9f5643a",
   "outputs": [
    {
     "data": {
      "text/plain": [
       "[Document(page_content=\"The wife of a rich man fell sick, and as she felt that her end\\n\\nwas drawing near, she called her only daughter to her bedside and\\n\\nsaid, dear child, be good and pious, and then the\\n\\ngood God will always protect you, and I will look down on you\\n\\nfrom heaven and be near you. Thereupon she closed her eyes and\\n\\ndeparted. Every day the maiden went out to her mother's grave,\", metadata={'filename': 'sample.txt', 'filetype': 'text/plain', 'last_modified': '2024-05-30T13:53:09'}),\n",
       " Document(page_content='and wept, and she remained pious and good. When winter came\\n\\nthe snow spread a white sheet over the grave, and by the time the\\n\\nspring sun had drawn it off again, the man had taken another wife.\\n\\nThe woman had brought with her into the house two daughters,\\n\\nwho were beautiful and fair of face, but vile and black of heart.\\n\\nNow began a bad time for the poor step-child. Is the stupid goose', metadata={'filename': 'sample.txt', 'filetype': 'text/plain', 'last_modified': '2024-05-30T13:53:09'}),\n",
       " Document(page_content='to sit in the parlor with us, they said. He who wants to eat bread\\n\\nmust earn it. Out with the kitchen-wench. They took her pretty\\n\\nclothes away from her, put an old grey bedgown on her, and gave\\n\\nher wooden shoes. Just look at the proud princess, how decked\\n\\nout she is, they cried, and laughed, and led her into the kitchen.\\n\\nThere she had to do hard work from morning till night, get up', metadata={'filename': 'sample.txt', 'filetype': 'text/plain', 'last_modified': '2024-05-30T13:53:09'}),\n",
       " Document(page_content='before daybreak, carry water, light fires, cook and wash. Besides\\n\\nthis, the sisters did her every imaginable injury - they mocked her\\n\\nand emptied her peas and lentils into the ashes, so that she was\\n\\nforced to sit and pick them out again. In the evening when she had\\n\\nworked till she was weary she had no bed to go to, but had to sleep', metadata={'filename': 'sample.txt', 'filetype': 'text/plain', 'last_modified': '2024-05-30T13:53:09'}),\n",
       " Document(page_content='by the hearth in the cinders. And as on that account she always\\n\\nlooked dusty and dirty, they called her cinderella.\\n\\nIt happened that the father was once going to the fair, and he\\n\\nasked his two step-daughters what he should bring back for them.\\n\\nBeautiful dresses, said one, pearls and jewels, said the second.\\n\\nAnd you, cinderella, said he, what will you have. Father', metadata={'filename': 'sample.txt', 'filetype': 'text/plain', 'last_modified': '2024-05-30T13:53:09'}),\n",
       " Document(page_content='break off for me the first branch which knocks against your hat on\\n\\nyour way home. So he bought beautiful dresses, pearls and jewels\\n\\nfor his two step-daughters, and on his way home, as he was riding\\n\\nthrough a green thicket, a hazel twig brushed against him and\\n\\nknocked off his hat. Then he broke off the branch and took it with\\n\\nhim. When he reached home he gave his step-daughters the things', metadata={'filename': 'sample.txt', 'filetype': 'text/plain', 'last_modified': '2024-05-30T13:53:09'}),\n",
       " Document(page_content=\"which they had wished for, and to cinderella he gave the branch\\n\\nfrom the hazel-bush. Cinderella thanked him, went to her mother's\\n\\ngrave and planted the branch on it, and wept so much that the tears\\n\\nfell down on it and watered it. And it grew and became a handsome\\n\\ntree. Thrice a day cinderella went and sat beneath it, and wept and\\n\\nprayed, and a little white bird always came on the tree, and if\", metadata={'filename': 'sample.txt', 'filetype': 'text/plain', 'last_modified': '2024-05-30T13:53:09'}),\n",
       " Document(page_content='cinderella expressed a wish, the bird threw down to her what she\\n\\nhad wished for.\\n\\nIt happened, however, that the king gave orders for a festival\\n\\nwhich was to last three days, and to which all the beautiful young\\n\\ngirls in the country were invited, in order that his son might choose\\n\\nhimself a bride. When the two step-sisters heard that they too were', metadata={'filename': 'sample.txt', 'filetype': 'text/plain', 'last_modified': '2024-05-30T13:53:09'}),\n",
       " Document(page_content=\"to appear among the number, they were delighted, called cinderella\\n\\nand said, comb our hair for us, brush our shoes and fasten our\\n\\nbuckles, for we are going to the wedding at the king's palace.\\n\\nCinderella obeyed, but wept, because she too would have liked to\\n\\ngo with them to the dance, and begged her step-mother to allow\\n\\nher to do so. You go, cinderella, said she, covered in dust and\", metadata={'filename': 'sample.txt', 'filetype': 'text/plain', 'last_modified': '2024-05-30T13:53:09'}),\n",
       " Document(page_content='dirt as you are, and would go to the festival. You have no clothes\\n\\nand shoes, and yet would dance. As, however, cinderella went on\\n\\nasking, the step-mother said at last, I have emptied a dish of\\n\\nlentils into the ashes for you, if you have picked them out again in\\n\\ntwo hours, you shall go with us. The maiden went through the\\n\\nback-door into the garden, and called, you tame pigeons, you', metadata={'filename': 'sample.txt', 'filetype': 'text/plain', 'last_modified': '2024-05-30T13:53:09'}),\n",
       " Document(page_content='turtle-doves, and all you birds beneath the sky, come and help me\\n\\nto pick\\n\\nthe good into the pot,\\n\\nthe bad into the crop.\\n\\nThen two white pigeons came in by the kitchen window, and', metadata={'filename': 'sample.txt', 'filetype': 'text/plain', 'last_modified': '2024-05-30T13:53:09'}),\n",
       " Document(page_content='afterwards the turtle-doves, and at last all the birds beneath the\\n\\nsky, came whirring and crowding in, and alighted amongst the ashes.\\n\\nAnd the pigeons nodded with their heads and began pick, pick,\\n\\npick, pick, and the rest began also pick, pick, pick, pick, and\\n\\ngathered all the good grains into the dish. Hardly had one hour\\n\\npassed before they had finished, and all flew out again. Then the', metadata={'filename': 'sample.txt', 'filetype': 'text/plain', 'last_modified': '2024-05-30T13:53:09'}),\n",
       " Document(page_content='girl took the dish to her step-mother, and was glad, and believed\\n\\nthat now she would be allowed to go with them to the festival.\\n\\nBut the step-mother said, no, cinderella, you have no clothes and\\n\\nyou can not dance. You would only be laughed at. And as\\n\\ncinderella wept at this, the step-mother said, if you can pick two\\n\\ndishes of lentils out of the ashes for me in one hour, you shall go', metadata={'filename': 'sample.txt', 'filetype': 'text/plain', 'last_modified': '2024-05-30T13:53:09'}),\n",
       " Document(page_content='with us. And she thought to herself, that she most certainly\\n\\ncannot do again. When the step-mother had emptied the two\\n\\ndishes of lentils amongst the ashes, the maiden went through the\\n\\nback-door into the garden and cried, you tame pigeons, you\\n\\nturtle-doves, and all you birds beneath the sky, come and help me\\n\\nto pick\\n\\nthe good into the pot,', metadata={'filename': 'sample.txt', 'filetype': 'text/plain', 'last_modified': '2024-05-30T13:53:09'}),\n",
       " Document(page_content='the bad into the crop.\\n\\nThen two white pigeons came in by the kitchen-window, and', metadata={'filename': 'sample.txt', 'filetype': 'text/plain', 'last_modified': '2024-05-30T13:53:09'}),\n",
       " Document(page_content='afterwards the turtle-doves, and at length all the birds beneath the\\n\\nsky, came whirring and crowding in, and alighted amongst the\\n\\nashes. And the doves nodded with their heads and began pick,\\n\\npick, pick, pick, and the others began also pick, pick, pick, pick,\\n\\nand gathered all the good seeds into the dishes, and before half an\\n\\nhour was over they had already finished, and all flew out again.', metadata={'filename': 'sample.txt', 'filetype': 'text/plain', 'last_modified': '2024-05-30T13:53:09'}),\n",
       " Document(page_content=\"Then the maiden was delighted, and believed that she might now go\\n\\nwith them to the wedding. But the step-mother said, all this will\\n\\nnot help. You cannot go with us, for you have no clothes and can\\n\\nnot dance. We should be ashamed of you. On this she turned her\\n\\nback on cinderella, and hurried away with her two proud daughters.\\n\\nAs no one was now at home, cinderella went to her mother's\", metadata={'filename': 'sample.txt', 'filetype': 'text/plain', 'last_modified': '2024-05-30T13:53:09'}),\n",
       " Document(page_content='grave beneath the hazel-tree, and cried -\\n\\nshiver and quiver, little tree,\\n\\nsilver and gold throw down over me.\\n\\nThen the bird threw a gold and silver dress down to her, and\\n\\nslippers embroidered with silk and silver. She put on the dress\\n\\nwith all speed, and went to the wedding. Her step-sisters and the\\n\\nstep-mother however did not know her, and thought she must be a', metadata={'filename': 'sample.txt', 'filetype': 'text/plain', 'last_modified': '2024-05-30T13:53:09'}),\n",
       " Document(page_content='foreign princess, for she looked so beautiful in the golden dress.\\n\\nThey never once thought of cinderella, and believed that she was\\n\\nsitting at home in the dirt, picking lentils out of the ashes. The\\n\\nprince approached her, took her by the hand and danced with her.\\n\\nHe would dance with no other maiden, and never let loose of her\\n\\nhand, and if any one else came to invite her, he said, this is my', metadata={'filename': 'sample.txt', 'filetype': 'text/plain', 'last_modified': '2024-05-30T13:53:09'}),\n",
       " Document(page_content=\"partner.\\n\\nShe danced till it was evening, and then she wanted to go home.\\n\\nBut the king's son said, I will go with you and bear you company,\\n\\nfor he wished to see to whom the beautiful maiden belonged.\\n\\nShe escaped from him, however, and sprang into the\\n\\npigeon-house. The king's son waited until her father came, and\\n\\nthen he told him that the unknown maiden had leapt into the\", metadata={'filename': 'sample.txt', 'filetype': 'text/plain', 'last_modified': '2024-05-30T13:53:09'}),\n",
       " Document(page_content='pigeon-house. The old man thought, can it be cinderella. And\\n\\nthey had to bring him an axe and a pickaxe that he might hew\\n\\nthe pigeon-house to pieces, but no one was inside it. And when they\\n\\ngot home cinderella lay in her dirty clothes among the ashes, and\\n\\na dim little oil-lamp was burning on the mantle-piece, for\\n\\ncinderella had jumped quickly down from the back of the pigeon-house', metadata={'filename': 'sample.txt', 'filetype': 'text/plain', 'last_modified': '2024-05-30T13:53:09'}),\n",
       " Document(page_content='and had run to the little hazel-tree, and there she had taken off\\n\\nher beautiful clothes and laid them on the grave, and the bird had\\n\\ntaken them away again, and then she had seated herself in the\\n\\nkitchen amongst the ashes in her grey gown.\\n\\nNext day when the festival began afresh, and her parents and\\n\\nthe step-sisters had gone once more, cinderella went to the\\n\\nhazel-tree and said -', metadata={'filename': 'sample.txt', 'filetype': 'text/plain', 'last_modified': '2024-05-30T13:53:09'}),\n",
       " Document(page_content=\"shiver and quiver, my little tree,\\n\\nsilver and gold throw down over me.\\n\\nThen the bird threw down a much more beautiful dress than on\\n\\nthe preceding day. And when cinderella appeared at the wedding\\n\\nin this dress, every one was astonished at her beauty. The king's\\n\\nson had waited until she came, and instantly took her by the hand\\n\\nand danced with no one but her. When others came and invited\", metadata={'filename': 'sample.txt', 'filetype': 'text/plain', 'last_modified': '2024-05-30T13:53:09'}),\n",
       " Document(page_content=\"her, he said, this is my partner. When evening came she wished\\n\\nto leave, and the king's son followed her and wanted to see into\\n\\nwhich house she went. But she sprang away from him, and into\\n\\nthe garden behind the house. Therein stood a beautiful tall tree on\\n\\nwhich hung the most magnificent pears. She clambered so nimbly\\n\\nbetween the branches like a squirrel that the king's son did not\", metadata={'filename': 'sample.txt', 'filetype': 'text/plain', 'last_modified': '2024-05-30T13:53:09'}),\n",
       " Document(page_content='know where she was gone. He waited until her father came, and\\n\\nsaid to him, the unknown maiden has escaped from me, and I\\n\\nbelieve she has climbed up the pear-tree. The father thought,\\n\\ncan it be cinderella. And had an axe brought and cut the\\n\\ntree down, but no one was on it. And when they got into the\\n\\nkitchen, cinderella lay there among the ashes, as usual, for she', metadata={'filename': 'sample.txt', 'filetype': 'text/plain', 'last_modified': '2024-05-30T13:53:09'}),\n",
       " Document(page_content=\"had jumped down on the other side of the tree, had taken the\\n\\nbeautiful dress to the bird on the little hazel-tree, and put on her\\n\\ngrey gown.\\n\\nOn the third day, when the parents and sisters had gone away,\\n\\ncinderella went once more to her mother's grave and said to the\", metadata={'filename': 'sample.txt', 'filetype': 'text/plain', 'last_modified': '2024-05-30T13:53:09'}),\n",
       " Document(page_content=\"little tree -\\n\\nshiver and quiver, my little tree,\\n\\nsilver and gold throw down over me.\\n\\nAnd now the bird threw down to her a dress which was more\\n\\nsplendid and magnificent than any she had yet had, and the\\n\\nslippers were golden. And when she went to the festival in the\\n\\ndress, no one knew how to speak for astonishment. The king's son\", metadata={'filename': 'sample.txt', 'filetype': 'text/plain', 'last_modified': '2024-05-30T13:53:09'}),\n",
       " Document(page_content=\"danced with her only, and if any one invited her to dance, he said\\n\\nthis is my partner.\\n\\nWhen evening came, cinderella wished to leave, and the king's\\n\\nson was anxious to go with her, but she escaped from him so quickly\\n\\nthat he could not follow her. The king's son, however, had\\n\\nemployed a ruse, and had caused the whole staircase to be smeared\", metadata={'filename': 'sample.txt', 'filetype': 'text/plain', 'last_modified': '2024-05-30T13:53:09'}),\n",
       " Document(page_content=\"with pitch, and there, when she ran down, had the maiden's left\\n\\nslipper remained stuck. The king's son picked it up, and it was\\n\\nsmall and dainty, and all golden. Next morning, he went with it to\\n\\nthe father, and said to him, no one shall be my wife but she whose\\n\\nfoot this golden slipper fits. Then were the two sisters glad,\\n\\nfor they had pretty feet. The eldest went with the shoe into her\", metadata={'filename': 'sample.txt', 'filetype': 'text/plain', 'last_modified': '2024-05-30T13:53:09'}),\n",
       " Document(page_content=\"room and wanted to try it on, and her mother stood by. But she\\n\\ncould not get her big toe into it, and the shoe was too small for\\n\\nher. Then her mother gave her a knife and said, cut the toe off,\\n\\nwhen you are queen you will have no more need to go on foot. The\\n\\nmaiden cut the toe off, forced the foot into the shoe, swallowed\\n\\nthe pain, and went out to the king's son. Then he took her on his\", metadata={'filename': 'sample.txt', 'filetype': 'text/plain', 'last_modified': '2024-05-30T13:53:09'}),\n",
       " Document(page_content=\"his horse as his bride and rode away with her. They were\\n\\nobliged, however, to pass the grave, and there, on the hazel-tree,\\n\\nsat the two pigeons and cried -\\n\\nturn and peep, turn and peep,\\n\\nthere's blood within the shoe,\\n\\nthe shoe it is too small for her,\", metadata={'filename': 'sample.txt', 'filetype': 'text/plain', 'last_modified': '2024-05-30T13:53:09'}),\n",
       " Document(page_content='the true bride waits for you.\\n\\nThen he looked at her foot and saw how the blood was trickling\\n\\nfrom it. He turned his horse round and took the false bride\\n\\nhome again, and said she was not the true one, and that the\\n\\nother sister was to put the shoe on. Then this one went into her\\n\\nchamber and got her toes safely into the shoe, but her heel was', metadata={'filename': 'sample.txt', 'filetype': 'text/plain', 'last_modified': '2024-05-30T13:53:09'}),\n",
       " Document(page_content=\"too large. So her mother gave her a knife and said,  cut a bit\\n\\noff your heel, when you are queen you will have no more need\\n\\nto go on foot. The maiden cut a bit off her heel, forced\\n\\nher foot into the shoe, swallowed the pain, and went out to the\\n\\nking's son. He took her on his horse as his bride, and rode away\\n\\nwith her, but when they passed by the hazel-tree, the two pigeons\", metadata={'filename': 'sample.txt', 'filetype': 'text/plain', 'last_modified': '2024-05-30T13:53:09'}),\n",
       " Document(page_content=\"sat on it and cried -\\n\\nturn and peep, turn and peep,\\n\\nthere's blood within the shoe,\\n\\nthe shoe it is too small for her,\", metadata={'filename': 'sample.txt', 'filetype': 'text/plain', 'last_modified': '2024-05-30T13:53:09'}),\n",
       " Document(page_content='the true bride waits for you.\\n\\nHe looked down at her foot and saw how the blood was running\\n\\nout of her shoe, and how it had stained her white stocking quite\\n\\nred. Then he turned his horse and took the false bride home\\n\\nagain. This also is not the right one, said he, have you no\\n\\nother daughter. No, said the man, there is still a little', metadata={'filename': 'sample.txt', 'filetype': 'text/plain', 'last_modified': '2024-05-30T13:53:09'}),\n",
       " Document(page_content=\"stunted kitchen-wench which my late wife left behind her, but\\n\\nshe cannot possibly be the bride. The king's son said he was\\n\\nto send her up to him, but the mother answered, oh, no, she is\\n\\nmuch too dirty, she cannot show herself. But he absolutely\\n\\ninsisted on it, and cinderella had to be called. She first\\n\\nwashed her hands and face clean, and then went and bowed down\", metadata={'filename': 'sample.txt', 'filetype': 'text/plain', 'last_modified': '2024-05-30T13:53:09'}),\n",
       " Document(page_content=\"before the king's son, who gave her the golden shoe. Then she\\n\\nseated herself on a stool, drew her foot out of the heavy\\n\\nwooden shoe, and put it into the slipper, which fitted like a\\n\\nglove. And when she rose up and the king's son looked at her\\n\\nface he recognized the beautiful maiden who had danced with\\n\\nhim and cried, that is the true bride. The step-mother and\", metadata={'filename': 'sample.txt', 'filetype': 'text/plain', 'last_modified': '2024-05-30T13:53:09'}),\n",
       " Document(page_content='the two sisters were horrified and became pale with rage, he,\\n\\nhowever, took cinderella on his horse and rode away with her. As\\n\\nthey passed by the hazel-tree, the two white doves cried -\\n\\nturn and peep, turn and peep,\\n\\nno blood is in the shoe,\\n\\nthe shoe is not too small for her,\\n\\nthe true bride rides with you,\\n\\nand when they had cried that, the two came flying down and', metadata={'filename': 'sample.txt', 'filetype': 'text/plain', 'last_modified': '2024-05-30T13:53:09'}),\n",
       " Document(page_content=\"placed themselves on cinderella's shoulders, one on the right,\\n\\nthe other on the left, and remained sitting there.\\n\\nWhen the wedding with the king's son was to be celebrated, the\\n\\ntwo false sisters came and wanted to get into favor with\\n\\ncinderella and share her good fortune. When the betrothed\\n\\ncouple went to church, the elder was at the right side and the\", metadata={'filename': 'sample.txt', 'filetype': 'text/plain', 'last_modified': '2024-05-30T13:53:09'}),\n",
       " Document(page_content='younger at the left, and the pigeons pecked out one eye from\\n\\neach of them. Afterwards as they came back the elder was at\\n\\nthe left, and the younger at the right, and then the pigeons\\n\\npecked out the other eye from each. And thus, for their\\n\\nwickedness and falsehood, they were punished with blindness\\n\\nall their days.', metadata={'filename': 'sample.txt', 'filetype': 'text/plain', 'last_modified': '2024-05-30T13:53:09'})]"
      ]
     },
     "execution_count": 6,
     "metadata": {},
     "output_type": "execute_result"
    }
   ],
   "execution_count": 6
  },
  {
   "metadata": {
    "ExecuteTime": {
     "end_time": "2024-06-10T17:20:33.719692Z",
     "start_time": "2024-06-10T17:20:30.986438Z"
    }
   },
   "cell_type": "code",
   "source": "indox.store_in_vectorstore(docs=docs)",
   "id": "4557891dec337e31",
   "outputs": [
    {
     "data": {
      "text/plain": [
       "<indox.vector_stores.Chroma.ChromaVectorStore at 0x1f29c1bc6b0>"
      ]
     },
     "execution_count": 7,
     "metadata": {},
     "output_type": "execute_result"
    }
   ],
   "execution_count": 7
  },
  {
   "metadata": {},
   "cell_type": "markdown",
   "source": [
    "### Retrieve relevant information and generate an answer\n",
    "The main purpose of these lines is to perform a query on the vector store to retrieve the most relevant information (top_k=5) and generate an answer using the language model."
   ],
   "id": "cd6bd4924ad116fd"
  },
  {
   "metadata": {
    "ExecuteTime": {
     "end_time": "2024-06-10T17:20:33.725143Z",
     "start_time": "2024-06-10T17:20:33.721790Z"
    }
   },
   "cell_type": "code",
   "source": [
    "query = \"How Cinderella reach her happy ending?\"\n",
    "retriever = indox.QuestionAnswer(vector_database=db, llm=openai_qa, top_k=5)"
   ],
   "id": "593ec3a85c796115",
   "outputs": [],
   "execution_count": 8
  },
  {
   "metadata": {},
   "cell_type": "markdown",
   "source": [
    "invoke(query) method sends the query to the retriever, which searches the vector store for relevant text chunks and uses the language model to generate a response based on the retrieved information.\n",
    "Context property retrieves the context or the detailed information that the retriever used to generate the answer to the query. It provides insight into how the query was answered by showing the relevant text chunks and any additional information used."
   ],
   "id": "9e778403c8d864c4"
  },
  {
   "metadata": {
    "ExecuteTime": {
     "end_time": "2024-06-10T17:20:37.633507Z",
     "start_time": "2024-06-10T17:20:33.726152Z"
    }
   },
   "cell_type": "code",
   "source": "retriever.invoke(query)",
   "id": "60a2d55199cf0ce6",
   "outputs": [
    {
     "data": {
      "text/plain": [
       "\"Cinderella reached her happy ending by attending the royal wedding with the help of her fairy godmother, who transformed her rags into a beautiful gown and a pumpkin into a carriage. Despite her stepmother's attempts to keep her from going, Cinderella was able to attend the wedding and capture the heart of the prince. After a search to find the mysterious maiden who fit the glass slipper, Cinderella was reunited with the prince and they lived happily ever after.\""
      ]
     },
     "execution_count": 9,
     "metadata": {},
     "output_type": "execute_result"
    }
   ],
   "execution_count": 9
  },
  {
   "metadata": {
    "ExecuteTime": {
     "end_time": "2024-06-10T17:20:37.639679Z",
     "start_time": "2024-06-10T17:20:37.634522Z"
    }
   },
   "cell_type": "code",
   "source": "retriever.context ",
   "id": "58d79450c0807286",
   "outputs": [
    {
     "data": {
      "text/plain": [
       "[\"to appear among the number, they were delighted, called cinderella\\n\\nand said, comb our hair for us, brush our shoes and fasten our\\n\\nbuckles, for we are going to the wedding at the king's palace.\\n\\nCinderella obeyed, but wept, because she too would have liked to\\n\\ngo with them to the dance, and begged her step-mother to allow\\n\\nher to do so. You go, cinderella, said she, covered in dust and\",\n",
       " \"which they had wished for, and to cinderella he gave the branch\\n\\nfrom the hazel-bush. Cinderella thanked him, went to her mother's\\n\\ngrave and planted the branch on it, and wept so much that the tears\\n\\nfell down on it and watered it. And it grew and became a handsome\\n\\ntree. Thrice a day cinderella went and sat beneath it, and wept and\\n\\nprayed, and a little white bird always came on the tree, and if\",\n",
       " 'by the hearth in the cinders. And as on that account she always\\n\\nlooked dusty and dirty, they called her cinderella.\\n\\nIt happened that the father was once going to the fair, and he\\n\\nasked his two step-daughters what he should bring back for them.\\n\\nBeautiful dresses, said one, pearls and jewels, said the second.\\n\\nAnd you, cinderella, said he, what will you have. Father',\n",
       " \"Then the maiden was delighted, and believed that she might now go\\n\\nwith them to the wedding. But the step-mother said, all this will\\n\\nnot help. You cannot go with us, for you have no clothes and can\\n\\nnot dance. We should be ashamed of you. On this she turned her\\n\\nback on cinderella, and hurried away with her two proud daughters.\\n\\nAs no one was now at home, cinderella went to her mother's\",\n",
       " \"danced with her only, and if any one invited her to dance, he said\\n\\nthis is my partner.\\n\\nWhen evening came, cinderella wished to leave, and the king's\\n\\nson was anxious to go with her, but she escaped from him so quickly\\n\\nthat he could not follow her. The king's son, however, had\\n\\nemployed a ruse, and had caused the whole staircase to be smeared\"]"
      ]
     },
     "execution_count": 10,
     "metadata": {},
     "output_type": "execute_result"
    }
   ],
   "execution_count": 10
  },
  {
   "metadata": {},
   "cell_type": "code",
   "outputs": [],
   "execution_count": null,
   "source": "",
   "id": "38258d04b6c38eec"
  },
  {
   "metadata": {},
   "cell_type": "code",
   "outputs": [],
   "execution_count": null,
   "source": "",
   "id": "14d678171a48c238"
  },
  {
   "metadata": {},
   "cell_type": "code",
   "outputs": [],
   "execution_count": null,
   "source": "",
   "id": "aed7793b6d21d85b"
  },
  {
   "metadata": {},
   "cell_type": "code",
   "outputs": [],
   "execution_count": null,
   "source": "",
   "id": "95470c1de751fc94"
  },
  {
   "metadata": {},
   "cell_type": "code",
   "outputs": [],
   "execution_count": null,
   "source": "",
   "id": "d68d8ebd6613e653"
  },
  {
   "metadata": {},
   "cell_type": "code",
   "outputs": [],
   "execution_count": null,
   "source": "",
   "id": "333cce909b96fd5d"
  },
  {
   "metadata": {},
   "cell_type": "code",
   "outputs": [],
   "execution_count": null,
   "source": "",
   "id": "bbc3b64455f23827"
  },
  {
   "metadata": {},
   "cell_type": "markdown",
   "source": [
    "### With AgenticRag\n",
    "\n",
    "AgenticRag stands for Agentic Retrieval-Augmented Generation. This concept combines retrieval-based methods and generation-based methods in natural language processing (NLP). The key idea is to enhance the generative capabilities of a language model by incorporating relevant information retrieved from a database or a vector store. \n",
    " AgenticRag is designed to provide more contextually rich and accurate responses by utilizing external knowledge sources. It retrieves relevant pieces of information (chunks) from a vector store based on a query and then uses a language model to generate a comprehensive response that incorporates this retrieved information."
   ],
   "id": "486878b3d49c9871"
  },
  {
   "metadata": {
    "ExecuteTime": {
     "end_time": "2024-06-09T05:05:55.712801Z",
     "start_time": "2024-06-09T05:05:48.941354Z"
    }
   },
   "cell_type": "code",
   "source": [
    "agent = indox.AgenticRag(llm=openai_qa,vector_database=db,top_k=5)\n",
    "agent.run(query)"
   ],
   "id": "394533a0e6ab8228",
   "outputs": [
    {
     "name": "stdout",
     "output_type": "stream",
     "text": [
      "Not Relevant doc\n",
      "Relevant doc\n",
      "Not Relevant doc\n",
      "Not Relevant doc\n",
      "Not Relevant doc\n"
     ]
    },
    {
     "data": {
      "text/plain": [
       "\"Cinderella reached her happy ending by receiving a branch from the hazel-bush from the prince, planting it on her mother's grave, and weeping and praying beneath it. The branch grew into a handsome tree, and a little white bird always came to the tree, bringing her comfort and assistance.\""
      ]
     },
     "execution_count": 10,
     "metadata": {},
     "output_type": "execute_result"
    }
   ],
   "execution_count": 10
  }
 ],
 "metadata": {
  "kernelspec": {
   "display_name": "Python 3",
   "language": "python",
   "name": "python3"
  },
  "language_info": {
   "codemirror_mode": {
    "name": "ipython",
    "version": 2
   },
   "file_extension": ".py",
   "mimetype": "text/x-python",
   "name": "python",
   "nbconvert_exporter": "python",
   "pygments_lexer": "ipython2",
   "version": "2.7.6"
  }
 },
 "nbformat": 4,
 "nbformat_minor": 5
}
