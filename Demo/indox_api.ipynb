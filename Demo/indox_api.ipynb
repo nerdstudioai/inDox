{
 "cells": [
  {
   "metadata": {},
   "cell_type": "markdown",
   "source": [
    "## Indox Retrieval Augmentation\n",
    "Here, we will explore how to work with Indox Retrieval Augmentation. We are using Mistral, we should set our INDOX_OPENAI_API_KEY as an environment variable."
   ],
   "id": "a0b4b137e4479438"
  },
  {
   "cell_type": "code",
   "id": "initial_id",
   "metadata": {
    "collapsed": true,
    "ExecuteTime": {
     "end_time": "2024-06-22T16:34:46.546963Z",
     "start_time": "2024-06-22T16:34:46.533758Z"
    }
   },
   "source": [
    "import os\n",
    "from dotenv import load_dotenv\n",
    "\n",
    "load_dotenv()\n",
    "INDOX_OPENAI_API_KEY= os.getenv(\"INDOX_OPENAI_API_KEY\")"
   ],
   "outputs": [],
   "execution_count": 1
  },
  {
   "metadata": {},
   "cell_type": "markdown",
   "source": [
    "### Creating an instance of IndoxTetrivalAugmentation\n",
    "\n",
    "To effectively utilize the Indox Retrieval Augmentation capabilities, you must first create an instance of the IndoxRetrievalAugmentation class. This instance will allow you to access the methods and properties defined within the class, enabling the augmentation and retrieval functionalities."
   ],
   "id": "fc1dbe21e3fa2f2e"
  },
  {
   "metadata": {
    "ExecuteTime": {
     "end_time": "2024-06-22T16:34:54.561135Z",
     "start_time": "2024-06-22T16:34:54.557130Z"
    }
   },
   "cell_type": "code",
   "source": [
    "from indox import IndoxRetrievalAugmentation\n",
    "indox = IndoxRetrievalAugmentation()"
   ],
   "id": "482156866f7df32c",
   "outputs": [
    {
     "name": "stderr",
     "output_type": "stream",
     "text": [
      "2024-06-22 20:04:54,558 INFO:IndoxRetrievalAugmentation initialized\n"
     ]
    }
   ],
   "execution_count": 4
  },
  {
   "metadata": {},
   "cell_type": "markdown",
   "source": [
    "### Generating response using Indox\n",
    "IndoxApi class is used to handle question-answering task using Indox model. This instance creates IndoxOpenAIEmbedding class to specifying embedding model.By using ClusteredSplit function we can import pdf and text file and split them into chunks."
   ],
   "id": "8c7d82fa001f121"
  },
  {
   "metadata": {
    "ExecuteTime": {
     "end_time": "2024-06-22T16:36:52.315530Z",
     "start_time": "2024-06-22T16:34:56.040425Z"
    }
   },
   "cell_type": "code",
   "source": [
    "from indox.llms import IndoxApi\n",
    "from indox.embeddings import IndoxApiEmbedding\n",
    "from indox.data_loader_splitter import ClusteredSplit\n",
    "openai_qa_indox = IndoxApi(api_key=INDOX_OPENAI_API_KEY)\n",
    "embed_openai_indox = IndoxApiEmbedding(api_key=INDOX_OPENAI_API_KEY,model=\"text-embedding-3-small\")\n",
    "\n",
    "file_path = \"sample.txt\"\n",
    "loader_splitter = ClusteredSplit(file_path=file_path,embeddings=embed_openai_indox,summary_model=openai_qa_indox)\n",
    "docs = loader_splitter.load_and_chunk()"
   ],
   "id": "5840d601bf111608",
   "outputs": [
    {
     "name": "stderr",
     "output_type": "stream",
     "text": [
      "2024-06-22 20:05:04,710 INFO:Initialized IndoxOpenAIEmbedding with model: text-embedding-3-small and middle URL: http://5.78.55.161/api/embedding/generate/\n",
      "2024-06-22 20:05:04,710 INFO:Initializing ClusteredSplit\n",
      "2024-06-22 20:05:04,711 INFO:ClusteredSplit initialized successfully\n",
      "2024-06-22 20:05:04,711 INFO:Getting all documents\n",
      "2024-06-22 20:05:04,712 INFO:Starting processing for documents\n",
      "2024-06-22 20:05:04,869 INFO:Embedding documents with chunk size: 0\n",
      "2024-06-22 20:05:04,869 INFO:Starting to fetch embeddings for 35 texts using engine: text-embedding-3-small\n"
     ]
    },
    {
     "name": "stdout",
     "output_type": "stream",
     "text": [
      "--Generated 6 clusters--\n"
     ]
    },
    {
     "name": "stderr",
     "output_type": "stream",
     "text": [
      "2024-06-22 20:06:36,626 INFO:Embedding documents with chunk size: 0\n",
      "2024-06-22 20:06:36,626 INFO:Starting to fetch embeddings for 6 texts using engine: text-embedding-3-small\n"
     ]
    },
    {
     "name": "stdout",
     "output_type": "stream",
     "text": [
      "--Generated 1 clusters--\n"
     ]
    },
    {
     "name": "stderr",
     "output_type": "stream",
     "text": [
      "2024-06-22 20:06:52,311 INFO:Completed chunking & clustering process\n",
      "2024-06-22 20:06:52,313 INFO:Successfully obtained all documents\n"
     ]
    }
   ],
   "execution_count": 5
  },
  {
   "metadata": {},
   "cell_type": "markdown",
   "source": " Here ChromaVectorStore handles the storage and retrieval of vector embeddings by specifying a collection name and sets up a vector store where text embeddings can be stored and queried.",
   "id": "8ad8ffb82df90153"
  },
  {
   "metadata": {
    "ExecuteTime": {
     "end_time": "2024-06-22T16:37:09.041836Z",
     "start_time": "2024-06-22T16:37:08.328338Z"
    }
   },
   "cell_type": "code",
   "source": [
    "from indox.vector_stores import ChromaVectorStore\n",
    "db = ChromaVectorStore(collection_name=\"sample\",embedding=embed_openai_indox)\n",
    "indox.connect_to_vectorstore(vectorstore_database=db)"
   ],
   "id": "72d8e01f62f1f4d",
   "outputs": [
    {
     "name": "stderr",
     "output_type": "stream",
     "text": [
      "2024-06-22 20:07:08,810 INFO:Anonymized telemetry enabled. See                     https://docs.trychroma.com/telemetry for more information.\n",
      "2024-06-22 20:07:09,037 INFO:Attempting to connect to the vector store database\n",
      "2024-06-22 20:07:09,038 INFO:Connection to the vector store database established successfully\n"
     ]
    },
    {
     "data": {
      "text/plain": [
       "<indox.vector_stores.Chroma.ChromaVectorStore at 0x132a01603e0>"
      ]
     },
     "execution_count": 6,
     "metadata": {},
     "output_type": "execute_result"
    }
   ],
   "execution_count": 6
  },
  {
   "metadata": {},
   "cell_type": "markdown",
   "source": [
    "### load and preprocess data\n",
    "This part of code demonstrates how to load and preprocess text data from a file, split it into chunks, and store these chunks in the vector store that was set up previously."
   ],
   "id": "e84c43974ab6c990"
  },
  {
   "metadata": {
    "ExecuteTime": {
     "end_time": "2024-06-22T16:38:27.852815Z",
     "start_time": "2024-06-22T16:37:11.991773Z"
    }
   },
   "cell_type": "code",
   "source": "indox.store_in_vectorstore(docs=docs)",
   "id": "78a775a8daa69372",
   "outputs": [
    {
     "name": "stderr",
     "output_type": "stream",
     "text": [
      "2024-06-22 20:07:11,994 INFO:Storing documents in the vector store\n",
      "2024-06-22 20:07:11,995 INFO:Embedding documents with chunk size: 0\n",
      "2024-06-22 20:07:11,996 INFO:Starting to fetch embeddings for 42 texts using engine: text-embedding-3-small\n",
      "2024-06-22 20:08:27,848 INFO:Document added successfully to the vector store.\n",
      "2024-06-22 20:08:27,849 INFO:Documents stored successfully\n"
     ]
    },
    {
     "data": {
      "text/plain": [
       "<indox.vector_stores.Chroma.ChromaVectorStore at 0x132a01603e0>"
      ]
     },
     "execution_count": 7,
     "metadata": {},
     "output_type": "execute_result"
    }
   ],
   "execution_count": 7
  },
  {
   "metadata": {},
   "cell_type": "markdown",
   "source": [
    "### Retrieve relevant information and generate an answer\n",
    "The main purpose of these lines is to perform a query on the vector store to retrieve the most relevant information (top_k=5) and generate an answer using the language model."
   ],
   "id": "3c7ddb297b70e98d"
  },
  {
   "metadata": {
    "ExecuteTime": {
     "end_time": "2024-06-22T16:38:27.858643Z",
     "start_time": "2024-06-22T16:38:27.853825Z"
    }
   },
   "cell_type": "code",
   "source": [
    "query = \"How cinderella reach her happy ending?\"\n",
    "retriever = indox.QuestionAnswer(vector_database=db,llm=openai_qa_indox,top_k=5)"
   ],
   "id": "5eeddd295be41564",
   "outputs": [],
   "execution_count": 8
  },
  {
   "metadata": {},
   "cell_type": "markdown",
   "source": [
    "invoke(query) method sends the query to the retriever, which searches the vector store for relevant text chunks and uses the language model to generate a response based on the retrieved information.\n",
    "Context property retrieves the context or the detailed information that the retriever used to generate the answer to the query. It provides insight into how the query was answered by showing the relevant text chunks and any additional information used."
   ],
   "id": "197a0067afd5532e"
  },
  {
   "metadata": {
    "ExecuteTime": {
     "end_time": "2024-06-22T16:38:33.107649Z",
     "start_time": "2024-06-22T16:38:27.859656Z"
    }
   },
   "cell_type": "code",
   "source": "retriever.invoke(query)",
   "id": "eb95a1c3fcdba812",
   "outputs": [
    {
     "name": "stderr",
     "output_type": "stream",
     "text": [
      "2024-06-22 20:08:27,862 INFO:Retrieving context and scores from the vector database\n",
      "2024-06-22 20:08:27,862 INFO:Embedding query text: How cinderella reach her happy ending?\n",
      "2024-06-22 20:08:27,863 INFO:Embedding documents with chunk size: 0\n",
      "2024-06-22 20:08:27,864 INFO:Starting to fetch embeddings for 1 texts using engine: text-embedding-3-small\n",
      "2024-06-22 20:08:30,005 INFO:Generating answer without document relevancy filter\n",
      "2024-06-22 20:08:33,104 INFO:Query answered successfully\n"
     ]
    },
    {
     "data": {
      "text/plain": [
       "\"Cinderella reaches her happy ending in various ways across different retellings of the classic fairy tale. In one version, she attends a royal festival with the help of a magical bird that grants her wishes, catches the prince's attention, and is eventually recognized as his true love. In another version, she is aided by a fairy godmother to attend a festival where she captures the prince's heart but has to leave before midnight, leaving behind a glass slipper. The prince searches for the owner of the slipper and eventually finds Cinderella, leading to their reunion and happily ever after. In another retelling, Cinderella proves her identity by fitting perfectly into a golden shoe, which the prince recognizes, and they are reunited while the wicked steps\""
      ]
     },
     "execution_count": 9,
     "metadata": {},
     "output_type": "execute_result"
    }
   ],
   "execution_count": 9
  },
  {
   "metadata": {
    "ExecuteTime": {
     "end_time": "2024-06-22T16:39:13.019343Z",
     "start_time": "2024-06-22T16:39:13.015106Z"
    }
   },
   "cell_type": "code",
   "source": "retriever.context",
   "id": "a2d500d6244768cb",
   "outputs": [
    {
     "data": {
      "text/plain": [
       "[\"The documentation provided is a retelling of the classic fairy tale of Cinderella. It describes how Cinderella, a kind and beautiful young girl, is mistreated by her stepmother and stepsisters but is helped by a magical bird that grants her wishes. Despite their cruelty, Cinderella helps her stepsisters prepare for a royal festival where the prince is to choose a bride. With the help of the bird, Cinderella is able to attend the festival in beautiful dresses and catches the prince's attention. Eventually, the prince recognizes Cinderella as his true love, and they ride off together on his horse. The story also includes elements such as a hazel tree, white doves, and a wedding where justice is served to the wicked stepsisters.\",\n",
       " 'The documentation provided is a retelling of the classic fairy tale of Cinderella. It starts with the wife of a rich man giving advice to her daughter to be good and pious. After the mother\\'s death, the daughter is mistreated by her stepmother and stepsisters, forced to do hard work and called \"Cinderella\" because she sleeps by the hearth in the cinders. The stepmother prevents Cinderella from attending a festival, but with the help of a fairy godmother, Cinderella is able to go to the event. The prince falls in love with her, but she has to leave before midnight, losing her glass slipper in the process. The prince searches for the owner of the slipper, and eventually,',\n",
       " 'The documentation provided includes multiple retellings and excerpts from the classic fairy tale of Cinderella. It starts with the daughter of a rich man being mistreated by her stepmother and stepsisters, leading to her being called \"Cinderella\" due to her sleeping by the hearth in cinders. With the help of a fairy godmother, Cinderella is able to attend a festival where she captures the prince\\'s heart but has to leave before midnight, leaving behind a glass slipper. The prince searches for the owner of the slipper to find Cinderella.\\n\\nThe passages evoke themes of hardship, mistreatment, transformation, and resilience commonly found in traditional folklore. The stories revolve around characters facing challenges and undergoing changes in their circumstances, with',\n",
       " 'The provided documentation is a retelling of the classic fairy tale \"Cinderella.\" It describes the scene where the prince is searching for the owner of a golden slipper that was left behind at a royal ball. In the story, the stepsisters try to deceive the prince by cutting off parts of their feet to fit into the slipper. However, their deception is revealed when the prince notices the blood and realizes they are not the true owner of the slipper.\\n\\nFinally, Cinderella, the true owner of the slipper, is able to prove her identity by fitting perfectly into the golden shoe. The prince recognizes her as the beautiful maiden he danced with at the ball and they are reunited. The stepmother and stepsisters are shocked and angry',\n",
       " \"The documentation provided is a collection of excerpts from the fairy tale of Cinderella. It begins with Cinderella's father asking his two step-daughters what they want him to bring back for them, and Cinderella requesting a branch from a hazel bush. The father fulfills their wishes, and Cinderella plants the branch on her mother's grave, where it grows into a handsome tree.\\n\\nThe story then progresses to a ball where Cinderella catches the attention of the prince. They dance together, and the prince only wants to dance with her, refusing other maidens. When Cinderella tries to leave, the prince follows her, and she escapes into a garden and climbs a pear tree. The prince waits for her father to arrive and suspects Cinderella\"]"
      ]
     },
     "execution_count": 10,
     "metadata": {},
     "output_type": "execute_result"
    }
   ],
   "execution_count": 10
  },
  {
   "metadata": {},
   "cell_type": "markdown",
   "source": [
    "### With AgenticRag\n",
    "\n",
    "AgenticRag stands for Agentic Retrieval-Augmented Generation. This concept combines retrieval-based methods and generation-based methods in natural language processing (NLP). The key idea is to enhance the generative capabilities of a language model by incorporating relevant information retrieved from a database or a vector store. \n",
    " AgenticRag is designed to provide more contextually rich and accurate responses by utilizing external knowledge sources. It retrieves relevant pieces of information (chunks) from a vector store based on a query and then uses a language model to generate a comprehensive response that incorporates this retrieved information."
   ],
   "id": "6ec341bb6534cd4f"
  },
  {
   "metadata": {
    "ExecuteTime": {
     "end_time": "2024-06-22T16:39:36.157519Z",
     "start_time": "2024-06-22T16:39:15.367500Z"
    }
   },
   "cell_type": "code",
   "source": [
    "agent = indox.AgenticRag(llm=openai_qa_indox,vector_database=db,top_k=5)\n",
    "agent.run(query)"
   ],
   "id": "bf2dd2fbe3a7a74a",
   "outputs": [
    {
     "name": "stderr",
     "output_type": "stream",
     "text": [
      "2024-06-22 20:09:15,370 INFO:Embedding query text: How cinderella reach her happy ending?\n",
      "2024-06-22 20:09:15,371 INFO:Embedding documents with chunk size: 0\n",
      "2024-06-22 20:09:15,373 INFO:Starting to fetch embeddings for 1 texts using engine: text-embedding-3-small\n"
     ]
    },
    {
     "name": "stdout",
     "output_type": "stream",
     "text": [
      "Relevant doc\n",
      "Relevant doc\n",
      "Relevant doc\n",
      "Relevant doc\n",
      "Relevant doc\n"
     ]
    },
    {
     "name": "stderr",
     "output_type": "stream",
     "text": [
      "2024-06-22 20:09:32,539 INFO:Hallucination detected, Regenerate the answer...\n"
     ]
    },
    {
     "data": {
      "text/plain": [
       "\"Cinderella reaches her happy ending in various ways depending on the version of the fairy tale being referenced. In most versions, Cinderella's happy ending is achieved when the prince recognizes her as the true owner of the lost glass slipper, symbolizing her as the one he danced with at the royal event. This recognition leads to their reunion, and they ride off together to live happily ever after. Additionally, justice is often served to the wicked stepmother and stepsisters, while Cinderella's kindness, resilience, and inner beauty are rewarded with a life of love and happiness with the prince.\""
      ]
     },
     "execution_count": 11,
     "metadata": {},
     "output_type": "execute_result"
    }
   ],
   "execution_count": 11
  },
  {
   "metadata": {
    "ExecuteTime": {
     "end_time": "2024-06-22T16:39:59.947779Z",
     "start_time": "2024-06-22T16:39:59.944427Z"
    }
   },
   "cell_type": "code",
   "source": "query_2 = \"where does messi plays right now?\"",
   "id": "ae50b369603a1e2c",
   "outputs": [],
   "execution_count": 12
  },
  {
   "metadata": {
    "ExecuteTime": {
     "end_time": "2024-06-22T16:40:26.380527Z",
     "start_time": "2024-06-22T16:40:03.832586Z"
    }
   },
   "cell_type": "code",
   "source": "agent.run(query_2)",
   "id": "1b16988ccc80dc97",
   "outputs": [
    {
     "name": "stderr",
     "output_type": "stream",
     "text": [
      "2024-06-22 20:10:03,833 INFO:Embedding query text: where does messi plays right now?\n",
      "2024-06-22 20:10:03,834 INFO:Embedding documents with chunk size: 0\n",
      "2024-06-22 20:10:03,836 INFO:Starting to fetch embeddings for 1 texts using engine: text-embedding-3-small\n"
     ]
    },
    {
     "name": "stdout",
     "output_type": "stream",
     "text": [
      "Not Relevant doc\n",
      "Not Relevant doc\n",
      "Not Relevant doc\n",
      "Not Relevant doc\n"
     ]
    },
    {
     "name": "stderr",
     "output_type": "stream",
     "text": [
      "2024-06-22 20:10:14,103 INFO:No Relevant document found, Start web search\n"
     ]
    },
    {
     "name": "stdout",
     "output_type": "stream",
     "text": [
      "Not Relevant doc\n",
      "No Relevant Context Found, Start Searching On Web...\n",
      "Answer Base On Web Search\n",
      "Check For Hallucination In Generated Answer Base On Web Search\n"
     ]
    },
    {
     "name": "stderr",
     "output_type": "stream",
     "text": [
      "2024-06-22 20:10:24,255 INFO:Hallucination detected, Regenerate the answer...\n"
     ]
    },
    {
     "data": {
      "text/plain": [
       "\"Lionel Messi currently plays for Major League Soccer's Inter Miami CF.\""
      ]
     },
     "execution_count": 13,
     "metadata": {},
     "output_type": "execute_result"
    }
   ],
   "execution_count": 13
  }
 ],
 "metadata": {
  "kernelspec": {
   "display_name": "Python 3",
   "language": "python",
   "name": "python3"
  },
  "language_info": {
   "codemirror_mode": {
    "name": "ipython",
    "version": 2
   },
   "file_extension": ".py",
   "mimetype": "text/x-python",
   "name": "python",
   "nbconvert_exporter": "python",
   "pygments_lexer": "ipython2",
   "version": "2.7.6"
  }
 },
 "nbformat": 4,
 "nbformat_minor": 5
}
