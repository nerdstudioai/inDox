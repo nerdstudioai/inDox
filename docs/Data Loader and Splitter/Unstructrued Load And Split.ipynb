{
 "cells": [
  {
   "cell_type": "markdown",
   "source": [],
   "metadata": {
    "collapsed": false
   },
   "id": "ba6518c34ebfe389"
  },
  {
   "cell_type": "markdown",
   "source": [
    "## UnstructuredLoadAndSplit\n",
    "\n",
    "The UnstructuredLoadAndSplit function uses the unstructured library to import various file types and split them into chunks. By default, it uses the \"split by title\" method from the unstructured library, but users can also choose the semantic_text_splitter.\n",
    "\n",
    "```python\n",
    "def UnstructuredLoadAndSplit(file_path: str, \n",
    "                             remove_sword: bool = False,\n",
    "                             max_chunk_size: int = 500, \n",
    "                             splitter=None)\n",
    "```\n",
    "\n",
    "### Hyperparameters\n",
    "- file_path (str): The path to the file to be processed. Various file types are supported.\n",
    "- remove_sword (bool): If True, remove stop words during the chunking process. Default is False.\n",
    "- max_chunk_size (int): The maximum size of each chunk in characters. Default is 500.\n",
    "- splitter: The method used to split the text. The default is \"split by title\" from the unstructured library. Users can also choose semantic_text_splitter.\n",
    "\n",
    "\n",
    "### Usage\n",
    "To use the UnstructuredLoadAndSplit function, follow the steps below:\n",
    "\n",
    "Import necessary libraries and load environment variables:\n",
    "\n",
    "```python\n",
    "import os\n",
    "from dotenv import load_dotenv\n",
    "\n",
    "load_dotenv()\n",
    "OPENAI_API_KEY = os.environ['OPENAI_API_KEY']\n",
    "```\n",
    "\n",
    "Initialize Indox and QA models:\n",
    "\n",
    "```python\n",
    "from Indox import IndoxRetrievalAugmentation\n",
    "Indox = IndoxRetrievalAugmentation()\n",
    "\n",
    "from Indox.QaModels import OpenAiQA\n",
    "openai_qa = OpenAiQA(api_key=OPENAI_API_KEY, model=\"gpt-3.5-turbo-0125\")\n",
    "```\n",
    "\n",
    "Perform the unstructured load and split on the file:\n",
    "\n",
    "```python\n",
    "from Indox.DataLoaderSplitter import UnstructuredLoadAndSplit\n",
    "from Indox.Splitter import semantic_text_splitter\n",
    "\n",
    "file_path = \"path/to/your/file.pdf\"  # Specify the file path\n",
    "docs = UnstructuredLoadAndSplit(file_path=file_path, \n",
    "                                remove_sword=False,\n",
    "                                max_chunk_size=500, \n",
    "                                splitter=semantic_text_splitter)\n",
    "```\n",
    "\n",
    "### Example Code\n",
    "Here's a complete example of using the UnstructuredLoadAndSplit function in a Jupyter notebook:\n",
    "\n",
    "```python\n",
    "import os\n",
    "from dotenv import load_dotenv\n",
    "\n",
    "load_dotenv()\n",
    "OPENAI_API_KEY = os.environ['OPENAI_API_KEY'] \n",
    "\n",
    "from Indox import IndoxRetrievalAugmentation\n",
    "Indox = IndoxRetrievalAugmentation()\n",
    "\n",
    "from Indox.QaModels import OpenAiQA\n",
    "openai_qa = OpenAiQA(api_key=OPENAI_API_KEY, model=\"gpt-3.5-turbo-0125\")\n",
    "\n",
    "from Indox.DataLoaderSplitter import UnstructuredLoadAndSplit\n",
    "from Indox.Splitter import semantic_text_splitter\n",
    "\n",
    "file_path = \"path/to/your/file.pdf\"  # Specify the file path\n",
    "docs = UnstructuredLoadAndSplit(file_path=file_path, \n",
    "                                remove_sword=False,\n",
    "                                max_chunk_size=500, \n",
    "                                splitter=semantic_text_splitter)\n",
    "```"
   ],
   "metadata": {
    "collapsed": false
   },
   "id": "87b9bf8b28f305ee"
  },
  {
   "cell_type": "code",
   "execution_count": null,
   "outputs": [],
   "source": [],
   "metadata": {
    "collapsed": false
   },
   "id": "81e7abe4e586d06a"
  }
 ],
 "metadata": {
  "kernelspec": {
   "display_name": "Python 3",
   "language": "python",
   "name": "python3"
  },
  "language_info": {
   "codemirror_mode": {
    "name": "ipython",
    "version": 2
   },
   "file_extension": ".py",
   "mimetype": "text/x-python",
   "name": "python",
   "nbconvert_exporter": "python",
   "pygments_lexer": "ipython2",
   "version": "2.7.6"
  }
 },
 "nbformat": 4,
 "nbformat_minor": 5
}
