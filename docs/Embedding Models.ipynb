{
 "cells": [
  {
   "cell_type": "markdown",
   "source": [
    "# Embedding Models\n",
    "\n",
    "Indox currently supports two different embedding models. We plan to increase the number of supported models in the future. The two supported models are:\n",
    "\n",
    "1. **OpenAI Embedding Model**\n",
    "2. **Hugging Face Embedding Models**\n",
    "\n",
    "\n",
    "### Using OpenAI Embedding Model\n",
    "\n",
    "To use the OpenAI embedding model, follow these steps:\n",
    "\n",
    "1. Import necessary libraries and load environment variables:\n",
    "\n",
    "```python\n",
    "import os\n",
    "from dotenv import load_dotenv\n",
    "\n",
    "load_dotenv()\n",
    "\n",
    "OPENAI_API_KEY = os.environ['OPENAI_API_KEY']\n",
    "```\n",
    "2. Import Indox modules and set the OpenAI embedding model:\n",
    "\n",
    "```python\n",
    "from Indox import IndoxRetrievalAugmentation\n",
    "from Indox.Embeddings import OpenAiEmbedding\n",
    "\n",
    "Indox = IndoxRetrievalAugmentation()\n",
    "openai_embeddings = OpenAiEmbedding(model=\"text-embedding-3-small\", openai_api_key=OPENAI_API_KEY)\n",
    "```\n",
    "\n",
    "\n",
    "### Using Hugging Face Embedding Model\n",
    "To use the Hugging Face embedding model, follow these steps:\n",
    "\n",
    "1. Import Indox modules and set the Hugging Face embedding model:\n",
    "\n",
    "```python\n",
    "from Indox.Embeddings import HuggingFaceEmbedding\n",
    "\n",
    "hugging_face_embedding = HuggingFaceEmbedding(model_name=\"multi-qa-mpnet-base-cos-v1\")\n",
    "```\n",
    "\n",
    "### Future Plans\n",
    "We are committed to continuously improving Indox and will be adding support for more embedding models in the future.\n"
   ],
   "metadata": {
    "collapsed": false
   },
   "id": "e51839f1c951719d"
  }
 ],
 "metadata": {
  "kernelspec": {
   "display_name": "Python 3",
   "language": "python",
   "name": "python3"
  },
  "language_info": {
   "codemirror_mode": {
    "name": "ipython",
    "version": 2
   },
   "file_extension": ".py",
   "mimetype": "text/x-python",
   "name": "python",
   "nbconvert_exporter": "python",
   "pygments_lexer": "ipython2",
   "version": "2.7.6"
  }
 },
 "nbformat": 4,
 "nbformat_minor": 5
}
