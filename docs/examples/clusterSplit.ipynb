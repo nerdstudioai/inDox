{
  "cells": [
    {
      "cell_type": "raw",
      "metadata": {},
      "source": [
        "---\n",
        "title: Cluster Split\n",
        "---"
      ],
      "id": "a3133b41"
    },
    {
      "cell_type": "code",
      "metadata": {},
      "source": [
        "import os\n",
        "from dotenv import load_dotenv\n",
        "\n",
        "load_dotenv()\n",
        "OPENAI_API_KEY = os.getenv('OPENAI_API_KEY')"
      ],
      "id": "9aea943a",
      "execution_count": null,
      "outputs": []
    },
    {
      "cell_type": "markdown",
      "metadata": {},
      "source": [
        "## Initial Setup\n",
        "\n",
        "The following imports are essential for setting up the Indox application. These imports include the main Indox retrieval augmentation module, question-answering models, embeddings, and data loader splitter.\n"
      ],
      "id": "7f71c391"
    },
    {
      "cell_type": "code",
      "metadata": {},
      "source": [
        "from indox import IndoxRetrievalAugmentation\n",
        "from indox.llms import OpenAiQA\n",
        "from indox.embeddings import OpenAiEmbedding\n",
        "from indox.data_loader_splitter import ClusteredSplit"
      ],
      "id": "506326bc",
      "execution_count": null,
      "outputs": []
    },
    {
      "cell_type": "markdown",
      "metadata": {},
      "source": [
        "In this step, we initialize the Indox Retrieval Augmentation, the QA model, and the embedding model. Note that the models used for QA and embedding can vary depending on the specific requirements.\n"
      ],
      "id": "d8c124de"
    },
    {
      "cell_type": "code",
      "metadata": {},
      "source": [
        "Indox = IndoxRetrievalAugmentation()\n",
        "qa_model = OpenAiQA(api_key=OPENAI_API_KEY,model=\"gpt-3.5-turbo-0125\")\n",
        "embed = OpenAiEmbedding(api_key=OPENAI_API_KEY,model=\"text-embedding-3-small\")"
      ],
      "id": "8da2931c",
      "execution_count": null,
      "outputs": []
    },
    {
      "cell_type": "code",
      "metadata": {},
      "source": [
        "file_path = \"sample.txt\""
      ],
      "id": "d24465bb",
      "execution_count": null,
      "outputs": []
    },
    {
      "cell_type": "markdown",
      "metadata": {},
      "source": [
        "## Data Loader Setup\n",
        "\n",
        "We set up the data loader using the `ClusteredSplit` class. This step involves loading documents, configuring embeddings, and setting options for processing the text.\n"
      ],
      "id": "7ddc88c0"
    },
    {
      "cell_type": "code",
      "metadata": {},
      "source": [
        "loader_splitter = ClusteredSplit(file_path=file_path,embeddings=embed,remove_sword=False,re_chunk=False,chunk_size=300,use_openai_summary=True)"
      ],
      "id": "8c5de9dc",
      "execution_count": null,
      "outputs": []
    },
    {
      "cell_type": "code",
      "metadata": {},
      "source": [
        "docs = loader_splitter.load_and_chunk()"
      ],
      "id": "f95f29ed",
      "execution_count": null,
      "outputs": []
    },
    {
      "cell_type": "code",
      "metadata": {},
      "source": [
        "docs"
      ],
      "id": "6fabc518",
      "execution_count": null,
      "outputs": []
    },
    {
      "cell_type": "markdown",
      "metadata": {},
      "source": [
        "## Vector Store Connection and Document Storage\n",
        "\n",
        "In this step, we connect the Indox application to the vector store and store the processed documents.\n"
      ],
      "id": "b8963612"
    },
    {
      "cell_type": "code",
      "metadata": {},
      "source": [
        "from indox.vector_stores import ChromaVectorStore\n",
        "db = ChromaVectorStore(collection_name=\"sample\",embedding=embed)"
      ],
      "id": "28db7399",
      "execution_count": null,
      "outputs": []
    },
    {
      "cell_type": "code",
      "metadata": {},
      "source": [
        "Indox.connect_to_vectorstore(db)"
      ],
      "id": "74fda1aa",
      "execution_count": null,
      "outputs": []
    },
    {
      "cell_type": "code",
      "metadata": {},
      "source": [
        "Indox.store_in_vectorstore(docs)"
      ],
      "id": "f0554a96",
      "execution_count": null,
      "outputs": []
    },
    {
      "cell_type": "markdown",
      "metadata": {},
      "source": [
        "## Querying and Interpreting the Response\n",
        "\n",
        "In this step, we query the Indox application with a specific question and use the QA model to get the response. The response is a tuple where the first element is the answer and the second element contains the retrieved context with their cosine scores.\n",
        "response[0] contains the answer\n",
        "response[1] contains the retrieved context with their cosine scores\n"
      ],
      "id": "84dceb32"
    },
    {
      "cell_type": "code",
      "metadata": {},
      "source": [
        "retriever = Indox.QuestionAnswer(vector_database=db,llm=qa_model,top_k=5)"
      ],
      "id": "e9e2a586",
      "execution_count": null,
      "outputs": []
    },
    {
      "cell_type": "code",
      "metadata": {},
      "source": [
        "retriever.invoke(query=\"How cinderella reach happy ending?\")"
      ],
      "id": "c89e2597",
      "execution_count": null,
      "outputs": []
    },
    {
      "cell_type": "code",
      "metadata": {},
      "source": [
        "retriever.context"
      ],
      "id": "7b766b26",
      "execution_count": null,
      "outputs": []
    }
  ],
  "metadata": {
    "kernelspec": {
      "name": "python3",
      "language": "python",
      "display_name": "Python 3 (ipykernel)"
    }
  },
  "nbformat": 4,
  "nbformat_minor": 5
}