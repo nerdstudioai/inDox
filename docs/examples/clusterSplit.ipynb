{
 "cells": [
  {
   "cell_type": "markdown",
   "source": [
    "# Cluster Split"
   ],
   "metadata": {
    "collapsed": false
   },
   "id": "3ad37197702fb25"
  },
  {
   "cell_type": "code",
   "id": "initial_id",
   "metadata": {
    "collapsed": true,
    "ExecuteTime": {
     "end_time": "2024-06-08T08:12:01.355079Z",
     "start_time": "2024-06-08T08:12:01.342932Z"
    }
   },
   "source": [
    "import os\n",
    "from dotenv import load_dotenv\n",
    "\n",
    "load_dotenv()\n",
    "OPENAI_API_KEY = os.getenv('OPENAI_API_KEY')"
   ],
   "outputs": [],
   "execution_count": 1
  },
  {
   "cell_type": "markdown",
   "source": [
    "## Initial Setup\n",
    "\n",
    "The following imports are essential for setting up the Indox application. These imports include the main Indox retrieval augmentation module, question-answering models, embeddings, and data loader splitter."
   ],
   "metadata": {
    "collapsed": false
   },
   "id": "2042d24674335985"
  },
  {
   "cell_type": "code",
   "source": [
    "from indox import IndoxRetrievalAugmentation\n",
    "from indox.llms import OpenAiQA\n",
    "from indox.embeddings import OpenAiEmbedding\n",
    "from indox.data_loader_splitter import ClusteredSplit"
   ],
   "metadata": {
    "collapsed": false,
    "ExecuteTime": {
     "end_time": "2024-06-08T08:12:10.553829Z",
     "start_time": "2024-06-08T08:12:01.355079Z"
    }
   },
   "id": "8f77b20d9d352ac6",
   "outputs": [],
   "execution_count": 2
  },
  {
   "cell_type": "markdown",
   "source": [
    "In this step, we initialize the Indox Retrieval Augmentation, the QA model, and the embedding model. Note that the models used for QA and embedding can vary depending on the specific requirements.\n"
   ],
   "metadata": {
    "collapsed": false
   },
   "id": "913f3cdd9809410e"
  },
  {
   "cell_type": "code",
   "source": [
    "Indox = IndoxRetrievalAugmentation()\n",
    "qa_model = OpenAiQA(api_key=OPENAI_API_KEY,model=\"gpt-3.5-turbo-0125\")\n",
    "embed = OpenAiEmbedding(api_key=OPENAI_API_KEY,model=\"text-embedding-3-small\")"
   ],
   "metadata": {
    "collapsed": false,
    "ExecuteTime": {
     "end_time": "2024-06-08T08:12:12.451180Z",
     "start_time": "2024-06-08T08:12:10.553829Z"
    }
   },
   "id": "28e416614e3ea667",
   "outputs": [],
   "execution_count": 3
  },
  {
   "cell_type": "code",
   "source": [
    "file_path = \"sample.txt\""
   ],
   "metadata": {
    "collapsed": false,
    "ExecuteTime": {
     "end_time": "2024-06-08T08:12:12.455975Z",
     "start_time": "2024-06-08T08:12:12.451180Z"
    }
   },
   "id": "2445ac0cc91ceb90",
   "outputs": [],
   "execution_count": 4
  },
  {
   "cell_type": "markdown",
   "source": [
    "## Data Loader Setup\n",
    "\n",
    "We set up the data loader using the `ClusteredSplit` class. This step involves loading documents, configuring embeddings, and setting options for processing the text.\n"
   ],
   "metadata": {
    "collapsed": false
   },
   "id": "5b9091fab599c813"
  },
  {
   "metadata": {
    "ExecuteTime": {
     "end_time": "2024-06-08T08:12:14.723379Z",
     "start_time": "2024-06-08T08:12:14.713772Z"
    }
   },
   "cell_type": "code",
   "source": "loader_splitter = ClusteredSplit(file_path=file_path,embeddings=embed,remove_sword=False,re_chunk=False,chunk_size=300,use_openai_summary=True)",
   "id": "cfa365a4046c7054",
   "outputs": [],
   "execution_count": 6
  },
  {
   "cell_type": "code",
   "source": "docs = loader_splitter.load_and_chunk()",
   "metadata": {
    "collapsed": false,
    "ExecuteTime": {
     "end_time": "2024-06-08T08:12:22.030012Z",
     "start_time": "2024-06-08T08:12:16.262332Z"
    }
   },
   "id": "d9dd17f4de697616",
   "outputs": [
    {
     "name": "stdout",
     "output_type": "stream",
     "text": [
      "--Generated 1 clusters--\n"
     ]
    }
   ],
   "execution_count": 7
  },
  {
   "metadata": {
    "ExecuteTime": {
     "end_time": "2024-06-08T08:12:24.353910Z",
     "start_time": "2024-06-08T08:12:24.346547Z"
    }
   },
   "cell_type": "code",
   "source": "docs",
   "id": "36cd4538f8cd0c08",
   "outputs": [
    {
     "data": {
      "text/plain": [
       "[\"The wife of a rich man fell sick, and as she felt that her end was drawing near, she called her only daughter to her bedside and said, dear child, be good and pious, and then the good God will always protect you, and I will look down on you from heaven and be near you   Thereupon she closed her eyes and departed   Every day the maiden went out to her mother's grave, and wept, and she remained pious and good   When winter came the snow spread a white sheet over the grave, and by the time the spring sun had drawn it off again, the man had taken another wife The woman had brought with her into the house two daughters, who were beautiful and fair of face, but vile and black of heart Now began a bad time for the poor step-child   Is the stupid goose to sit in the parlor with us, they said   He who wants to eat bread must earn it   Out with the kitchen-wench   They took her pretty clothes away from her, put an old grey bedgown on her, and gave her wooden shoes   Just look at the proud princess, how decked out she is, they cried, and laughed, and led her into the kitchen There she had to do hard work from morning till night, get up before daybreak, carry water, light fires, cook and wash   Besides this, the sisters did her every imaginable injury - they mocked her\",\n",
       " \"and emptied her peas and lentils into the ashes, so that she was forced to sit and pick them out again   In the evening when she had worked till she was weary she had no bed to go to, but had to sleep by the hearth in the cinders   And as on that account she always looked dusty and dirty, they called her cinderella It happened that the father was once going to the fair, and he asked his two step-daughters what he should bring back for them Beautiful dresses, said one, pearls and jewels, said the second And you, cinderella, said he, what will you have   Father break off for me the first branch which knocks against your hat on your way home   So he bought beautiful dresses, pearls and jewels for his two step-daughters, and on his way home, as he was riding through a green thicket, a hazel twig brushed against him and knocked off his hat   Then he broke off the branch and took it with him   When he reached home he gave his step-daughters the things which they had wished for, and to cinderella he gave the branch from the hazel-bush   Cinderella thanked him, went to her mother's grave and planted the branch on it, and wept so much that the tears fell down on it and watered it   And it grew and became a handsome tree  Thrice a day cinderella went and sat beneath it, and wept and\",\n",
       " \"prayed, and a little white bird always came on the tree, and if cinderella expressed a wish, the bird threw down to her what she had wished for It happened, however, that the king gave orders for a festival which was to last three days, and to which all the beautiful young girls in the country were invited, in order that his son might choose himself a bride   When the two step-sisters heard that they too were to appear among the number, they were delighted, called cinderella and said, comb our hair for us, brush our shoes and fasten our buckles, for we are going to the wedding at the king's palace Cinderella obeyed, but wept, because she too would have liked to go with them to the dance, and begged her step-mother to allow her to do so   You go, cinderella, said she, covered in dust and dirt as you are, and would go to the festival   You have no clothes and shoes, and yet would dance   As, however, cinderella went on asking, the step-mother said at last, I have emptied a dish of lentils into the ashes for you, if you have picked them out again in two hours, you shall go with us   The maiden went through the back-door into the garden, and called, you tame pigeons, you turtle-doves, and all you birds beneath the sky, come and help me to pick\",\n",
       " '     the good into the pot,      the bad into the crop Then two white pigeons came in by the kitchen window, and afterwards the turtle-doves, and at last all the birds beneath the sky, came whirring and crowding in, and alighted amongst the ashes And the pigeons nodded with their heads and began pick, pick, pick, pick, and the rest began also pick, pick, pick, pick, and gathered all the good grains into the dish   Hardly had one hour passed before they had finished, and all flew out again   Then the girl took the dish to her step-mother, and was glad, and believed that now she would be allowed to go with them to the festival But the step-mother said, no, cinderella, you have no clothes and you can not dance   You would only be laughed at   And as cinderella wept at this, the step-mother said, if you can pick two dishes of lentils out of the ashes for me in one hour, you shall go with us   And she thought to herself, that she most certainly cannot do again   When the step-mother had emptied the two dishes of lentils amongst the ashes, the maiden went through the back-door into the garden and cried, you tame pigeons, you turtle-doves, and all you birds beneath the sky, come and help me to pick      the good into the pot,      the bad into the crop',\n",
       " \"Then two white pigeons came in by the kitchen-window, and afterwards the turtle-doves, and at length all the birds beneath the sky, came whirring and crowding in, and alighted amongst the ashes   And the doves nodded with their heads and began pick, pick, pick, pick, and the others began also pick, pick, pick, pick, and gathered all the good seeds into the dishes, and before half an hour was over they had already finished, and all flew out again Then the maiden was delighted, and believed that she might now go with them to the wedding   But the step-mother said, all this will not help   You cannot go with us, for you have no clothes and can not dance   We should be ashamed of you   On this she turned her back on cinderella, and hurried away with her two proud daughters As no one was now at home, cinderella went to her mother's grave beneath the hazel-tree, and cried -      shiver and quiver, little tree,      silver and gold throw down over me Then the bird threw a gold and silver dress down to her, and slippers embroidered with silk and silver   She put on the dress with all speed, and went to the wedding   Her step-sisters and the step-mother however did not know her, and thought she must be a foreign princess, for she looked so beautiful in the golden dress\",\n",
       " \"They never once thought of cinderella, and believed that she was sitting at home in the dirt, picking lentils out of the ashes   The prince approached her, took her by the hand and danced with her He would dance with no other maiden, and never let loose of her hand, and if any one else came to invite her, he said, this is my partner She danced till it was evening, and then she wanted to go home But the king's son said, I will go with you and bear you company, for he wished to see to whom the beautiful maiden belonged She escaped from him, however, and sprang into the pigeon-house   The king's son waited until her father came, and then he told him that the unknown maiden had leapt into the pigeon-house   The old man thought, can it be cinderella   And they had to bring him an axe and a pickaxe that he might hew the pigeon-house to pieces, but no one was inside it   And when they got home cinderella lay in her dirty clothes among the ashes, and a dim little oil-lamp was burning on the mantle-piece, for cinderella had jumped quickly down from the back of the pigeon-house and had run to the little hazel-tree, and there she had taken off her beautiful clothes and laid them on the grave, and the bird had taken them away again, and then she had seated herself in the kitchen amongst the ashes in her grey gown\",\n",
       " \"Next day when the festival began afresh, and her parents and the step-sisters had gone once more, cinderella went to the hazel-tree and said -      shiver and quiver, my little tree,      silver and gold throw down over me Then the bird threw down a much more beautiful dress than on the preceding day  And when cinderella appeared at the wedding in this dress, every one was astonished at her beauty   The king's son had waited until she came, and instantly took her by the hand and danced with no one but her   When others came and invited her, he said, this is my partner   When evening came she wished to leave, and the king's son followed her and wanted to see into which house she went   But she sprang away from him, and into the garden behind the house   Therein stood a beautiful tall tree on which hung the most magnificent pears   She clambered so nimbly between the branches like a squirrel that the king's son did not know where she was gone   He waited until her father came, and said to him, the unknown maiden has escaped from me, and I believe she has climbed up the pear-tree   The father thought, can it be cinderella   And had an axe brought and cut the tree down, but no one was on it   And when they got into the kitchen, cinderella lay there among the ashes, as usual, for she\",\n",
       " \"had jumped down on the other side of the tree, had taken the beautiful dress to the bird on the little hazel-tree, and put on her grey gown On the third day, when the parents and sisters had gone away, cinderella went once more to her mother's grave and said to the little tree -      shiver and quiver, my little tree,      silver and gold throw down over me And now the bird threw down to her a dress which was more splendid and magnificent than any she had yet had, and the slippers were golden   And when she went to the festival in the dress, no one knew how to speak for astonishment   The king's son danced with her only, and if any one invited her to dance, he said this is my partner When evening came, cinderella wished to leave, and the king's son was anxious to go with her, but she escaped from him so quickly that he could not follow her   The king's son, however, had employed a ruse, and had caused the whole staircase to be smeared with pitch, and there, when she ran down, had the maiden's left slipper remained stuck   The king's son picked it up, and it was small and dainty, and all golden   Next morning, he went with it to the father, and said to him, no one shall be my wife but she whose foot this golden slipper fits   Then were the two sisters glad,\",\n",
       " \"for they had pretty feet   The eldest went with the shoe into her room and wanted to try it on, and her mother stood by   But she could not get her big toe into it, and the shoe was too small for her   Then her mother gave her a knife and said, cut the toe off, when you are queen you will have no more need to go on foot   The maiden cut the toe off, forced the foot into the shoe, swallowed the pain, and went out to the king's son   Then he took her on his his horse as his bride and rode away with her   They were obliged, however, to pass the grave, and there, on the hazel-tree, sat the two pigeons and cried -      turn and peep, turn and peep,      there's blood within the shoe,      the shoe it is too small for her,      the true bride waits for you Then he looked at her foot and saw how the blood was trickling from it   He turned his horse round and took the false bride home again, and said she was not the true one, and that the other sister was to put the shoe on   Then this one went into her chamber and got her toes safely into the shoe, but her heel was too large   So her mother gave her a knife and said,  cut a bit off your heel, when you are queen you will have no more need to go on foot\",\n",
       " \"  The maiden cut a bit off her heel, forced her foot into the shoe, swallowed the pain, and went out to the king's son   He took her on his horse as his bride, and rode away with her, but when they passed by the hazel-tree, the two pigeons sat on it and cried -      turn and peep, turn and peep,      there's blood within the shoe,      the shoe it is too small for her,      the true bride waits for you He looked down at her foot and saw how the blood was running out of her shoe, and how it had stained her white stocking quite red   Then he turned his horse and took the false bride home again   This also is not the right one, said he, have you no other daughter   No, said the man, there is still a little stunted kitchen-wench which my late wife left behind her, but she cannot possibly be the bride   The king's son said he was to send her up to him, but the mother answered, oh, no, she is much too dirty, she cannot show herself   But he absolutely insisted on it, and cinderella had to be called   She first washed her hands and face clean, and then went and bowed down before the king's son, who gave her the golden shoe   Then she seated herself on a stool, drew her foot out of the heavy\",\n",
       " \"wooden shoe, and put it into the slipper, which fitted like a glove   And when she rose up and the king's son looked at her face he recognized the beautiful maiden who had danced with him and cried, that is the true bride   The step-mother and the two sisters were horrified and became pale with rage, he, however, took cinderella on his horse and rode away with her   As they passed by the hazel-tree, the two white doves cried -      turn and peep, turn and peep,      no blood is in the shoe,      the shoe is not too small for her,      the true bride rides with you, and when they had cried that, the two came flying down and placed themselves on cinderella's shoulders, one on the right, the other on the left, and remained sitting there When the wedding with the king's son was to be celebrated, the two false sisters came and wanted to get into favor with cinderella and share her good fortune   When the betrothed couple went to church, the elder was at the right side and the younger at the left, and the pigeons pecked out one eye from each of them   Afterwards as they came back the elder was at the left, and the younger at the right, and then the pigeons pecked out the other eye from each   And thus, for their wickedness and falsehood, they were punished with blindness all their days\",\n",
       " \"This documentation tells the story of Cinderella, a young girl who faces mistreatment from her stepmother and stepsisters after her mother's death. Despite the cruelty she endures, Cinderella remains kind and pious. Through the help of a magical hazel tree and a little white bird, she is able to attend a royal festival where the prince falls in love with her. The prince searches for her true identity after she flees each night, leaving only a golden slipper behind. Ultimately,\"]"
      ]
     },
     "execution_count": 8,
     "metadata": {},
     "output_type": "execute_result"
    }
   ],
   "execution_count": 8
  },
  {
   "cell_type": "markdown",
   "source": [
    "## Vector Store Connection and Document Storage\n",
    "\n",
    "In this step, we connect the Indox application to the vector store and store the processed documents.\n"
   ],
   "metadata": {
    "collapsed": false
   },
   "id": "d7107732b56e4776"
  },
  {
   "metadata": {
    "ExecuteTime": {
     "end_time": "2024-06-08T08:12:31.103199Z",
     "start_time": "2024-06-08T08:12:30.740868Z"
    }
   },
   "cell_type": "code",
   "source": [
    "from indox.vector_stores import ChromaVectorStore\n",
    "db = ChromaVectorStore(collection_name=\"sample\",embedding=embed)"
   ],
   "id": "5992a463fcd3b56e",
   "outputs": [],
   "execution_count": 9
  },
  {
   "cell_type": "code",
   "source": "Indox.connect_to_vectorstore(db)",
   "metadata": {
    "collapsed": false,
    "ExecuteTime": {
     "end_time": "2024-06-08T08:12:31.636806Z",
     "start_time": "2024-06-08T08:12:31.631462Z"
    }
   },
   "id": "b82696b57c0c6d59",
   "outputs": [
    {
     "data": {
      "text/plain": [
       "<indox.vector_stores.Chroma.ChromaVectorStore at 0x25115b2ec90>"
      ]
     },
     "execution_count": 10,
     "metadata": {},
     "output_type": "execute_result"
    }
   ],
   "execution_count": 10
  },
  {
   "cell_type": "code",
   "source": [
    "Indox.store_in_vectorstore(docs)"
   ],
   "metadata": {
    "collapsed": false,
    "ExecuteTime": {
     "end_time": "2024-06-08T08:12:34.009918Z",
     "start_time": "2024-06-08T08:12:32.052677Z"
    }
   },
   "id": "fe248b4754c14564",
   "outputs": [
    {
     "data": {
      "text/plain": [
       "<indox.vector_stores.Chroma.ChromaVectorStore at 0x25115b2ec90>"
      ]
     },
     "execution_count": 11,
     "metadata": {},
     "output_type": "execute_result"
    }
   ],
   "execution_count": 11
  },
  {
   "cell_type": "markdown",
   "source": [
    "## Querying and Interpreting the Response\n",
    "\n",
    "In this step, we query the Indox application with a specific question and use the QA model to get the response. The response is a tuple where the first element is the answer and the second element contains the retrieved context with their cosine scores.\n",
    "response[0] contains the answer\n",
    "response[1] contains the retrieved context with their cosine scores"
   ],
   "metadata": {
    "collapsed": false
   },
   "id": "ab6d303bad31e4fa"
  },
  {
   "cell_type": "code",
   "source": "retriever = Indox.QuestionAnswer(vector_database=db,llm=qa_model,top_k=5)",
   "metadata": {
    "collapsed": false,
    "ExecuteTime": {
     "end_time": "2024-06-08T08:12:35.430678Z",
     "start_time": "2024-06-08T08:12:35.421780Z"
    }
   },
   "id": "70515fd350da36f0",
   "outputs": [],
   "execution_count": 12
  },
  {
   "metadata": {
    "ExecuteTime": {
     "end_time": "2024-06-08T08:12:39.325494Z",
     "start_time": "2024-06-08T08:12:35.866763Z"
    }
   },
   "cell_type": "code",
   "source": "retriever.invoke(query=\"How cinderella reach happy ending?\")",
   "id": "dce8a0d606a060aa",
   "outputs": [
    {
     "data": {
      "text/plain": [
       "'Cinderella reaches her happy ending through perseverance, kindness, and the help of magical elements. Despite facing mistreatment from her stepmother and stepsisters, Cinderella remains kind and pious. With the assistance of a magical hazel tree and a little white bird, she is able to attend a royal festival where the prince falls in love with her. The prince searches for her true identity after she flees each night, leaving only a golden slipper behind. Ultimately, the prince finds Cinderella and recognizes her as the one whose foot fits the golden slipper. This leads to Cinderella marrying the prince and living happily ever after.'"
      ]
     },
     "execution_count": 13,
     "metadata": {},
     "output_type": "execute_result"
    }
   ],
   "execution_count": 13
  },
  {
   "cell_type": "code",
   "source": "retriever.context",
   "metadata": {
    "collapsed": false,
    "ExecuteTime": {
     "end_time": "2024-06-08T08:12:47.613874Z",
     "start_time": "2024-06-08T08:12:47.607403Z"
    }
   },
   "id": "de43ca64eeb5f78f",
   "outputs": [
    {
     "data": {
      "text/plain": [
       "[\"This documentation tells the story of Cinderella, a young girl who faces mistreatment from her stepmother and stepsisters after her mother's death. Despite the cruelty she endures, Cinderella remains kind and pious. Through the help of a magical hazel tree and a little white bird, she is able to attend a royal festival where the prince falls in love with her. The prince searches for her true identity after she flees each night, leaving only a golden slipper behind. Ultimately,\",\n",
       " \"They never once thought of cinderella, and believed that she was sitting at home in the dirt, picking lentils out of the ashes   The prince approached her, took her by the hand and danced with her He would dance with no other maiden, and never let loose of her hand, and if any one else came to invite her, he said, this is my partner She danced till it was evening, and then she wanted to go home But the king's son said, I will go with you and bear you company, for he wished to see to whom the beautiful maiden belonged She escaped from him, however, and sprang into the pigeon-house   The king's son waited until her father came, and then he told him that the unknown maiden had leapt into the pigeon-house   The old man thought, can it be cinderella   And they had to bring him an axe and a pickaxe that he might hew the pigeon-house to pieces, but no one was inside it   And when they got home cinderella lay in her dirty clothes among the ashes, and a dim little oil-lamp was burning on the mantle-piece, for cinderella had jumped quickly down from the back of the pigeon-house and had run to the little hazel-tree, and there she had taken off her beautiful clothes and laid them on the grave, and the bird had taken them away again, and then she had seated herself in the kitchen amongst the ashes in her grey gown\",\n",
       " \"had jumped down on the other side of the tree, had taken the beautiful dress to the bird on the little hazel-tree, and put on her grey gown On the third day, when the parents and sisters had gone away, cinderella went once more to her mother's grave and said to the little tree -      shiver and quiver, my little tree,      silver and gold throw down over me And now the bird threw down to her a dress which was more splendid and magnificent than any she had yet had, and the slippers were golden   And when she went to the festival in the dress, no one knew how to speak for astonishment   The king's son danced with her only, and if any one invited her to dance, he said this is my partner When evening came, cinderella wished to leave, and the king's son was anxious to go with her, but she escaped from him so quickly that he could not follow her   The king's son, however, had employed a ruse, and had caused the whole staircase to be smeared with pitch, and there, when she ran down, had the maiden's left slipper remained stuck   The king's son picked it up, and it was small and dainty, and all golden   Next morning, he went with it to the father, and said to him, no one shall be my wife but she whose foot this golden slipper fits   Then were the two sisters glad,\",\n",
       " \"and emptied her peas and lentils into the ashes, so that she was forced to sit and pick them out again   In the evening when she had worked till she was weary she had no bed to go to, but had to sleep by the hearth in the cinders   And as on that account she always looked dusty and dirty, they called her cinderella It happened that the father was once going to the fair, and he asked his two step-daughters what he should bring back for them Beautiful dresses, said one, pearls and jewels, said the second And you, cinderella, said he, what will you have   Father break off for me the first branch which knocks against your hat on your way home   So he bought beautiful dresses, pearls and jewels for his two step-daughters, and on his way home, as he was riding through a green thicket, a hazel twig brushed against him and knocked off his hat   Then he broke off the branch and took it with him   When he reached home he gave his step-daughters the things which they had wished for, and to cinderella he gave the branch from the hazel-bush   Cinderella thanked him, went to her mother's grave and planted the branch on it, and wept so much that the tears fell down on it and watered it   And it grew and became a handsome tree  Thrice a day cinderella went and sat beneath it, and wept and\",\n",
       " \"prayed, and a little white bird always came on the tree, and if cinderella expressed a wish, the bird threw down to her what she had wished for It happened, however, that the king gave orders for a festival which was to last three days, and to which all the beautiful young girls in the country were invited, in order that his son might choose himself a bride   When the two step-sisters heard that they too were to appear among the number, they were delighted, called cinderella and said, comb our hair for us, brush our shoes and fasten our buckles, for we are going to the wedding at the king's palace Cinderella obeyed, but wept, because she too would have liked to go with them to the dance, and begged her step-mother to allow her to do so   You go, cinderella, said she, covered in dust and dirt as you are, and would go to the festival   You have no clothes and shoes, and yet would dance   As, however, cinderella went on asking, the step-mother said at last, I have emptied a dish of lentils into the ashes for you, if you have picked them out again in two hours, you shall go with us   The maiden went through the back-door into the garden, and called, you tame pigeons, you turtle-doves, and all you birds beneath the sky, come and help me to pick\"]"
      ]
     },
     "execution_count": 14,
     "metadata": {},
     "output_type": "execute_result"
    }
   ],
   "execution_count": 14
  },
  {
   "cell_type": "code",
   "execution_count": null,
   "outputs": [],
   "source": [],
   "metadata": {
    "collapsed": false
   },
   "id": "4d6eebd00266dce9"
  }
 ],
 "metadata": {
  "kernelspec": {
   "display_name": "Python 3",
   "language": "python",
   "name": "python3"
  },
  "language_info": {
   "codemirror_mode": {
    "name": "ipython",
    "version": 2
   },
   "file_extension": ".py",
   "mimetype": "text/x-python",
   "name": "python",
   "nbconvert_exporter": "python",
   "pygments_lexer": "ipython2",
   "version": "2.7.6"
  }
 },
 "nbformat": 4,
 "nbformat_minor": 5
}
