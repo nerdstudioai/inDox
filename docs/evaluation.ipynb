{
 "cells": [
  {
   "cell_type": "markdown",
   "id": "13e1168c26831b1c",
   "metadata": {},
   "source": [
    "# Evaluation Metrics\n",
    "\n",
    "## Introduction\n",
    "\n",
    "This notebook demonstrates how `InDox` uses various evaluation metrics to assess the quality of generated outputs. The available metrics are:\n",
    "\n",
    "- **BertScore**: Evaluates the similarity between the generated text and reference text using BERT embeddings.\n",
    "- **Toxicity**: Measures the level of toxicity in the generated text.\n",
    "- **Similarity**: Assesses the similarity between different pieces of text.\n",
    "- **Reliability**: Evaluates the factual accuracy and trustworthiness of the content.\n",
    "- **Fairness**: Analyzes the text for potential biases and ensures equitable representation.\n",
    "- **Readability**: Assesses how easy the text is to read and understand.\n",
    "\n",
    "You can select the metrics you want to use and then provide the context and answer text for evaluation.\n",
    "\n",
    "## Implementation\n",
    "\n",
    "First, we need to import the `Evaluation` library to build our evaluator function:\n",
    "\n"
   ]
  },
  {
   "cell_type": "code",
   "execution_count": null,
   "id": "ceec998e",
   "metadata": {},
   "outputs": [],
   "source": [
    "from Indox.Evaluation import Evaluation"
   ]
  },
  {
   "cell_type": "markdown",
   "id": "11d47ea472bcf68f",
   "metadata": {},
   "source": [
    "## Quick Start \n",
    "initiate your evaluator with the *default* config :  "
   ]
  },
  {
   "cell_type": "code",
   "execution_count": null,
   "id": "9329a43c",
   "metadata": {},
   "outputs": [],
   "source": [
    "evaluator = Evaluation()"
   ]
  },
  {
   "cell_type": "raw",
   "id": "62845c47",
   "metadata": {},
   "source": [
    "::: {.callout-note}\n",
    "You can choose a list of your disired metrics from `\"BertScore\"`, `\"Toxicity\"`, `\"Similarity\"`, `\"Reliability\"`, `\"Fairness\"` , `\"Readibility\"` \n",
    ":::\n",
    "\n",
    "::: {.callout-tip}\n",
    "if you want to change models with your custom models you can define a `config` in `dict` and customize your `InDox` evaluator  \n",
    "```python \n",
    "cfg = {\"bert_toxic_tokenizer\": \"unitary/toxic-bert\",\n",
    "       \"bert_toxic_model\": \"unitary/toxic-bert\",\n",
    "       \"semantic_similarity\": \"sentence-transformers/bert-base-nli-mean-tokens\",\n",
    "       \"bert_score_model\": \"bert-base-uncased\",\n",
    "       \"reliability\": 'vectara/hallucination_evaluation_model',\n",
    "       \"fairness\": \"wu981526092/Sentence-Level-Stereotype-Detector\",\n",
    "\n",
    "       }\n",
    "```\n",
    ":::\n",
    "\n",
    "::: {.callout-caution collapse=\"true\"}\n",
    "it's important to say `InDox` uses open source models and all models are scratched from **HuggingFace**\n",
    ":::\n",
    "\n",
    "After initiate your evalutor check it with sample question answer response , each inputs should be have `question`, `answer`, `context` in a `dict` format , for example : \n"
   ]
  },
  {
   "cell_type": "code",
   "execution_count": 4,
   "id": "4ec5ab99",
   "metadata": {},
   "outputs": [],
   "source": [
    "sample = {\n",
    "    'question' : \"What is your Question?\",\n",
    "    'answer' : \"It's your responsed answer from InDox\",\n",
    "    'context' : \"this can be a list of context or a single context.\"\n",
    "}"
   ]
  },
  {
   "cell_type": "markdown",
   "id": "3363d94e",
   "metadata": {},
   "source": [
    "then use evaluator to calculate metrics, evaluator is callable function which in `__call__` function calculates metrics. \n",
    "InDox evaluator returns metrics as `dict` file :  "
   ]
  },
  {
   "cell_type": "code",
   "execution_count": null,
   "id": "503b4ade",
   "metadata": {},
   "outputs": [],
   "source": [
    "evaluator(sample)"
   ]
  },
  {
   "cell_type": "raw",
   "id": "1f99b70b",
   "metadata": {},
   "source": [
    "```\n",
    "{\n",
    "\"Precision\": 0.46,\n",
    "\"Recall\": 0.75,\n",
    "\"F1-score\": 0.68,\n",
    "\"Toxicity\": 0.01,\n",
    "\"BLEU\": 0.01,\n",
    "\"Jaccard Similarity\": 0.55,\n",
    "\"Cosine Similarity\": 0.68,\n",
    "\"Semantic\": 0.79,\n",
    "\"hallucination_score\" : 0.11, \n",
    "\"Perplexity\": 11,\n",
    "\"ARI\": 0.5,\n",
    "\"Flesch-Kincaid Grade Level\": 0.91\n",
    "}\n",
    "```"
   ]
  },
  {
   "cell_type": "markdown",
   "id": "8476f315",
   "metadata": {},
   "source": [
    "## Evaluation Updater \n",
    "The `inDox` evaluator provides an `update` function to store evaluation metrics in a data frame. To stack your results, use the `update` function as shown below:"
   ]
  },
  {
   "cell_type": "code",
   "execution_count": null,
   "id": "d7223aee",
   "metadata": {},
   "outputs": [],
   "source": [
    "results = evaluator.update(inputs)"
   ]
  },
  {
   "cell_type": "markdown",
   "id": "a4b89b2f",
   "metadata": {},
   "source": [
    "The output will be stored in the results data frame, which might look like this:"
   ]
  },
  {
   "cell_type": "code",
   "execution_count": 25,
   "id": "85ccffe9",
   "metadata": {},
   "outputs": [
    {
     "data": {
      "text/html": [
       "<div>\n",
       "<style scoped>\n",
       "    .dataframe tbody tr th:only-of-type {\n",
       "        vertical-align: middle;\n",
       "    }\n",
       "\n",
       "    .dataframe tbody tr th {\n",
       "        vertical-align: top;\n",
       "    }\n",
       "\n",
       "    .dataframe thead th {\n",
       "        text-align: right;\n",
       "    }\n",
       "</style>\n",
       "<table border=\"1\" class=\"dataframe\">\n",
       "  <thead>\n",
       "    <tr style=\"text-align: right;\">\n",
       "      <th></th>\n",
       "      <th>0</th>\n",
       "    </tr>\n",
       "  </thead>\n",
       "  <tbody>\n",
       "    <tr>\n",
       "      <th>Precision</th>\n",
       "      <td>0.46</td>\n",
       "    </tr>\n",
       "    <tr>\n",
       "      <th>Recall</th>\n",
       "      <td>0.75</td>\n",
       "    </tr>\n",
       "    <tr>\n",
       "      <th>F1-score</th>\n",
       "      <td>0.68</td>\n",
       "    </tr>\n",
       "    <tr>\n",
       "      <th>Toxicity</th>\n",
       "      <td>0.01</td>\n",
       "    </tr>\n",
       "    <tr>\n",
       "      <th>BLEU</th>\n",
       "      <td>0.01</td>\n",
       "    </tr>\n",
       "    <tr>\n",
       "      <th>Jaccard Similarity</th>\n",
       "      <td>0.55</td>\n",
       "    </tr>\n",
       "    <tr>\n",
       "      <th>Cosine Similarity</th>\n",
       "      <td>0.68</td>\n",
       "    </tr>\n",
       "    <tr>\n",
       "      <th>Semantic</th>\n",
       "      <td>0.79</td>\n",
       "    </tr>\n",
       "    <tr>\n",
       "      <th>hallucination_score</th>\n",
       "      <td>0.11</td>\n",
       "    </tr>\n",
       "    <tr>\n",
       "      <th>Perplexity</th>\n",
       "      <td>11.00</td>\n",
       "    </tr>\n",
       "    <tr>\n",
       "      <th>ARI</th>\n",
       "      <td>0.50</td>\n",
       "    </tr>\n",
       "    <tr>\n",
       "      <th>Flesch-Kincaid Grade Level</th>\n",
       "      <td>0.91</td>\n",
       "    </tr>\n",
       "  </tbody>\n",
       "</table>\n",
       "</div>"
      ],
      "text/plain": [
       "                                0\n",
       "Precision                    0.46\n",
       "Recall                       0.75\n",
       "F1-score                     0.68\n",
       "Toxicity                     0.01\n",
       "BLEU                         0.01\n",
       "Jaccard Similarity           0.55\n",
       "Cosine Similarity            0.68\n",
       "Semantic                     0.79\n",
       "hallucination_score          0.11\n",
       "Perplexity                  11.00\n",
       "ARI                          0.50\n",
       "Flesch-Kincaid Grade Level   0.91"
      ]
     },
     "execution_count": 25,
     "metadata": {},
     "output_type": "execute_result"
    }
   ],
   "source": [
    "results"
   ]
  },
  {
   "cell_type": "markdown",
   "id": "8148e90e",
   "metadata": {},
   "source": [
    "::: {.callout-note}\n",
    "if you want to clean results use `reset` method to clean it. \n",
    ":::\n",
    "\n",
    "### Metric Explanations\n",
    "- **Precision**: Measures the accuracy of positive predictions. It's the ratio of true positive results to the total predicted positives.\n",
    "- **Recall**: Measures the ability to find all relevant instances. It's the ratio of true positive results to all actual positives.\n",
    "- **F1-score**: The harmonic mean of precision and recall. It balances the two metrics, providing a single measure of a model's performance.\n",
    "- **Toxicity**: Quantifies the level of harmful or abusive content in the text.\n",
    "- **BLEU (Bilingual Evaluation Understudy)**: A metric for evaluating the quality of machine-translated text against one or more reference translations.\n",
    "- **Jaccard Similarity**: Measures the similarity between two sets by dividing the size of the intersection by the size of the union of the sets.\n",
    "- **Cosine Similarity**: Measures the cosine of the angle between two vectors in a multi-dimensional space. It’s used to determine the similarity between two text samples.\n",
    "- **Semantic Similarity**: Evaluates the degree to which two pieces of text carry the same meaning.\n",
    "- **Hallucination Score**: Indicates the extent to which a model generates information that is not present in the source data.\n",
    "- **Perplexity**: Measures how well a probability model predicts a sample. Lower perplexity indicates a better predictive model.\n",
    "- **ARI** (Automated Readability Index): An index that assesses the readability of a text based on sentence length and word complexity.\n",
    "- **Flesch-Kincaid Grade Level**: An index that indicates the US school grade level required to understand the text."
   ]
  },
  {
   "cell_type": "markdown",
   "id": "867747bb",
   "metadata": {},
   "source": [
    "### Custom Evaluator Example Usage\n",
    "Below code provide an example usage of `inDox` evaluation with custom config : \n"
   ]
  },
  {
   "cell_type": "code",
   "execution_count": null,
   "id": "1debdfbe",
   "metadata": {},
   "outputs": [],
   "source": [
    "from Indox.Evaluation import Evaluation\n",
    "\n",
    "cfg = {\n",
    "       \"bert_score_model\": \"bert-base-uncased\",\n",
    "       }\n",
    "\n",
    "dimanstions = [\"BertScore\"]\n",
    "\n",
    "evaluator = Evaluation(cfg = cfg , dimanstions = dimanstions)\n",
    "\n",
    "\n",
    "inputs1 = {\n",
    "    'question': 'What is the capital of France?',\n",
    "    'answer': 'The capital of France is Paris.',\n",
    "    'context': 'France is a country in Western Europe. Paris is its capital.'\n",
    "}\n",
    "\n",
    "inputs2 = {\n",
    "    'question': 'What is the largest planet in our solar system?',\n",
    "    'answer': 'The largest planet in our solar system is Jupiter.',\n",
    "    'context': 'Our solar system consists of eight planets. Jupiter is the largest among them.'\n",
    "}\n",
    "results = evaluator.update(inputs1)\n",
    "results = evaluator.update(inputs2)\n"
   ]
  },
  {
   "cell_type": "markdown",
   "id": "5f081171",
   "metadata": {},
   "source": [
    "Display the results:"
   ]
  },
  {
   "cell_type": "code",
   "execution_count": null,
   "id": "e31cf749",
   "metadata": {},
   "outputs": [],
   "source": [
    "print(results)"
   ]
  },
  {
   "cell_type": "markdown",
   "id": "508db4e9",
   "metadata": {},
   "source": [
    "**Expected Output**\n",
    "---\n",
    "The results data frame will contain evaluation metrics for each input:"
   ]
  },
  {
   "cell_type": "code",
   "execution_count": 29,
   "id": "4419d812",
   "metadata": {},
   "outputs": [
    {
     "data": {
      "text/html": [
       "<div>\n",
       "<style scoped>\n",
       "    .dataframe tbody tr th:only-of-type {\n",
       "        vertical-align: middle;\n",
       "    }\n",
       "\n",
       "    .dataframe tbody tr th {\n",
       "        vertical-align: top;\n",
       "    }\n",
       "\n",
       "    .dataframe thead th {\n",
       "        text-align: right;\n",
       "    }\n",
       "</style>\n",
       "<table border=\"1\" class=\"dataframe\">\n",
       "  <thead>\n",
       "    <tr style=\"text-align: right;\">\n",
       "      <th></th>\n",
       "      <th>0</th>\n",
       "      <th>1</th>\n",
       "    </tr>\n",
       "  </thead>\n",
       "  <tbody>\n",
       "    <tr>\n",
       "      <th>Precision</th>\n",
       "      <td>0.46</td>\n",
       "      <td>0.86</td>\n",
       "    </tr>\n",
       "    <tr>\n",
       "      <th>Recall</th>\n",
       "      <td>0.75</td>\n",
       "      <td>0.35</td>\n",
       "    </tr>\n",
       "    <tr>\n",
       "      <th>F1-score</th>\n",
       "      <td>0.68</td>\n",
       "      <td>0.88</td>\n",
       "    </tr>\n",
       "  </tbody>\n",
       "</table>\n",
       "</div>"
      ],
      "text/plain": [
       "              0     1\n",
       "Precision  0.46  0.86\n",
       "Recall     0.75  0.35\n",
       "F1-score   0.68  0.88"
      ]
     },
     "execution_count": 29,
     "metadata": {},
     "output_type": "execute_result"
    }
   ],
   "source": [
    ">>>"
   ]
  }
 ],
 "metadata": {
  "kernelspec": {
   "display_name": "Python 3 (ipykernel)",
   "language": "python",
   "name": "python3"
  },
  "language_info": {
   "codemirror_mode": {
    "name": "ipython",
    "version": 3
   },
   "file_extension": ".py",
   "mimetype": "text/x-python",
   "name": "python",
   "nbconvert_exporter": "python",
   "pygments_lexer": "ipython3",
   "version": "3.9.12"
  }
 },
 "nbformat": 4,
 "nbformat_minor": 5
}
