{
 "cells": [
  {
   "metadata": {},
   "cell_type": "markdown",
   "source": [
    "# AgenticRag Class\n",
    "\n",
    "## Overview\n",
    "\n",
    "The `AgenticRag` class is designed to handle the interaction between a Language Learning Model (LLM) and a vector database. It facilitates the process of retrieving relevant information from the vector database to answer questions posed to the LLM. This class maintains a history of question-answer interactions and context, ensuring efficient and accurate responses.\n",
    "\n",
    "## How It Works\n",
    "\n",
    "1. **Context Grading**: The class first grades each context and filters them based on relevancy.\n",
    "2. **Web Search Fallback**: If no relevant context is found, it performs a web search and generates an answer based on the search results.\n",
    "3. **Answer Generation from Context**: If relevant contexts are found, it filters these contexts and attempts to generate an answer based on the filtered contexts.\n",
    "4. **Hallucination Check**: After generating the answer, it checks for hallucination (i.e., ensuring the answer is plausible and accurate).\n",
    "5. **Retry on Hallucination**: If the answer is found to be hallucinated, it attempts to generate the answer again.\n",
    "6. **Return Answer**: If the answer is not hallucinated, it returns the answer.\n",
    "\n",
    "## Class Definition\n",
    "\n",
    "```python\n",
    "class AgenticRag:\n",
    "    def __init__(self, llm, vector_database, top_k: int = 5)\n",
    "```\n",
    "\n",
    "### Hyperparameters\n",
    "- llm: The Language Learning Model used for generating responses. This could be any model that processes natural language input and produces relevant outputs.\n",
    "\n",
    "- vector_database: The database that stores vectors representing pieces of information. It is used to retrieve the most relevant information based on the input queries.\n",
    "\n",
    "- top_k: (int, default=5) The number of top relevant vectors to retrieve from the vector database for each query. This determines how many pieces of information are considered for generating the response.\n",
    "\n",
    "## Usage\n",
    "\n",
    "```python\n",
    "# Create an instance of the AgenticRag class\n",
    "agent = Indox.AgenticRag(llm=llm, vector_database=db, top_k=5)\n",
    "\n",
    "# Run the agent with a query\n",
    "answer = agent.run(query)\n",
    "```\n"
   ],
   "id": "75a54751882e7935"
  }
 ],
 "metadata": {
  "kernelspec": {
   "display_name": "Python 3",
   "language": "python",
   "name": "python3"
  },
  "language_info": {
   "codemirror_mode": {
    "name": "ipython",
    "version": 2
   },
   "file_extension": ".py",
   "mimetype": "text/x-python",
   "name": "python",
   "nbconvert_exporter": "python",
   "pygments_lexer": "ipython2",
   "version": "2.7.6"
  }
 },
 "nbformat": 4,
 "nbformat_minor": 5
}
