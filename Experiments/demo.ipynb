{
 "cells": [
  {
   "cell_type": "code",
   "execution_count": 2,
   "id": "4d7da4fd-2ea4-447d-8881-b83756910570",
   "metadata": {},
   "outputs": [
    {
     "name": "stderr",
     "output_type": "stream",
     "text": [
      "Cloning into 'inDox'...\n"
     ]
    }
   ],
   "source": [
    "!git clone https://github.com/osllmai/inDox.git -b Development/build_0.2"
   ]
  },
  {
   "cell_type": "markdown",
   "id": "3bcc82bb-7693-4c72-a2b5-f8640a44acf1",
   "metadata": {},
   "source": [
    "## semantic-text-splitter\n",
    "here we use semantic-text-splitter and bert-base-uncased as tokenizer"
   ]
  },
  {
   "cell_type": "code",
   "execution_count": 71,
   "id": "48c65124-b048-42df-8a92-c41b140a8c33",
   "metadata": {},
   "outputs": [],
   "source": [
    "import os\n",
    "from dotenv import load_dotenv\n",
    "\n",
    "load_dotenv()\n",
    "OPENAI_API_KEY = os.getenv('OPENAI_API_KEY')"
   ]
  },
  {
   "cell_type": "code",
   "execution_count": 72,
   "id": "0fff1d69-8735-492c-a466-f3196836a50d",
   "metadata": {},
   "outputs": [],
   "source": [
    "from inDox.Indox import IndoxRetrievalAugmentation"
   ]
  },
  {
   "cell_type": "code",
   "execution_count": 73,
   "id": "072fd248-935e-4732-a3c1-73a1a02abd26",
   "metadata": {},
   "outputs": [],
   "source": [
    "docs_file_path = \"sample.txt\"\n",
    "\n",
    "IRA = IndoxRetrievalAugmentation(docs=docs_file_path, max_tokens=200, collection_name=\"cinderalla_2\")"
   ]
  },
  {
   "cell_type": "code",
   "execution_count": 74,
   "id": "5bf6cab4-2364-48f3-88c9-3045a71e6deb",
   "metadata": {},
   "outputs": [
    {
     "name": "stdout",
     "output_type": "stream",
     "text": [
      "Starting processing...\n"
     ]
    },
    {
     "name": "stderr",
     "output_type": "stream",
     "text": [
      "2024-04-22 17:50:54,986 - INFO - HTTP Request: POST https://api.openai.com/v1/embeddings \"HTTP/1.1 200 OK\"\n"
     ]
    },
    {
     "name": "stdout",
     "output_type": "stream",
     "text": [
      "--Generated 3 clusters--\n"
     ]
    },
    {
     "name": "stderr",
     "output_type": "stream",
     "text": [
      "2024-04-22 17:51:05,552 - INFO - HTTP Request: POST https://api.openai.com/v1/chat/completions \"HTTP/1.1 200 OK\"\n",
      "2024-04-22 17:51:12,350 - INFO - HTTP Request: POST https://api.openai.com/v1/chat/completions \"HTTP/1.1 200 OK\"\n",
      "2024-04-22 17:51:16,534 - INFO - HTTP Request: POST https://api.openai.com/v1/chat/completions \"HTTP/1.1 200 OK\"\n",
      "2024-04-22 17:51:17,682 - INFO - HTTP Request: POST https://api.openai.com/v1/embeddings \"HTTP/1.1 200 OK\"\n"
     ]
    },
    {
     "name": "stdout",
     "output_type": "stream",
     "text": [
      "--Generated 1 clusters--\n"
     ]
    },
    {
     "name": "stderr",
     "output_type": "stream",
     "text": [
      "2024-04-22 17:51:25,194 - INFO - HTTP Request: POST https://api.openai.com/v1/chat/completions \"HTTP/1.1 200 OK\"\n"
     ]
    }
   ],
   "source": [
    "all_chunks = IRA.get_all_chunks()"
   ]
  },
  {
   "cell_type": "code",
   "execution_count": 75,
   "id": "1d23bf21-ec43-456c-84c3-dca8380f2ad6",
   "metadata": {},
   "outputs": [
    {
     "name": "stderr",
     "output_type": "stream",
     "text": [
      "2024-04-22 17:51:31,974 - INFO - HTTP Request: POST https://api.openai.com/v1/embeddings \"HTTP/1.1 200 OK\"\n",
      "2024-04-22 17:51:32,617 - INFO - Document added successfully to the vector store.\n"
     ]
    },
    {
     "data": {
      "text/plain": [
       "<inDox.Indox.vectorstore.PGVectorStore at 0x1724cba55e0>"
      ]
     },
     "execution_count": 75,
     "metadata": {},
     "output_type": "execute_result"
    }
   ],
   "source": [
    "IRA.store_in_vectorstore(all_chunks=all_chunks)"
   ]
  },
  {
   "cell_type": "code",
   "execution_count": 69,
   "id": "25c2fbb7-95e3-4a8e-ae71-40f7b8f16ccf",
   "metadata": {},
   "outputs": [
    {
     "name": "stderr",
     "output_type": "stream",
     "text": [
      "2024-04-22 17:49:35,606 - INFO - HTTP Request: POST https://api.openai.com/v1/embeddings \"HTTP/1.1 200 OK\"\n",
      "2024-04-22 17:49:40,429 - INFO - HTTP Request: POST https://api.openai.com/v1/chat/completions \"HTTP/1.1 200 OK\"\n"
     ]
    }
   ],
   "source": [
    "query = \"how cinderella reach her happy ending?\"\n",
    "\n",
    "answer, score, context = IRA.answer_question(query=query,top_k=5)"
   ]
  },
  {
   "cell_type": "code",
   "execution_count": 70,
   "id": "74664bc1-0327-43d1-8a62-c8a44686062f",
   "metadata": {},
   "outputs": [
    {
     "name": "stdout",
     "output_type": "stream",
     "text": [
      "Answer: Cinderella reaches her happy ending in the classic fairytale through a series of events that culminate in her marrying the prince and finding happiness. Despite facing mistreatment from her stepmother and stepsisters, Cinderella remains pious and good. With the help of a magical hazel tree and birds, Cinderella is able to attend a royal festival where she captures the attention of the prince. Each night, she flees the festival, leaving behind a golden slipper. The prince searches for the mysterious maiden whose foot fits the slipper, and ultimately, Cinderella is identified as the true bride when the slipper fits her perfectly. Despite objections from her stepmother and stepsisters, the prince recognizes Cinderella as the one he had danced with before and marries her. The stepsisters are punished for their wickedness, and the fairytale concludes with Cinderella marrying the prince and living happily ever after.\n",
      "Retrieve chunks: [\"The document provided is a retelling of the classic fairytale of Cinderella. It starts with the premise of a rich man's wife falling ill and advising her daughter to be good and pious. After the mother's death, the daughter faces mistreatment from her stepmother and stepsisters, who force her to do hard labor and treat her as a kitchen maid. The story progresses as Cinderella is denied attending the royal festival multiple times until a magical hazel tree helps her by granting her beautiful clothes and shoes for the event. She captures the attention of the prince at the festival but has to flee each night, leaving behind a golden slipper in her haste.\\n\\nThe prince searches for the mysterious maiden whose foot fits the slipper. The stepsisters try to deceive the prince by mutilating their feet to fit into the shoe, but the two white pigeons sitting on the hazel tree expose them by revealing the blood. Finally, Cinderella's true identity is revealed when she fits perfectly into the golden slipper. The prince recognizes her as the true bride he had danced with before and, despite the objections of her stepmother and stepsisters, marries Cinderella. The stepsisters are punished for their wickedness with blindness for the rest of their lives. The fairytale ends with Cinderella marrying the prince and living happily ever after.\", \"The documentation provided is a detailed account of the story of Cinderella. It begins with the death of Cinderella's mother and her mistreatment by her stepmother and stepsisters. Despite the hardships she faces, Cinderella remains pious and good. With the help of a magical hazel tree and birds, Cinderella is able to attend a royal festival where the prince falls in love with her but she disappears each night. On the third day of the festival, the prince follows her home, trying to identify her using a golden slipper she leaves behind.\\n\\nThe stepsisters try to fit into the slipper by cutting off parts of their feet, but are exposed by the vigilant birds. Ultimately, Cinderella is identified as the true bride when the slipper fits her perfectly. She marries the prince, and her stepsisters are punished by the pigeons, who peck out their eyes for their wickedness.\\n\\nThis classic fairy tale highlights the themes of kindness, perseverance, and justice. It shows that goodness and purity of heart will ultimately triumph over cruelty and jealousy. The story concludes with Cinderella finding happiness and love with the prince, while her stepsisters face consequences for their deceitful actions.\", 'The documentation provided is a detailed retelling of the classic fairy tale \"Cinderella.\" It begins with Cinderella\\'s father buying gifts for her step-sisters and giving her a hazel branch. Cinderella plants the branch on her mother\\'s grave, and a tree grows from it that grants her wishes. When a royal festival is announced, Cinderella\\'s step-sisters prepare to attend, and she asks to go as well. With the help of the bird in the tree, Cinderella is transformed and goes to the festival in a beautiful dress. The prince only dances with her, but she flees each night and leaves behind a golden slipper. The prince finds the slipper and sets out to find its owner, leading to the famous happy ending of the story.', 'The provided text is an excerpt from the fairy tale of Cinderella. It tells the story of a young girl whose mother dies and is mistreated by her stepmother and stepsisters. Despite the hardships she faces, Cinderella remains pious and good. Through a series of events involving lentils and the help of birds, Cinderella tries to earn her way to attend a festival with her step-family. However, her stepmother continuously denies her the opportunity due to her lack of suitable clothing and appearance. Ultimately, Cinderella is left behind while her step-family goes to the festival.', \"They never once thought of cinderella, and believed that she was sitting at home in the dirt, picking lentils out of the ashes   The prince approached her, took her by the hand and danced with her He would dance with no other maiden, and never let loose of her hand, and if any one else came to invite her, he said, this is my partner She danced till it was evening, and then she wanted to go home But the king's son said, I will go with you and bear you company, for he wished to see to whom the beautiful maiden belonged She escaped from him, however, and sprang into the pigeon-house   The king's son waited until her father came, and then he told him that the unknown maiden had leapt into the pigeon-house   The old man thought, can it be cinderella   And they had to bring him an axe and a pickaxe that he might hew the pigeon-house to pieces, but no one was inside it   And when they got home cinderella lay in her dirty clothes among the ashes, and a dim little oil-lamp was burning on the mantle-piece, for cinderella had jumped quickly down from the back of the pigeon-house and had run to the little hazel-tree, and there she had taken off her beautiful clothes and laid them on the grave, and the bird had taken them away again, and then she had seated herself in the kitchen amongst the ashes in her grey gown\"]\n",
      "Score of retrieve chunks: [0.3509591624426589, 0.3788187770275414, 0.3921968393501791, 0.3935778971658884, 0.4059727368958945]\n"
     ]
    }
   ],
   "source": [
    "print(\"Answer:\", answer)\n",
    "\n",
    "print(\"Retrieve chunks:\", context)\n",
    "\n",
    "print(\"Score of retrieve chunks:\", score)"
   ]
  },
  {
   "cell_type": "markdown",
   "id": "e696b7b3-cf32-4d52-8544-c5c350aee42f",
   "metadata": {},
   "source": [
    "## Raptor text splitter\n",
    "We use the RAPTOR method for splitting, as mentioned on their GitHub page, and utilize the cl100k_base tokenizer"
   ]
  },
  {
   "cell_type": "code",
   "execution_count": 76,
   "id": "47f4f3d8-467d-4063-a4e4-d6b5a489141b",
   "metadata": {},
   "outputs": [
    {
     "name": "stderr",
     "output_type": "stream",
     "text": [
      "2024-04-22 17:51:52,938 - INFO - HTTP Request: POST https://api.openai.com/v1/embeddings \"HTTP/1.1 200 OK\"\n",
      "2024-04-22 17:52:00,125 - INFO - HTTP Request: POST https://api.openai.com/v1/chat/completions \"HTTP/1.1 200 OK\"\n"
     ]
    }
   ],
   "source": [
    "query = \"how cinderella reach her happy ending?\"\n",
    "\n",
    "answer, score, context = IRA.answer_question(query=query,top_k=5)"
   ]
  },
  {
   "cell_type": "code",
   "execution_count": 77,
   "id": "96442fe6-8042-460c-8487-584dbd844425",
   "metadata": {},
   "outputs": [
    {
     "name": "stdout",
     "output_type": "stream",
     "text": [
      "Answer: Cinderella reaches her happy ending in the classic fairy tale through a series of events that showcase her kindness, perseverance, and eventual justice. Despite facing mistreatment from her stepmother and stepsisters, Cinderella remains pious and good-hearted. With the help of magical elements like a hazel tree, birds, and a golden slipper, she is able to attend a royal festival where she captures the prince's attention.\n",
      "\n",
      "The stepsisters try to deceive the prince by mutilating their feet to fit into the golden slipper, but they are exposed by the vigilant birds. Ultimately, Cinderella's true identity is revealed when the slipper fits her perfectly. The prince recognizes her as the true bride he had danced with before, and despite objections from her stepfamily, he marries Cinderella.\n",
      "\n",
      "The story concludes with Cinderella finding happiness and love with the prince, while her stepsisters face consequences for their deceitful actions, such as being punished with blindness. This classic fairy tale emphasizes the triumph of goodness and purity of heart over cruelty and jealousy, leading Cinderella to her happily ever after with her true love.\n",
      "Retrieve chunks: [\"The document provided is a retelling of the classic fairytale of Cinderella. It starts with the premise of a rich man's wife falling ill and advising her daughter to be good and pious. After the mother's death, the daughter faces mistreatment from her stepmother and stepsisters, who force her to do hard labor and treat her as a kitchen maid. The story progresses as Cinderella is denied attending the royal festival multiple times until a magical hazel tree helps her by granting her beautiful clothes and shoes for the event. She captures the attention of the prince at the festival but has to flee each night, leaving behind a golden slipper in her haste.\\n\\nThe prince searches for the mysterious maiden whose foot fits the slipper. The stepsisters try to deceive the prince by mutilating their feet to fit into the shoe, but the two white pigeons sitting on the hazel tree expose them by revealing the blood. Finally, Cinderella's true identity is revealed when she fits perfectly into the golden slipper. The prince recognizes her as the true bride he had danced with before and, despite the objections of her stepmother and stepsisters, marries Cinderella. The stepsisters are punished for their wickedness with blindness for the rest of their lives. The fairytale ends with Cinderella marrying the prince and living happily ever after.\", \"The provided text seems to be an excerpt from the fairy tale of Cinderella. In this adapted version of the story, Cinderella's step-sisters try to force their feet into the golden slipper to deceive the prince. They both mutilate their feet in attempts to fit into the slipper but fail. Finally, Cinderella herself fits into the slipper and reveals her true identity to the prince. The story culminates in Cinderella marrying the prince and being vindicated by magical white doves. The retelling captures the classic elements of the Cinderella story, including the wicked step-family, the magical transformation, and the eventual happy ending where Cinderella marries her true love.\", 'The documentation provided is a detailed version of the classic fairy tale of Cinderella. It begins with the wife of a rich man on her deathbed advising her daughter to be good and pious, as her mother will watch over her from heaven. After her mother\\'s death, the girl was mistreated by her stepmother and stepsisters, who forced her to do menial tasks and gave her the nickname \"Cinderella.\" Despite the hardships, Cinderella remains kind and pure-hearted.\\n\\nThe story continues with the stepmother and stepsisters taunting Cinderella and promising her that she can attend the royal festival if she can pick lentils from the ashes within a certain time frame. With the help of the birds in the garden, Cinderella successfully completes the task. However, her stepmother denies her the chance to attend the festival, setting more impossible tasks for her.\\n\\nAs Cinderella proves herself capable through the help of the birds multiple times, her stepmother continues to find excuses to prevent her from joining them. Eventually, the stepmother and stepsisters face punishment for their wickedness and falsehood when the birds peck out their eyes.\\n\\nThe story ends with Cinderella finding favor with the prince and achieving a happy ending while her stepfamily faces the consequences of their cruelty. The tale emphasizes the themes of kindness, perseverance, and eventual justice.', \"The documentation provided is a detailed account of the story of Cinderella. It begins with the death of Cinderella's mother and her mistreatment by her stepmother and stepsisters. Despite the hardships she faces, Cinderella remains pious and good. With the help of a magical hazel tree and birds, Cinderella is able to attend a royal festival where the prince falls in love with her but she disappears each night. On the third day of the festival, the prince follows her home, trying to identify her using a golden slipper she leaves behind.\\n\\nThe stepsisters try to fit into the slipper by cutting off parts of their feet, but are exposed by the vigilant birds. Ultimately, Cinderella is identified as the true bride when the slipper fits her perfectly. She marries the prince, and her stepsisters are punished by the pigeons, who peck out their eyes for their wickedness.\\n\\nThis classic fairy tale highlights the themes of kindness, perseverance, and justice. It shows that goodness and purity of heart will ultimately triumph over cruelty and jealousy. The story concludes with Cinderella finding happiness and love with the prince, while her stepsisters face consequences for their deceitful actions.\", 'The documentation provided is a detailed retelling of the classic fairy tale \"Cinderella.\" It begins with Cinderella\\'s father buying gifts for her step-sisters and giving her a hazel branch. Cinderella plants the branch on her mother\\'s grave, and a tree grows from it that grants her wishes. When a royal festival is announced, Cinderella\\'s step-sisters prepare to attend, and she asks to go as well. With the help of the bird in the tree, Cinderella is transformed and goes to the festival in a beautiful dress. The prince only dances with her, but she flees each night and leaves behind a golden slipper. The prince finds the slipper and sets out to find its owner, leading to the famous happy ending of the story.']\n",
      "Score of retrieve chunks: [0.3509591624426589, 0.3650587011891213, 0.36518214241213, 0.3788187770275414, 0.3921968393501791]\n"
     ]
    }
   ],
   "source": [
    "print(\"Answer:\", answer)\n",
    "\n",
    "print(\"Retrieve chunks:\", context)\n",
    "\n",
    "print(\"Score of retrieve chunks:\", score)"
   ]
  },
  {
   "cell_type": "code",
   "execution_count": null,
   "id": "8220a603-e0d2-43c0-af19-5273c3437350",
   "metadata": {},
   "outputs": [],
   "source": []
  },
  {
   "cell_type": "code",
   "execution_count": null,
   "id": "cc1aa88c-b1bf-4fed-bb52-4e31e66ca8a6",
   "metadata": {},
   "outputs": [],
   "source": []
  },
  {
   "cell_type": "code",
   "execution_count": null,
   "id": "b05419db-7895-4180-bb86-b7164d9277be",
   "metadata": {},
   "outputs": [],
   "source": []
  },
  {
   "cell_type": "code",
   "execution_count": null,
   "id": "b26d62a5-dcf3-4b80-b0ba-397f0a3ceb35",
   "metadata": {},
   "outputs": [],
   "source": []
  },
  {
   "cell_type": "code",
   "execution_count": 27,
   "id": "b1620f6c-b12f-491e-88bb-d82c8978a38d",
   "metadata": {},
   "outputs": [
    {
     "name": "stdout",
     "output_type": "stream",
     "text": [
      "Requirement already satisfied: semantic_text_splitter in c:\\users\\ashkan\\appdata\\local\\programs\\python\\python312\\lib\\site-packages (0.11.0)Note: you may need to restart the kernel to use updated packages.\n",
      "\n"
     ]
    }
   ],
   "source": [
    "pip install semantic_text_splitter\n"
   ]
  },
  {
   "cell_type": "code",
   "execution_count": 37,
   "id": "cb091fd9-61ea-45fb-a1c0-6c94279731d2",
   "metadata": {},
   "outputs": [
    {
     "name": "stdout",
     "output_type": "stream",
     "text": [
      "Number of tokens used: 4\n"
     ]
    }
   ],
   "source": [
    "from transformers import BertTokenizer\n",
    "\n",
    "# Load the BERT tokenizer\n",
    "tokenizer = BertTokenizer.from_pretrained(\"bert-base-uncased\")\n",
    "\n",
    "def count_tokens(text):\n",
    "    # Tokenize the input text and count the number of tokens\n",
    "    tokens = tokenizer.tokenize(text)\n",
    "    return len(tokens)\n",
    "\n",
    "query_text = \"Your query text here\"\n",
    "token_count = count_tokens(query_text)\n",
    "print(f\"Number of tokens used: {token_count}\")"
   ]
  },
  {
   "cell_type": "code",
   "execution_count": 51,
   "id": "7aee634d-d88e-4ba9-bab1-313d606b6f5c",
   "metadata": {},
   "outputs": [
    {
     "name": "stdout",
     "output_type": "stream",
     "text": [
      "Number of tokens used with text-splitter: 3450\n"
     ]
    }
   ],
   "source": [
    "all_token = 0\n",
    "for chunk in all_chunks:\n",
    "    token_count = count_tokens(chunk)\n",
    "    all_token = all_token+token_count\n",
    "\n",
    "print(f\"Number of tokens used with text-splitter: {all_token}\")"
   ]
  },
  {
   "cell_type": "code",
   "execution_count": 43,
   "id": "668c09cd-3d33-40af-899e-53d27be5d619",
   "metadata": {},
   "outputs": [
    {
     "name": "stdout",
     "output_type": "stream",
     "text": [
      "Number of tokens used: 3368\n"
     ]
    }
   ],
   "source": [
    "all_token = 0\n",
    "for chunk in all_chunks:\n",
    "    token_count = count_tokens(chunk)\n",
    "    all_token = all_token+token_count\n",
    "\n",
    "print(f\"Number of tokens used: {all_token}\")"
   ]
  },
  {
   "cell_type": "code",
   "execution_count": null,
   "id": "1152f849-c994-4782-8e96-02778b893349",
   "metadata": {},
   "outputs": [],
   "source": []
  },
  {
   "cell_type": "code",
   "execution_count": null,
   "id": "38ffc3d8-a225-430e-88be-a56c8f5d537e",
   "metadata": {},
   "outputs": [],
   "source": []
  },
  {
   "cell_type": "code",
   "execution_count": null,
   "id": "50171fa7-1002-43cf-91fd-03a470d04808",
   "metadata": {},
   "outputs": [],
   "source": []
  },
  {
   "cell_type": "code",
   "execution_count": null,
   "id": "2f94080e-dcb7-4ea3-aabc-96a0b3d98413",
   "metadata": {},
   "outputs": [],
   "source": []
  },
  {
   "cell_type": "code",
   "execution_count": null,
   "id": "bdb885d7-5064-4bf4-9b21-f721925bf15d",
   "metadata": {},
   "outputs": [],
   "source": []
  },
  {
   "cell_type": "code",
   "execution_count": 81,
   "id": "9a2ba6c0-a62a-443f-a3ed-b98c6b15cf87",
   "metadata": {},
   "outputs": [
    {
     "name": "stdout",
     "output_type": "stream",
     "text": [
      " \n",
      "    Metrics for splitting with raptor splitter: \n",
      "\n",
      "Uni Eval Sores\n",
      "   naturalness: 0.539496\n",
      "   coherence: 0.999349\n",
      "   engagingness: 7.996310\n",
      "   groundedness: 0.999829\n",
      "   understandability: 0.561847\n",
      "   overall: 2.219366\n",
      "BertScore scores:\n",
      "   Precision: 0.6715\n",
      "   Recall: 0.6963\n",
      "   F1: 0.6832\n",
      "   \n",
      " \n",
      "    Metrics for splitting with semantic text splitter: \n",
      "\n",
      "Uni Eval Sores\n",
      "   naturalness: 0.666512\n",
      "   coherence: 0.999563\n",
      "   engagingness: 6.768780\n",
      "   groundedness: 0.999411\n",
      "   understandability: 0.697955\n",
      "   overall: 2.026444\n",
      "BertScore scores:\n",
      "   Precision: 0.6574\n",
      "   Recall: 0.6385\n",
      "   F1: 0.6468\n",
      "   \n"
     ]
    }
   ],
   "source": [
    "print(\n",
    "    \"\"\" \n",
    "    Metrics for splitting with raptor splitter: \\n\n",
    "Uni Eval Sores\n",
    "   naturalness: 0.539496\n",
    "   coherence: 0.999349\n",
    "   engagingness: 7.996310\n",
    "   groundedness: 0.999829\n",
    "   understandability: 0.561847\n",
    "   overall: 2.219366\n",
    "BertScore scores:\n",
    "   Precision: 0.6715\n",
    "   Recall: 0.6963\n",
    "   F1: 0.6832\n",
    "   \"\"\"\n",
    ")\n",
    "print(\n",
    "    \"\"\" \n",
    "    Metrics for splitting with semantic text splitter: \\n\n",
    "Uni Eval Sores\n",
    "   naturalness: 0.666512\n",
    "   coherence: 0.999563\n",
    "   engagingness: 6.768780\n",
    "   groundedness: 0.999411\n",
    "   understandability: 0.697955\n",
    "   overall: 2.026444\n",
    "BertScore scores:\n",
    "   Precision: 0.6574\n",
    "   Recall: 0.6385\n",
    "   F1: 0.6468\n",
    "   \"\"\"\n",
    ")"
   ]
  },
  {
   "cell_type": "code",
   "execution_count": null,
   "id": "b18f154a-cbb9-45c1-a849-e1a590701c14",
   "metadata": {},
   "outputs": [],
   "source": []
  }
 ],
 "metadata": {
  "kernelspec": {
   "display_name": "Python 3 (ipykernel)",
   "language": "python",
   "name": "python3"
  },
  "language_info": {
   "codemirror_mode": {
    "name": "ipython",
    "version": 3
   },
   "file_extension": ".py",
   "mimetype": "text/x-python",
   "name": "python",
   "nbconvert_exporter": "python",
   "pygments_lexer": "ipython3",
   "version": "3.12.0"
  }
 },
 "nbformat": 4,
 "nbformat_minor": 5
}
