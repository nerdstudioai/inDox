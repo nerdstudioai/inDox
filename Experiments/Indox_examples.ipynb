{
 "cells": [
  {
   "cell_type": "code",
   "execution_count": 11,
   "id": "2c27c4d8-997d-462f-9e22-c82225867e24",
   "metadata": {},
   "outputs": [],
   "source": [
    "import os\n",
    "from dotenv import load_dotenv\n",
    "\n",
    "load_dotenv()\n",
    "OPENAI_API_KEY = os.getenv('OPENAI_API_KEY')"
   ]
  },
  {
   "cell_type": "markdown",
   "id": "3a99b7e4-8f39-4705-91e5-163ee4e6dbe2",
   "metadata": {},
   "source": [
    "# With extra clustering layer\n",
    "#### Here, We use semantic_text_splitter"
   ]
  },
  {
   "cell_type": "code",
   "execution_count": 12,
   "id": "684014f7-53c6-4321-8ed4-bd124ed62e12",
   "metadata": {},
   "outputs": [],
   "source": [
    "from Indox import IndoxRetrievalAugmentation"
   ]
  },
  {
   "cell_type": "code",
   "execution_count": 13,
   "id": "ecdb9490-bdc0-4dc8-8212-a21947b97262",
   "metadata": {},
   "outputs": [
    {
     "name": "stdin",
     "output_type": "stream",
     "text": [
      "Would you like to add a clustering and summarization layer? This may double your token usage. Please select 'y' for yes or 'n' for no:  y\n"
     ]
    }
   ],
   "source": [
    "docs_file_path = \"sample.txt\"\n",
    "\n",
    "IRA = IndoxRetrievalAugmentation(docs=docs_file_path, max_tokens=200)"
   ]
  },
  {
   "cell_type": "code",
   "execution_count": 14,
   "id": "5e4c37f2-7cc8-42f0-b9f0-dcb7a6b6011a",
   "metadata": {},
   "outputs": [
    {
     "name": "stdout",
     "output_type": "stream",
     "text": [
      "Starting processing...\n"
     ]
    },
    {
     "name": "stderr",
     "output_type": "stream",
     "text": [
      "2024-04-24 17:44:19,712 - INFO - HTTP Request: POST https://api.openai.com/v1/embeddings \"HTTP/1.1 200 OK\"\n"
     ]
    },
    {
     "name": "stdout",
     "output_type": "stream",
     "text": [
      "--Generated 3 clusters--\n"
     ]
    },
    {
     "name": "stderr",
     "output_type": "stream",
     "text": [
      "2024-04-24 17:44:31,820 - INFO - HTTP Request: POST https://api.openai.com/v1/chat/completions \"HTTP/1.1 200 OK\"\n",
      "2024-04-24 17:44:36,487 - INFO - HTTP Request: POST https://api.openai.com/v1/chat/completions \"HTTP/1.1 200 OK\"\n",
      "2024-04-24 17:44:42,162 - INFO - HTTP Request: POST https://api.openai.com/v1/chat/completions \"HTTP/1.1 200 OK\"\n",
      "2024-04-24 17:44:44,661 - INFO - HTTP Request: POST https://api.openai.com/v1/embeddings \"HTTP/1.1 200 OK\"\n"
     ]
    },
    {
     "name": "stdout",
     "output_type": "stream",
     "text": [
      "--Generated 1 clusters--\n"
     ]
    },
    {
     "name": "stderr",
     "output_type": "stream",
     "text": [
      "2024-04-24 17:44:49,072 - INFO - HTTP Request: POST https://api.openai.com/v1/chat/completions \"HTTP/1.1 200 OK\"\n"
     ]
    },
    {
     "name": "stdout",
     "output_type": "stream",
     "text": [
      "Create 21 Chunks, 17 leaf chunks plus 4 extra chunks\n",
      "End Chunking & Clustering process\n"
     ]
    }
   ],
   "source": [
    "all_chunks = IRA.get_all_chunks()"
   ]
  },
  {
   "cell_type": "code",
   "execution_count": 15,
   "id": "6c93389f-83a6-47d7-9f15-fe4aef0ba996",
   "metadata": {},
   "outputs": [
    {
     "data": {
      "text/plain": [
       "21"
      ]
     },
     "execution_count": 15,
     "metadata": {},
     "output_type": "execute_result"
    }
   ],
   "source": [
    "len(all_chunks)"
   ]
  },
  {
   "cell_type": "code",
   "execution_count": 16,
   "id": "a4183519-88f8-4f15-bb61-7ca4dee56160",
   "metadata": {},
   "outputs": [],
   "source": [
    "IRA.add_vector_store(collection_name='sample_collection_6')"
   ]
  },
  {
   "cell_type": "code",
   "execution_count": 17,
   "id": "c340be0d-051d-4a00-8138-061908aeb6fe",
   "metadata": {},
   "outputs": [
    {
     "name": "stderr",
     "output_type": "stream",
     "text": [
      "2024-04-24 17:45:14,987 - INFO - HTTP Request: POST https://api.openai.com/v1/embeddings \"HTTP/1.1 200 OK\"\n",
      "2024-04-24 17:45:15,975 - INFO - Document added successfully to the vector store.\n"
     ]
    },
    {
     "data": {
      "text/plain": [
       "<Indox.vectorstore.PGVectorStore at 0x2a2017500b0>"
      ]
     },
     "execution_count": 17,
     "metadata": {},
     "output_type": "execute_result"
    }
   ],
   "source": [
    "IRA.store_in_vectorstore(all_chunks=all_chunks)"
   ]
  },
  {
   "cell_type": "code",
   "execution_count": 18,
   "id": "dbd8bd5c-93f8-441a-8cf3-2a1e9ec93561",
   "metadata": {},
   "outputs": [
    {
     "name": "stderr",
     "output_type": "stream",
     "text": [
      "2024-04-24 17:45:18,033 - INFO - HTTP Request: POST https://api.openai.com/v1/embeddings \"HTTP/1.1 200 OK\"\n",
      "2024-04-24 17:45:24,616 - INFO - HTTP Request: POST https://api.openai.com/v1/chat/completions \"HTTP/1.1 200 OK\"\n"
     ]
    },
    {
     "name": "stdout",
     "output_type": "stream",
     "text": [
      "Responses: Cinderella reached her happy ending by remaining kind and hopeful despite the mistreatment she faced from her stepmother and stepsisters. In the classic fairy tale, Cinderella's kindness and perseverance ultimately lead to her being recognized by the prince as the true bride whose foot fits into a golden slipper. With the help of magical gifts from a hazel tree planted on her mother's grave, Cinderella is able to attend the royal wedding in a beautiful dress and slippers. The prince dances only with her, recognizing her true identity and choosing her as his partner. This culmination of events leads to Cinderella finding her happy ending by marrying the prince and escaping the hardships imposed by her step-family.\n",
      "Scores: [0.4089542979625276, 0.41734890393461843, 0.4286638242802715, 0.4313240390226808, 0.4336943109399902]\n"
     ]
    }
   ],
   "source": [
    "response, scores, context = IRA.answer_question(query=\"How did Cinderella reach her happy ending?\", top_k=5)\n",
    "print(\"Responses:\", response)\n",
    "print(\"Scores:\", scores)"
   ]
  },
  {
   "cell_type": "code",
   "execution_count": 19,
   "id": "1691feb5-a0a3-49fa-aff9-04a9028bdc0d",
   "metadata": {},
   "outputs": [
    {
     "name": "stdout",
     "output_type": "stream",
     "text": [
      "Retrieve chunks: [\"The provided documentation is a retelling of the classic fairy tale of Cinderella. It describes the story of a young girl named Cinderella who faces mistreatment from her stepmother and stepsisters. After Cinderella's mother passes away, her father remarries a woman with two wicked daughters who mistreat Cinderella. Despite this mistreatment, Cinderella remains kind and hopeful. The story includes details about Cinderella receiving a hazel branch from her father, which she plants on her mother's grave.\", \"The documentation provided is a retelling of the classic fairy tale of Cinderella. In this version, it tells the story of a rich man's wife who passes away, leaving her daughter with her last words of advice to be good and pious. After her death, the man remarries a woman with two beautiful but wicked daughters who mistreat the kind and pious daughter, whom they mockingly call Cinderella. Despite her hardships, Cinderella remains hopeful and kind.  The story goes on to\", 'The documentation provided is a detailed retelling of the classic fairy tale of Cinderella. It narrates the story of a young girl named Cinderella who is mistreated by her stepmother and stepsisters. The plot revolves around a prince who is looking for the true bride whose foot fits into a golden slipper. Despite the attempts of the stepsisters to deceive the prince by mutilating their feet, it is Cinderella who ultimately fits the slipper perfectly. The prince recognizes her from a previous encounter', 'grave beneath the hazel-tree, and cried -      shiver and quiver, little tree,      silver and gold throw down over me. Then the bird threw a gold and silver dress down to her, and slippers embroidered with silk and silver.  She put on the dress with all speed, and went to the wedding.  Her step-sisters and the step-mother however did not know her, and thought she must be a foreign princess, for she looked so beautiful in the golden dress. They never once thought of cinderella, and believed that she was sitting at home in the dirt, picking lentils out of the ashes.  The prince approached her, took her by the hand and danced with her. He would dance with no other maiden, and never let loose of her hand, and if any one else came to invite her, he said, this is my partner. She danced till it was evening, and then she wanted to go home.', \"The provided text describes an excerpt from the classic fairy tale of Cinderella. It details how Cinderella's father, on his way home, fulfills the wishes of his step-daughters for beautiful dresses, pearls, and jewels, and for Cinderella, he brings a hazel branch. Cinderella plants this branch on her mother's grave, where it grows into a handsome tree that provides her with gifts whenever she prays under it. The story continues with Cinderella's step-sisters getting ready\"]\n"
     ]
    }
   ],
   "source": [
    "print(\"Retrieve chunks:\", context)"
   ]
  },
  {
   "cell_type": "code",
   "execution_count": 20,
   "id": "902a7168-22a6-4f87-9c8e-c263ee49e6ca",
   "metadata": {},
   "outputs": [
    {
     "name": "stdout",
     "output_type": "stream",
     "text": [
      "\n",
      "                Overview of All Tokens Used:\n",
      "                Input tokens sent to GPT-3.5 Turbo (Model ID: 0125) for summarizing: 3790\n",
      "                Output tokens received from GPT-3.5 Turbo (Model ID: 0125): 400\n",
      "                Tokens used in the embedding section that were sent to the database: 3756\n",
      "                \n"
     ]
    }
   ],
   "source": [
    "IRA.get_tokens_info()"
   ]
  },
  {
   "cell_type": "markdown",
   "id": "c4f168b3-6f46-4b65-9bce-aef6aad057c2",
   "metadata": {},
   "source": [
    "# Without clustering layer"
   ]
  },
  {
   "cell_type": "code",
   "execution_count": 2,
   "id": "f0f3d84b-a5ee-4095-ae82-133e2c7696b5",
   "metadata": {},
   "outputs": [
    {
     "name": "stderr",
     "output_type": "stream",
     "text": [
      "C:\\Users\\ASHKAN\\AppData\\Local\\Programs\\Python\\Python312\\Lib\\site-packages\\onnxruntime\\capi\\onnxruntime_validation.py:26: UserWarning: Unsupported Windows version (11). ONNX Runtime supports Windows 10 and above, only.\n",
      "  warnings.warn(\n"
     ]
    }
   ],
   "source": [
    "from Indox import IndoxRetrievalAugmentation"
   ]
  },
  {
   "cell_type": "code",
   "execution_count": 3,
   "id": "652b17b1-57d4-4e10-bf1b-cf8d3ff37e16",
   "metadata": {},
   "outputs": [
    {
     "name": "stdin",
     "output_type": "stream",
     "text": [
      "Would you like to add a clustering and summarization layer? This may double your token usage. Please select 'y' for yes or 'n' for no:  n\n"
     ]
    }
   ],
   "source": [
    "docs_file_path = \"sample.txt\"\n",
    "\n",
    "IRA = IndoxRetrievalAugmentation(docs=docs_file_path, max_tokens=200)"
   ]
  },
  {
   "cell_type": "code",
   "execution_count": 4,
   "id": "e2538dd3-b93f-4d14-96a0-fd5c5a08405a",
   "metadata": {},
   "outputs": [
    {
     "name": "stdout",
     "output_type": "stream",
     "text": [
      "Starting processing...\n",
      "Create 17 Chunks\n",
      "End Chunking process\n"
     ]
    }
   ],
   "source": [
    "all_chunks = IRA.get_all_chunks()"
   ]
  },
  {
   "cell_type": "code",
   "execution_count": 5,
   "id": "8ca26403-aeab-4f0c-8dc5-35938988f12c",
   "metadata": {},
   "outputs": [
    {
     "data": {
      "text/plain": [
       "17"
      ]
     },
     "execution_count": 5,
     "metadata": {},
     "output_type": "execute_result"
    }
   ],
   "source": [
    "len(all_chunks)"
   ]
  },
  {
   "cell_type": "code",
   "execution_count": 6,
   "id": "cb55ae79-5a75-488a-94d7-ad9c545be678",
   "metadata": {},
   "outputs": [],
   "source": [
    "IRA.add_vector_store(collection_name='sample_collection_5')"
   ]
  },
  {
   "cell_type": "code",
   "execution_count": 7,
   "id": "e3854043-625c-4408-a7ae-f60f786c4834",
   "metadata": {},
   "outputs": [
    {
     "name": "stderr",
     "output_type": "stream",
     "text": [
      "2024-04-24 17:43:31,113 - INFO - HTTP Request: POST https://api.openai.com/v1/embeddings \"HTTP/1.1 200 OK\"\n",
      "2024-04-24 17:43:32,422 - INFO - Document added successfully to the vector store.\n"
     ]
    },
    {
     "data": {
      "text/plain": [
       "<Indox.vectorstore.PGVectorStore at 0x2a1ebd115b0>"
      ]
     },
     "execution_count": 7,
     "metadata": {},
     "output_type": "execute_result"
    }
   ],
   "source": [
    "IRA.store_in_vectorstore(all_chunks=all_chunks)"
   ]
  },
  {
   "cell_type": "code",
   "execution_count": 8,
   "id": "a5ee961a-56be-4294-818f-8aa363b342f2",
   "metadata": {},
   "outputs": [
    {
     "name": "stderr",
     "output_type": "stream",
     "text": [
      "2024-04-24 17:43:33,893 - INFO - HTTP Request: POST https://api.openai.com/v1/embeddings \"HTTP/1.1 200 OK\"\n",
      "2024-04-24 17:43:38,840 - INFO - HTTP Request: POST https://api.openai.com/v1/chat/completions \"HTTP/1.1 200 OK\"\n"
     ]
    },
    {
     "name": "stdout",
     "output_type": "stream",
     "text": [
      "Responses: Cinderella reached her happy ending by attending a festival in a splendid dress and golden slippers provided by the bird. At the festival, she danced only with the king's son, who recognized her as the true bride. Despite her attempts to escape, the king's son used a ruse to find her by having the staircase smeared with pitch, causing her golden slipper to get stuck. The king's son then found her and took her away on his horse. They were accompanied by two white doves that confirmed Cinderella as the true bride. Ultimately, Cinderella's true identity was revealed, and she was chosen as the bride by the king's son, leading to her happy ending.\n",
      "Scores: [0.4313240390226808, 0.4567784718539152, 0.4574942043430562, 0.4683775026573229, 0.46855477895005293]\n"
     ]
    }
   ],
   "source": [
    "response, scores, context = IRA.answer_question(query=\"How did Cinderella reach her happy ending?\", top_k=5)\n",
    "print(\"Responses:\", response)\n",
    "print(\"Scores:\", scores)"
   ]
  },
  {
   "cell_type": "code",
   "execution_count": 9,
   "id": "57e99011-1e12-4766-b152-c2ded0c15ef7",
   "metadata": {},
   "outputs": [
    {
     "name": "stdout",
     "output_type": "stream",
     "text": [
      "Retrieve chunks: ['grave beneath the hazel-tree, and cried -      shiver and quiver, little tree,      silver and gold throw down over me. Then the bird threw a gold and silver dress down to her, and slippers embroidered with silk and silver.  She put on the dress with all speed, and went to the wedding.  Her step-sisters and the step-mother however did not know her, and thought she must be a foreign princess, for she looked so beautiful in the golden dress. They never once thought of cinderella, and believed that she was sitting at home in the dirt, picking lentils out of the ashes.  The prince approached her, took her by the hand and danced with her. He would dance with no other maiden, and never let loose of her hand, and if any one else came to invite her, he said, this is my partner. She danced till it was evening, and then she wanted to go home.', \"seated herself on a stool, drew her foot out of the heavy wooden shoe, and put it into the slipper, which fitted like a glove.  And when she rose up and the king's son looked at her face he recognized the beautiful maiden who had danced with him and cried, that is the true bride.  The step-mother and the two sisters were horrified and became pale with rage, he, however, took cinderella on his horse and rode away with her.  As they passed by the hazel-tree, the two white doves cried -      turn and peep, turn and peep,      no blood is in the shoe,      the shoe is not too small for her,      the true bride rides with you, and when they had cried that, the two came flying down and placed themselves on cinderella's shoulders, one on the right, the other on the left, and remained sitting there. When the wedding with the king's son was to be celebrated, the\", \"And now the bird threw down to her a dress which was more splendid and magnificent than any she had yet had, and the slippers were golden.  And when she went to the festival in the dress, no one knew how to speak for astonishment.  The king's son danced with her only, and if any one invited her to dance, he said this is my partner. When evening came, cinderella wished to leave, and the king's son was anxious to go with her, but she escaped from him so quickly that he could not follow her.  The king's son, however, had employed a ruse, and had caused the whole staircase to be smeared with pitch, and there, when she ran down, had the maiden's left slipper remained stuck.  The king's son picked it up, and it was small and dainty, and all golden.  Next morning, he went with it to\", \"asked his two step-daughters what he should bring back for them. Beautiful dresses, said one, pearls and jewels, said the second. And you, cinderella, said he, what will you have.  Father break off for me the first branch which knocks against your hat on your way home.  So he bought beautiful dresses, pearls and jewels for his two step-daughters, and on his way home, as he was riding through a green thicket, a hazel twig brushed against him and knocked off his hat.  Then he broke off the branch and took it with him.  When he reached home he gave his step-daughters the things which they had wished for, and to cinderella he gave the branch from the hazel-bush.  Cinderella thanked him, went to her mother's grave and planted the branch on it, and wept so much that the tears fell down on it and watered it.  And it grew and became a handsome\", \"But the king's son said, I will go with you and bear you company, for he wished to see to whom the beautiful maiden belonged. She escaped from him, however, and sprang into the pigeon-house.  The king's son waited until her father came, and then he told him that the unknown maiden had leapt into the pigeon-house.  The old man thought, can it be cinderella.  And they had to bring him an axe and a pickaxe that he might hew the pigeon-house to pieces, but no one was inside it.  And when they got home cinderella lay in her dirty clothes among the ashes, and a dim little oil-lamp was burning on the mantle-piece, for cinderella had jumped quickly down from the back of the pigeon-house and had run to the little hazel-tree, and there she had taken off her beautiful clothes and laid them on the grave, and the bird had\"]\n"
     ]
    }
   ],
   "source": [
    "print(\"Retrieve chunks:\", context)"
   ]
  },
  {
   "cell_type": "code",
   "execution_count": 9,
   "id": "34f34de4-e443-48df-b25c-96ef3c5c2b0a",
   "metadata": {},
   "outputs": [
    {
     "name": "stdout",
     "output_type": "stream",
     "text": [
      "\n",
      "                Overview of All Tokens Used:\n",
      "                Tokens used in the embedding section that were sent to the database: 3355\n",
      "                           \n"
     ]
    }
   ],
   "source": [
    "IRA.get_tokens_info()"
   ]
  },
  {
   "cell_type": "code",
   "execution_count": null,
   "id": "27c46645-8770-467a-a71b-0c29c2130794",
   "metadata": {},
   "outputs": [],
   "source": []
  }
 ],
 "metadata": {
  "kernelspec": {
   "display_name": "Python 3 (ipykernel)",
   "language": "python",
   "name": "python3"
  },
  "language_info": {
   "codemirror_mode": {
    "name": "ipython",
    "version": 3
   },
   "file_extension": ".py",
   "mimetype": "text/x-python",
   "name": "python",
   "nbconvert_exporter": "python",
   "pygments_lexer": "ipython3",
   "version": "3.12.0"
  }
 },
 "nbformat": 4,
 "nbformat_minor": 5
}
