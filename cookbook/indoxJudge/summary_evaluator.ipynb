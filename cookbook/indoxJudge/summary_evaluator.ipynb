{
 "cells": [
  {
   "cell_type": "code",
   "execution_count": 2,
   "metadata": {
    "ExecuteTime": {
     "end_time": "2024-12-19T11:40:15.159186Z",
     "start_time": "2024-12-19T11:40:15.150287Z"
    }
   },
   "outputs": [],
   "source": [
    "information_protection_text = \"\"\"\n",
    "Information Protection\n",
    "Northwestern Mutual takes the privacy and security of your personal information seriously. It is our mission to protect our client's information and maintain their trust through delivery of innovative cybersecurity and risk management services.\n",
    "\n",
    "Northwestern Mutual's cybersecurity and risk program includes safeguards.\n",
    "Program safeguards: The security and privacy of clients' confidential information are important to Northwestern Mutual. The company takes its responsibility to protect this information seriously and uses technical, administrative, and physical controls to safeguard its systems and data. The following are just some of the ways the company keeps client information safe.\n",
    "\n",
    "Technical: Northwestern Mutual uses layers of technical controls to protect its clients' information:\n",
    "\n",
    "Endpoint protection: The company employs a comprehensive endpoint protection program, beyond traditional antivirus. This includes threat protection and response mechanisms to safeguard against evolving threats.\n",
    "Email security: The company utilizes a suite of solutions capable of detecting and mitigating not only spam, phishing, and fraud attempts but also advanced malicious email-based threats.\n",
    "Encryption by default: The company adopts strong encryption algorithms for both data-in-transit and data-at-rest.\n",
    "Next-generation firewalls: The company leverages robust next-generation firewalls (NGFW) technologies providing deep packet inspection, intrusion prevention, and threat protection.\n",
    "24/7 Continuous monitoring and incident response: The company operates a Cyber Defense & Threat Operations organization dedicated to monitoring and responding to threats facing the organization.\n",
    "Regular penetration testing: The company utilizes internal and external resources to continually assess, and improve, our preventative controls and our detective capabilities.\n",
    "Product security: The company prioritizes security of its products and services through a series of solutions aimed at identifying and correcting vulnerabilities throughout a products lifecycle; including code and operating system (OS) scanning, cloud security enforcements, and runtime protections.\n",
    "Administrative: Northwestern Mutual supplements its technical controls with processes, procedures, and policies to further protect its clients' information:\n",
    "\n",
    "Authentication: The company requires multiple authentication factors to verify the identity of persons requesting policy, contract, or account information. A customer's right to policy, contract or account information follows state and federal regulations based on their role with the policy, contract or account.\n",
    "Authorization: Access to company systems is granted on a business-need-to-know basis. Only those people who need access to a given system and its information to accomplish their job responsibilities receive that access.\n",
    "Change control: The company uses a change control process to help ensure all changes to company systems maintain the confidentiality, integrity, and availability of those systems.\n",
    "Corporate governance: The company has a strong governance process with multiple committees supporting information protection initiatives.\n",
    "Cybersecurity exercises and business continuity planning: The company maintains a comprehensive business continuity plan and conducts periodic cybersecurity tabletop and functional exercises and threat simulations to identify areas of program strength and opportunities for improvement.\n",
    "Privacy notice: Northwestern Mutual uses Privacy Notices to communicate how we collect, use, share, retain, and protect their Personal information. For more information, visit: northwesternmutual.com/privacy-notices/.\n",
    "Internal and external IT auditors: The company's internal and external auditors regularly review and assess the company's information technology systems and operations.\n",
    "Records and information management and sanitization: The company maintains a records and information management program that manages the lifecycle of the company's information, including adherence to regulatory requirements and secure disposal of confidential information.\n",
    "Risk assessments: The Company has multiple departments that specialize in identifying and mitigating risks through risk assessment processes. These departments include Information Risk Management, Privacy, Enterprise Risk Assurance, Financial Management, and Enterprise Risk Management.\n",
    "Security assessments: Security assessments are a key component of our information protection program. We execute a rigorous process to evaluate technology solutions against common security standards and controls.\n",
    "Security awareness: The company recognizes that end users are a critical component of an effective information security and risk management program. The company provides employees and financial representatives with security education and training, such as ongoing security education articles and events, training in company policies and standards, and simulated phishing exercises. Information to help clients protect themselves is also available on this page.\n",
    "Separation of duties: The company separates specific job duties to prevent a conflict of interest when appropriate.\n",
    "Storage locations: The company maintains certain personal information on its own internal systems. It also uses service providers for the purpose of maintaining data. Service providers are only entrusted with data after successfully undergoing a due diligence review and having signed a contract requiring information to be protected and use of data restricted to Northwestern Mutual's business purposes.\n",
    "Threat monitoring & hunting: The company works with internal teams and third-party industry security organizations to proactively monitor its environment for existing and potential threats.\n",
    "Training and user behavior: All employees and financial representatives receive training on protecting confidential information, which is tailored to Company business needs, identified risks, and emerging threats.\n",
    "User access reviews: The company regularly reviews user access to company systems to help ensure users maintain an appropriate level of access to those systems.\n",
    "Physical: Northwestern Mutual also protects its clients' information from physical harm and theft:\n",
    "\n",
    "Building and data center physical security: The company controls physical access to its buildings, data centers, and other facilities. Restricted access helps to ensure the confidentiality, integrity, and availability of company systems and physical assets within the company.\n",
    "Business continuity and disaster recovery planning: The company maintains and periodically tests defined business continuity and disaster recovery plans. These plans are designed to maximize the availability of company systems and information and recover from natural or human-made disasters as efficiently and effectively as possible.\n",
    "Redundancy: As part of its business continuity and disaster recovery plans, the company uses redundant infrastructure to ensure availability of company systems and client information.\n",
    "Our commitment to privacy: The Northwestern Mutual Family of Companies is committed to protecting the confidentiality of your personal information. We respect your privacy rights and choices, which may vary based on your interactions with us or your relationship to us. Please review our policies here.\n",
    "\n",
    "Responsible disclosure policy: We want to hear from security researchers (\"You\" or \"Your\") who have information related to suspected security vulnerabilities (\"Vulnerability\" or \"Vulnerabilities\") of any Northwestern Mutual services exposed to the internet. We value Your work and are committed to working with You. Please report Vulnerabilities to us in accordance with this Responsible Disclosure Policy.\n",
    "\n",
    "General security hygiene & suggestions for staying safe\n",
    "Protecting your NM account\n",
    "\n",
    "Registering for online account access\n",
    "\n",
    "When you register for Northwestern Mutual online account access, we will require several pieces of personal information from you. This helps ensure that only you may register to access your own accounts. Avoid accessing your online accounts through publicly shared computers and Wi-Fi networks.\n",
    "Multi-Factor Authentication: The company requires users to add an extra layer of protection to their northwesternmutual.com account login process by requiring entry of a security code in addition to their username and password. The security code is a unique, single-use number they receive via phone call, text, or your preferred authenticator app on your mobile device.\n",
    "Passwords\n",
    "\n",
    "A strong password is important to protect your online accounts. When you are selecting a password, keep the following tips in mind:\n",
    "Strong (good) passwords have the following characteristics:\n",
    "Contain both upper and lower-case characters (e.g., a–z, A–Z)\n",
    "Have digits and punctuation characters as well as letters (e.g., 0–9, !@#$%^&*)\n",
    "Fourteen (14) or more alphanumeric characters\n",
    "Not based on personal information, names of family, or important calendar dates\n",
    "Change passwords frequently.\n",
    "Consider using a password manager.\n",
    "Keep your new password private and change it immediately if someone else learns it or you believe it has been compromised in any way.\n",
    "Constructing a passphrase based on a sentence or phrase makes a password easy to remember. Passphrase is a type of string password that uses a short sentence or group of random words.\n",
    "Weak (bad) passwords have the following characteristics:\n",
    "Default password\n",
    "Contain less than eight (8) characters\n",
    "Common, easily guessed phrases (e.g. \"Winter is coming\")\n",
    "A common usage word such as names of family, pets, friends, co-workers, fantasy characters, etc.\n",
    "The words \"Northwestern Mutual\" or any derivation\n",
    "Do not use Social Security numbers, words or numbers associated with easily attainable personal information, like birthdays, anniversaries, license plates, telephone numbers, or addresses.\n",
    "Do not use the same pattern for your passwords, such as smart1, smart2, etc.\n",
    "Any of the above spelled backward\n",
    "Any of the above preceded or followed by a digit (e.g., secret1 or 1secret).\n",
    "Do not use real names or your login name or any variation of it.\n",
    "Do not write down your password or share your password with anyone else.\n",
    "Do not reuse passwords. Make sure you use different and unique passwords for all of your online accounts. Reusing a single password for multiple websites is never a good idea. If a cybercriminal obtains your password, they may try to use it on other websites.\n",
    "Protecting your account: Be prepared to provide your account/policy number when reaching out to us to set up the following safeguards:\n",
    "Life, Disability Income and Annuity: You can request a password to be used to verify your identity when you call the home office.\n",
    "For Life and Disability Income Policies, call 1-800-388-8123.\n",
    "For Annuities, call 1-888-455-2232.\n",
    "Long-Term Care: You can request additional authenticators be added to verify your identity when calling about your policy by calling 1-800-748-9493.\n",
    "Investment Accounts: You can request a note or block be added to your account.\n",
    "For Northwestern Mutual Investment Services and Northwestern Mutual Wealth Management Company, including Trust and Private Client Services, call 1-866-950-4644 and ask for \"investments\".\n",
    "Staying safe online\n",
    "Email Hacking: Email hacking occurs when a cybercriminal illegally gains access to an individual's email account. This allows the hacker to read email messages and view the address book on the email account. Using this information, the cybercriminal (appearing to be the individual), contacts the individual's financial institutions via an email message and tries to obtain funds. Learn about how to protect yourself at Email Hacking Fraud. When email hacking occurs, emails can/will be intercepted and deleted by the hacker, and the rightful sender and receiver will no longer see legitimate email traffic. We recommend that you take the following actions to protect yourself:\n",
    "Never give your email address to anyone or any site that you do not trust.\n",
    "Never send personal or sensitive information in an unsecured email.\n",
    "Phishing: One of the most common ways cybercriminals trick their victims is through phishing. This occurs when a cybercriminal tries to either get the victim to reveal confidential information or installs malicious software (malware) on the victim's computer. A phishing attack can take many forms, although the most common is an email message.\n",
    "Identifying phishing messages: common phishing message characteristics and red flags include:\n",
    "Unsolicited email or attachments: Always regard unsolicited email or attachments as suspicious, even if the message appears to come from a known sender. The \"From\" address in emails can be easily faked. In addition, the sender's email account may have been hacked.\n",
    "Spoofing: Email spoofing refers to email messages that are sent with a forged sender address. The email is sent to look like it is from a known company or people such as your friend, relative, or co-worker, but the email is fake.\n",
    "If you receive an email asking for confidential information and demanding unusual or urgent action, be suspicious. Take action against this and call the sender directly, using contact information on record, to ask if they sent the email.\n",
    "Generic greetings: Phishing messages often contain generic, non-personalized greetings both in the subject line and the message. Some legitimate messages may contain generic greetings, but a generic greeting should raise suspicions. It's important to note, though, that a personalized greeting in and of itself does not guarantee that a message is legitimate.\n",
    "Urgent or threatening language: Many phishing messages contain urgent or threatening language. Phishers often try to manipulate people's emotions. Don't fall for that trick. Take the time to examine unsolicited messages carefully.\n",
    "Awkward grammar or spelling errors: Awkward grammar or spelling errors may be signs of phishing messages. However, don't assume that polished, professional-looking messages are necessarily legitimate.\n",
    "Tricky links: Always be suspicious of links in unsolicited messages. The web address displayed in the message can be easily faked. Hover the mouse pointer over the link on a computer or long-press the link on a mobile device to preview the actual link address.\n",
    "Never send personal or sensitive information in an unsecured (unencrypted) email.\n",
    "Never make a purchase from an unsolicited email. Not only can an email user fall prey to a potentially fraudulent sales scheme, but their email address may be added to email lists sold within the spamming community, further compounding the number of unsolicited emails the user receives.\n",
    "Phishing resources: To learn more about phishing and handling phishing messages, see the Federal Trade Commission (FTC) website.\n",
    "\"\"\"\n",
    "information_protection_summary = \"\"\"\n",
    "Northwestern Mutual takes the privacy and security of personal information seriously. The company employs technical, administrative, and physical safeguards to protect client data.\n",
    "\n",
    "Technical safeguards include:\n",
    "- Endpoint protection beyond traditional antivirus with threat detection and response mechanisms.\n",
    "- Email security to detect spam, phishing, fraud, and advanced email-based threats.\n",
    "- Strong encryption for both data-in-transit and data-at-rest.\n",
    "- Next-generation firewalls with deep packet inspection, intrusion prevention, and threat protection.\n",
    "- 24/7 continuous monitoring by the Cyber Defense & Threat Operations team.\n",
    "- Regular penetration testing to evaluate and improve security measures.\n",
    "- Product security with lifecycle vulnerability management, including OS scanning and runtime protections.\n",
    "\n",
    "Administrative safeguards include:\n",
    "- Multifactor authentication for accessing account information.\n",
    "- Authorization policies granting system access based on a business-need-to-know basis.\n",
    "- Change control processes to ensure system integrity.\n",
    "- Cybersecurity exercises and business continuity planning.\n",
    "- Risk assessments conducted by specialized departments, including Information Risk Management and Privacy.\n",
    "- Security awareness training for employees and financial representatives, including simulated phishing exercises.\n",
    "\n",
    "Physical safeguards include:\n",
    "- Restricted physical access to buildings and data centers.\n",
    "- Redundant infrastructure as part of disaster recovery plans.\n",
    "- Business continuity plans tested for efficiency and effectiveness.\n",
    "\n",
    "The company also provides guidelines for creating strong passwords, enabling multi-factor authentication, and recognizing phishing attempts. For more details, visit: northwesternmutual.com/privacy-notices/.\n",
    "Northwestern Mutual takes the privacy and security of personal information seriously. The company employs technical, administrative, and physical safeguards to protect client data.\n",
    "\n",
    "Administrative safeguards include:\n",
    "- Multifactor authentication for accessing account information.\n",
    "- Authorization policies granting system access based on a business-need-to-know basis.\n",
    "- Change control processes to ensure system integrity.\n",
    "- Cybersecurity exercises and business continuity planning.\n",
    "- Risk assessments conducted by specialized departments, including Information Risk Management and Privacy.\n",
    "- Security awareness training for employees and financial representatives, including simulated phishing exercises.\n",
    "\n",
    "Physical safeguards include:\n",
    "- Restricted physical access to buildings and data centers.\n",
    "- Redundant infrastructure as part of disaster recovery plans.\n",
    "- Business continuity plans tested for efficiency and effectiveness.\n",
    "\n",
    "The company also provides guidelines for creating strong passwords, enabling multi-factor authentication, and recognizing phishing attempts. For more details, visit: northwesternmutual.com/privacy-notices/.\n",
    "Northwestern Mutual takes the privacy and security of personal information seriously. The company employs technical, administrative, and physical safeguards to protect client data.\n",
    "\"\"\"\n",
    "\n"
   ]
  },
  {
   "cell_type": "code",
   "execution_count": 3,
   "metadata": {
    "ExecuteTime": {
     "end_time": "2024-12-19T11:40:16.916838Z",
     "start_time": "2024-12-19T11:40:16.722994Z"
    }
   },
   "outputs": [],
   "source": [
    "import os\n",
    "from dotenv import load_dotenv\n",
    "\n",
    "load_dotenv()\n",
    "OPENAI_API_KEY = os.getenv(\"OPENAI_API_KEY\")\n",
    "NERD_TOKEN_API = os.getenv(\"NERD_TOKEN_API\")"
   ]
  },
  {
   "cell_type": "code",
   "execution_count": 5,
   "metadata": {},
   "outputs": [
    {
     "name": "stdout",
     "output_type": "stream",
     "text": [
      "Requirement already satisfied: numpy==2.0.1 in e:\\codes\\indox\\.venv\\lib\\site-packages (2.0.1)\n",
      "Note: you may need to restart the kernel to use updated packages.\n",
      "Requirement already satisfied: scikit-learn==1.4.2 in e:\\codes\\indox\\.venv\\lib\\site-packages (1.4.2)\n",
      "Requirement already satisfied: numpy>=1.19.5 in e:\\codes\\indox\\.venv\\lib\\site-packages (from scikit-learn==1.4.2) (2.0.1)\n",
      "Requirement already satisfied: scipy>=1.6.0 in e:\\codes\\indox\\.venv\\lib\\site-packages (from scikit-learn==1.4.2) (1.14.1)\n",
      "Requirement already satisfied: joblib>=1.2.0 in e:\\codes\\indox\\.venv\\lib\\site-packages (from scikit-learn==1.4.2) (1.4.2)\n",
      "Requirement already satisfied: threadpoolctl>=2.0.0 in e:\\codes\\indox\\.venv\\lib\\site-packages (from scikit-learn==1.4.2) (3.5.0)\n",
      "Note: you may need to restart the kernel to use updated packages.\n",
      "Collecting nltk==3.9.1\n",
      "  Using cached nltk-3.9.1-py3-none-any.whl.metadata (2.9 kB)\n",
      "Requirement already satisfied: click in e:\\codes\\indox\\.venv\\lib\\site-packages (from nltk==3.9.1) (8.1.7)\n",
      "Requirement already satisfied: joblib in e:\\codes\\indox\\.venv\\lib\\site-packages (from nltk==3.9.1) (1.4.2)\n",
      "Requirement already satisfied: regex>=2021.8.3 in e:\\codes\\indox\\.venv\\lib\\site-packages (from nltk==3.9.1) (2024.11.6)\n",
      "Requirement already satisfied: tqdm in e:\\codes\\indox\\.venv\\lib\\site-packages (from nltk==3.9.1) (4.66.4)\n",
      "Requirement already satisfied: colorama in e:\\codes\\indox\\.venv\\lib\\site-packages (from click->nltk==3.9.1) (0.4.6)\n",
      "Using cached nltk-3.9.1-py3-none-any.whl (1.5 MB)\n",
      "Installing collected packages: nltk\n",
      "Successfully installed nltk-3.9.1\n",
      "Note: you may need to restart the kernel to use updated packages.\n"
     ]
    }
   ],
   "source": [
    "%pip install numpy==2.0.1\n",
    "%pip install scikit-learn==1.4.2\n",
    "%pip install nltk==3.9.1\n"
   ]
  },
  {
   "cell_type": "code",
   "execution_count": 4,
   "metadata": {
    "ExecuteTime": {
     "end_time": "2024-12-19T11:40:45.547888Z",
     "start_time": "2024-12-19T11:40:45.531016Z"
    }
   },
   "outputs": [],
   "source": [
    "from indoxJudge.pipelines import SummaryEvaluator\n",
    "from indoxJudge.models import OpenAi,NerdTokenApi\n"
   ]
  },
  {
   "cell_type": "code",
   "execution_count": 5,
   "metadata": {},
   "outputs": [],
   "source": [
    "# judge_model = OpenAi(api_key=OPENAI_API_KEY,model=\"gpt-4o-mini\")\n",
    "judge_model = NerdTokenApi(api_key=NERD_TOKEN_API)"
   ]
  },
  {
   "cell_type": "code",
   "execution_count": 6,
   "metadata": {},
   "outputs": [
    {
     "name": "stdout",
     "output_type": "stream",
     "text": [
      "\u001b[32mINFO\u001b[0m: \u001b[1mEvaluator initialized with model and metrics.\u001b[0m\n",
      "\u001b[32mINFO\u001b[0m: \u001b[1mModel set for all metrics.\u001b[0m\n"
     ]
    }
   ],
   "source": [
    "evaluator = SummaryEvaluator(llm_as_judge=judge_model,summary=information_protection_summary,source=information_protection_text)"
   ]
  },
  {
   "cell_type": "code",
   "execution_count": 7,
   "metadata": {},
   "outputs": [
    {
     "name": "stdout",
     "output_type": "stream",
     "text": [
      "\n",
      "==================================================\n",
      "\u001b[32mINFO\u001b[0m: \u001b[1mEvaluating metric: StructureQuality\u001b[0m\n",
      "\u001b[32mINFO\u001b[0m: \u001b[1mToken Counts - Input: 698 | Output: 207\u001b[0m\n",
      "\u001b[32mINFO\u001b[0m: \u001b[1mToken Counts - Input: 275 | Output: 35\u001b[0m\n",
      "\u001b[32mINFO\u001b[0m: \u001b[1mToken Usage Summary:\n",
      " Total Input: 973 | Total Output: 242 | Total: 1215\u001b[0m\n",
      "\u001b[32mINFO\u001b[0m: \u001b[1mCompleted evaluation for metric: StructureQuality, score: 0.835\u001b[0m\n",
      "\n",
      "==================================================\n",
      "\u001b[32mINFO\u001b[0m: \u001b[1mEvaluating metric: Conciseness\u001b[0m\n",
      "\u001b[32mINFO\u001b[0m: \u001b[1mToken Counts - Input: 659 | Output: 182\u001b[0m\n",
      "\u001b[32mINFO\u001b[0m: \u001b[1mToken Counts - Input: 637 | Output: 161\u001b[0m\n",
      "\u001b[32mINFO\u001b[0m: \u001b[1mToken Usage Summary:\n",
      " Total Input: 1296 | Total Output: 343 | Total: 1639\u001b[0m\n",
      "\u001b[32mINFO\u001b[0m: \u001b[1mCompleted evaluation for metric: Conciseness, score: 0.82\u001b[0m\n",
      "\n",
      "==================================================\n",
      "\u001b[32mINFO\u001b[0m: \u001b[1mEvaluating metric: FactualConsistency\u001b[0m\n",
      "\u001b[32mINFO\u001b[0m: \u001b[1mToken Counts - Input: 689 | Output: 1327\u001b[0m\n",
      "\u001b[32mINFO\u001b[0m: \u001b[1mToken Counts - Input: 4327 | Output: 1855\u001b[0m\n",
      "\u001b[32mINFO\u001b[0m: \u001b[1mToken Counts - Input: 2128 | Output: 692\u001b[0m\n",
      "\u001b[32mINFO\u001b[0m: \u001b[1mCompleted evaluation for metric: FactualConsistency, score: 0.985\u001b[0m\n",
      "\n",
      "==================================================\n",
      "\u001b[32mINFO\u001b[0m: \u001b[1mEvaluating metric: InformationCoverage\u001b[0m\n",
      "\u001b[32mINFO\u001b[0m: \u001b[1mToken Counts - Input: 2929 | Output: 243\u001b[0m\n",
      "\u001b[32mINFO\u001b[0m: \u001b[1mToken Counts - Input: 1115 | Output: 388\u001b[0m\n",
      "\u001b[32mERROR\u001b[0m: \u001b[31m\u001b[1mRequest error: HTTPSConnectionPool(host='api-token.nerdstudio.ai', port=443): Max retries exceeded with url: /api/v1/text_generation/generate/ (Caused by SSLError(SSLEOFError(8, '[SSL: UNEXPECTED_EOF_WHILE_READING] EOF occurred in violation of protocol (_ssl.c:1000)')))\u001b[0m\n",
      "\u001b[31mERROR\u001b[0m: \u001b[31m\u001b[1mRequest error: HTTPSConnectionPool(host='api-token.nerdstudio.ai', port=443): Max retries exceeded with url: /api/v1/text_generation/generate/ (Caused by SSLError(SSLEOFError(8, '[SSL: UNEXPECTED_EOF_WHILE_READING] EOF occurred in violation of protocol (_ssl.c:1000)')))\u001b[0m\n",
      "\u001b[32mERROR\u001b[0m: \u001b[31m\u001b[1mRequest error: HTTPSConnectionPool(host='api-token.nerdstudio.ai', port=443): Max retries exceeded with url: /api/v1/text_generation/generate/ (Caused by SSLError(SSLEOFError(8, '[SSL: UNEXPECTED_EOF_WHILE_READING] EOF occurred in violation of protocol (_ssl.c:1000)')))\u001b[0m\n",
      "\u001b[31mERROR\u001b[0m: \u001b[31m\u001b[1mRequest error: HTTPSConnectionPool(host='api-token.nerdstudio.ai', port=443): Max retries exceeded with url: /api/v1/text_generation/generate/ (Caused by SSLError(SSLEOFError(8, '[SSL: UNEXPECTED_EOF_WHILE_READING] EOF occurred in violation of protocol (_ssl.c:1000)')))\u001b[0m\n",
      "\u001b[32mERROR\u001b[0m: \u001b[31m\u001b[1mRequest error: HTTPSConnectionPool(host='api-token.nerdstudio.ai', port=443): Max retries exceeded with url: /api/v1/text_generation/generate/ (Caused by SSLError(SSLEOFError(8, '[SSL: UNEXPECTED_EOF_WHILE_READING] EOF occurred in violation of protocol (_ssl.c:1000)')))\u001b[0m\n",
      "\u001b[31mERROR\u001b[0m: \u001b[31m\u001b[1mRequest error: HTTPSConnectionPool(host='api-token.nerdstudio.ai', port=443): Max retries exceeded with url: /api/v1/text_generation/generate/ (Caused by SSLError(SSLEOFError(8, '[SSL: UNEXPECTED_EOF_WHILE_READING] EOF occurred in violation of protocol (_ssl.c:1000)')))\u001b[0m\n",
      "\u001b[32mERROR\u001b[0m: \u001b[31m\u001b[1mRequest error: HTTPSConnectionPool(host='api-token.nerdstudio.ai', port=443): Max retries exceeded with url: /api/v1/text_generation/generate/ (Caused by SSLError(SSLEOFError(8, '[SSL: UNEXPECTED_EOF_WHILE_READING] EOF occurred in violation of protocol (_ssl.c:1000)')))\u001b[0m\n",
      "\u001b[31mERROR\u001b[0m: \u001b[31m\u001b[1mRequest error: HTTPSConnectionPool(host='api-token.nerdstudio.ai', port=443): Max retries exceeded with url: /api/v1/text_generation/generate/ (Caused by SSLError(SSLEOFError(8, '[SSL: UNEXPECTED_EOF_WHILE_READING] EOF occurred in violation of protocol (_ssl.c:1000)')))\u001b[0m\n",
      "\u001b[32mERROR\u001b[0m: \u001b[31m\u001b[1mRequest error: HTTPSConnectionPool(host='api-token.nerdstudio.ai', port=443): Max retries exceeded with url: /api/v1/text_generation/generate/ (Caused by SSLError(SSLEOFError(8, '[SSL: UNEXPECTED_EOF_WHILE_READING] EOF occurred in violation of protocol (_ssl.c:1000)')))\u001b[0m\n",
      "\u001b[31mERROR\u001b[0m: \u001b[31m\u001b[1mRequest error: HTTPSConnectionPool(host='api-token.nerdstudio.ai', port=443): Max retries exceeded with url: /api/v1/text_generation/generate/ (Caused by SSLError(SSLEOFError(8, '[SSL: UNEXPECTED_EOF_WHILE_READING] EOF occurred in violation of protocol (_ssl.c:1000)')))\u001b[0m\n",
      "\u001b[32mINFO\u001b[0m: \u001b[1mToken Counts - Input: 819 | Output: 73\u001b[0m\n",
      "\u001b[32mINFO\u001b[0m: \u001b[1mToken Usage Summary:\n",
      " Total Input: 4863 | Total Output: 704 | Total: 5567\u001b[0m\n",
      "\u001b[32mINFO\u001b[0m: \u001b[1mCompleted evaluation for metric: InformationCoverage, score: 0.46\u001b[0m\n",
      "\n",
      "==================================================\n",
      "\u001b[32mINFO\u001b[0m: \u001b[1mEvaluating metric: Relevance\u001b[0m\n",
      "\u001b[32mINFO\u001b[0m: \u001b[1mToken Counts - Input: 2714 | Output: 171\u001b[0m\n",
      "\u001b[32mINFO\u001b[0m: \u001b[1mToken Counts - Input: 3383 | Output: 329\u001b[0m\n",
      "\u001b[32mINFO\u001b[0m: \u001b[1mToken Counts - Input: 619 | Output: 41\u001b[0m\n",
      "\u001b[32mINFO\u001b[0m: \u001b[1mToken Usage Summary:\n",
      " Total Input: 6716 | Total Output: 541 | Total: 7257\u001b[0m\n",
      "\u001b[32mINFO\u001b[0m: \u001b[1mCompleted evaluation for metric: Relevance, score: 0.895\u001b[0m\n",
      "\n",
      "==================================================\n",
      "\u001b[32mINFO\u001b[0m: \u001b[1mEvaluating metric: Rouge\u001b[0m\n"
     ]
    },
    {
     "name": "stderr",
     "output_type": "stream",
     "text": [
      "[nltk_data] Downloading package punkt to\n",
      "[nltk_data]     C:\\Users\\ASHKAN\\AppData\\Roaming\\nltk_data...\n",
      "[nltk_data]   Package punkt is already up-to-date!\n",
      "[nltk_data] Downloading package punkt_tab to\n",
      "[nltk_data]     C:\\Users\\ASHKAN\\AppData\\Roaming\\nltk_data...\n",
      "[nltk_data]   Package punkt_tab is already up-to-date!\n"
     ]
    },
    {
     "name": "stdout",
     "output_type": "stream",
     "text": [
      "\u001b[32mINFO\u001b[0m: \u001b[1mToken Counts - Input: 572 | Output: 43\u001b[0m\n",
      "\u001b[32mINFO\u001b[0m: \u001b[1mToken Usage Summary:\n",
      " Total Input: 572 | Total Output: 43 | Total: 615\u001b[0m\n",
      "\u001b[32mINFO\u001b[0m: \u001b[1mCompleted evaluation for metric: Rouge, score: 0.162\u001b[0m\n",
      "\n",
      "==================================================\n",
      "\u001b[32mINFO\u001b[0m: \u001b[1mEvaluating metric: GEval\u001b[0m\n",
      "\u001b[32mINFO\u001b[0m: \u001b[1mToken Counts - Input: 624 | Output: 91\u001b[0m\n",
      "\u001b[32mINFO\u001b[0m: \u001b[1mToken Counts - Input: 804 | Output: 189\u001b[0m\n",
      "\u001b[32mINFO\u001b[0m: \u001b[1mToken Counts - Input: 324 | Output: 92\u001b[0m\n",
      "\u001b[32mINFO\u001b[0m: \u001b[1mToken Usage Summary:\n",
      " Total Input: 1752 | Total Output: 372 | Total: 2124\u001b[0m\n",
      "\u001b[32mINFO\u001b[0m: \u001b[1mCompleted evaluation for metric: GEval, score: 0.915\u001b[0m\n",
      "\n",
      "==================================================\n",
      "\u001b[32mINFO\u001b[0m: \u001b[1mEvaluating metric: Toxicity\u001b[0m\n",
      "\u001b[32mINFO\u001b[0m: \u001b[1mToken Counts - Input: 604 | Output: 9\u001b[0m\n",
      "\u001b[32mINFO\u001b[0m: \u001b[1mToken Counts - Input: 793 | Output: 153\u001b[0m\n",
      "\u001b[32mINFO\u001b[0m: \u001b[1mToken Counts - Input: 281 | Output: 59\u001b[0m\n",
      "\u001b[32mINFO\u001b[0m: \u001b[1mToken Usage Summary:\n",
      " Total Input: 1678 | Total Output: 221 | Total: 1899\u001b[0m\n",
      "\u001b[32mINFO\u001b[0m: \u001b[1mCompleted evaluation for metric: Toxicity, score: 0.0\u001b[0m\n",
      "\n",
      "==================================================\n",
      "\u001b[32mINFO\u001b[0m: \u001b[1mEvaluating metric: Bleu\u001b[0m\n"
     ]
    },
    {
     "name": "stderr",
     "output_type": "stream",
     "text": [
      "[nltk_data] Downloading package punkt to\n",
      "[nltk_data]     C:\\Users\\ASHKAN\\AppData\\Roaming\\nltk_data...\n",
      "[nltk_data]   Package punkt is already up-to-date!\n",
      "[nltk_data] Downloading package punkt_tab to\n",
      "[nltk_data]     C:\\Users\\ASHKAN\\AppData\\Roaming\\nltk_data...\n",
      "[nltk_data]   Package punkt_tab is already up-to-date!\n",
      "[nltk_data] Downloading package wordnet to\n",
      "[nltk_data]     C:\\Users\\ASHKAN\\AppData\\Roaming\\nltk_data...\n",
      "[nltk_data]   Package wordnet is already up-to-date!\n",
      "[nltk_data] Downloading package wordnet to\n",
      "[nltk_data]     C:\\Users\\ASHKAN\\AppData\\Roaming\\nltk_data...\n",
      "[nltk_data]   Package wordnet is already up-to-date!\n"
     ]
    },
    {
     "name": "stdout",
     "output_type": "stream",
     "text": [
      "\u001b[32mINFO\u001b[0m: \u001b[1mToken Counts - Input: 256 | Output: 60\u001b[0m\n",
      "\u001b[32mINFO\u001b[0m: \u001b[1mCompleted evaluation for metric: Bleu, score: 0.005\u001b[0m\n",
      "\n",
      "==================================================\n",
      "\u001b[32mINFO\u001b[0m: \u001b[1mEvaluating metric: Meteor\u001b[0m\n"
     ]
    },
    {
     "name": "stderr",
     "output_type": "stream",
     "text": [
      "[nltk_data] Downloading package punkt_tab to\n",
      "[nltk_data]     C:\\Users\\ASHKAN\\AppData\\Roaming\\nltk_data...\n",
      "[nltk_data]   Package punkt_tab is already up-to-date!\n",
      "[nltk_data] Downloading package punkt to\n",
      "[nltk_data]     C:\\Users\\ASHKAN\\AppData\\Roaming\\nltk_data...\n",
      "[nltk_data]   Package punkt is already up-to-date!\n",
      "[nltk_data] Downloading package wordnet to\n",
      "[nltk_data]     C:\\Users\\ASHKAN\\AppData\\Roaming\\nltk_data...\n",
      "[nltk_data]   Package wordnet is already up-to-date!\n",
      "[nltk_data] Downloading package averaged_perceptron_tagger to\n",
      "[nltk_data]     C:\\Users\\ASHKAN\\AppData\\Roaming\\nltk_data...\n",
      "[nltk_data]   Package averaged_perceptron_tagger is already up-to-\n",
      "[nltk_data]       date!\n",
      "[nltk_data] Downloading package averaged_perceptron_tagger_eng to\n",
      "[nltk_data]     C:\\Users\\ASHKAN\\AppData\\Roaming\\nltk_data...\n",
      "[nltk_data]   Package averaged_perceptron_tagger_eng is already up-to-\n",
      "[nltk_data]       date!\n"
     ]
    },
    {
     "name": "stdout",
     "output_type": "stream",
     "text": [
      "\u001b[32mINFO\u001b[0m: \u001b[1mToken Counts - Input: 229 | Output: 64\u001b[0m\n",
      "\u001b[32mINFO\u001b[0m: \u001b[1mCompleted evaluation for metric: Meteor, score: 0.131\u001b[0m\n",
      "\n",
      "==================================================\n",
      "\u001b[32mINFO\u001b[0m: \u001b[1mEvaluating metric: BertScore\u001b[0m\n"
     ]
    },
    {
     "data": {
      "application/vnd.jupyter.widget-view+json": {
       "model_id": "8f408d4678814232b9bf08f3a39dc68e",
       "version_major": 2,
       "version_minor": 0
      },
      "text/plain": [
       "tokenizer_config.json:   0%|          | 0.00/48.0 [00:00<?, ?B/s]"
      ]
     },
     "metadata": {},
     "output_type": "display_data"
    },
    {
     "name": "stderr",
     "output_type": "stream",
     "text": [
      "e:\\Codes\\inDox\\.venv\\Lib\\site-packages\\huggingface_hub\\file_download.py:140: UserWarning: `huggingface_hub` cache-system uses symlinks by default to efficiently store duplicated files but your machine does not support them in C:\\Users\\ASHKAN\\.cache\\huggingface\\hub\\models--bert-base-uncased. Caching files will still work but in a degraded version that might require more space on your disk. This warning can be disabled by setting the `HF_HUB_DISABLE_SYMLINKS_WARNING` environment variable. For more details, see https://huggingface.co/docs/huggingface_hub/how-to-cache#limitations.\n",
      "To support symlinks on Windows, you either need to activate Developer Mode or to run Python as an administrator. In order to activate developer mode, see this article: https://docs.microsoft.com/en-us/windows/apps/get-started/enable-your-device-for-development\n",
      "  warnings.warn(message)\n"
     ]
    },
    {
     "data": {
      "application/vnd.jupyter.widget-view+json": {
       "model_id": "e7c9b20bc1cf4c0180a31c95f425d7d3",
       "version_major": 2,
       "version_minor": 0
      },
      "text/plain": [
       "config.json:   0%|          | 0.00/570 [00:00<?, ?B/s]"
      ]
     },
     "metadata": {},
     "output_type": "display_data"
    },
    {
     "data": {
      "application/vnd.jupyter.widget-view+json": {
       "model_id": "5a9067c79a8f4511ab200af82e12ddc5",
       "version_major": 2,
       "version_minor": 0
      },
      "text/plain": [
       "vocab.txt:   0%|          | 0.00/232k [00:00<?, ?B/s]"
      ]
     },
     "metadata": {},
     "output_type": "display_data"
    },
    {
     "data": {
      "application/vnd.jupyter.widget-view+json": {
       "model_id": "4a3d52e50f734c29a8f7ac731f58f7f5",
       "version_major": 2,
       "version_minor": 0
      },
      "text/plain": [
       "tokenizer.json:   0%|          | 0.00/466k [00:00<?, ?B/s]"
      ]
     },
     "metadata": {},
     "output_type": "display_data"
    },
    {
     "data": {
      "application/vnd.jupyter.widget-view+json": {
       "model_id": "0478614044164a409a17ab451f3c3aa3",
       "version_major": 2,
       "version_minor": 0
      },
      "text/plain": [
       "model.safetensors:   0%|          | 0.00/440M [00:00<?, ?B/s]"
      ]
     },
     "metadata": {},
     "output_type": "display_data"
    },
    {
     "name": "stdout",
     "output_type": "stream",
     "text": [
      "\u001b[32mINFO\u001b[0m: \u001b[1mToken Counts - Input: 207 | Output: 38\u001b[0m\n",
      "\u001b[32mINFO\u001b[0m: \u001b[1mCompleted evaluation for metric: BertScore, score: 0.732\u001b[0m\n"
     ]
    }
   ],
   "source": [
    "eval_results = evaluator.judge()"
   ]
  },
  {
   "cell_type": "code",
   "execution_count": 8,
   "metadata": {},
   "outputs": [
    {
     "data": {
      "text/plain": [
       "{'StructureQuality': 0.835,\n",
       " 'Conciseness': 0.82,\n",
       " 'FactualConsistency': 0.985,\n",
       " 'InformationCoverage': 0.46,\n",
       " 'Relevance': 0.895,\n",
       " 'Rouge': 0.162,\n",
       " 'GEval': 0.915,\n",
       " 'Toxicity': 0.0,\n",
       " 'Bleu': 0.005,\n",
       " 'Meteor': 0.131,\n",
       " 'BertScore': 0.732}"
      ]
     },
     "execution_count": 8,
     "metadata": {},
     "output_type": "execute_result"
    }
   ],
   "source": [
    "evaluator.metrics_score"
   ]
  },
  {
   "cell_type": "code",
   "execution_count": 9,
   "metadata": {},
   "outputs": [
    {
     "data": {
      "text/plain": [
       "{'score': 0.005,\n",
       " 'dic': {'score': 0.004779368191838085,\n",
       "  'precisions': [0.8347578348049123, 0.37428571446448977],\n",
       "  'brevity_penalty': 0.006203627467479315,\n",
       "  'details': {'matching_1grams': 293,\n",
       "   'total_generated_1grams': 351,\n",
       "   'total_reference_1grams': 2135,\n",
       "   'matching_2grams': 131,\n",
       "   'total_generated_2grams': 350,\n",
       "   'total_reference_2grams': 2134,\n",
       "   'generated_length': 351,\n",
       "   'reference_length': 2135,\n",
       "   'brevity_penalty': 0.006203627467479315}}}"
      ]
     },
     "execution_count": 9,
     "metadata": {},
     "output_type": "execute_result"
    }
   ],
   "source": [
    "results = evaluator.results\n",
    "results[\"Bleu\"]"
   ]
  },
  {
   "cell_type": "code",
   "execution_count": 10,
   "metadata": {},
   "outputs": [],
   "source": [
    "results = evaluator.results\n"
   ]
  },
  {
   "cell_type": "code",
   "execution_count": 11,
   "metadata": {},
   "outputs": [
    {
     "data": {
      "text/plain": [
       "{'score': 0.732,\n",
       " 'verdict': 'The texts exhibit a strong semantic similarity, with a BERTScore F1 of 0.73, indicating effective alignment in meaning and content coverage.',\n",
       " 'detailed_scores': {'precision': 0.7337794303894043,\n",
       "  'recall': 0.7299679517745972,\n",
       "  'f1': 0.7318687334587908,\n",
       "  'details': {'avg_precision_similarity': 0.7337794303894043,\n",
       "   'avg_recall_similarity': 0.7299679517745972,\n",
       "   'token_matches': 7491,\n",
       "   'max_similarity': 0.981989860534668,\n",
       "   'min_similarity': -0.0582532063126564}}}"
      ]
     },
     "execution_count": 11,
     "metadata": {},
     "output_type": "execute_result"
    }
   ],
   "source": [
    "results[\"BertScore\"]"
   ]
  },
  {
   "cell_type": "code",
   "execution_count": 12,
   "metadata": {},
   "outputs": [
    {
     "data": {
      "text/plain": [
       "0.63"
      ]
     },
     "execution_count": 12,
     "metadata": {},
     "output_type": "execute_result"
    }
   ],
   "source": [
    "# Get final score\n",
    "final_score = evaluator.calculate_evaluation_score()\n",
    "final_score"
   ]
  },
  {
   "cell_type": "code",
   "execution_count": 13,
   "metadata": {},
   "outputs": [
    {
     "name": "stdout",
     "output_type": "stream",
     "text": [
      "Metric contributions: {'FactualConsistency': 0.1477, 'BertScore': 0.1098, 'Relevance': 0.0895, 'StructureQuality': 0.0668, 'Conciseness': 0.0574, 'InformationCoverage': 0.0552, 'Toxicity': 0.04, 'GEval': 0.0366, 'Rouge': 0.0194, 'Meteor': 0.0105, 'Bleu': 0.0003}\n"
     ]
    }
   ],
   "source": [
    "# Analyze metric contributions\n",
    "contributions = evaluator.get_metric_contributions()\n",
    "print(\"Metric contributions:\", contributions)"
   ]
  },
  {
   "cell_type": "code",
   "execution_count": null,
   "metadata": {},
   "outputs": [],
   "source": []
  }
 ],
 "metadata": {
  "kernelspec": {
   "display_name": ".venv",
   "language": "python",
   "name": "python3"
  },
  "language_info": {
   "codemirror_mode": {
    "name": "ipython",
    "version": 3
   },
   "file_extension": ".py",
   "mimetype": "text/x-python",
   "name": "python",
   "nbconvert_exporter": "python",
   "pygments_lexer": "ipython3",
   "version": "3.12.0"
  }
 },
 "nbformat": 4,
 "nbformat_minor": 2
}
