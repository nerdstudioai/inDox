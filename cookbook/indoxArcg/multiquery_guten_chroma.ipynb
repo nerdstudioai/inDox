{
 "cells": [
  {
   "cell_type": "markdown",
   "id": "3b8b50c8955b671b",
   "metadata": {},
   "source": [
    "# Using Multi-Query Retrieval with GutenbergReader for Accessing Project Gutenberg Books\n",
    "In this notebook, we will demonstrate how to enhance your document retrieval by using Multi-Query Retrieval (MQR) with the `GutenbergReader` class for accessing books from Project Gutenberg. Multi-Query Retrieval helps improve the comprehensiveness of retrieved data by breaking down a single query into multiple sub-queries, each focusing on different aspects of the question. This technique allows for more accurate and diverse retrieval of content, making it particularly useful for research and question-answering systems.\n",
    "\n",
    "To get started, ensure you have your Project Gutenberg book IDs ready for fetching the content. This setup is crucial for accessing and processing book data effectively.\n",
    "\n",
    "To begin, ensure you have set up your environment variables and API keys in Python using the dotenv library. This is crucial for securely managing sensitive information, such as API keys, especially when using services like HuggingFace. Ensure your `HUGGINGFACE_API_KEY` and `INDOX_API_KEY` are defined in the `.env` file to avoid hardcoding sensitive data into your codebase, thus enhancing security and maintainability.\n",
    "\n",
    "[![Open In Colab](https://colab.research.google.com/assets/colab-badge.svg)](https://colab.research.google.com/github/osllmai/inDox/blob/master/cookbook/indoxArcg/multiquery_guten_chroma.ipynb)"
   ]
  },
  {
   "cell_type": "code",
   "execution_count": null,
   "id": "402b1185e6566f03",
   "metadata": {
    "ExecuteTime": {
     "start_time": "2024-09-08T06:20:55.222776Z"
    }
   },
   "outputs": [],
   "source": [
    "!pip install indoxArcg\n",
    "!pip install chromadb\n",
    "!pip install beautifulsoup4\n",
    "!pip install sentence_transformers\n",
    "!pip install semantic_text_splitter"
   ]
  },
  {
   "cell_type": "markdown",
   "id": "34666a88534518cf",
   "metadata": {},
   "source": [
    "## Setting Up the Python Environment\n",
    "\n",
    "If you are running this project in your local IDE, please create a Python environment to ensure all dependencies are correctly managed. You can follow the steps below to set up a virtual environment named `indoxArcg`:\n",
    "\n",
    "### Windows\n",
    "\n",
    "1. **Create the virtual environment:**\n",
    "```bash\n",
    "python -m venv indoxArcg\n",
    "```\n",
    "2. **Activate the virtual environment:**\n",
    "```bash\n",
    "indoxArcg\\Scripts\\activate\n",
    "```\n",
    "\n",
    "### macOS/Linux\n",
    "\n",
    "1. **Create the virtual environment:**\n",
    "   ```bash\n",
    "   python3 -m venv indoxArcg\n",
    "    ```\n",
    "\n",
    "2. **Activate the virtual environment:**\n",
    "    ```bash\n",
    "   source indoxArcg/bin/activate\n",
    "    ```\n",
    "### Install Dependencies\n",
    "\n",
    "Once the virtual environment is activated, install the required dependencies by running:\n",
    "\n",
    "```bash\n",
    "pip install -r requirements.txt\n",
    "```\n"
   ]
  },
  {
   "cell_type": "markdown",
   "id": "4961379b71c5d3fc",
   "metadata": {},
   "source": [
    "## Import Essential Libraries\n",
    "\n",
    "Next, we import the essential libraries for our Indox question-answering system:\n",
    "\n",
    "- `RAG`: Enhances the retrieval process by improving the relevance and quality of the documents retrieved, leading to better QA performance.\n",
    "- `OpenAI Model`: A powerful question-answering model provided by OpenAI. It leverages advanced multi-query retrieval and state-of-the-art language understanding to deliver more comprehensive and precise answers by capturing diverse aspects of the query.\n",
    "- `HuggingFaceEmbedding`: This library uses Hugging Face embeddings to enrich semantic understanding, making it easier to capture the contextual meaning of the text.\n",
    "- `SemanticTextSplitter`: utilizes a Hugging Face tokenizer to intelligently split text into chunks based on a specified maximum number of tokens, ensuring that each chunk maintains semantic coherence."
   ]
  },
  {
   "cell_type": "code",
   "execution_count": 1,
   "id": "dfc9daa14417b6e9",
   "metadata": {
    "ExecuteTime": {
     "end_time": "2024-09-10T11:57:00.112058Z",
     "start_time": "2024-09-10T11:57:00.095174Z"
    }
   },
   "outputs": [],
   "source": [
    "import os\n",
    "from dotenv import load_dotenv\n",
    "\n",
    "load_dotenv('api.env')\n",
    "\n",
    "HUGGINGFACE_API_KEY = os.environ['HUGGINGFACE_API_KEY']\n",
    "INDOX_API_KEY = os.environ['INDOX_API_KEY']"
   ]
  },
  {
   "cell_type": "markdown",
   "id": "e631854ff3240f6a",
   "metadata": {},
   "source": [
    "## Building the GutenbergReader System and Initializing Models\n",
    "Next, we will build our `GutenbergReader` system and initialize the necessary models for processing content from Project Gutenberg. This setup will enable us to effectively retrieve and handle texts from Gutenberg's collection, leveraging these models to support various research and question-answering tasks."
   ]
  },
  {
   "cell_type": "code",
   "execution_count": null,
   "id": "aad9a7a29fc81465",
   "metadata": {
    "ExecuteTime": {
     "end_time": "2024-09-10T11:57:11.496042Z",
     "start_time": "2024-09-10T11:57:04.965890Z"
    }
   },
   "outputs": [
    {
     "name": "stdout",
     "output_type": "stream",
     "text": [
      "\u001b[32mINFO\u001b[0m: \u001b[1mInitialized HuggingFaceEmbedding with model: multi-qa-mpnet-base-cos-v1\u001b[0m\n"
     ]
    }
   ],
   "source": [
    "from indoxArcg.llms import IndoxApi\n",
    "from indoxArcg.embeddings import HuggingFaceEmbedding\n",
    "\n",
    "openai_model = IndoxApi(api_key=INDOX_API_KEY)\n",
    "embed = HuggingFaceEmbedding(api_key=HUGGINGFACE_API_KEY,model=\"multi-qa-mpnet-base-cos-v1\")"
   ]
  },
  {
   "cell_type": "markdown",
   "id": "4c29659851115c85",
   "metadata": {},
   "source": [
    "## Setting Up the GutenbergReader for Retrieving Book Content\n",
    "To demonstrate the capabilities of our `GutenbergReader` system and its integration with `indoxArcg`, we will use a sample book from Project Gutenberg. This book will serve as our reference data, which we will use for testing and evaluation of the system."
   ]
  },
  {
   "cell_type": "code",
   "execution_count": null,
   "id": "ff2ba25cec5cb1a",
   "metadata": {
    "ExecuteTime": {
     "end_time": "2024-09-10T11:58:03.657509Z",
     "start_time": "2024-09-10T11:58:00.643737Z"
    }
   },
   "outputs": [],
   "source": [
    "from indoxArcg.data_connectors import GutenbergReader\n",
    "\n",
    "reader = GutenbergReader()\n",
    "\n",
    "book_id = \"11\"  # Alice's Adventures in Wonderland\n",
    "content = reader.get_content(book_id)"
   ]
  },
  {
   "cell_type": "markdown",
   "id": "bf7b838e3518614d",
   "metadata": {},
   "source": [
    "## Splitting Content into Manageable Chunks\n",
    "We use the `SemanticTextSplitter` function from the `indoxArcg.splitter` module to divide the retrieved content into smaller, meaningful chunks."
   ]
  },
  {
   "cell_type": "code",
   "execution_count": null,
   "id": "835fe1c42c4e31df",
   "metadata": {
    "ExecuteTime": {
     "end_time": "2024-09-10T11:58:07.769553Z",
     "start_time": "2024-09-10T11:58:06.826386Z"
    }
   },
   "outputs": [],
   "source": [
    "from indoxArcg.splitter import SemanticTextSplitter\n",
    "splitter = SemanticTextSplitter(400)\n",
    "content_chunks = splitter.split_text(content)"
   ]
  },
  {
   "cell_type": "markdown",
   "id": "41c4ec0584b71cc9",
   "metadata": {},
   "source": [
    "## Storing and Indexing Content with Chroma\n",
    "We use the `Chroma` vector store from the `indoxArcg.vector_stores` module to store and index the content chunks. By creating a collection named \"sample\" and applying an embedding function (`embed`), we convert each chunk into a vector for efficient retrieval. The `add` method then adds these vectors to the database, enabling scalable and effective search for question-answering tasks."
   ]
  },
  {
   "cell_type": "code",
   "execution_count": null,
   "id": "4636c3ad55b48d94",
   "metadata": {
    "ExecuteTime": {
     "end_time": "2024-09-10T11:58:39.119687Z",
     "start_time": "2024-09-10T11:58:36.165637Z"
    }
   },
   "outputs": [
    {
     "name": "stderr",
     "output_type": "stream",
     "text": [
      "2024-09-10 15:28:36,632 - chromadb.telemetry.product.posthog - INFO - Anonymized telemetry enabled. See                     https://docs.trychroma.com/telemetry for more information.\n"
     ]
    },
    {
     "name": "stdout",
     "output_type": "stream",
     "text": [
      "\u001b[32mINFO\u001b[0m: \u001b[1mStoring documents in the vector store\u001b[0m\n",
      "\u001b[32mINFO\u001b[0m: \u001b[1mEmbedding documents\u001b[0m\n",
      "\u001b[32mINFO\u001b[0m: \u001b[1mStarting to fetch embeddings for texts using model: SentenceTransformer(\n",
      "  (0): Transformer({'max_seq_length': 512, 'do_lower_case': False}) with Transformer model: MPNetModel \n",
      "  (1): Pooling({'word_embedding_dimension': 768, 'pooling_mode_cls_token': False, 'pooling_mode_mean_tokens': True, 'pooling_mode_max_tokens': False, 'pooling_mode_mean_sqrt_len_tokens': False, 'pooling_mode_weightedmean_tokens': False, 'pooling_mode_lasttoken': False, 'include_prompt': True})\n",
      "  (2): Normalize()\n",
      ")\u001b[0m\n"
     ]
    },
    {
     "name": "stderr",
     "output_type": "stream",
     "text": [
      "Batches: 100%|██████████| 4/4 [00:02<00:00,  1.91it/s]\n"
     ]
    },
    {
     "name": "stdout",
     "output_type": "stream",
     "text": [
      "\u001b[32mINFO\u001b[0m: \u001b[1mDocument added successfully to the vector store.\u001b[0m\n",
      "\u001b[32mINFO\u001b[0m: \u001b[1mDocuments stored successfully\u001b[0m\n"
     ]
    }
   ],
   "source": [
    "from indoxArcg.vector_stores import Chroma\n",
    "db = Chroma(collection_name=\"sample\",embedding_function=embed)\n",
    "db.add(docs=content_chunks)\n"
   ]
  },
  {
   "cell_type": "markdown",
   "id": "49a60699b567fcb7",
   "metadata": {},
   "source": [
    "## Querying Data with GPT and Indox Multi-Query Retrieval\n",
    "With our multi-query retrieval system using GPT and Indox fully set up, we are ready to test it using a sample query. This test will demonstrate how effectively our system can retrieve and process information from a vector database using the GPT model.\n",
    "\n",
    "We’ll use the following sample query to evaluate our system:\n",
    "\n",
    "- Query: \"Who is the speaker talking to in the text?\"\n",
    "\n",
    "This query will be processed by the multi-query retrieval system, where multiple sub-queries will be generated and run against the vector database to retrieve relevant information and generate an accurate response based on the context."
   ]
  },
  {
   "cell_type": "code",
   "execution_count": 9,
   "id": "e5491a3fc81dcc93",
   "metadata": {
    "ExecuteTime": {
     "end_time": "2024-09-10T11:58:47.023139Z",
     "start_time": "2024-09-10T11:58:43.045696Z"
    }
   },
   "outputs": [
    {
     "name": "stdout",
     "output_type": "stream",
     "text": [
      "\u001b[32mINFO\u001b[0m: \u001b[1mMulti-query retrieval initialized\u001b[0m\n",
      "\u001b[32mINFO\u001b[0m: \u001b[1mRunning multi-query retrieval for: Who is the speaker talking to in the text?\u001b[0m\n",
      "\u001b[32mINFO\u001b[0m: \u001b[1mGenerated queries: [\"Here are three different queries you can use to gather information about the speaker's audience in a given text:\", '1. **Contextual Analysis Query**: \"What contextual clues in the text indicate the identity or characteristics of the audience the speaker is addressing?\"', '2. **Dialogue and Interaction Query**: \"Are there any direct references or dialogue in the text that reveal who the speaker is communicating with? What phrases or sentences suggest the relationship between the speaker and the audience?\"', '3. **Purpose and Tone Query**: \"What is the purpose of the speaker\\'s message, and how does the tone of the text help identify the intended audience? Are there specific themes or topics that suggest who the speaker is trying to reach?\"']\u001b[0m\n",
      "\u001b[32mINFO\u001b[0m: \u001b[1mEmbedding documents\u001b[0m\n",
      "\u001b[32mINFO\u001b[0m: \u001b[1mStarting to fetch embeddings for texts using model: SentenceTransformer(\n",
      "  (0): Transformer({'max_seq_length': 512, 'do_lower_case': False}) with Transformer model: MPNetModel \n",
      "  (1): Pooling({'word_embedding_dimension': 768, 'pooling_mode_cls_token': False, 'pooling_mode_mean_tokens': True, 'pooling_mode_max_tokens': False, 'pooling_mode_mean_sqrt_len_tokens': False, 'pooling_mode_weightedmean_tokens': False, 'pooling_mode_lasttoken': False, 'include_prompt': True})\n",
      "  (2): Normalize()\n",
      ")\u001b[0m\n"
     ]
    },
    {
     "name": "stderr",
     "output_type": "stream",
     "text": [
      "Batches: 100%|██████████| 1/1 [00:00<00:00, 80.53it/s]"
     ]
    },
    {
     "name": "stdout",
     "output_type": "stream",
     "text": [
      "\u001b[32mINFO\u001b[0m: \u001b[1mEmbedding documents\u001b[0m\n",
      "\u001b[32mINFO\u001b[0m: \u001b[1mStarting to fetch embeddings for texts using model: SentenceTransformer(\n",
      "  (0): Transformer({'max_seq_length': 512, 'do_lower_case': False}) with Transformer model: MPNetModel \n",
      "  (1): Pooling({'word_embedding_dimension': 768, 'pooling_mode_cls_token': False, 'pooling_mode_mean_tokens': True, 'pooling_mode_max_tokens': False, 'pooling_mode_mean_sqrt_len_tokens': False, 'pooling_mode_weightedmean_tokens': False, 'pooling_mode_lasttoken': False, 'include_prompt': True})\n",
      "  (2): Normalize()\n",
      ")\u001b[0m\n"
     ]
    },
    {
     "name": "stderr",
     "output_type": "stream",
     "text": [
      "\n",
      "Batches: 100%|██████████| 1/1 [00:00<00:00, 205.16it/s]"
     ]
    },
    {
     "name": "stdout",
     "output_type": "stream",
     "text": [
      "\u001b[32mINFO\u001b[0m: \u001b[1mEmbedding documents\u001b[0m\n",
      "\u001b[32mINFO\u001b[0m: \u001b[1mStarting to fetch embeddings for texts using model: SentenceTransformer(\n",
      "  (0): Transformer({'max_seq_length': 512, 'do_lower_case': False}) with Transformer model: MPNetModel \n",
      "  (1): Pooling({'word_embedding_dimension': 768, 'pooling_mode_cls_token': False, 'pooling_mode_mean_tokens': True, 'pooling_mode_max_tokens': False, 'pooling_mode_mean_sqrt_len_tokens': False, 'pooling_mode_weightedmean_tokens': False, 'pooling_mode_lasttoken': False, 'include_prompt': True})\n",
      "  (2): Normalize()\n",
      ")\u001b[0m\n"
     ]
    },
    {
     "name": "stderr",
     "output_type": "stream",
     "text": [
      "\n",
      "Batches: 100%|██████████| 1/1 [00:00<00:00, 205.57it/s]"
     ]
    },
    {
     "name": "stdout",
     "output_type": "stream",
     "text": [
      "\u001b[32mINFO\u001b[0m: \u001b[1mEmbedding documents\u001b[0m\n",
      "\u001b[32mINFO\u001b[0m: \u001b[1mStarting to fetch embeddings for texts using model: SentenceTransformer(\n",
      "  (0): Transformer({'max_seq_length': 512, 'do_lower_case': False}) with Transformer model: MPNetModel \n",
      "  (1): Pooling({'word_embedding_dimension': 768, 'pooling_mode_cls_token': False, 'pooling_mode_mean_tokens': True, 'pooling_mode_max_tokens': False, 'pooling_mode_mean_sqrt_len_tokens': False, 'pooling_mode_weightedmean_tokens': False, 'pooling_mode_lasttoken': False, 'include_prompt': True})\n",
      "  (2): Normalize()\n",
      ")\u001b[0m\n"
     ]
    },
    {
     "name": "stderr",
     "output_type": "stream",
     "text": [
      "\n",
      "Batches: 100%|██████████| 1/1 [00:00<00:00, 222.49it/s]"
     ]
    },
    {
     "name": "stdout",
     "output_type": "stream",
     "text": [
      "\u001b[32mINFO\u001b[0m: \u001b[1mRetrieved 12 relevant passages\u001b[0m\n"
     ]
    },
    {
     "name": "stderr",
     "output_type": "stream",
     "text": [
      "\n"
     ]
    },
    {
     "name": "stdout",
     "output_type": "stream",
     "text": [
      "\u001b[32mINFO\u001b[0m: \u001b[1mGenerated final response\u001b[0m\n"
     ]
    }
   ],
   "source": [
    "query = \"Who is the speaker talking to in the text?\"\n",
    "from indoxArcg.pipelines.rag import RAG\n",
    "retriever = RAG(llm=openai_model,vector_store=db,top_k= 5)\n",
    "answer = retriever.infer(query)\n"
   ]
  },
  {
   "cell_type": "code",
   "execution_count": 10,
   "id": "a1edb80591b75581",
   "metadata": {
    "ExecuteTime": {
     "end_time": "2024-09-10T11:58:51.482901Z",
     "start_time": "2024-09-10T11:58:51.477949Z"
    }
   },
   "outputs": [
    {
     "data": {
      "text/plain": [
       "\"The speaker, Alice, is talking to the Queen in the text. The dialogue indicates a confrontation between Alice and the Queen, where Alice challenges the Queen's authority and logic during the trial scene. The Queen responds to Alice's comments, leading to a heated exchange.\""
      ]
     },
     "execution_count": 10,
     "metadata": {},
     "output_type": "execute_result"
    }
   ],
   "source": [
    "answer"
   ]
  }
 ],
 "metadata": {
  "kernelspec": {
   "display_name": "Python 3",
   "language": "python",
   "name": "python3"
  },
  "language_info": {
   "codemirror_mode": {
    "name": "ipython",
    "version": 2
   },
   "file_extension": ".py",
   "mimetype": "text/x-python",
   "name": "python",
   "nbconvert_exporter": "python",
   "pygments_lexer": "ipython2",
   "version": "2.7.6"
  }
 },
 "nbformat": 4,
 "nbformat_minor": 5
}
