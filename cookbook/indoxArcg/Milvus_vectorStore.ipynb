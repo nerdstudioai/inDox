{
 "cells": [
  {
   "cell_type": "markdown",
   "id": "e1c6f14d66028af0",
   "metadata": {},
   "source": [
    "[![Open In Colab](https://colab.research.google.com/assets/colab-badge.svg)](https://colab.research.google.com/github/osllmai/inDox/blob/master/cookbook/indoxArcg/Milvus_vectorStore.ipynb)"
   ]
  },
  {
   "cell_type": "code",
   "execution_count": null,
   "id": "c01cb3001355800c",
   "metadata": {
    "ExecuteTime": {
     "end_time": "2024-08-19T08:21:24.415483Z",
     "start_time": "2024-08-19T08:21:24.399863Z"
    }
   },
   "outputs": [],
   "source": [
    "!pip install indoxArcg\n",
    "!pip install openai\n",
    "!pip install pymilvus"
   ]
  },
  {
   "cell_type": "markdown",
   "id": "6a04bcbe90c4a64a",
   "metadata": {},
   "source": [
    "## Setting Up the Python Environment\n",
    "\n",
    "If you are running this project in your local IDE, please create a Python environment to ensure all dependencies are correctly managed. You can follow the steps below to set up a virtual environment named `indoxArcg`:\n",
    "\n",
    "### Windows\n",
    "\n",
    "1. **Create the virtual environment:**\n",
    "```bash\n",
    "python -m venv indoxArcg\n",
    "```\n",
    "2. **Activate the virtual environment:**\n",
    "```bash\n",
    "indoxArcg\\Scripts\\activate\n",
    "```\n",
    "\n",
    "### macOS/Linux\n",
    "\n",
    "1. **Create the virtual environment:**\n",
    "   ```bash\n",
    "   python3 -m venv indoxArcg\n",
    "```\n",
    "\n",
    "2. **Activate the virtual environment:**\n",
    "    ```bash\n",
    "   source indoxArcg/bin/activate\n",
    "```\n",
    "### Install Dependencies\n",
    "\n",
    "Once the virtual environment is activated, install the required dependencies by running:\n",
    "\n",
    "```bash\n",
    "pip install -r requirements.txt\n",
    "```\n"
   ]
  },
  {
   "cell_type": "code",
   "execution_count": 2,
   "id": "89b429c2eb7158d4",
   "metadata": {
    "ExecuteTime": {
     "end_time": "2024-08-19T08:21:24.446731Z",
     "start_time": "2024-08-19T08:21:24.415483Z"
    }
   },
   "outputs": [],
   "source": [
    "import os\n",
    "from dotenv import load_dotenv\n",
    "\n",
    "load_dotenv()\n",
    "INDOX_API_KEY = os.getenv(\"INDOX_API_KEY\")"
   ]
  },
  {
   "cell_type": "markdown",
   "id": "1d2cd8177d6b2a04",
   "metadata": {},
   "source": [
    "## Initial Setup\n",
    "\n",
    "The following imports are essential for setting up the Indox application. These imports include the main Indox retrieval augmentation module, question-answering models, embeddings, and data loader splitter.\n"
   ]
  },
  {
   "cell_type": "code",
   "execution_count": null,
   "id": "4913f040c7a7cc47",
   "metadata": {
    "ExecuteTime": {
     "end_time": "2024-08-19T08:21:33.484886Z",
     "start_time": "2024-08-19T08:21:24.446731Z"
    }
   },
   "outputs": [],
   "source": [
    "from indoxArcg.llms import IndoxApi\n",
    "from indoxArcg.embeddings import IndoxApiEmbedding\n",
    "from indoxArcg.data_loader_splitter import ClusteredSplit"
   ]
  },
  {
   "cell_type": "code",
   "execution_count": 4,
   "id": "ed7debc4ad3e265c",
   "metadata": {
    "ExecuteTime": {
     "end_time": "2024-08-19T08:21:33.500415Z",
     "start_time": "2024-08-19T08:21:33.484886Z"
    }
   },
   "outputs": [
    {
     "name": "stdout",
     "output_type": "stream",
     "text": [
      "\u001b[32mINFO\u001b[0m: \u001b[1mIndoxRetrievalAugmentation initialized\u001b[0m\n",
      "\n",
      "            ██  ███    ██  ██████   ██████  ██       ██\n",
      "            ██  ████   ██  ██   ██ ██    ██   ██  ██\n",
      "            ██  ██ ██  ██  ██   ██ ██    ██     ██\n",
      "            ██  ██  ██ ██  ██   ██ ██    ██   ██   ██\n",
      "            ██  ██  █████  ██████   ██████  ██       ██\n",
      "            \n",
      "\u001b[32mINFO\u001b[0m: \u001b[1mInitialized IndoxOpenAIEmbedding with model: text-embedding-3-small\u001b[0m\n"
     ]
    }
   ],
   "source": [
    "openai_qa_indox = IndoxApi(api_key=INDOX_API_KEY)\n",
    "embed_openai_indox = IndoxApiEmbedding(api_key=INDOX_API_KEY, model=\"text-embedding-3-small\")\n"
   ]
  },
  {
   "cell_type": "code",
   "execution_count": 5,
   "id": "92a897777c05b994",
   "metadata": {
    "ExecuteTime": {
     "end_time": "2024-08-19T08:21:33.516046Z",
     "start_time": "2024-08-19T08:21:33.500415Z"
    }
   },
   "outputs": [],
   "source": [
    "#!wget https://raw.githubusercontent.com/osllmai/inDox/master/Demo/sample.txt"
   ]
  },
  {
   "cell_type": "code",
   "execution_count": 6,
   "id": "db28a0b7613baa53",
   "metadata": {
    "ExecuteTime": {
     "end_time": "2024-08-19T08:21:33.531666Z",
     "start_time": "2024-08-19T08:21:33.516046Z"
    }
   },
   "outputs": [
    {
     "name": "stdout",
     "output_type": "stream",
     "text": [
      "\u001b[32mINFO\u001b[0m: \u001b[1mClusteredSplit initialized successfully\u001b[0m\n"
     ]
    }
   ],
   "source": [
    "file_path = \"sample.txt\"\n",
    "loader_splitter = ClusteredSplit(file_path=file_path, embeddings=embed_openai_indox, summary_model=openai_qa_indox)\n",
    "docs = loader_splitter.load_and_chunk()"
   ]
  },
  {
   "cell_type": "code",
   "execution_count": null,
   "id": "10b0426bd5e54bcb",
   "metadata": {
    "ExecuteTime": {
     "end_time": "2024-08-19T08:21:33.548105Z",
     "start_time": "2024-08-19T08:21:33.532469Z"
    }
   },
   "outputs": [],
   "source": [
    "from indoxArcg.vector_stores import Milvus"
   ]
  },
  {
   "cell_type": "markdown",
   "id": "130106198e16a841",
   "metadata": {},
   "source": [
    "## Vector Store Connection and Document Storage\n",
    "\n",
    "In this step, we connect the Indox application to the vector store and store the processed documents.\n"
   ]
  },
  {
   "cell_type": "code",
   "execution_count": null,
   "id": "6bd9ba0b18142297",
   "metadata": {
    "ExecuteTime": {
     "end_time": "2024-08-19T08:21:33.627094Z",
     "start_time": "2024-08-19T08:21:33.548105Z"
    }
   },
   "outputs": [],
   "source": [
    "db = Milvus(collection_name=\"sample\", embedding_model=embed_openai_indox)\n",
    "db.add(docs=docs)"
   ]
  },
  {
   "cell_type": "markdown",
   "id": "6cb84f6e28269605",
   "metadata": {},
   "source": [
    "## Querying and Interpreting the Response\n",
    "\n",
    "In this step, we query the Indox application with a specific question and use the QA model to get the response. \n",
    "\n"
   ]
  },
  {
   "cell_type": "code",
   "execution_count": 12,
   "id": "3c817157f628bc59",
   "metadata": {
    "ExecuteTime": {
     "end_time": "2024-08-19T08:27:20.898316Z",
     "start_time": "2024-08-19T08:26:57.382760Z"
    }
   },
   "outputs": [
    {
     "name": "stdout",
     "output_type": "stream",
     "text": [
      "\u001b[32mINFO\u001b[0m: \u001b[1mRetrieving context and scores from the vector database\u001b[0m\n",
      "\u001b[32mINFO\u001b[0m: \u001b[1mEmbedding documents\u001b[0m\n",
      "\u001b[32mINFO\u001b[0m: \u001b[1mStarting to fetch embeddings texts using engine: text-embedding-3-small\u001b[0m\n",
      "\u001b[32mINFO\u001b[0m: \u001b[1mGenerating answer without document relevancy filter\u001b[0m\n",
      "\u001b[32mINFO\u001b[0m: \u001b[1mQuery answered successfully\u001b[0m\n"
     ]
    },
    {
     "data": {
      "text/plain": [
       "\"In the story of Cinderella, she reaches her happy ending through her kindness, resilience, and unwavering belief in goodness. Despite facing hardships and mistreatment from her stepfamily, Cinderella remains true to herself and never loses hope. With the help of her fairy godmother, she is able to attend the royal ball and capture the heart of the prince. Ultimately, Cinderella's pure heart and inner strength lead her to her happy ending, where she is rewarded for her virtues and finds love and happiness.\""
      ]
     },
     "execution_count": 12,
     "metadata": {},
     "output_type": "execute_result"
    }
   ],
   "source": [
    "query = \"How cinderella reach her happy ending?\"\n",
    "from indoxArcg.pipelines.rag import RAG\n",
    "retriever = RAG(llm=openai_qa_indox,vector_store=db,top_k= 5)\n",
    "answer = retriever.infer(query)\n",
    "answer"
   ]
  },
  {
   "cell_type": "code",
   "execution_count": null,
   "id": "2a9068885addfe2a",
   "metadata": {},
   "outputs": [],
   "source": []
  }
 ],
 "metadata": {
  "kernelspec": {
   "display_name": "Python 3",
   "language": "python",
   "name": "python3"
  },
  "language_info": {
   "codemirror_mode": {
    "name": "ipython",
    "version": 2
   },
   "file_extension": ".py",
   "mimetype": "text/x-python",
   "name": "python",
   "nbconvert_exporter": "python",
   "pygments_lexer": "ipython2",
   "version": "2.7.6"
  }
 },
 "nbformat": 4,
 "nbformat_minor": 5
}
