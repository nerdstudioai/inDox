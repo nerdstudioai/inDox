{
 "cells": [
  {
   "cell_type": "markdown",
   "id": "7e95779738aca6f6",
   "metadata": {},
   "source": [
    "# Quick Start"
   ]
  },
  {
   "cell_type": "markdown",
   "id": "f24e01441be4b95",
   "metadata": {},
   "source": [
    "[![Open In Colab](https://colab.research.google.com/assets/colab-badge.svg)](https://colab.research.google.com/github/osllmai/inDox/blob/master/cookbook/indoxArcg/quick_start.ipynb)"
   ]
  },
  {
   "cell_type": "code",
   "execution_count": null,
   "id": "2e19065cca32a590",
   "metadata": {},
   "outputs": [],
   "source": [
    "!pip install indoxArcg\n",
    "!pip install openai\n",
    "!pip install chromadb\n",
    "!pip install semantic_text_splitter"
   ]
  },
  {
   "cell_type": "markdown",
   "id": "ad09035513fec084",
   "metadata": {},
   "source": [
    "## Setting Up the Python Environment\n",
    "\n",
    "If you are running this project in your local IDE, please create a Python environment to ensure all dependencies are correctly managed. You can follow the steps below to set up a virtual environment named `indoxArcg`:\n",
    "\n",
    "### Windows\n",
    "\n",
    "1. **Create the virtual environment:**\n",
    "```bash\n",
    "python -m venv indoxArcg\n",
    "```\n",
    "2. **Activate the virtual environment:**\n",
    "```bash\n",
    "indoxArcg\\Scripts\\activate\n",
    "```\n",
    "\n",
    "### macOS/Linux\n",
    "\n",
    "1. **Create the virtual environment:**\n",
    "   ```bash\n",
    "   python3 -m venv indoxArcg\n",
    "```\n",
    "\n",
    "2. **Activate the virtual environment:**\n",
    "    ```bash\n",
    "   source indoxArcg/bin/activate\n",
    "```\n",
    "### Install Dependencies\n",
    "\n",
    "Once the virtual environment is activated, install the required dependencies by running:\n",
    "\n",
    "```bash\n",
    "pip install -r requirements.txt\n",
    "```\n"
   ]
  },
  {
   "cell_type": "code",
   "execution_count": 1,
   "id": "0eb3ec04",
   "metadata": {},
   "outputs": [],
   "source": [
    "import sys\n",
    "import os\n",
    "module_path = os.path.abspath('E:/Codes/inDox/libs/indoxArcg')\n",
    "if module_path not in sys.path:\n",
    "    sys.path.append(module_path)\n",
    "\n",
    "\n"
   ]
  },
  {
   "cell_type": "code",
   "execution_count": 2,
   "id": "88e8c38ba3b8886d",
   "metadata": {
    "ExecuteTime": {
     "end_time": "2024-09-01T14:36:36.955800Z",
     "start_time": "2024-09-01T14:36:36.936731Z"
    }
   },
   "outputs": [],
   "source": [
    "import os\n",
    "from dotenv import load_dotenv\n",
    "\n",
    "load_dotenv()\n",
    "\n",
    "OPENAI_API_KEY = os.environ['OPENAI_API_KEY']"
   ]
  },
  {
   "cell_type": "markdown",
   "id": "ac995737f9b2fe6e",
   "metadata": {},
   "source": [
    "## Initial Setup\n",
    "\n",
    "The following imports are essential for setting up the Indox application. These imports include the main Indox retrieval augmentation module, question-answering models, embeddings, and data loader splitter."
   ]
  },
  {
   "cell_type": "markdown",
   "id": "759db8f502cbd91f",
   "metadata": {},
   "source": [
    "### Generating response using OpenAI's language models \n",
    "OpenAIQA class is used to handle question-answering task using OpenAI's language models. This instance creates OpenAiEmbedding class to specifying embedding model. Here ChromaVectorStore handles the storage and retrieval of vector embeddings by specifying a collection name and sets up a vector store where text embeddings can be stored and queried."
   ]
  },
  {
   "cell_type": "code",
   "execution_count": 3,
   "id": "f32d98545c6d3c3c",
   "metadata": {},
   "outputs": [
    {
     "name": "stdout",
     "output_type": "stream",
     "text": [
      "\u001b[32mINFO\u001b[0m: \u001b[1mInitializing OpenAi with model: gpt-4o-mini\u001b[0m\n",
      "\u001b[32mINFO\u001b[0m: \u001b[1mOpenAi initialized successfully\u001b[0m\n",
      "\u001b[32mINFO\u001b[0m: \u001b[1mInitialized OpenAiEmbedding with model: text-embedding-3-small\u001b[0m\n"
     ]
    },
    {
     "name": "stderr",
     "output_type": "stream",
     "text": [
      "2025-01-19 19:44:45,358 - chromadb.telemetry.product.posthog - INFO - Anonymized telemetry enabled. See                     https://docs.trychroma.com/telemetry for more information.\n"
     ]
    }
   ],
   "source": [
    "from indoxArcg.embeddings import OpenAiEmbedding\n",
    "from indoxArcg.llms import OpenAi\n",
    "\n",
    "openai_qa = OpenAi(api_key=OPENAI_API_KEY, model=\"gpt-4o-mini\")\n",
    "embed_openai = OpenAiEmbedding(api_key=OPENAI_API_KEY, model=\"text-embedding-3-small\")\n",
    "\n",
    "from indoxArcg.vector_stores import Chroma\n",
    "db = Chroma(collection_name=\"sample\",embedding_function=embed_openai)"
   ]
  },
  {
   "cell_type": "markdown",
   "id": "1e3408e8f8a8ad17",
   "metadata": {},
   "source": [
    "### load and preprocess data\n",
    "This part of code demonstrates how to load and preprocess text data from a file, split it into chunks, and store these chunks in the vector store that was set up previously."
   ]
  },
  {
   "cell_type": "code",
   "execution_count": null,
   "id": "e765b79a32060e9e",
   "metadata": {
    "ExecuteTime": {
     "end_time": "2024-08-17T11:00:23.407526Z",
     "start_time": "2024-08-17T11:00:23.224598Z"
    }
   },
   "outputs": [],
   "source": [
    "!wget https://raw.githubusercontent.com/osllmai/inDox/master/Demo/sample.txt"
   ]
  },
  {
   "cell_type": "code",
   "execution_count": 5,
   "id": "1d8e56a9f88e03cf",
   "metadata": {
    "ExecuteTime": {
     "end_time": "2024-09-01T08:47:15.288065Z",
     "start_time": "2024-09-01T08:47:15.283027Z"
    }
   },
   "outputs": [],
   "source": [
    "file_path = \"sample.txt\""
   ]
  },
  {
   "cell_type": "code",
   "execution_count": 6,
   "id": "827c44ce67f972c7",
   "metadata": {
    "ExecuteTime": {
     "end_time": "2024-09-01T08:48:25.155040Z",
     "start_time": "2024-09-01T08:48:25.146412Z"
    }
   },
   "outputs": [],
   "source": [
    "from indoxArcg.data_loaders import Txt\n",
    "\n",
    "loader = Txt(txt_path=file_path)\n",
    "doc = loader.load()"
   ]
  },
  {
   "cell_type": "code",
   "execution_count": 7,
   "id": "2f6baa4a0d0f3d47",
   "metadata": {
    "ExecuteTime": {
     "end_time": "2024-09-01T08:49:19.381095Z",
     "start_time": "2024-09-01T08:49:18.614398Z"
    }
   },
   "outputs": [],
   "source": [
    "from indoxArcg.splitter import SemanticTextSplitter\n",
    "splitter = SemanticTextSplitter(chunk_size=400)\n",
    "docs = splitter.split_text(doc)"
   ]
  },
  {
   "cell_type": "code",
   "execution_count": 8,
   "id": "ad4c9ce6ab25008a",
   "metadata": {
    "ExecuteTime": {
     "end_time": "2024-09-01T08:49:24.008259Z",
     "start_time": "2024-09-01T08:49:23.999623Z"
    }
   },
   "outputs": [
    {
     "data": {
      "text/plain": [
       "[\"The wife of a rich man fell sick, and as she felt that her end\\nwas drawing near, she called her only daughter to her bedside and\\nsaid, dear child, be good and pious, and then the\\ngood God will always protect you, and I will look down on you\\nfrom heaven and be near you.  Thereupon she closed her eyes and\\ndeparted.  Every day the maiden went out to her mother's grave,\\nand wept, and she remained pious and good.  When winter came\\nthe snow spread a white sheet over the grave, and by the time the\\nspring sun had drawn it off again, the man had taken another wife.\\nThe woman had brought with her into the house two daughters,\\nwho were beautiful and fair of face, but vile and black of heart.\\nNow began a bad time for the poor step-child.  Is the stupid goose\\nto sit in the parlor with us, they said.  He who wants to eat bread\\nmust earn it.  Out with the kitchen-wench.  They took her pretty\\nclothes away from her, put an old grey bedgown on her, and gave\\nher wooden shoes.  Just look at the proud princess, how decked\\nout she is, they cried, and laughed, and led her into the kitchen.\\nThere she had to do hard work from morning till night, get up\\nbefore daybreak, carry water, light fires, cook and wash.  Besides\\nthis, the sisters did her every imaginable injury - they mocked her\\nand emptied her peas and lentils into the ashes, so that she was\\nforced to sit and pick them out again.  In the evening when she had\\nworked till she was weary she had no bed to go to, but had to sleep\\nby the hearth in the cinders.  And as on that account she always\\nlooked dusty and dirty, they called her cinderella.\\nIt happened that the father was once going to the fair, and he\\nasked his two step-daughters what he should bring back for them.\",\n",
       " \"Beautiful dresses, said one, pearls and jewels, said the second.\\nAnd you, cinderella, said he, what will you have.  Father\\nbreak off for me the first branch which knocks against your hat on\\nyour way home.  So he bought beautiful dresses, pearls and jewels\\nfor his two step-daughters, and on his way home, as he was riding\\nthrough a green thicket, a hazel twig brushed against him and\\nknocked off his hat.  Then he broke off the branch and took it with\\nhim.  When he reached home he gave his step-daughters the things\\nwhich they had wished for, and to cinderella he gave the branch\\nfrom the hazel-bush.  Cinderella thanked him, went to her mother's\\ngrave and planted the branch on it, and wept so much that the tears\\nfell down on it and watered it.  And it grew and became a handsome\\ntree. Thrice a day cinderella went and sat beneath it, and wept and\\nprayed, and a little white bird always came on the tree, and if\\ncinderella expressed a wish, the bird threw down to her what she\\nhad wished for.\\nIt happened, however, that the king gave orders for a festival\\nwhich was to last three days, and to which all the beautiful young\\ngirls in the country were invited, in order that his son might choose\\nhimself a bride.  When the two step-sisters heard that they too were\\nto appear among the number, they were delighted, called cinderella\\nand said, comb our hair for us, brush our shoes and fasten our\\nbuckles, for we are going to the wedding at the king's palace.\\nCinderella obeyed, but wept, because she too would have liked to\\ngo with them to the dance, and begged her step-mother to allow\\nher to do so.  You go, cinderella, said she, covered in dust and\\ndirt as you are, and would go to the festival.  You have no clothes\\nand shoes, and yet would dance.  As, however, cinderella went on\",\n",
       " 'asking, the step-mother said at last, I have emptied a dish of\\nlentils into the ashes for you, if you have picked them out again in\\ntwo hours, you shall go with us.  The maiden went through the\\nback-door into the garden, and called, you tame pigeons, you\\nturtle-doves, and all you birds beneath the sky, come and help me\\nto pick\\n     the good into the pot,\\n     the bad into the crop.\\nThen two white pigeons came in by the kitchen window, and\\nafterwards the turtle-doves, and at last all the birds beneath the\\nsky, came whirring and crowding in, and alighted amongst the ashes.\\nAnd the pigeons nodded with their heads and began pick, pick,\\npick, pick, and the rest began also pick, pick, pick, pick, and\\ngathered all the good grains into the dish.  Hardly had one hour\\npassed before they had finished, and all flew out again.  Then the\\ngirl took the dish to her step-mother, and was glad, and believed\\nthat now she would be allowed to go with them to the festival.\\nBut the step-mother said, no, cinderella, you have no clothes and\\nyou can not dance.  You would only be laughed at.  And as\\ncinderella wept at this, the step-mother said, if you can pick two\\ndishes of lentils out of the ashes for me in one hour, you shall go\\nwith us.  And she thought to herself, that she most certainly\\ncannot do again.  When the step-mother had emptied the two\\ndishes of lentils amongst the ashes, the maiden went through the\\nback-door into the garden and cried, you tame pigeons, you\\nturtle-doves, and all you birds beneath the sky, come and help me\\nto pick\\n     the good into the pot,\\n     the bad into the crop.\\nThen two white pigeons came in by the kitchen-window, and',\n",
       " \"afterwards the turtle-doves, and at length all the birds beneath the\\nsky, came whirring and crowding in, and alighted amongst the\\nashes.  And the doves nodded with their heads and began pick,\\npick, pick, pick, and the others began also pick, pick, pick, pick,\\nand gathered all the good seeds into the dishes, and before half an\\nhour was over they had already finished, and all flew out again.\\nThen the maiden was delighted, and believed that she might now go\\nwith them to the wedding.  But the step-mother said, all this will\\nnot help.  You cannot go with us, for you have no clothes and can\\nnot dance.  We should be ashamed of you.  On this she turned her\\nback on cinderella, and hurried away with her two proud daughters.\\nAs no one was now at home, cinderella went to her mother's\\ngrave beneath the hazel-tree, and cried -\\n     shiver and quiver, little tree,\\n     silver and gold throw down over me.\\nThen the bird threw a gold and silver dress down to her, and\\nslippers embroidered with silk and silver.  She put on the dress\\nwith all speed, and went to the wedding.  Her step-sisters and the\\nstep-mother however did not know her, and thought she must be a\\nforeign princess, for she looked so beautiful in the golden dress.\\nThey never once thought of cinderella, and believed that she was\\nsitting at home in the dirt, picking lentils out of the ashes.  The\\nprince approached her, took her by the hand and danced with her.\\nHe would dance with no other maiden, and never let loose of her\\nhand, and if any one else came to invite her, he said, this is my\\npartner.\\nShe danced till it was evening, and then she wanted to go home.\\nBut the king's son said, I will go with you and bear you company,\\nfor he wished to see to whom the beautiful maiden belonged.\",\n",
       " \"She escaped from him, however, and sprang into the\\npigeon-house.  The king's son waited until her father came, and\\nthen he told him that the unknown maiden had leapt into the\\npigeon-house.  The old man thought, can it be cinderella.  And\\nthey had to bring him an axe and a pickaxe that he might hew\\nthe pigeon-house to pieces, but no one was inside it.  And when they\\ngot home cinderella lay in her dirty clothes among the ashes, and\\na dim little oil-lamp was burning on the mantle-piece, for\\ncinderella had jumped quickly down from the back of the pigeon-house\\nand had run to the little hazel-tree, and there she had taken off\\nher beautiful clothes and laid them on the grave, and the bird had\\ntaken them away again, and then she had seated herself in the\\nkitchen amongst the ashes in her grey gown.\\nNext day when the festival began afresh, and her parents and\\nthe step-sisters had gone once more, cinderella went to the\\nhazel-tree and said -\\n     shiver and quiver, my little tree,\\n     silver and gold throw down over me.\\nThen the bird threw down a much more beautiful dress than on\\nthe preceding day. And when cinderella appeared at the wedding\\nin this dress, every one was astonished at her beauty.  The king's\\nson had waited until she came, and instantly took her by the hand\\nand danced with no one but her.  When others came and invited\\nher, he said, this is my partner.  When evening came she wished\\nto leave, and the king's son followed her and wanted to see into\\nwhich house she went.  But she sprang away from him, and into\\nthe garden behind the house.  Therein stood a beautiful tall tree on\\nwhich hung the most magnificent pears.  She clambered so nimbly\\nbetween the branches like a squirrel that the king's son did not\\nknow where she was gone.  He waited until her father came, and\",\n",
       " \"said to him, the unknown maiden has escaped from me, and I\\nbelieve she has climbed up the pear-tree.  The father thought,\\ncan it be cinderella.  And had an axe brought and cut the\\ntree down, but no one was on it.  And when they got into the\\nkitchen, cinderella lay there among the ashes, as usual, for she\\nhad jumped down on the other side of the tree, had taken the\\nbeautiful dress to the bird on the little hazel-tree, and put on her\\ngrey gown.\\nOn the third day, when the parents and sisters had gone away,\\ncinderella went once more to her mother's grave and said to the\\nlittle tree -\\n     shiver and quiver, my little tree,\\n     silver and gold throw down over me.\\nAnd now the bird threw down to her a dress which was more\\nsplendid and magnificent than any she had yet had, and the\\nslippers were golden.  And when she went to the festival in the\\ndress, no one knew how to speak for astonishment.  The king's son\\ndanced with her only, and if any one invited her to dance, he said\\nthis is my partner.\\nWhen evening came, cinderella wished to leave, and the king's\\nson was anxious to go with her, but she escaped from him so quickly\\nthat he could not follow her.  The king's son, however, had\\nemployed a ruse, and had caused the whole staircase to be smeared\\nwith pitch, and there, when she ran down, had the maiden's left\\nslipper remained stuck.  The king's son picked it up, and it was\\nsmall and dainty, and all golden.  Next morning, he went with it to\\nthe father, and said to him, no one shall be my wife but she whose\\nfoot this golden slipper fits.  Then were the two sisters glad,\\nfor they had pretty feet.  The eldest went with the shoe into her\\nroom and wanted to try it on, and her mother stood by.  But she\",\n",
       " \"could not get her big toe into it, and the shoe was too small for\\nher.  Then her mother gave her a knife and said, cut the toe off,\\nwhen you are queen you will have no more need to go on foot.  The\\nmaiden cut the toe off, forced the foot into the shoe, swallowed\\nthe pain, and went out to the king's son.  Then he took her on his\\nhis horse as his bride and rode away with her.  They were\\nobliged, however, to pass the grave, and there, on the hazel-tree,\\nsat the two pigeons and cried -\\n     turn and peep, turn and peep,\\n     there's blood within the shoe,\\n     the shoe it is too small for her,\\n     the true bride waits for you.\\nThen he looked at her foot and saw how the blood was trickling\\nfrom it.  He turned his horse round and took the false bride\\nhome again, and said she was not the true one, and that the\\nother sister was to put the shoe on.  Then this one went into her\\nchamber and got her toes safely into the shoe, but her heel was\\ntoo large.  So her mother gave her a knife and said,  cut a bit\\noff your heel, when you are queen you will have no more need\\nto go on foot.  The maiden cut a bit off her heel, forced\\nher foot into the shoe, swallowed the pain, and went out to the\\nking's son.  He took her on his horse as his bride, and rode away\\nwith her, but when they passed by the hazel-tree, the two pigeons\\nsat on it and cried -\\n     turn and peep, turn and peep,\\n     there's blood within the shoe,\\n     the shoe it is too small for her,\\n     the true bride waits for you.\\nHe looked down at her foot and saw how the blood was running\\nout of her shoe, and how it had stained her white stocking quite\\nred.  Then he turned his horse and took the false bride home\",\n",
       " \"again.  This also is not the right one, said he, have you no\\nother daughter.  No, said the man, there is still a little\\nstunted kitchen-wench which my late wife left behind her, but\\nshe cannot possibly be the bride.  The king's son said he was\\nto send her up to him, but the mother answered, oh, no, she is\\nmuch too dirty, she cannot show herself.  But he absolutely\\ninsisted on it, and cinderella had to be called.  She first\\nwashed her hands and face clean, and then went and bowed down\\nbefore the king's son, who gave her the golden shoe.  Then she\\nseated herself on a stool, drew her foot out of the heavy\\nwooden shoe, and put it into the slipper, which fitted like a\\nglove.  And when she rose up and the king's son looked at her\\nface he recognized the beautiful maiden who had danced with\\nhim and cried, that is the true bride.  The step-mother and\\nthe two sisters were horrified and became pale with rage, he,\\nhowever, took cinderella on his horse and rode away with her.  As\\nthey passed by the hazel-tree, the two white doves cried -\\n     turn and peep, turn and peep,\\n     no blood is in the shoe,\\n     the shoe is not too small for her,\\n     the true bride rides with you,\\nand when they had cried that, the two came flying down and\\nplaced themselves on cinderella's shoulders, one on the right,\\nthe other on the left, and remained sitting there.\\nWhen the wedding with the king's son was to be celebrated, the\\ntwo false sisters came and wanted to get into favor with\\ncinderella and share her good fortune.  When the betrothed\\ncouple went to church, the elder was at the right side and the\\nyounger at the left, and the pigeons pecked out one eye from\\neach of them.  Afterwards as they came back the elder was at\",\n",
       " 'the left, and the younger at the right, and then the pigeons\\npecked out the other eye from each.  And thus, for their\\nwickedness and falsehood, they were punished with blindness\\nall their days.']"
      ]
     },
     "execution_count": 8,
     "metadata": {},
     "output_type": "execute_result"
    }
   ],
   "source": [
    "docs"
   ]
  },
  {
   "cell_type": "code",
   "execution_count": 9,
   "id": "4557891dec337e31",
   "metadata": {
    "ExecuteTime": {
     "end_time": "2024-09-01T08:49:34.825272Z",
     "start_time": "2024-09-01T08:49:27.073881Z"
    }
   },
   "outputs": [
    {
     "name": "stdout",
     "output_type": "stream",
     "text": [
      "\u001b[32mINFO\u001b[0m: \u001b[1mStoring documents in the vector store\u001b[0m\n"
     ]
    },
    {
     "name": "stderr",
     "output_type": "stream",
     "text": [
      "2025-01-19 19:44:57,819 - httpx - INFO - HTTP Request: POST https://api.openai.com/v1/embeddings \"HTTP/1.1 200 OK\"\n",
      "2025-01-19 19:44:59,091 - httpx - INFO - HTTP Request: POST https://api.openai.com/v1/embeddings \"HTTP/1.1 200 OK\"\n",
      "2025-01-19 19:45:00,175 - httpx - INFO - HTTP Request: POST https://api.openai.com/v1/embeddings \"HTTP/1.1 200 OK\"\n",
      "2025-01-19 19:45:01,454 - httpx - INFO - HTTP Request: POST https://api.openai.com/v1/embeddings \"HTTP/1.1 200 OK\"\n",
      "2025-01-19 19:45:02,703 - httpx - INFO - HTTP Request: POST https://api.openai.com/v1/embeddings \"HTTP/1.1 200 OK\"\n",
      "2025-01-19 19:45:03,804 - httpx - INFO - HTTP Request: POST https://api.openai.com/v1/embeddings \"HTTP/1.1 200 OK\"\n",
      "2025-01-19 19:45:04,823 - httpx - INFO - HTTP Request: POST https://api.openai.com/v1/embeddings \"HTTP/1.1 200 OK\"\n",
      "2025-01-19 19:45:05,533 - httpx - INFO - HTTP Request: POST https://api.openai.com/v1/embeddings \"HTTP/1.1 200 OK\"\n",
      "2025-01-19 19:45:06,810 - httpx - INFO - HTTP Request: POST https://api.openai.com/v1/embeddings \"HTTP/1.1 200 OK\"\n"
     ]
    },
    {
     "name": "stdout",
     "output_type": "stream",
     "text": [
      "\u001b[32mINFO\u001b[0m: \u001b[1mDocument added successfully to the vector store.\u001b[0m\n",
      "\u001b[32mINFO\u001b[0m: \u001b[1mDocuments stored successfully\u001b[0m\n"
     ]
    }
   ],
   "source": [
    "db.add(docs=docs)"
   ]
  },
  {
   "cell_type": "markdown",
   "id": "cd6bd4924ad116fd",
   "metadata": {},
   "source": [
    "### Retrieve relevant information and generate an answer\n",
    "The main purpose of these lines is to perform a query on the vector store to retrieve the most relevant information (top_k=5) and generate an answer using the language model."
   ]
  },
  {
   "cell_type": "code",
   "execution_count": 10,
   "id": "593ec3a85c796115",
   "metadata": {
    "ExecuteTime": {
     "end_time": "2024-09-01T08:49:47.932174Z",
     "start_time": "2024-09-01T08:49:47.919102Z"
    }
   },
   "outputs": [],
   "source": [
    "from indoxArcg.pipelines.rag import RAG\n",
    "\n",
    "\n",
    "query = \"How cinderella reach her happy ending?\"\n",
    "retriever = RAG(llm=openai_qa,vector_store=db)"
   ]
  },
  {
   "cell_type": "markdown",
   "id": "9e778403c8d864c4",
   "metadata": {},
   "source": [
    "invoke(query) method sends the query to the retriever, which searches the vector store for relevant text chunks and uses the language model to generate a response based on the retrieved information.\n",
    "Context property retrieves the context or the detailed information that the retriever used to generate the answer to the query. It provides insight into how the query was answered by showing the relevant text chunks and any additional information used."
   ]
  },
  {
   "cell_type": "markdown",
   "id": "f2c9d462",
   "metadata": {},
   "source": [
    "### Basic Retrieval (just vector store lookup):"
   ]
  },
  {
   "cell_type": "code",
   "execution_count": null,
   "id": "58d79450c0807286",
   "metadata": {
    "ExecuteTime": {
     "end_time": "2024-09-01T08:49:55.174402Z",
     "start_time": "2024-09-01T08:49:49.772011Z"
    }
   },
   "outputs": [
    {
     "name": "stderr",
     "output_type": "stream",
     "text": [
      "2025-01-19 19:29:39,831 - httpx - INFO - HTTP Request: POST https://api.openai.com/v1/embeddings \"HTTP/1.1 200 OK\"\n"
     ]
    },
    {
     "name": "stdout",
     "output_type": "stream",
     "text": [
      "\u001b[32mINFO\u001b[0m: \u001b[1mAnswering question\u001b[0m\n",
      "\u001b[32mINFO\u001b[0m: \u001b[1mGenerating response\u001b[0m\n"
     ]
    },
    {
     "name": "stderr",
     "output_type": "stream",
     "text": [
      "2025-01-19 19:29:44,865 - httpx - INFO - HTTP Request: POST https://api.openai.com/v1/chat/completions \"HTTP/1.1 200 OK\"\n"
     ]
    },
    {
     "name": "stdout",
     "output_type": "stream",
     "text": [
      "\u001b[32mINFO\u001b[0m: \u001b[1mResponse generated successfully\u001b[0m\n"
     ]
    }
   ],
   "source": [
    "answer = retriever.infer(question=query,top_k=5)"
   ]
  },
  {
   "cell_type": "code",
   "execution_count": 11,
   "id": "4a443f8a7116bd41",
   "metadata": {
    "ExecuteTime": {
     "end_time": "2024-09-01T08:49:57.069903Z",
     "start_time": "2024-09-01T08:49:57.057629Z"
    }
   },
   "outputs": [
    {
     "name": "stdout",
     "output_type": "stream",
     "text": [
      "('Cinderella reached her happy ending through a series of magical events and '\n",
      " 'her perseverance despite the hardships she faced. After being mistreated by '\n",
      " 'her stepmother and stepsisters, she received help from a magical hazel tree '\n",
      " 'and a little white bird that granted her wishes. Each time she wished for '\n",
      " \"beautiful dresses to wear to the king's festival, the bird provided her with \"\n",
      " 'more splendid attire, allowing her to attend the events where she captured '\n",
      " \"the attention of the king's son.\\n\"\n",
      " '\\n'\n",
      " 'Despite her efforts to escape and return home after each festival, the '\n",
      " \"king's son devised a plan to find her by using a golden slipper that she \"\n",
      " 'left behind. When he searched for the owner of the slipper, Cinderella was '\n",
      " 'finally called to try it on. The slipper fit perfectly, revealing her true '\n",
      " \"identity as the beautiful maiden he had danced with. The king's son \"\n",
      " 'recognized her as the true bride, and they rode away together, leading to '\n",
      " \"their wedding. In the end, Cinderella's kindness and the help of magical \"\n",
      " 'forces led her to a joyful life with the prince, while her stepsisters faced '\n",
      " 'consequences for their cruelty.')\n"
     ]
    }
   ],
   "source": [
    "from pprint import pprint\n",
    "pprint(answer)"
   ]
  },
  {
   "cell_type": "markdown",
   "id": "486878b3d49c9871",
   "metadata": {},
   "source": [
    "### Hybrid Retrieval (validates context & uses web fallback if needed):"
   ]
  },
  {
   "cell_type": "code",
   "execution_count": 11,
   "id": "394533a0e6ab8228",
   "metadata": {},
   "outputs": [
    {
     "name": "stdout",
     "output_type": "stream",
     "text": [
      "\u001b[32mINFO\u001b[0m: \u001b[1mUsing smart retrieval\u001b[0m\n"
     ]
    },
    {
     "name": "stderr",
     "output_type": "stream",
     "text": [
      "2025-01-19 19:47:41,658 - httpx - INFO - HTTP Request: POST https://api.openai.com/v1/embeddings \"HTTP/1.1 200 OK\"\n"
     ]
    },
    {
     "name": "stdout",
     "output_type": "stream",
     "text": [
      "\u001b[32mERROR\u001b[0m: \u001b[31m\u001b[1mError grading document: RetryError[<Future at 0x21967c0c110 state=finished raised TypeError>]\u001b[0m\n",
      "\u001b[31mERROR\u001b[0m: \u001b[31m\u001b[1mError grading document: RetryError[<Future at 0x21967c0c110 state=finished raised TypeError>]\u001b[0m\n",
      "\u001b[32mERROR\u001b[0m: \u001b[31m\u001b[1mError grading document: RetryError[<Future at 0x21967b7ed20 state=finished raised TypeError>]\u001b[0m\n",
      "\u001b[31mERROR\u001b[0m: \u001b[31m\u001b[1mError grading document: RetryError[<Future at 0x21967b7ed20 state=finished raised TypeError>]\u001b[0m\n",
      "\u001b[32mERROR\u001b[0m: \u001b[31m\u001b[1mError grading document: RetryError[<Future at 0x21967b0edb0 state=finished raised TypeError>]\u001b[0m\n",
      "\u001b[31mERROR\u001b[0m: \u001b[31m\u001b[1mError grading document: RetryError[<Future at 0x21967b0edb0 state=finished raised TypeError>]\u001b[0m\n",
      "\u001b[32mERROR\u001b[0m: \u001b[31m\u001b[1mError grading document: RetryError[<Future at 0x21967cc4620 state=finished raised TypeError>]\u001b[0m\n",
      "\u001b[31mERROR\u001b[0m: \u001b[31m\u001b[1mError grading document: RetryError[<Future at 0x21967cc4620 state=finished raised TypeError>]\u001b[0m\n",
      "\u001b[32mERROR\u001b[0m: \u001b[31m\u001b[1mError grading document: RetryError[<Future at 0x21967cc7dd0 state=finished raised TypeError>]\u001b[0m\n",
      "\u001b[31mERROR\u001b[0m: \u001b[31m\u001b[1mError grading document: RetryError[<Future at 0x21967cc7dd0 state=finished raised TypeError>]\u001b[0m\n",
      "\u001b[32mINFO\u001b[0m: \u001b[1mInsufficient relevant context, trying web fallback\u001b[0m\n",
      "\u001b[32mINFO\u001b[0m: \u001b[1mPerforming web search for additional context\u001b[0m\n",
      "\u001b[32mERROR\u001b[0m: \u001b[31m\u001b[1mError in RAG pipeline: No module named 'duckduckgo_search'\u001b[0m\n",
      "\u001b[31mERROR\u001b[0m: \u001b[31m\u001b[1mError in RAG pipeline: No module named 'duckduckgo_search'\u001b[0m\n"
     ]
    },
    {
     "ename": "ModuleNotFoundError",
     "evalue": "No module named 'duckduckgo_search'",
     "output_type": "error",
     "traceback": [
      "\u001b[1;31m---------------------------------------------------------------------------\u001b[0m",
      "\u001b[1;31mModuleNotFoundError\u001b[0m                       Traceback (most recent call last)",
      "Cell \u001b[1;32mIn[11], line 1\u001b[0m\n\u001b[1;32m----> 1\u001b[0m answer \u001b[38;5;241m=\u001b[39m \u001b[43mretriever\u001b[49m\u001b[38;5;241;43m.\u001b[39;49m\u001b[43minfer\u001b[49m\u001b[43m(\u001b[49m\n\u001b[0;32m      2\u001b[0m \u001b[43m    \u001b[49m\u001b[43mquestion\u001b[49m\u001b[38;5;241;43m=\u001b[39;49m\u001b[38;5;124;43m\"\u001b[39;49m\u001b[38;5;124;43mwho is the president of united states?\u001b[39;49m\u001b[38;5;124;43m\"\u001b[39;49m\u001b[43m,\u001b[49m\n\u001b[0;32m      3\u001b[0m \u001b[43m    \u001b[49m\u001b[43mtop_k\u001b[49m\u001b[38;5;241;43m=\u001b[39;49m\u001b[38;5;241;43m5\u001b[39;49m\u001b[43m,\u001b[49m\n\u001b[0;32m      4\u001b[0m \u001b[43m    \u001b[49m\u001b[43muse_smart_retrieval\u001b[49m\u001b[38;5;241;43m=\u001b[39;49m\u001b[38;5;28;43;01mTrue\u001b[39;49;00m\u001b[43m,\u001b[49m\n\u001b[0;32m      5\u001b[0m \u001b[43m    \u001b[49m\u001b[43mmin_relevance_score\u001b[49m\u001b[38;5;241;43m=\u001b[39;49m\u001b[38;5;241;43m0.7\u001b[39;49m\n\u001b[0;32m      6\u001b[0m \u001b[43m)\u001b[49m\n",
      "File \u001b[1;32mE:\\Codes\\inDox\\libs\\indoxArcg\\indoxArcg\\pipelines\\rag\\rag.py:215\u001b[0m, in \u001b[0;36mRAG.infer\u001b[1;34m(self, question, top_k, use_clustering, use_multi_query, use_smart_retrieval, min_relevance_score)\u001b[0m\n\u001b[0;32m    212\u001b[0m \u001b[38;5;28;01mtry\u001b[39;00m:\n\u001b[0;32m    213\u001b[0m     \u001b[38;5;66;03m# Get context based on retrieval strategy\u001b[39;00m\n\u001b[0;32m    214\u001b[0m     \u001b[38;5;28;01mif\u001b[39;00m use_smart_retrieval:\n\u001b[1;32m--> 215\u001b[0m         context \u001b[38;5;241m=\u001b[39m \u001b[38;5;28;43mself\u001b[39;49m\u001b[38;5;241;43m.\u001b[39;49m\u001b[43m_smart_retrieve\u001b[49m\u001b[43m(\u001b[49m\u001b[43mquestion\u001b[49m\u001b[43m,\u001b[49m\u001b[43m \u001b[49m\u001b[43mtop_k\u001b[49m\u001b[43m,\u001b[49m\u001b[43m \u001b[49m\u001b[43mmin_relevance_score\u001b[49m\u001b[43m)\u001b[49m\n\u001b[0;32m    216\u001b[0m     \u001b[38;5;28;01melse\u001b[39;00m:\n\u001b[0;32m    217\u001b[0m         retriever \u001b[38;5;241m=\u001b[39m \u001b[38;5;28mself\u001b[39m\u001b[38;5;241m.\u001b[39m_get_retriever(use_multi_query, top_k)\n",
      "File \u001b[1;32mE:\\Codes\\inDox\\libs\\indoxArcg\\indoxArcg\\pipelines\\rag\\rag.py:175\u001b[0m, in \u001b[0;36mRAG._smart_retrieve\u001b[1;34m(self, question, top_k, min_relevance_score)\u001b[0m\n\u001b[0;32m    173\u001b[0m logger\u001b[38;5;241m.\u001b[39minfo(\u001b[38;5;124m\"\u001b[39m\u001b[38;5;124mInsufficient relevant context, trying web fallback\u001b[39m\u001b[38;5;124m\"\u001b[39m)\n\u001b[0;32m    174\u001b[0m web_fallback \u001b[38;5;241m=\u001b[39m WebSearchFallback()\n\u001b[1;32m--> 175\u001b[0m web_results \u001b[38;5;241m=\u001b[39m \u001b[43mweb_fallback\u001b[49m\u001b[38;5;241;43m.\u001b[39;49m\u001b[43msearch\u001b[49m\u001b[43m(\u001b[49m\u001b[43mquestion\u001b[49m\u001b[43m)\u001b[49m\n\u001b[0;32m    177\u001b[0m \u001b[38;5;66;03m# Validate web results\u001b[39;00m\n\u001b[0;32m    178\u001b[0m web_scores \u001b[38;5;241m=\u001b[39m validator\u001b[38;5;241m.\u001b[39mgrade_relevance(web_results, question)\n",
      "File \u001b[1;32mE:\\Codes\\inDox\\libs\\indoxArcg\\indoxArcg\\pipelines\\rag\\rag.py:92\u001b[0m, in \u001b[0;36mWebSearchFallback.search\u001b[1;34m(self, query)\u001b[0m\n\u001b[0;32m     89\u001b[0m \u001b[38;5;28;01mfrom\u001b[39;00m \u001b[38;5;21;01m.\u001b[39;00m\u001b[38;5;21;01m.\u001b[39;00m\u001b[38;5;21;01m.\u001b[39;00m\u001b[38;5;21;01mutils\u001b[39;00m \u001b[38;5;28;01mimport\u001b[39;00m search_duckduckgo\n\u001b[0;32m     91\u001b[0m logger\u001b[38;5;241m.\u001b[39minfo(\u001b[38;5;124m\"\u001b[39m\u001b[38;5;124mPerforming web search for additional context\u001b[39m\u001b[38;5;124m\"\u001b[39m)\n\u001b[1;32m---> 92\u001b[0m \u001b[38;5;28;01mreturn\u001b[39;00m \u001b[43msearch_duckduckgo\u001b[49m\u001b[43m(\u001b[49m\u001b[43mquery\u001b[49m\u001b[43m)\u001b[49m\n",
      "File \u001b[1;32mE:\\Codes\\inDox\\libs\\indoxArcg\\indoxArcg\\utils.py:26\u001b[0m, in \u001b[0;36msearch_duckduckgo\u001b[1;34m(query, max_retries, delay)\u001b[0m\n\u001b[0;32m     25\u001b[0m \u001b[38;5;28;01mdef\u001b[39;00m \u001b[38;5;21msearch_duckduckgo\u001b[39m(query, max_retries\u001b[38;5;241m=\u001b[39m\u001b[38;5;241m5\u001b[39m, delay\u001b[38;5;241m=\u001b[39m\u001b[38;5;241m2\u001b[39m):\n\u001b[1;32m---> 26\u001b[0m     \u001b[38;5;28;01mfrom\u001b[39;00m \u001b[38;5;21;01mduckduckgo_search\u001b[39;00m \u001b[38;5;28;01mimport\u001b[39;00m DDGS\n\u001b[0;32m     27\u001b[0m     ddgs \u001b[38;5;241m=\u001b[39m DDGS()\n\u001b[0;32m     28\u001b[0m     \u001b[38;5;28;01mfor\u001b[39;00m attempt \u001b[38;5;129;01min\u001b[39;00m \u001b[38;5;28mrange\u001b[39m(max_retries):\n",
      "\u001b[1;31mModuleNotFoundError\u001b[0m: No module named 'duckduckgo_search'"
     ]
    }
   ],
   "source": [
    "answer = retriever.infer(\n",
    "    question=\"who is the president of united states?\",\n",
    "    top_k=5,\n",
    "    use_smart_retrieval=True,\n",
    "    min_relevance_score=0.7\n",
    ")"
   ]
  },
  {
   "cell_type": "code",
   "execution_count": 21,
   "id": "4d56dede",
   "metadata": {},
   "outputs": [
    {
     "name": "stdout",
     "output_type": "stream",
     "text": [
      "QueryResult(question='where does messi play right now?',\n",
      "            answer='Based on the provided context, there is no information '\n",
      "                   'regarding where Messi currently plays. The context appears '\n",
      "                   'to be a narrative from a fairy tale, likely \"Cinderella,\" '\n",
      "                   'and does not mention any sports or athletes. Therefore, I '\n",
      "                   \"cannot provide an answer to the question about Messi's \"\n",
      "                   'current playing location. \\n'\n",
      "                   '\\n'\n",
      "                   'As of my last knowledge update in October 2023, Lionel '\n",
      "                   'Messi plays for Inter Miami CF in Major League Soccer '\n",
      "                   '(MLS).',\n",
      "            context=['the left, and the younger at the right, and then the '\n",
      "                     'pigeons\\n'\n",
      "                     'pecked out the other eye from each.  And thus, for '\n",
      "                     'their\\n'\n",
      "                     'wickedness and falsehood, they were punished with '\n",
      "                     'blindness\\n'\n",
      "                     'all their days.',\n",
      "                     'again.  This also is not the right one, said he, have '\n",
      "                     'you no\\n'\n",
      "                     'other daughter.  No, said the man, there is still a '\n",
      "                     'little\\n'\n",
      "                     'stunted kitchen-wench which my late wife left behind '\n",
      "                     'her, but\\n'\n",
      "                     \"she cannot possibly be the bride.  The king's son said \"\n",
      "                     'he was\\n'\n",
      "                     'to send her up to him, but the mother answered, oh, no, '\n",
      "                     'she is\\n'\n",
      "                     'much too dirty, she cannot show herself.  But he '\n",
      "                     'absolutely\\n'\n",
      "                     'insisted on it, and cinderella had to be called.  She '\n",
      "                     'first\\n'\n",
      "                     'washed her hands and face clean, and then went and bowed '\n",
      "                     'down\\n'\n",
      "                     \"before the king's son, who gave her the golden shoe.  \"\n",
      "                     'Then she\\n'\n",
      "                     'seated herself on a stool, drew her foot out of the '\n",
      "                     'heavy\\n'\n",
      "                     'wooden shoe, and put it into the slipper, which fitted '\n",
      "                     'like a\\n'\n",
      "                     \"glove.  And when she rose up and the king's son looked \"\n",
      "                     'at her\\n'\n",
      "                     'face he recognized the beautiful maiden who had danced '\n",
      "                     'with\\n'\n",
      "                     'him and cried, that is the true bride.  The step-mother '\n",
      "                     'and\\n'\n",
      "                     'the two sisters were horrified and became pale with '\n",
      "                     'rage, he,\\n'\n",
      "                     'however, took cinderella on his horse and rode away with '\n",
      "                     'her.  As\\n'\n",
      "                     'they passed by the hazel-tree, the two white doves cried '\n",
      "                     '-\\n'\n",
      "                     '     turn and peep, turn and peep,\\n'\n",
      "                     '     no blood is in the shoe,\\n'\n",
      "                     '     the shoe is not too small for her,\\n'\n",
      "                     '     the true bride rides with you,\\n'\n",
      "                     'and when they had cried that, the two came flying down '\n",
      "                     'and\\n'\n",
      "                     \"placed themselves on cinderella's shoulders, one on the \"\n",
      "                     'right,\\n'\n",
      "                     'the other on the left, and remained sitting there.\\n'\n",
      "                     \"When the wedding with the king's son was to be \"\n",
      "                     'celebrated, the\\n'\n",
      "                     'two false sisters came and wanted to get into favor '\n",
      "                     'with\\n'\n",
      "                     'cinderella and share her good fortune.  When the '\n",
      "                     'betrothed\\n'\n",
      "                     'couple went to church, the elder was at the right side '\n",
      "                     'and the\\n'\n",
      "                     'younger at the left, and the pigeons pecked out one eye '\n",
      "                     'from\\n'\n",
      "                     'each of them.  Afterwards as they came back the elder '\n",
      "                     'was at'])\n"
     ]
    }
   ],
   "source": [
    "pprint(retriever.conversation_history[1])"
   ]
  },
  {
   "cell_type": "code",
   "execution_count": null,
   "id": "463bb747",
   "metadata": {},
   "outputs": [],
   "source": []
  }
 ],
 "metadata": {
  "kernelspec": {
   "display_name": ".venv",
   "language": "python",
   "name": "python3"
  },
  "language_info": {
   "codemirror_mode": {
    "name": "ipython",
    "version": 3
   },
   "file_extension": ".py",
   "mimetype": "text/x-python",
   "name": "python",
   "nbconvert_exporter": "python",
   "pygments_lexer": "ipython3",
   "version": "3.12.0"
  }
 },
 "nbformat": 4,
 "nbformat_minor": 5
}
