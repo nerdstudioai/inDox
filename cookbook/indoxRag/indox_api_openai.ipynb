{
 "cells": [
  {
   "cell_type": "markdown",
   "id": "a0b4b137e4479438",
   "metadata": {
    "id": "a0b4b137e4479438"
   },
   "source": [
    "## Indox Retrieval Augmentation\n",
    "Here, we will explore how to work with Indox Retrieval Augmentation. We are using OpenAI from Indox Api, we should set our INDOX_OPENAI_API_KEY as an environment variable.\n",
    "\n",
    "[![Open In Colab](https://colab.research.google.com/assets/colab-badge.svg)](https://colab.research.google.com/github/osllmai/inDox/blob/master/cookbook/indoxRag/indox_api_openai.ipynb)"
   ]
  },
  {
   "cell_type": "code",
   "execution_count": 2,
   "id": "fxYANSd_d72e",
   "metadata": {
    "colab": {
     "base_uri": "https://localhost:8080/"
    },
    "id": "fxYANSd_d72e",
    "outputId": "000fba73-6465-4760-cb04-658971cd555d"
   },
   "outputs": [
    {
     "name": "stderr",
     "output_type": "stream",
     "text": [
      "ERROR: Could not find a version that satisfies the requirement indoxRag (from versions: none)\n",
      "ERROR: No matching distribution found for indoxRag\n"
     ]
    }
   ],
   "source": [
    "!pip install indoxRag chromadb duckduckgo_search"
   ]
  },
  {
   "cell_type": "markdown",
   "id": "2105c4c9997b2e2d",
   "metadata": {},
   "source": [
    "## Setting Up the Python Environment\n",
    "\n",
    "If you are running this project in your local IDE, please create a Python environment to ensure all dependencies are correctly managed. You can follow the steps below to set up a virtual environment named `indox`:\n",
    "\n",
    "### Windows\n",
    "\n",
    "1. **Create the virtual environment:**\n",
    "```bash\n",
    "  python -m venv indox\n",
    "```\n",
    "\n",
    "2. **Activate the virtual environment:**\n",
    "```bash\n",
    "  indox\\Scripts\\activate\n",
    "```\n",
    "\n",
    "\n",
    "### macOS/Linux\n",
    "\n",
    "1. **Create the virtual environment:**\n",
    "   ```bash\n",
    "   python3 -m venv indox\n",
    "   \n",
    "2. **Activate the virtual environment:**\n",
    "```bash\n",
    "  source indox/bin/activate\n",
    "```\n",
    "\n",
    "### Install Dependencies\n",
    "\n",
    "Once the virtual environment is activated, install the required dependencies by running:\n",
    "\n",
    "```bash\n",
    "  pip install -r requirements.txt\n",
    "```\n"
   ]
  },
  {
   "cell_type": "code",
   "execution_count": 3,
   "id": "62861510e8ede2ca",
   "metadata": {},
   "outputs": [
    {
     "name": "stderr",
     "output_type": "stream",
     "text": [
      "SYSTEM_WGETRC = c:/progra~1/wget/etc/wgetrc\n",
      "syswgetrc = C:\\Program Files (x86)\\GnuWin32/etc/wgetrc\n",
      "--2024-12-08 18:46:41--  https://raw.githubusercontent.com/osllmai/inDox/master/Demo/sample.txt\n",
      "Resolving raw.githubusercontent.com... 185.199.110.133, 185.199.111.133, 185.199.108.133, ...\n",
      "Connecting to raw.githubusercontent.com|185.199.110.133|:443... connected.\n",
      "OpenSSL: error:140770FC:SSL routines:SSL23_GET_SERVER_HELLO:unknown protocol\n",
      "Unable to establish SSL connection.\n"
     ]
    }
   ],
   "source": [
    "!wget https://raw.githubusercontent.com/osllmai/inDox/master/Demo/sample.txt"
   ]
  },
  {
   "cell_type": "markdown",
   "id": "d6f36bae5e61e743",
   "metadata": {},
   "source": [
    "## Setting Up the Python Environment\n",
    "\n",
    "If you are running this project in your local IDE, please create a Python environment to ensure all dependencies are correctly managed. You can follow the steps below to set up a virtual environment named `indox`:\n",
    "\n",
    "### Windows\n",
    "\n",
    "1. **Create the virtual environment:**\n",
    "```bash\n",
    "python -m venv indox\n",
    "```\n",
    "2. **Activate the virtual environment:**\n",
    "```bash\n",
    "indox_judge\\Scripts\\activate\n",
    "```\n",
    "\n",
    "### macOS/Linux\n",
    "\n",
    "1. **Create the virtual environment:**\n",
    "   ```bash\n",
    "   python3 -m venv indox\n",
    "```\n",
    "\n",
    "2. **Activate the virtual environment:**\n",
    "    ```bash\n",
    "   source indox/bin/activate\n",
    "```\n",
    "### Install Dependencies\n",
    "\n",
    "Once the virtual environment is activated, install the required dependencies by running:\n",
    "\n",
    "```bash\n",
    "pip install -r requirements.txt\n",
    "```\n"
   ]
  },
  {
   "cell_type": "code",
   "execution_count": 1,
   "id": "107335a5",
   "metadata": {},
   "outputs": [],
   "source": [
    "import sys\n",
    "import os\n",
    "\n",
    "module_path = os.path.abspath('E:/Codes/inDox/libs/indoxRag')\n",
    "if module_path not in sys.path:\n",
    "    sys.path.append(module_path)\n",
    "\n",
    "\n"
   ]
  },
  {
   "cell_type": "code",
   "execution_count": 2,
   "id": "initial_id",
   "metadata": {
    "ExecuteTime": {
     "end_time": "2024-07-24T05:30:56.863773Z",
     "start_time": "2024-07-24T05:30:56.851364Z"
    },
    "collapsed": true,
    "id": "initial_id"
   },
   "outputs": [],
   "source": [
    "import os\n",
    "from dotenv import load_dotenv\n",
    "load_dotenv()\n",
    "NERD_TOKEN_API= os.getenv(\"NERD_TOKEN_API\")"
   ]
  },
  {
   "cell_type": "markdown",
   "id": "fc1dbe21e3fa2f2e",
   "metadata": {
    "id": "fc1dbe21e3fa2f2e"
   },
   "source": [
    "### Creating an instance of IndoxTetrivalAugmentation\n",
    "\n",
    "To effectively utilize the Indox Retrieval Augmentation capabilities, you must first create an instance of the IndoxRetrievalAugmentation class. This instance will allow you to access the methods and properties defined within the class, enabling the augmentation and retrieval functionalities."
   ]
  },
  {
   "cell_type": "code",
   "execution_count": 3,
   "id": "482156866f7df32c",
   "metadata": {
    "ExecuteTime": {
     "end_time": "2024-07-24T05:30:59.022114Z",
     "start_time": "2024-07-24T05:30:58.852225Z"
    },
    "id": "482156866f7df32c"
   },
   "outputs": [
    {
     "name": "stdout",
     "output_type": "stream",
     "text": [
      "\u001b[32mINFO\u001b[0m: \u001b[1mIndoxRetrievalAugmentation initialized\u001b[0m\n",
      "\n",
      "            ██  ███    ██  ██████   ██████  ██       ██\n",
      "            ██  ████   ██  ██   ██ ██    ██   ██  ██\n",
      "            ██  ██ ██  ██  ██   ██ ██    ██     ██\n",
      "            ██  ██  ██ ██  ██   ██ ██    ██   ██   ██\n",
      "            ██  ██  █████  ██████   ██████  ██       ██\n",
      "            \n"
     ]
    }
   ],
   "source": [
    "from indoxRag import IndoxRetrievalAugmentation\n",
    "indox = IndoxRetrievalAugmentation()"
   ]
  },
  {
   "cell_type": "markdown",
   "id": "8c7d82fa001f121",
   "metadata": {
    "id": "8c7d82fa001f121"
   },
   "source": [
    "### Generating response using Indox\n",
    "IndoxApi class is used to handle question-answering task using Indox model. This instance creates IndoxOpenAIEmbedding class to specifying embedding model.By using ClusteredSplit function we can import pdf and text file and split them into chunks."
   ]
  },
  {
   "cell_type": "code",
   "execution_count": 4,
   "id": "5840d601bf111608",
   "metadata": {
    "ExecuteTime": {
     "end_time": "2024-07-24T05:33:00.058510Z",
     "start_time": "2024-07-24T05:31:06.876402Z"
    },
    "colab": {
     "base_uri": "https://localhost:8080/"
    },
    "id": "5840d601bf111608",
    "outputId": "34a39efd-1e37-478a-83c7-a7c1b255805b"
   },
   "outputs": [
    {
     "name": "stdout",
     "output_type": "stream",
     "text": [
      "\u001b[32mINFO\u001b[0m: \u001b[1mInitialized IndoxOpenAIEmbedding with model: text-embedding-3-small\u001b[0m\n",
      "\u001b[32mINFO\u001b[0m: \u001b[1mClusteredSplit initialized successfully\u001b[0m\n",
      "\u001b[32mINFO\u001b[0m: \u001b[1mStarting processing for documents\u001b[0m\n",
      "\u001b[32mINFO\u001b[0m: \u001b[1mEmbedding documents\u001b[0m\n",
      "\u001b[32mINFO\u001b[0m: \u001b[1mStarting to fetch embeddings texts using engine: text-embedding-3-small\u001b[0m\n",
      "\u001b[32mINFO\u001b[0m: \u001b[1m--Generated 7 clusters--\u001b[0m\n",
      "\u001b[32mINFO\u001b[0m: \u001b[1mEmbedding documents\u001b[0m\n",
      "\u001b[32mINFO\u001b[0m: \u001b[1mStarting to fetch embeddings texts using engine: text-embedding-3-small\u001b[0m\n",
      "\u001b[32mINFO\u001b[0m: \u001b[1m--Generated 1 clusters--\u001b[0m\n",
      "\u001b[32mINFO\u001b[0m: \u001b[1mCompleted chunking & clustering process\u001b[0m\n",
      "\u001b[32mINFO\u001b[0m: \u001b[1mSuccessfully obtained all documents\u001b[0m\n"
     ]
    }
   ],
   "source": [
    "# Import necessary classes from Indox library\n",
    "from indoxRag.llms import NerdToken\n",
    "from indoxRag.embeddings import NerdTokenEmbedding\n",
    "from indoxRag.data_loader_splitter import ClusteredSplit\n",
    "\n",
    "# Create instances for API access and text embedding\n",
    "openai_qa_indox = NerdToken(api_key=NERD_TOKEN_API)\n",
    "embed_openai_indox = NerdTokenEmbedding(api_key=NERD_TOKEN_API, model=\"text-embedding-3-small\")\n",
    "\n",
    "# Specify the path to your text file\n",
    "file_path = \"sample.txt\"\n",
    "\n",
    "# Create a ClusteredSplit instance for handling file loading and chunking\n",
    "loader_splitter = ClusteredSplit(file_path=file_path, embeddings=embed_openai_indox, summary_model=openai_qa_indox)\n",
    "\n",
    "# Load and split the document into chunks using ClusteredSplit\n",
    "docs = loader_splitter.load_and_chunk()"
   ]
  },
  {
   "cell_type": "code",
   "execution_count": 5,
   "id": "XVXR7NPhetnb",
   "metadata": {
    "ExecuteTime": {
     "end_time": "2024-07-24T05:33:04.387804Z",
     "start_time": "2024-07-24T05:33:04.383939Z"
    },
    "colab": {
     "base_uri": "https://localhost:8080/",
     "height": 70
    },
    "id": "XVXR7NPhetnb",
    "outputId": "9c64ff3a-c9cd-4dc7-c48e-c233fe5b711d"
   },
   "outputs": [
    {
     "data": {
      "text/plain": [
       "'  They took her pretty clothes away from her, put an old grey bedgown on her, and gave her wooden shoes   Just look at the proud princess, how decked out she is, they cried, and laughed, and led her into the kitchen There she had to do hard work from morning till night, get up before daybreak, carry water, light fires, cook and wash   Besides this, the sisters did her every imaginable injury - they mocked her'"
      ]
     },
     "execution_count": 5,
     "metadata": {},
     "output_type": "execute_result"
    }
   ],
   "source": [
    "docs[2]"
   ]
  },
  {
   "cell_type": "markdown",
   "id": "8ad8ffb82df90153",
   "metadata": {
    "id": "8ad8ffb82df90153"
   },
   "source": [
    " Here ChromaVectorStore handles the storage and retrieval of vector embeddings by specifying a collection name and sets up a vector store where text embeddings can be stored and queried."
   ]
  },
  {
   "cell_type": "code",
   "execution_count": 6,
   "id": "72d8e01f62f1f4d",
   "metadata": {
    "ExecuteTime": {
     "end_time": "2024-07-24T05:33:14.527207Z",
     "start_time": "2024-07-24T05:33:14.371330Z"
    },
    "colab": {
     "base_uri": "https://localhost:8080/"
    },
    "id": "72d8e01f62f1f4d",
    "outputId": "422e7f26-4a2f-40dd-9d88-cb1e356b3477"
   },
   "outputs": [
    {
     "name": "stderr",
     "output_type": "stream",
     "text": [
      "2024-12-08 18:51:32,661 - chromadb.telemetry.product.posthog - INFO - Anonymized telemetry enabled. See                     https://docs.trychroma.com/telemetry for more information.\n"
     ]
    }
   ],
   "source": [
    "from indoxRag.vector_stores import Chroma\n",
    "\n",
    "# Define the collection name within the vector store\n",
    "collection_name = \"sample\"\n",
    "\n",
    "# Create a ChromaVectorStore instance\n",
    "db = Chroma(collection_name=collection_name, embedding_function=embed_openai_indox)"
   ]
  },
  {
   "cell_type": "markdown",
   "id": "e84c43974ab6c990",
   "metadata": {
    "id": "e84c43974ab6c990"
   },
   "source": [
    "### load and preprocess data\n",
    "This part of code demonstrates how to load and preprocess text data from a file, split it into chunks, and store these chunks in the vector store that was set up previously."
   ]
  },
  {
   "cell_type": "code",
   "execution_count": 7,
   "id": "78a775a8daa69372",
   "metadata": {
    "ExecuteTime": {
     "end_time": "2024-07-24T05:34:23.429924Z",
     "start_time": "2024-07-24T05:33:16.398907Z"
    },
    "colab": {
     "base_uri": "https://localhost:8080/"
    },
    "id": "78a775a8daa69372",
    "outputId": "9b927bf5-d3c4-4ad8-a1c0-b3711e67775e"
   },
   "outputs": [
    {
     "name": "stdout",
     "output_type": "stream",
     "text": [
      "\u001b[32mINFO\u001b[0m: \u001b[1mStoring documents in the vector store\u001b[0m\n",
      "\u001b[32mINFO\u001b[0m: \u001b[1mEmbedding documents\u001b[0m\n",
      "\u001b[32mINFO\u001b[0m: \u001b[1mStarting to fetch embeddings texts using engine: text-embedding-3-small\u001b[0m\n",
      "\u001b[32mINFO\u001b[0m: \u001b[1mDocument added successfully to the vector store.\u001b[0m\n",
      "\u001b[32mINFO\u001b[0m: \u001b[1mDocuments stored successfully\u001b[0m\n"
     ]
    }
   ],
   "source": [
    "db.add(docs=docs)"
   ]
  },
  {
   "cell_type": "markdown",
   "id": "3c7ddb297b70e98d",
   "metadata": {
    "id": "3c7ddb297b70e98d"
   },
   "source": [
    "### Retrieve relevant information and generate an answer\n",
    "The main purpose of these lines is to perform a query on the vector store to retrieve the most relevant information (top_k=5) and generate an answer using the language model."
   ]
  },
  {
   "cell_type": "code",
   "execution_count": 8,
   "id": "5eeddd295be41564",
   "metadata": {
    "ExecuteTime": {
     "end_time": "2024-07-24T05:34:26.416103Z",
     "start_time": "2024-07-24T05:34:26.412646Z"
    },
    "id": "5eeddd295be41564"
   },
   "outputs": [],
   "source": [
    "query = \"How cinderella reach her happy ending?\"\n",
    "retriever = indox.QuestionAnswer(vector_database=db,llm=openai_qa_indox,top_k=5)"
   ]
  },
  {
   "cell_type": "markdown",
   "id": "197a0067afd5532e",
   "metadata": {
    "id": "197a0067afd5532e"
   },
   "source": [
    "invoke(query) method sends the query to the retriever, which searches the vector store for relevant text chunks and uses the language model to generate a response based on the retrieved information.\n",
    "Context property retrieves the context or the detailed information that the retriever used to generate the answer to the query. It provides insight into how the query was answered by showing the relevant text chunks and any additional information used."
   ]
  },
  {
   "cell_type": "code",
   "execution_count": 9,
   "id": "eb95a1c3fcdba812",
   "metadata": {
    "ExecuteTime": {
     "end_time": "2024-07-24T05:34:34.805479Z",
     "start_time": "2024-07-24T05:34:29.715543Z"
    },
    "colab": {
     "base_uri": "https://localhost:8080/",
     "height": 88
    },
    "id": "eb95a1c3fcdba812",
    "outputId": "028463e5-4552-484b-9337-0d7ecb9d924a"
   },
   "outputs": [
    {
     "name": "stdout",
     "output_type": "stream",
     "text": [
      "\u001b[32mINFO\u001b[0m: \u001b[1mRetrieving context and scores from the vector database\u001b[0m\n",
      "\u001b[32mINFO\u001b[0m: \u001b[1mEmbedding documents\u001b[0m\n",
      "\u001b[32mINFO\u001b[0m: \u001b[1mStarting to fetch embeddings texts using engine: text-embedding-3-small\u001b[0m\n",
      "\u001b[32mINFO\u001b[0m: \u001b[1mGenerating answer without document relevancy filter\u001b[0m\n",
      "\u001b[32mINFO\u001b[0m: \u001b[1mQuery answered successfully\u001b[0m\n"
     ]
    },
    {
     "data": {
      "text/plain": [
       "\"Cinderella reaches her happy ending through a series of transformative events facilitated by her inherent goodness, magical assistance, and the eventual recognition of her true worth. Here’s a summary of the key steps leading to her happy ending:\\n\\n1. **Magical Assistance**: After enduring mistreatment from her stepmother and stepsisters, Cinderella seeks solace at her mother’s grave, where she prays to a hazel tree. A little bird appears to grant her wishes, providing her with beautiful dresses and shoes that allow her to attend the royal festival.\\n\\n2. **The Royal Festival**: Cinderella attends the king's festival, where she captivates the prince with her beauty and grace. Each night, she must leave before he discovers her true identity, but she leaves behind a slipper, which becomes a crucial symbol of her identity.\\n\\n3. **The Prince's Search**: After the festival, the prince searches for the owner of the golden slipper. Cinderella’s stepsisters attempt to fit into the slipper, but their deceitful actions reveal their unworthiness. The prince discovers the blood from their attempts, confirming that they are not the true bride.\\n\\n4. **Recognition**: Ultimately, Cinderella is revealed as the rightful owner of the slipper. The prince recognizes her as the beautiful maiden he danced with at the festival.\\n\\n5. **Marriage and Justice**: Cinderella and the prince marry, fulfilling her dreams of love and happiness. Meanwhile, her stepsisters face punishment for their cruelty, symbolizing the triumph of virtue over wickedness.\\n\\nThrough these events, Cinderella transforms from a mistreated girl into a beloved princess, illustrating themes of kindness, resilience, and the eventual reward for goodness.\""
      ]
     },
     "execution_count": 9,
     "metadata": {},
     "output_type": "execute_result"
    }
   ],
   "source": [
    "retriever.invoke(query)"
   ]
  },
  {
   "cell_type": "code",
   "execution_count": 10,
   "id": "a2d500d6244768cb",
   "metadata": {
    "ExecuteTime": {
     "end_time": "2024-07-24T05:34:36.575204Z",
     "start_time": "2024-07-24T05:34:36.570126Z"
    },
    "colab": {
     "base_uri": "https://localhost:8080/"
    },
    "id": "a2d500d6244768cb",
    "outputId": "2de11787-ee0b-4be5-caeb-556edab1bcbb"
   },
   "outputs": [
    {
     "data": {
      "text/plain": [
       "['The documentation provided appears to be a retelling of the classic fairy tale \"Cinderella.\" Here is a detailed summary of the key elements and events described:\\n\\n1. **Cinderella\\'s Wishes**: The story begins with Cinderella, who visits a hazel tree three times a day to weep and pray. A little white bird comes to her aid, granting her wishes by dropping down what she desires.\\n\\n2. **The King\\'s Festival**: The king announces a grand festival lasting three days, inviting all the beautiful young girls in the kingdom so that his son can choose a bride. Cinderella\\'s step-sisters are excited about the event and ask Cinderella to help them prepare by combing their hair, brushing their shoes, and fastening their buckles.\\n\\n3. **Cinderella\\'s Desire to Attend**: Despite her step-sisters\\' excitement, Cinderella wishes to attend the festival as well. She pleads with her step-mother for permission, but she is denied and left behind.\\n\\n4. **Magical Transformation**: In response to Cinderella\\'s wish, the bird drops a beautiful gold and silver dress along with silk and silver slippers for her. Cinderella quickly dresses up and attends the wedding, where her step-sisters and step-mother do not recognize her, mistaking her for a foreign princess due to her beauty.\\n\\n5. **Subsequent Appearances**: After the first day of the festival, Cinderella returns to the hazel tree and makes another wish. The bird grants her a more magnificent dress, and she again captivates everyone at the wedding, especially the king\\'s son, who dances only with her.\\n\\n6. **The Final Day**: On the third day, Cinderella receives an even more splendid dress and golden slippers. She is the center of attention, and the king\\'s son is enchanted by her, declaring her his partner throughout the festivities.\\n\\n7. **Escape and Discovery**: As the evening approaches, Cinderella wishes to leave the festival. The king\\'s son takes her on his horse, and as they pass the hazel tree, two white doves announce that she is the true bride, confirming her identity.\\n\\n8. **The Step-Sisters\\' Fate**: When Cinderella\\'s wedding to the king\\'s son is planned, her step-sisters attempt to win her favor, hoping to share in her good fortune. However, during the ceremony, the doves punish them for their cruelty by pecking out one eye from each sister, symbolizing their unworthiness.\\n\\nOverall, the documentation captures the essence of Cinderella\\'s transformation from a mistreated girl to a beloved princess, aided by magical elements and ultimately leading to her happy ending, while also highlighting themes of jealousy, beauty, and justice.',\n",
       " 'The provided documentation contains multiple summaries of the classic fairy tale \"Cinderella,\" highlighting key elements and events throughout the story. Here’s a detailed synthesis of the main points from the excerpts:\\n\\n1. **Cinderella\\'s Background**: The tale begins with Cinderella\\'s mother passing away, leaving her with a strong moral foundation. Her mother advises her to be good and pious, promising that these virtues will bring divine protection. After her mother\\'s death, Cinderella mourns daily at her grave, embodying the values instilled in her.\\n\\n2. **The Cruelty of the Stepmother**: Cinderella\\'s life takes a turn for the worse when her father remarries. Her new stepmother and stepsisters treat her with disdain, forcing her into servitude. They ridicule her, take away her beautiful clothes, and impose harsh chores, including picking lentils from ashes, which symbolizes her degradation.\\n\\n3. **Cinderella\\'s Connection to Her Mother**: In her despair, Cinderella seeks solace at her mother’s grave, where she asks for help from a hazel tree. This tree becomes a source of magical assistance, as a bird appears to grant her wishes, providing her with beautiful dresses and shoes to wear to the royal festival.\\n\\n4. **The Royal Festival**: The king announces a grand festival for his son to find a bride, and Cinderella longs to attend. Despite her stepfamily\\'s attempts to keep her from going, she receives magical help that transforms her appearance, allowing her to attend the festival undetected.\\n\\n5. **The Prince\\'s Interest**: At the festival, the prince is captivated by Cinderella, who dances with him, but she must leave each night before he discovers her true identity. The magical elements of the story are emphasized as she escapes, leaving behind a slipper, which becomes a crucial symbol for her identity.\\n\\n6. **The Search for the True Bride**: The prince searches for the owner of the golden slipper, leading to attempts by Cinderella\\'s stepsisters to fit into the shoe. Their desperate and gruesome measures—cutting off toes and heels—highlight their unworthiness and the theme of deception.\\n\\n7. **Recognition and Justice**: Ultimately, the prince realizes that neither stepsister is the true bride when he sees the blood from their attempts to fit into the slipper. Cinderella, who has been hidden away, is finally revealed as the rightful owner of the slipper, leading to her recognition and eventual marriage to the prince.\\n\\n8. **Themes and Morals**: The documentation emphasizes various themes such as kindness, resilience, the importance of virtue, and the consequences of cruelty. Cinderella\\'s journey from mistreatment to recognition underscores the idea that true worth and goodness will ultimately prevail, while wickedness is punished.\\n\\nOverall, the summaries reflect the core narrative of \"Cinderella,\" focusing on her hardships, the magical assistance she receives, her transformation, and the eventual triumph of good over evil, culminating in her happy ending.',\n",
       " 'The provided documentation appears to be a fragmented retelling of the classic fairy tale \"Cinderella.\" Here is a detailed summary based on the excerpts:\\n\\n1. **The Mother\\'s Death and Advice**: The story begins with the wife of a wealthy man who falls gravely ill. As she senses her impending death, she calls her only daughter to her bedside. She advises her daughter to be good and pious, assuring her that this virtue will bring God\\'s protection and that she will watch over her from heaven. After imparting this wisdom, the mother passes away.\\n\\n2. **Cinderella\\'s Mourning and Virtue**: Following her mother\\'s death, the daughter, referred to as Cinderella, visits her mother\\'s grave daily to mourn and weep. She remains committed to being pious and good, embodying the values her mother instilled in her.\\n\\n3. **The Step-Mother\\'s Cruelty**: As time passes, Cinderella\\'s stepmother treats her poorly. Despite Cinderella\\'s desire to attend a festival, the stepmother belittles her, pointing out her dirty appearance and lack of suitable clothing. The stepmother sets a seemingly impossible task for Cinderella: to pick lentils out of ashes within a limited time. This task is meant to keep Cinderella occupied and prevent her from attending the festival.\\n\\n4. **Further Degradation**: The stepmother continues to emphasize Cinderella\\'s unworthiness, stating that she cannot go to the festival because of her appearance and lack of dancing skills. The stepmother and her two proud daughters leave for the event, leaving Cinderella behind in despair.\\n\\n5. **Cinderella\\'s Plea for Help**: Alone and heartbroken, Cinderella goes to her mother\\'s grave beneath a hazel tree and cries out for help, asking the tree to shower her with silver and gold. This moment highlights her connection to her deceased mother and her hope for assistance in her plight.\\n\\n6. **The King\\'s Son\\'s Interest**: In a separate thread, a king\\'s son expresses interest in finding a bride. When he learns of Cinderella, the stepmother dismisses her as too dirty and unworthy to present herself. However, the prince insists on seeing her, leading to Cinderella being called to the royal presence. Before meeting the prince, she cleans herself, indicating a transformation from her downtrodden state.\\n\\nOverall, the documentation captures key moments in Cinderella\\'s journey from a grieving daughter to a hopeful young woman, emphasizing themes of virtue, resilience, and the struggle against adversity, as well as the eventual recognition of her worth.',\n",
       " 'The documentation provided appears to be a summary or excerpt from the classic fairy tale \"Cinderella.\" Here’s a detailed summary based on the content:\\n\\nThe story begins with a man who, after the death of his first wife, remarries. His new wife brings two daughters into the household. Although the daughters are described as beautiful, they possess cruel and wicked hearts. This sets the stage for the mistreatment of Cinderella, the man\\'s daughter from his first marriage.\\n\\nCinderella\\'s life becomes increasingly difficult as her stepmother and stepsisters treat her poorly. They ridicule her, referring to her as a \"stupid goose,\" and impose harsh conditions on her. They take away her beautiful clothes, dressing her in an old grey gown and wooden shoes, and force her to work tirelessly in the kitchen. Cinderella is made to perform all the household chores, including carrying water, lighting fires, cooking, and washing, from dawn until dusk. Her stepsisters further torment her by mocking her and sabotaging her work, such as throwing her peas and lentils into the ashes, forcing her to pick them out again.\\n\\nDue to her constant labor and the lack of a proper place to sleep, Cinderella ends up sleeping by the hearth, covered in cinders, which earns her the nickname \"Cinderella.\" The narrative hints at a turning point when her father goes to the fair, and the king\\'s son expresses interest in finding an unknown maiden who has hidden herself in a pigeon-house. The father, suspecting it might be Cinderella, requests tools to break down the pigeon-house, but finds no one inside.\\n\\nMeanwhile, Cinderella cleverly manages to change out of her dirty clothes by sneaking away to a hazel tree where she retrieves her beautiful garments, which a bird has taken away for safekeeping. She returns to the kitchen in her grey gown, blending back into her life of servitude as the festival continues without her.\\n\\nOverall, the documentation captures the essence of Cinderella\\'s hardships and the cruelty she faces from her stepfamily, setting the stage for the eventual magical transformation and resolution of her story.',\n",
       " 'The provided documentation appears to be a summary of a segment from the classic fairy tale \"Cinderella.\" Here’s a detailed summary of the key points:\\n\\n1. **Father\\'s Journey**: The story begins with Cinderella\\'s father asking his two step-daughters what gifts they would like him to bring back for them. One step-daughter requests beautiful dresses, while the other asks for pearls and jewels. When he turns to Cinderella, she modestly asks for the first branch that knocks against his hat on his way home.\\n\\n2. **The Hazel Branch**: On his way back, the father encounters a hazel twig that brushes against him and knocks off his hat. He breaks off the branch and brings it home. Upon his return, he gives the step-daughters their desired gifts and presents Cinderella with the hazel branch.\\n\\n3. **Cinderella\\'s Gratitude**: Cinderella expresses her gratitude and takes the branch to her mother’s grave, where she plants it. She weeps over the grave, and her tears water the branch, causing it to grow into a beautiful tree.\\n\\n4. **The King\\'s Son\\'s Search**: Later, the king\\'s son is searching for the unknown maiden who has eluded him. He suspects she may have climbed the pear tree. The father, thinking it might be Cinderella, cuts down the tree, but no one is found in it.\\n\\n5. **Cinderella\\'s Disguise**: While the search is happening, Cinderella is hiding among the ashes in the kitchen, having cleverly jumped down on the opposite side of the tree. She had previously taken her beautiful dress to the bird on the hazel tree and changed back into her grey gown.\\n\\n6. **Cinderella\\'s Wish**: On the third day, when her family is away again, Cinderella returns to her mother’s grave and calls upon the little tree, reciting a rhyme that asks it to shower her with silver and gold.\\n\\nOverall, the documentation captures the essence of Cinderella\\'s humble beginnings, her connection to her deceased mother, and the magical elements that assist her in her journey. It highlights themes of kindness, resilience, and the contrast between Cinderella and her step-sisters.']"
      ]
     },
     "execution_count": 10,
     "metadata": {},
     "output_type": "execute_result"
    }
   ],
   "source": [
    "retriever.context"
   ]
  },
  {
   "cell_type": "markdown",
   "id": "6ec341bb6534cd4f",
   "metadata": {
    "id": "6ec341bb6534cd4f"
   },
   "source": [
    "### With AgenticRag\n",
    "\n",
    "AgenticRag stands for Agentic Retrieval-Augmented Generation. This concept combines retrieval-based methods and generation-based methods in natural language processing (NLP). The key idea is to enhance the generative capabilities of a language model by incorporating relevant information retrieved from a database or a vector store.\n",
    " AgenticRag is designed to provide more contextually rich and accurate responses by utilizing external knowledge sources. It retrieves relevant pieces of information (chunks) from a vector store based on a query and then uses a language model to generate a comprehensive response that incorporates this retrieved information."
   ]
  },
  {
   "cell_type": "code",
   "execution_count": 11,
   "id": "bf2dd2fbe3a7a74a",
   "metadata": {
    "ExecuteTime": {
     "end_time": "2024-06-22T16:39:36.157519Z",
     "start_time": "2024-06-22T16:39:15.367500Z"
    },
    "colab": {
     "base_uri": "https://localhost:8080/",
     "height": 174
    },
    "id": "bf2dd2fbe3a7a74a",
    "outputId": "0520585f-7436-466d-8ef8-46d2bf8f916d"
   },
   "outputs": [
    {
     "name": "stdout",
     "output_type": "stream",
     "text": [
      "\u001b[32mINFO\u001b[0m: \u001b[1mEmbedding documents\u001b[0m\n",
      "\u001b[32mINFO\u001b[0m: \u001b[1mStarting to fetch embeddings texts using engine: text-embedding-3-small\u001b[0m\n",
      "\u001b[32mINFO\u001b[0m: \u001b[1mRelevant doc\u001b[0m\n",
      "\u001b[32mINFO\u001b[0m: \u001b[1mRelevant doc\u001b[0m\n",
      "\u001b[32mINFO\u001b[0m: \u001b[1mRelevant doc\u001b[0m\n",
      "\u001b[32mINFO\u001b[0m: \u001b[1mNot Relevant doc\u001b[0m\n",
      "\u001b[32mINFO\u001b[0m: \u001b[1mRelevant doc\u001b[0m\n",
      "\u001b[32mINFO\u001b[0m: \u001b[1mHallucination detected, Regenerate the answer...\u001b[0m\n"
     ]
    },
    {
     "data": {
      "text/plain": [
       "\"Cinderella reaches her happy ending through a series of transformative events and magical assistance that ultimately lead to her recognition and marriage to the prince. Here’s a summary of the key steps in her journey to happiness:\\n\\n1. **Mourning and Virtue**: After the death of her mother, Cinderella embodies the virtues of goodness and piety that her mother instilled in her. This moral foundation attracts divine favor and assistance.\\n\\n2. **Cruelty of the Stepmother**: Despite her hardships and the cruel treatment from her stepmother and stepsisters, Cinderella remains resilient and hopeful. Her daily visits to her mother’s grave symbolize her connection to her past and her desire for a better future.\\n\\n3. **Magical Assistance**: When Cinderella expresses her wish to attend the royal festival, a magical bird, aided by the hazel tree she planted at her mother’s grave, grants her beautiful dresses and shoes, allowing her to attend the festival undetected.\\n\\n4. **Captivating the Prince**: At the festival, Cinderella captures the attention of the prince, who dances only with her. However, she must leave before he discovers her true identity, leaving behind a golden slipper as a clue.\\n\\n5. **The Prince's Search**: After the festival, the prince searches for the owner of the golden slipper. Cinderella's stepsisters attempt to deceive him, but their unworthiness is revealed when they injure themselves in their attempts to fit into the slipper.\\n\\n6. **Recognition and Justice**: Ultimately, the slipper fits Cinderella perfectly, revealing her as the true owner. The prince recognizes her as the beautiful maiden he danced with, leading to their reunion.\\n\\n7. **Happy Ending**: Cinderella's kindness and resilience are rewarded as she marries the prince, and her stepmother and stepsisters face the consequences of their cruelty. The story concludes with Cinderella achieving her happy ending, embodying the themes of virtue, justice, and the triumph of good over evil.\\n\\nThrough these events, Cinderella's journey from a mistreated girl to a beloved princess illustrates the power of kindness, hope, and the belief that true worth will ultimately be recognized.\""
      ]
     },
     "execution_count": 11,
     "metadata": {},
     "output_type": "execute_result"
    }
   ],
   "source": [
    "agent = indox.AgenticRag(llm=openai_qa_indox,vector_database=db,top_k=5)\n",
    "agent.run(query)"
   ]
  },
  {
   "cell_type": "code",
   "execution_count": 12,
   "id": "ae50b369603a1e2c",
   "metadata": {
    "ExecuteTime": {
     "end_time": "2024-06-22T16:39:59.947779Z",
     "start_time": "2024-06-22T16:39:59.944427Z"
    },
    "id": "ae50b369603a1e2c"
   },
   "outputs": [],
   "source": [
    "query_2 = \"where does messi plays right now?\""
   ]
  },
  {
   "cell_type": "code",
   "execution_count": 13,
   "id": "1b16988ccc80dc97",
   "metadata": {
    "ExecuteTime": {
     "end_time": "2024-06-22T16:40:26.380527Z",
     "start_time": "2024-06-22T16:40:03.832586Z"
    },
    "colab": {
     "base_uri": "https://localhost:8080/",
     "height": 174
    },
    "id": "1b16988ccc80dc97",
    "outputId": "8392c752-cea2-4e1a-8d3e-4425c87996c0"
   },
   "outputs": [
    {
     "name": "stdout",
     "output_type": "stream",
     "text": [
      "\u001b[32mINFO\u001b[0m: \u001b[1mEmbedding documents\u001b[0m\n",
      "\u001b[32mINFO\u001b[0m: \u001b[1mStarting to fetch embeddings texts using engine: text-embedding-3-small\u001b[0m\n",
      "\u001b[32mINFO\u001b[0m: \u001b[1mNot Relevant doc\u001b[0m\n",
      "\u001b[32mINFO\u001b[0m: \u001b[1mNot Relevant doc\u001b[0m\n",
      "\u001b[32mINFO\u001b[0m: \u001b[1mNot Relevant doc\u001b[0m\n",
      "\u001b[32mINFO\u001b[0m: \u001b[1mNot Relevant doc\u001b[0m\n",
      "\u001b[32mINFO\u001b[0m: \u001b[1mNot Relevant doc\u001b[0m\n",
      "\u001b[32mINFO\u001b[0m: \u001b[1mNo Relevant document found, Start web search\u001b[0m\n",
      "\u001b[32mINFO\u001b[0m: \u001b[1mNo Relevant Context Found, Start Searching On Web...\u001b[0m\n"
     ]
    },
    {
     "name": "stderr",
     "output_type": "stream",
     "text": [
      "2024-12-08 19:08:13,159 - primp - INFO - response: https://duckduckgo.com/?q=where+does+messi+plays+right+now%3F 200 19080\n",
      "2024-12-08 19:08:14,516 - primp - INFO - response: https://links.duckduckgo.com/d.js?q=where+does+messi+plays+right+now%3F&kl=wt-wt&l=wt-wt&p=&s=0&df=&vqd=4-133820980658443042021681883320626058733&bing_market=wt-WT&ex=-2 200 23789\n"
     ]
    },
    {
     "name": "stdout",
     "output_type": "stream",
     "text": [
      "\u001b[32mINFO\u001b[0m: \u001b[1mAnswer Base On Web Search\u001b[0m\n",
      "\u001b[32mINFO\u001b[0m: \u001b[1mCheck For Hallucination In Generated Answer Base On Web Search\u001b[0m\n",
      "\u001b[32mINFO\u001b[0m: \u001b[1mHallucination detected, Regenerate the answer...\u001b[0m\n"
     ]
    },
    {
     "data": {
      "text/plain": [
       "'Lionel Messi currently plays for Inter Miami in Major League Soccer (MLS).'"
      ]
     },
     "execution_count": 13,
     "metadata": {},
     "output_type": "execute_result"
    }
   ],
   "source": [
    "agent.run(query_2)"
   ]
  },
  {
   "cell_type": "code",
   "execution_count": null,
   "id": "62435bd8",
   "metadata": {},
   "outputs": [],
   "source": []
  }
 ],
 "metadata": {
  "colab": {
   "provenance": []
  },
  "kernelspec": {
   "display_name": "base",
   "language": "python",
   "name": "python3"
  },
  "language_info": {
   "codemirror_mode": {
    "name": "ipython",
    "version": 3
   },
   "file_extension": ".py",
   "mimetype": "text/x-python",
   "name": "python",
   "nbconvert_exporter": "python",
   "pygments_lexer": "ipython3",
   "version": "3.12.4"
  }
 },
 "nbformat": 4,
 "nbformat_minor": 5
}
