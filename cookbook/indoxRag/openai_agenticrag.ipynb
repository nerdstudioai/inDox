{
 "cells": [
  {
   "cell_type": "markdown",
   "id": "cd1e2aa3a497e7b3",
   "metadata": {},
   "source": [
    "[![Open In Colab](https://colab.research.google.com/assets/colab-badge.svg)](https://colab.research.google.com/github/osllmai/inDox/blob/master/cookbook/indoxRag/openai_agenticrag.ipynb)"
   ]
  },
  {
   "cell_type": "code",
   "execution_count": null,
   "id": "c2ab8144e1eb7773",
   "metadata": {},
   "outputs": [],
   "source": [
    "!pip install indoxRag\n",
    "!pip install openai\n",
    "!pip install chromadb\n",
    "!pip install duckduckgo-search"
   ]
  },
  {
   "cell_type": "markdown",
   "id": "594179f9be309e1f",
   "metadata": {},
   "source": [
    "## Setting Up the Python Environment\n",
    "\n",
    "If you are running this project in your local IDE, please create a Python environment to ensure all dependencies are correctly managed. You can follow the steps below to set up a virtual environment named `indox`:\n",
    "\n",
    "### Windows\n",
    "\n",
    "1. **Create the virtual environment:**\n",
    "```bash\n",
    "python -m venv indox\n",
    "```\n",
    "2. **Activate the virtual environment:**\n",
    "```bash\n",
    "indox\\Scripts\\activate\n",
    "```\n",
    "\n",
    "### macOS/Linux\n",
    "\n",
    "1. **Create the virtual environment:**\n",
    "   ```bash\n",
    "   python3 -m venv indox\n",
    "```\n",
    "\n",
    "2. **Activate the virtual environment:**\n",
    "    ```bash\n",
    "   source indox/bin/activate\n",
    "```\n",
    "### Install Dependencies\n",
    "\n",
    "Once the virtual environment is activated, install the required dependencies by running:\n",
    "\n",
    "```bash\n",
    "pip install -r requirements.txt\n",
    "```\n"
   ]
  },
  {
   "cell_type": "markdown",
   "id": "e17682c35969a25",
   "metadata": {},
   "source": [
    "## Agentic RAG\n",
    "Here, we will explore how to work with Agentic RAG. We are using OpenAI and we should set our OPENAI_API_KEY as an environment variable."
   ]
  },
  {
   "cell_type": "code",
   "execution_count": 1,
   "id": "initial_id",
   "metadata": {
    "ExecuteTime": {
     "end_time": "2024-07-12T12:51:23.884950Z",
     "start_time": "2024-07-12T12:51:23.873448Z"
    },
    "collapsed": true
   },
   "outputs": [],
   "source": [
    "import os\n",
    "from dotenv import load_dotenv\n",
    "\n",
    "load_dotenv()\n",
    "OPENAI_API_KEY = os.getenv('OPENAI_API_KEY')"
   ]
  },
  {
   "cell_type": "markdown",
   "id": "cc1864f1b50f95c9",
   "metadata": {},
   "source": [
    "## Creating an instance of IndoxRetrievalAugmentation\n",
    "You must first create an instance of IndoxRetrievalAugmentation class. This instance will allow you to access the methods and properties defined within the class, enabling the augmentation and retrieval functionalities."
   ]
  },
  {
   "cell_type": "code",
   "execution_count": null,
   "id": "f86ed3314b0d078",
   "metadata": {
    "ExecuteTime": {
     "end_time": "2024-07-12T12:51:33.474799Z",
     "start_time": "2024-07-12T12:51:23.886053Z"
    }
   },
   "outputs": [],
   "source": [
    "from indoxRag import IndoxRetrievalAugmentation\n",
    "from indoxRag.llms import OpenAi\n",
    "from indoxRag.embeddings import OpenAiEmbedding\n",
    "from indoxRag.data_loader_splitter import SimpleLoadAndSplit"
   ]
  },
  {
   "cell_type": "markdown",
   "id": "a81302a67ec0d5a6",
   "metadata": {},
   "source": [
    "Create OpenAi model as LLM_model and OpenAiEmbedding as Embedding model and using them to generate response."
   ]
  },
  {
   "cell_type": "code",
   "execution_count": 3,
   "id": "7b93033e005b8049",
   "metadata": {
    "ExecuteTime": {
     "end_time": "2024-07-12T12:51:35.534540Z",
     "start_time": "2024-07-12T12:51:33.475809Z"
    }
   },
   "outputs": [
    {
     "name": "stdout",
     "output_type": "stream",
     "text": [
      "\u001b[32mINFO\u001b[0m: \u001b[1mIndoxRetrievalAugmentation initialized\u001b[0m\n",
      "\n",
      "            ██  ███    ██  ██████   ██████  ██       ██\n",
      "            ██  ████   ██  ██   ██ ██    ██   ██  ██\n",
      "            ██  ██ ██  ██  ██   ██ ██    ██     ██\n",
      "            ██  ██  ██ ██  ██   ██ ██    ██   ██   ██\n",
      "            ██  ██  █████  ██████   ██████  ██       ██\n",
      "            \n",
      "\u001b[32mINFO\u001b[0m: \u001b[1mInitializing OpenAi with model: gpt-3.5-turbo-0125\u001b[0m\n",
      "\u001b[32mINFO\u001b[0m: \u001b[1mOpenAi initialized successfully\u001b[0m\n",
      "\u001b[32mINFO\u001b[0m: \u001b[1mInitialized OpenAI embeddings with model: text-embedding-3-small\u001b[0m\n"
     ]
    }
   ],
   "source": [
    "indox = IndoxRetrievalAugmentation()\n",
    "llm_model = OpenAi(api_key=OPENAI_API_KEY,model=\"gpt-3.5-turbo-0125\")\n",
    "embed = OpenAiEmbedding(api_key=OPENAI_API_KEY,model=\"text-embedding-3-small\")"
   ]
  },
  {
   "cell_type": "code",
   "execution_count": 4,
   "id": "62398709ecd1bae2",
   "metadata": {
    "ExecuteTime": {
     "end_time": "2024-07-12T12:51:35.541025Z",
     "start_time": "2024-07-12T12:51:35.535545Z"
    }
   },
   "outputs": [
    {
     "data": {
      "text/plain": [
       "'0.1.13'"
      ]
     },
     "execution_count": 4,
     "metadata": {},
     "output_type": "execute_result"
    }
   ],
   "source": [
    "indox.__version__"
   ]
  },
  {
   "cell_type": "markdown",
   "id": "2a0fb03eccb8cf95",
   "metadata": {},
   "source": [
    "### You can download the file from the below address "
   ]
  },
  {
   "cell_type": "code",
   "execution_count": null,
   "id": "7174373485eda383",
   "metadata": {},
   "outputs": [],
   "source": [
    "!wget https://raw.githubusercontent.com/osllmai/inDox/master/Demo/sample.txt"
   ]
  },
  {
   "cell_type": "markdown",
   "id": "f9e40fa02a3110d1",
   "metadata": {},
   "source": [
    "## Preprocess Data\n",
    "using SimpleLoadAndSplit class to preprocess text data from a file, split text into chunks"
   ]
  },
  {
   "cell_type": "code",
   "execution_count": 6,
   "id": "3aaeda535bc2c497",
   "metadata": {
    "ExecuteTime": {
     "end_time": "2024-07-12T12:51:55.977807Z",
     "start_time": "2024-07-12T12:51:55.973149Z"
    }
   },
   "outputs": [
    {
     "name": "stdout",
     "output_type": "stream",
     "text": [
      "\u001b[32mINFO\u001b[0m: \u001b[1mUnstructuredLoadAndSplit initialized successfully\u001b[0m\n"
     ]
    }
   ],
   "source": [
    "loader_splitter = SimpleLoadAndSplit(file_path=\"sample.txt\",remove_sword=False)"
   ]
  },
  {
   "cell_type": "code",
   "execution_count": 7,
   "id": "e173124b75795645",
   "metadata": {
    "ExecuteTime": {
     "end_time": "2024-07-12T12:51:58.783182Z",
     "start_time": "2024-07-12T12:51:56.310684Z"
    }
   },
   "outputs": [
    {
     "name": "stdout",
     "output_type": "stream",
     "text": [
      "\u001b[32mINFO\u001b[0m: \u001b[1mStarting processing\u001b[0m\n",
      "\u001b[32mINFO\u001b[0m: \u001b[1mCreated initial document elements\u001b[0m\n",
      "\u001b[32mINFO\u001b[0m: \u001b[1mCompleted chunking process\u001b[0m\n",
      "\u001b[32mINFO\u001b[0m: \u001b[1mSuccessfully obtained all documents\u001b[0m\n"
     ]
    }
   ],
   "source": [
    "docs = loader_splitter.load_and_chunk()"
   ]
  },
  {
   "cell_type": "markdown",
   "id": "8f82e6f2cb8dc57f",
   "metadata": {},
   "source": [
    "## Create ChromaVectoreStore instance\n",
    "Here ChromaVectorStore handles the storage and retrieval of vector embeddings by specifying a collection name and sets up a vector store where text embeddings can be stored and queried."
   ]
  },
  {
   "cell_type": "code",
   "execution_count": null,
   "id": "f8a8b4ca4328777e",
   "metadata": {
    "ExecuteTime": {
     "end_time": "2024-07-12T12:51:59.444759Z",
     "start_time": "2024-07-12T12:51:58.784193Z"
    }
   },
   "outputs": [
    {
     "name": "stdout",
     "output_type": "stream",
     "text": [
      "\u001b[32mINFO\u001b[0m: \u001b[1mConnection to the vector store database established successfully\u001b[0m\n"
     ]
    },
    {
     "data": {
      "text/plain": [
       "<indox.vector_stores.Chroma.ChromaVectorStore at 0x208f44d0560>"
      ]
     },
     "execution_count": 8,
     "metadata": {},
     "output_type": "execute_result"
    }
   ],
   "source": [
    "from indoxRag.vector_stores import Chroma\n",
    "\n",
    "# Define the collection name within the vector store\n",
    "collection_name = \"sample\"\n",
    "\n",
    "# Create a ChromaVectorStore instance\n",
    "db = Chroma(collection_name=collection_name, embedding_function=embed)\n"
   ]
  },
  {
   "cell_type": "markdown",
   "id": "9535306c09023386",
   "metadata": {},
   "source": [
    "store the chunks in the vector store that was set up previously."
   ]
  },
  {
   "cell_type": "code",
   "execution_count": 9,
   "id": "20b205c7b5cb3521",
   "metadata": {
    "ExecuteTime": {
     "end_time": "2024-07-12T12:52:10.498123Z",
     "start_time": "2024-07-12T12:52:03.238982Z"
    }
   },
   "outputs": [
    {
     "name": "stdout",
     "output_type": "stream",
     "text": [
      "\u001b[32mINFO\u001b[0m: \u001b[1mStoring documents in the vector store\u001b[0m\n",
      "\u001b[32mINFO\u001b[0m: \u001b[1mDocument added successfully to the vector store.\u001b[0m\n",
      "\u001b[32mINFO\u001b[0m: \u001b[1mDocuments stored successfully\u001b[0m\n"
     ]
    },
    {
     "data": {
      "text/plain": [
       "<indox.vector_stores.Chroma.ChromaVectorStore at 0x208f44d0560>"
      ]
     },
     "execution_count": 9,
     "metadata": {},
     "output_type": "execute_result"
    }
   ],
   "source": [
    "db.add(docs=docs)"
   ]
  },
  {
   "cell_type": "markdown",
   "id": "f18cb82b795d12eb",
   "metadata": {},
   "source": [
    "## Retrieve relevant information by question-answering model\n",
    "At this step we are using QuestionAnswer model and try to retrieve the answer just by our file and without any agent"
   ]
  },
  {
   "cell_type": "code",
   "execution_count": 10,
   "id": "71e64d760fa319f0",
   "metadata": {
    "ExecuteTime": {
     "end_time": "2024-07-12T12:52:10.501997Z",
     "start_time": "2024-07-12T12:52:10.499133Z"
    }
   },
   "outputs": [],
   "source": [
    "query = \"Where does messi plays right now?\"\n",
    "retriever = indox.QuestionAnswer(vector_database=db,llm=llm_model,top_k=3)"
   ]
  },
  {
   "cell_type": "code",
   "execution_count": 11,
   "id": "2d3ed87a223398fb",
   "metadata": {
    "ExecuteTime": {
     "end_time": "2024-07-12T12:52:16.305913Z",
     "start_time": "2024-07-12T12:52:10.503005Z"
    }
   },
   "outputs": [
    {
     "name": "stdout",
     "output_type": "stream",
     "text": [
      "\u001b[32mINFO\u001b[0m: \u001b[1mRetrieving context and scores from the vector database\u001b[0m\n",
      "\u001b[32mINFO\u001b[0m: \u001b[1mGenerating answer without document relevancy filter\u001b[0m\n",
      "\u001b[32mINFO\u001b[0m: \u001b[1mAnswering question\u001b[0m\n",
      "\u001b[32mINFO\u001b[0m: \u001b[1mGenerating response\u001b[0m\n",
      "\u001b[32mINFO\u001b[0m: \u001b[1mResponse generated successfully\u001b[0m\n",
      "\u001b[32mINFO\u001b[0m: \u001b[1mQuery answered successfully\u001b[0m\n"
     ]
    },
    {
     "data": {
      "text/plain": [
       "\"I'm sorry, but the given context does not contain any information about Lionel Messi's current football club.\""
      ]
     },
     "execution_count": 11,
     "metadata": {},
     "output_type": "execute_result"
    }
   ],
   "source": [
    "retriever.invoke(query)"
   ]
  },
  {
   "cell_type": "markdown",
   "id": "b3846ee63c84dd1c",
   "metadata": {},
   "source": [
    "## Retrieve information by using Agnet\n",
    "Here we are using Agent to retrieve answer. As you can see, our last try was unsuccessful but now after the agent couldn't find the answer it started to search on the internet.\n",
    "Note: to be more familiar with AgenticRAG pleas read [this page](\"https://docs.osllm.ai/agenticRag.html\")"
   ]
  },
  {
   "cell_type": "code",
   "execution_count": 12,
   "id": "5a145c1a46ced87d",
   "metadata": {
    "ExecuteTime": {
     "end_time": "2024-07-12T12:53:38.269935Z",
     "start_time": "2024-07-12T12:52:16.306919Z"
    }
   },
   "outputs": [
    {
     "name": "stdout",
     "output_type": "stream",
     "text": [
      "\u001b[32mINFO\u001b[0m: \u001b[1mGenerating response\u001b[0m\n",
      "\u001b[32mERROR\u001b[0m: \u001b[31m\u001b[1mError generating response: Request timed out.\u001b[0m\n",
      "\u001b[31mERROR\u001b[0m: \u001b[31m\u001b[1mError generating response: Request timed out.\u001b[0m\n",
      "\u001b[32mINFO\u001b[0m: \u001b[1mGenerating response\u001b[0m\n",
      "\u001b[32mINFO\u001b[0m: \u001b[1mResponse generated successfully\u001b[0m\n",
      "\u001b[32mINFO\u001b[0m: \u001b[1mNot relevant doc\u001b[0m\n",
      "\u001b[32mINFO\u001b[0m: \u001b[1mGenerating response\u001b[0m\n",
      "\u001b[32mINFO\u001b[0m: \u001b[1mResponse generated successfully\u001b[0m\n",
      "\u001b[32mINFO\u001b[0m: \u001b[1mNot relevant doc\u001b[0m\n",
      "\u001b[32mINFO\u001b[0m: \u001b[1mGenerating response\u001b[0m\n",
      "\u001b[32mINFO\u001b[0m: \u001b[1mResponse generated successfully\u001b[0m\n",
      "\u001b[32mINFO\u001b[0m: \u001b[1mNot relevant doc\u001b[0m\n",
      "\u001b[32mINFO\u001b[0m: \u001b[1mNo Relevant document found, Start web search\u001b[0m\n",
      "\u001b[32mINFO\u001b[0m: \u001b[1mNo Relevant Context Found, Start Searching On Web...\u001b[0m\n",
      "\u001b[32mINFO\u001b[0m: \u001b[1mAnswer Base On Web Search\u001b[0m\n",
      "\u001b[32mINFO\u001b[0m: \u001b[1mAnswering question\u001b[0m\n",
      "\u001b[32mINFO\u001b[0m: \u001b[1mGenerating response\u001b[0m\n",
      "\u001b[32mINFO\u001b[0m: \u001b[1mResponse generated successfully\u001b[0m\n",
      "\u001b[32mINFO\u001b[0m: \u001b[1mCheck For Hallucination In Generated Answer Base On Web Search\u001b[0m\n",
      "\u001b[32mINFO\u001b[0m: \u001b[1mChecking hallucination for answer\u001b[0m\n",
      "\u001b[32mINFO\u001b[0m: \u001b[1mGenerating response\u001b[0m\n",
      "\u001b[32mINFO\u001b[0m: \u001b[1mResponse generated successfully\u001b[0m\n",
      "\u001b[32mINFO\u001b[0m: \u001b[1mHallucination detected, Regenerate the answer...\u001b[0m\n",
      "\u001b[32mINFO\u001b[0m: \u001b[1mAnswering question\u001b[0m\n",
      "\u001b[32mINFO\u001b[0m: \u001b[1mGenerating response\u001b[0m\n",
      "\u001b[32mINFO\u001b[0m: \u001b[1mResponse generated successfully\u001b[0m\n"
     ]
    },
    {
     "data": {
      "text/plain": [
       "\"Lionel Messi currently plays for Major League Soccer's Inter Miami CF.\""
      ]
     },
     "execution_count": 12,
     "metadata": {},
     "output_type": "execute_result"
    }
   ],
   "source": [
    "agent = indox.AgenticRag(llm=llm_model,vector_database=db,top_k=3)\n",
    "agent.run(query)"
   ]
  },
  {
   "cell_type": "code",
   "execution_count": null,
   "id": "751c15421f42ebfa",
   "metadata": {},
   "outputs": [],
   "source": []
  }
 ],
 "metadata": {
  "kernelspec": {
   "display_name": "Python 3",
   "language": "python",
   "name": "python3"
  },
  "language_info": {
   "codemirror_mode": {
    "name": "ipython",
    "version": 2
   },
   "file_extension": ".py",
   "mimetype": "text/x-python",
   "name": "python",
   "nbconvert_exporter": "python",
   "pygments_lexer": "ipython2",
   "version": "2.7.6"
  }
 },
 "nbformat": 4,
 "nbformat_minor": 5
}
