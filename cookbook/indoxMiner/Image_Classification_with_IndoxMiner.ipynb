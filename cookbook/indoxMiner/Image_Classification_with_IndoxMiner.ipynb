{
 "cells": [
  {
   "cell_type": "markdown",
   "metadata": {},
   "source": [
    "# 📚 Image Classification with IndoxMiner\n",
    "\n",
    "This notebook demonstrates how to use the classification module in `IndoxMiner` to perform image classification tasks using various models.\n",
    "\n",
    "## ✨ Key Features\n",
    "- **Multi-Model Support**: Includes models like SigCLIP, ViT, MetaCLIP, MobileCLIP, BioCLIP, AltCLIP, and RemoteCLIP.\n",
    "- **Batch Processing**: Classify multiple images in a single call.\n",
    "- **Custom Labels**: Define custom label sets for classification tasks.\n",
    "- **Visualization**: Generates intuitive bar plots for results."
   ]
  },
  {
   "cell_type": "markdown",
   "metadata": {},
   "source": [
    "## 🛠️ Setup\n",
    "Install the required dependencies:\n",
    "\n",
    "```bash\n",
    "pip install indoxminer\n",
    "pip install open-clip-torch\n",
    "```\n",
    "\n",
    "Ensure any additional dependencies for specific models are installed (e.g., MobileCLIP, RemoteCLIP checkpoints)."
   ]
  },
  {
   "cell_type": "code",
   "execution_count": null,
   "metadata": {},
   "outputs": [],
   "source": [
    "# Import libraries\n",
    "from pathlib import Path\n",
    "from PIL import Image\n",
    "from indoxminer.classification import SigCLIPClassifier, MobileCLIPClassifier, RemoteCLIPClassifier\n",
    "\n",
    "# Define helper functions\n",
    "def display_images(images):\n",
    "    \"\"\"Display images in a grid.\"\"\"\n",
    "    import matplotlib.pyplot as plt\n",
    "    fig, axes = plt.subplots(1, len(images), figsize=(15, 5))\n",
    "    for img, ax in zip(images, axes):\n",
    "        ax.imshow(img)\n",
    "        ax.axis('off')\n",
    "    plt.show()"
   ]
  },
  {
   "cell_type": "markdown",
   "metadata": {},
   "source": [
    "## 🔍 Classification with SigCLIP\n",
    "The `SigCLIPClassifier` uses semantic text-to-image similarity for classification."
   ]
  },
  {
   "cell_type": "code",
   "execution_count": null,
   "metadata": {},
   "outputs": [],
   "source": [
    "# Load images\n",
    "image_paths = [Path(\"/content/coco.jpg\"), Path(\"/content/dog-cat-under-sheet.jpg\")]\n",
    "images = [Image.open(path) for path in image_paths]\n",
    "\n",
    "# Display images\n",
    "display_images(images)\n",
    "\n",
    "# Initialize the SigCLIP classifier\n",
    "sigclip_classifier = SigCLIPClassifier()\n",
    "\n",
    "# Classify images with default labels\n",
    "print(\"Results with default labels:\")\n",
    "sigclip_classifier.classify(images)"
   ]
  },
  {
   "cell_type": "markdown",
   "metadata": {},
   "source": [
    "## 🐦 Classification with MobileCLIP\n",
    "The `MobileCLIPClassifier` is optimized for lightweight and mobile-friendly classification tasks."
   ]
  },
  {
   "cell_type": "code",
   "execution_count": null,
   "metadata": {},
   "outputs": [],
   "source": [
    "# Initialize the MobileCLIP classifier with a checkpoint\n",
    "mobileclip_classifier = MobileCLIPClassifier(pretrained_path=\"/content/mobileclip_s0.pt\")\n",
    "\n",
    "# Classify images with custom labels\n",
    "custom_labels = [\"a tiger\", \"a mountain\", \"a river\", \"a boat\", \"a forest\"]\n",
    "print(\"\\nResults with custom labels:\")\n",
    "mobileclip_classifier.classify(images, labels=custom_labels)"
   ]
  },
  {
   "cell_type": "markdown",
   "metadata": {},
   "source": [
    "## 🌍 Classification with RemoteCLIP\n",
    "The `RemoteCLIPClassifier` is specialized for remote sensing and satellite imagery analysis."
   ]
  },
  {
   "cell_type": "code",
   "execution_count": null,
   "metadata": {},
   "outputs": [],
   "source": [
    "# Initialize the RemoteCLIP classifier with a checkpoint\n",
    "remoteclip_classifier = RemoteCLIPClassifier(\n",
    "    model_name=\"ViT-L-14\",\n",
    "    checkpoint_path=\"/content/RemoteCLIP-ViT-L-14.pt\"\n",
    ")\n",
    "\n",
    "# Classify images with default labels\n",
    "print(\"\\nResults with default labels:\")\n",
    "remoteclip_classifier.classify(images, top=5)"
   ]
  },
  {
   "cell_type": "markdown",
   "metadata": {},
   "source": [
    "## 🔬 Advanced Usage\n",
    "Directly use `preprocess`, `predict`, and `visualize` methods for custom workflows."
   ]
  },
  {
   "cell_type": "code",
   "execution_count": null,
   "metadata": {},
   "outputs": [],
   "source": [
    "# Preprocess images\n",
    "inputs = sigclip_classifier.preprocess(images, labels=[\"a cat\", \"a dog\"])\n",
    "\n",
    "# Predict probabilities\n",
    "probs = sigclip_classifier.predict(inputs)\n",
    "\n",
    "# Visualize the results\n",
    "sigclip_classifier.visualize(images, labels=[\"a cat\", \"a dog\"], probs=probs, top=5)"
   ]
  },
  {
   "cell_type": "markdown",
   "metadata": {},
   "source": [
    "## 🛠️ Additional Resources\n",
    "\n",
    "- **Documentation**: [IndoxMiner Documentation](https://indoxminer.readthedocs.io/)\n",
    "- **Source Code**: [IndoxMiner GitHub Repository](https://github.com/username/indoxminer)\n",
    "\n",
    "Feel free to explore and extend the examples provided in this notebook!"
   ]
  }
 ],
 "metadata": {
  "kernelspec": {
   "display_name": "Python 3",
   "language": "python",
   "name": "python3"
  },
  "language_info": {
   "codemirror_mode": {
    "name": "ipython",
    "version": 3
   },
   "file_extension": ".py",
   "mimetype": "text/x-python",
   "name": "python",
   "nbconvert_exporter": "python",
   "pygments_lexer": "ipython3",
   "version": "3.9.12"
  }
 },
 "nbformat": 4,
 "nbformat_minor": 5
}
